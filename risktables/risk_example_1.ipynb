{
 "cells": [
  {
   "cell_type": "markdown",
   "metadata": {},
   "source": [
    "### RiskCalc examples.\n",
    "Make sure that the working directory for this ipynb notebook is ./risktables/risktables"
   ]
  },
  {
   "cell_type": "markdown",
   "metadata": {},
   "source": [
    "___\n",
    "The class ```RiskCalcs``` performs basic portfolio risk calculations.  It returns a dictionary, whose items are either instances of Pandas ```DataFrame``` or floating point values representing portfolio aggregate risk measurements (VaR, Greeks, etc).\n",
    "___"
   ]
  },
  {
   "cell_type": "code",
   "execution_count": 1,
   "metadata": {},
   "outputs": [
    {
     "name": "stderr",
     "output_type": "stream",
     "text": [
      "/Users/bperlman1/Documents/billybyte/pyliverisk/risktables/risktables/dgrid_components.py:17: UserWarning: \n",
      "The dash_html_components package is deprecated. Please replace\n",
      "`import dash_html_components as html` with `from dash import html`\n",
      "  import dash_html_components as html\n",
      "/Users/bperlman1/Documents/billybyte/pyliverisk/risktables/risktables/dgrid_components.py:18: UserWarning: \n",
      "The dash_core_components package is deprecated. Please replace\n",
      "`import dash_core_components as dcc` with `from dash import dcc`\n",
      "  import dash_core_components as dcc\n",
      "/Users/bperlman1/Documents/billybyte/pyliverisk/risktables/risktables/dgrid_components.py:21: UserWarning: \n",
      "The dash_table package is deprecated. Please replace\n",
      "`import dash_table` with `from dash import dash_table`\n",
      "\n",
      "Also, if you're using any of the table format helpers (e.g. Group), replace \n",
      "`from dash_table.Format import Group` with \n",
      "`from dash.dash_table.Format import Group`\n",
      "  import dash_table\n"
     ]
    }
   ],
   "source": [
    "# include both the project package, and the project folder in sys.path\n",
    "import sys,os\n",
    "if  not './' in sys.path:\n",
    "    sys.path.append(os.path.abspath('./'))\n",
    "if  not '../' in sys.path:\n",
    "    sys.path.append(os.path.abspath('../'))\n",
    "\n",
    "from risktables import risk_tables\n",
    "import pandas as pd\n",
    "from IPython import display\n",
    "import datetime"
   ]
  },
  {
   "cell_type": "markdown",
   "metadata": {},
   "source": [
    "#### Create an instance of RiskCalcs"
   ]
  },
  {
   "cell_type": "code",
   "execution_count": null,
   "metadata": {},
   "outputs": [],
   "source": [
    "# df_postgres_info = pd.read_csv('postgres_info.csv')\n",
    "# display.display(df_postgres_info)\n",
    "# prices_db_info = df_postgres_info.loc[df_postgres_info.config_name=='dashrisk_local']\n",
    "rt = risk_tables.RiskCalcs(use_postgres=False)"
   ]
  },
  {
   "cell_type": "markdown",
   "metadata": {},
   "source": [
    "#### Create an example portfolio consisting of hypothetical options on the S&P 500 Sector Spdr's"
   ]
  },
  {
   "cell_type": "code",
   "execution_count": null,
   "metadata": {},
   "outputs": [],
   "source": [
    "next_year = (datetime.datetime.now() + datetime.timedelta(weeks=52)).year\n",
    "next_year = str(next_year)\n",
    "df_spdr_options =  pd.read_csv('spdr_stocks.csv')\n",
    "df_spdr_options.symbol = df_spdr_options.symbol.apply(lambda s: s.replace('2021',next_year))\n",
    "display.display(df_spdr_options)\n"
   ]
  },
  {
   "cell_type": "markdown",
   "metadata": {},
   "source": [
    "#### Run risk calculations\n",
    "*Market data must be fetched for each underlying, which causes the cell below to take about 10 seconds to run*"
   ]
  },
  {
   "cell_type": "code",
   "execution_count": null,
   "metadata": {},
   "outputs": [],
   "source": [
    "rt = risk_tables.RiskCalcs(use_postgres=False)\n",
    "risk_dictionary = rt.calculate(df_spdr_options)"
   ]
  },
  {
   "cell_type": "markdown",
   "metadata": {},
   "source": [
    "#### List the names of the outputs"
   ]
  },
  {
   "cell_type": "code",
   "execution_count": null,
   "metadata": {},
   "outputs": [],
   "source": [
    "for k in risk_dictionary.keys():\n",
    "    print(k)"
   ]
  },
  {
   "cell_type": "markdown",
   "metadata": {},
   "source": [
    "#### Now show the actual values of each key"
   ]
  },
  {
   "cell_type": "code",
   "execution_count": null,
   "metadata": {},
   "outputs": [],
   "source": [
    "for k in risk_dictionary.keys():\n",
    "    print(f'********************* {k} **************************')\n",
    "    dict_item = risk_dictionary[k]\n",
    "    object_to_print = dict_item\n",
    "    if type(dict_item)==dict:\n",
    "        if k[:2] == 'df':\n",
    "            object_to_print = risk_tables.make_df(risk_dictionary[k])\n",
    "    display.display(object_to_print)\n"
   ]
  },
  {
   "cell_type": "code",
   "execution_count": null,
   "metadata": {},
   "outputs": [],
   "source": [
    "# pd.DataFrame(risk_dictionary['df_risk_all']).to_dict(orient=\"records\")"
   ]
  },
  {
   "cell_type": "code",
   "execution_count": null,
   "metadata": {},
   "outputs": [],
   "source": [
    "# Run this app with `python app.py` and\n",
    "# visit http://127.0.0.1:8050/ in your web browser.\n",
    "\n",
    "from dash import Dash,dash_table, html, dcc\n",
    "import dash_bootstrap_components as dbc\n",
    "import plotly.express as px\n",
    "import pandas as pd\n",
    "\n",
    "\n",
    "app = Dash(\n",
    "    __name__,\n",
    ")\n",
    "\n",
    "df_risk_all = risk_tables.make_df(risk_dictionary['df_risk_all'])\n",
    "dt = dash_table.DataTable(\n",
    "    df_risk_all.to_dict('records'), \n",
    "    [\n",
    "        {\"name\": i, \"id\": i} \n",
    "        for i in df_risk_all.columns\n",
    "    ],\n",
    ")\n",
    "layout = html.Div(\n",
    "    children=[\n",
    "        html.Div(\n",
    "            children=[\n",
    "                html.H1(\n",
    "                    children='Hello Dash',\n",
    "                ),\n",
    "                html.Div(\n",
    "                    children='''\n",
    "                    Dash: A web application framework for your data.\n",
    "                    ''',\n",
    "                ),\n",
    "                html.Div(\n",
    "                    children=[dt],\n",
    "                ),\n",
    "            ],\n",
    "        )\n",
    "    \n",
    "])\n",
    "\n",
    "app.layout = layout\n",
    "app.run_server(port=8999,debug=False,)\n",
    "\n",
    "    "
   ]
  },
  {
   "cell_type": "code",
   "execution_count": null,
   "metadata": {},
   "outputs": [],
   "source": []
  }
 ],
 "metadata": {
  "kernelspec": {
   "display_name": "Python 3 (ipykernel)",
   "language": "python",
   "name": "python3"
  },
  "language_info": {
   "codemirror_mode": {
    "name": "ipython",
    "version": 3
   },
   "file_extension": ".py",
   "mimetype": "text/x-python",
   "name": "python",
   "nbconvert_exporter": "python",
   "pygments_lexer": "ipython3",
   "version": "3.10.4"
  }
 },
 "nbformat": 4,
 "nbformat_minor": 2
}
