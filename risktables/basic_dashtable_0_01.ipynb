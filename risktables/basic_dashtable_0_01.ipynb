{
 "cells": [
  {
   "cell_type": "code",
   "execution_count": 1,
   "metadata": {},
   "outputs": [],
   "source": [
    "import dash\n",
    "import sys,os\n",
    "if  not os.path.abspath('./') in sys.path:\n",
    "    sys.path.append(os.path.abspath('./'))\n",
    "if  not os.path.abspath('../') in sys.path:\n",
    "    sys.path.append(os.path.abspath('../'))\n",
    "sys.path.append(os.path.abspath('../../dashgrid'))\n",
    "sys.path.append(os.path.abspath('../../dashgrid/dashgrid'))\n",
    "from dashgrid import dgrid\n",
    "import dash_html_components as html\n",
    "import dash_core_components as dcc\n",
    "from dash.dependencies import Input, Output,State\n",
    "import dash_table\n",
    "import pandas as pd\n",
    "import numpy as np\n",
    "from dashgrid import dgrid\n"
   ]
  },
  {
   "cell_type": "code",
   "execution_count": 2,
   "metadata": {},
   "outputs": [],
   "source": [
    "def create_dt_div(df_in=None,\n",
    "                  editable_columns_in=None,title='Dash Table'):\n",
    "    editable_columns = [] if editable_columns_in is None else editable_columns_in\n",
    "#     datatable_id = f'{html_id}_datatable'\n",
    "    dt = dash_table.DataTable(\n",
    "        page_current= 0,\n",
    "        page_size= 100,\n",
    "        page_action='native',\n",
    "        sort_action='native',\n",
    "        filter_action='none', # 'fe',\n",
    "#             content_style='grow',\n",
    "        style_cell_conditional=[\n",
    "            {\n",
    "                'if': {'row_index': 'odd'},\n",
    "                'backgroundColor': 'rgb(248, 248, 248)'\n",
    "            }\n",
    "        ] + [\n",
    "            {\n",
    "                'if': {'column_id': c},\n",
    "                'textAlign': 'left',\n",
    "            } for c in ['symbol', 'underlying']\n",
    "        ],\n",
    "\n",
    "        style_as_list_view=False,\n",
    "        style_table={\n",
    "            'maxHeight':'450','overflowX': 'scroll',\n",
    "        } ,\n",
    "        editable=True,\n",
    "        css=[{\"selector\": \"table\", \"rule\": \"width: 100%;\"}],\n",
    "#         id=datatable_id\n",
    "    )\n",
    "    if df_in is None:\n",
    "        df = pd.DataFrame({'no_data':['empty']})\n",
    "    else:\n",
    "        df = df_in.copy()\n",
    "    dt.data=df.to_dict(\"rows\")\n",
    "    dt.columns=[{\"name\": i, \"id\": i,'editable': True if i in editable_columns else False} for i in df.columns.values]                    \n",
    "    child_div = html.Div([html.H4(title,style={'height':'3px'}),dt])\n",
    "    return child_div\n",
    "\n",
    "def file_store_transformer(contents):\n",
    "    if contents is None or len(contents)<=0 or contents[0] is None:\n",
    "        d =  None\n",
    "    else:\n",
    "        d = dgrid.parse_contents(contents).to_dict('rows')\n",
    "    return d\n"
   ]
  },
  {
   "cell_type": "code",
   "execution_count": 3,
   "metadata": {},
   "outputs": [],
   "source": [
    "button_style={\n",
    "    'line-height': '40px',\n",
    "    'borderWidth': '1px',\n",
    "    'borderStyle': 'dashed',\n",
    "    'borderRadius': '1px',\n",
    "    'textAlign': 'center',\n",
    "    'background-color':'#fffff0',\n",
    "    'vertical-align':'middle',\n",
    "}\n",
    "u1 = dcc.Upload(\n",
    "            id='u1',\n",
    "            children=html.Div(['enter a csv file']),\n",
    "            # Allow multiple files to be uploaded\n",
    "            multiple=False,\n",
    "            style=button_style)\n",
    "\n",
    "s1 = dcc.Store(id='s1')\n",
    "s2 = dcc.Store(id='s2')\n",
    "\n",
    "dt1 = html.Div([create_dt_div()],id='dt1')\n",
    "\n",
    "app = dash.Dash()\n",
    "app.layout = html.Div([u1,s1,s2,dt1])\n"
   ]
  },
  {
   "cell_type": "code",
   "execution_count": 4,
   "metadata": {},
   "outputs": [],
   "source": [
    "# callback to move data from Upload to Store\n",
    "@app.callback(\n",
    "    [Output(s1.id,'data')], \n",
    "    [Input(u1.id,'contents')] \n",
    ")\n",
    "def execute_callback1(*value):\n",
    "    print(f'enter callback1 {value}')\n",
    "    dict_df = None\n",
    "    if value is not None and len(value)>0:\n",
    "        dict_df = file_store_transformer(value[0])\n",
    "    print(f'exit callback1 {dict_df}')\n",
    "    return [dict_df]\n",
    "\n",
    "# callback to move data from store to datatable\n",
    "@app.callback(\n",
    "#     [Output(dt1['dt_id'],'data'),Output(dt1['dt_id'],'columns')], \n",
    "    [Output(dt1.id,'children')], \n",
    "    [Input(s1.id,'data')]#  ,Input(s2.id,'data')] \n",
    "    )\n",
    "def execute_callback2(*value):\n",
    "    print(f'enter callback2 {value}')\n",
    "    children = None\n",
    "    if value is not None and len(value)>0:        \n",
    "        df = pd.DataFrame(value[0])\n",
    "        children = create_dt_div(df)\n",
    "    print(f'exit callback2 {children}')\n",
    "    return [children]\n",
    "\n"
   ]
  },
  {
   "cell_type": "code",
   "execution_count": 5,
   "metadata": {
    "scrolled": false
   },
   "outputs": [
    {
     "name": "stdout",
     "output_type": "stream",
     "text": [
      " * Serving Flask app \"__main__\" (lazy loading)\n",
      " * Environment: production\n",
      "   WARNING: Do not use the development server in a production environment.\n",
      "   Use a production WSGI server instead.\n",
      " * Debug mode: off\n"
     ]
    },
    {
     "name": "stderr",
     "output_type": "stream",
     "text": [
      " * Running on http://127.0.0.1:8500/ (Press CTRL+C to quit)\n",
      "127.0.0.1 - - [17/Jul/2019 15:23:07] \"GET / HTTP/1.1\" 200 -\n",
      "127.0.0.1 - - [17/Jul/2019 15:23:07] \"GET /_dash-component-suites/dash_renderer/react@16.8.6.min.js?v=1.0.0&m=1563025507 HTTP/1.1\" 200 -\n",
      "127.0.0.1 - - [17/Jul/2019 15:23:07] \"GET /_dash-component-suites/dash_renderer/prop-types@15.7.2.min.js?v=1.0.0&m=1563025507 HTTP/1.1\" 200 -\n",
      "127.0.0.1 - - [17/Jul/2019 15:23:07] \"GET /_dash-component-suites/dash_renderer/react-dom@16.8.6.min.js?v=1.0.0&m=1563025507 HTTP/1.1\" 200 -\n",
      "127.0.0.1 - - [17/Jul/2019 15:23:07] \"GET /_dash-component-suites/dash_html_components/dash_html_components.min.js?v=1.0.0&m=1563025508 HTTP/1.1\" 200 -\n",
      "127.0.0.1 - - [17/Jul/2019 15:23:07] \"GET /_dash-component-suites/dash_core_components/highlight.pack.js?v=1.0.0&m=1563025508 HTTP/1.1\" 200 -\n",
      "127.0.0.1 - - [17/Jul/2019 15:23:07] \"GET /_dash-component-suites/dash_table/bundle.js?v=4.0.1&m=1563025509 HTTP/1.1\" 200 -\n",
      "127.0.0.1 - - [17/Jul/2019 15:23:07] \"GET /_dash-component-suites/dash_renderer/dash_renderer.min.js?v=1.0.0&m=1563025507 HTTP/1.1\" 200 -\n",
      "127.0.0.1 - - [17/Jul/2019 15:23:07] \"GET /_dash-component-suites/dash_core_components/dash_core_components.min.js?v=1.0.0&m=1563025508 HTTP/1.1\" 200 -\n",
      "127.0.0.1 - - [17/Jul/2019 15:23:07] \"GET /_dash-component-suites/dash_core_components/plotly-1.48.3.min.js?v=1.0.0&m=1563025508 HTTP/1.1\" 200 -\n",
      "127.0.0.1 - - [17/Jul/2019 15:23:08] \"GET /_dash-layout HTTP/1.1\" 200 -\n",
      "127.0.0.1 - - [17/Jul/2019 15:23:08] \"GET /_dash-dependencies HTTP/1.1\" 200 -\n",
      "127.0.0.1 - - [17/Jul/2019 15:23:08] \"POST /_dash-update-component HTTP/1.1\" 200 -\n",
      "127.0.0.1 - - [17/Jul/2019 15:23:08] \"POST /_dash-update-component HTTP/1.1\" 200 -\n",
      "127.0.0.1 - - [17/Jul/2019 15:23:08] \"POST /_dash-update-component HTTP/1.1\" 200 -\n"
     ]
    },
    {
     "name": "stdout",
     "output_type": "stream",
     "text": [
      "enter callback2 (None,)\n",
      "exit callback2 Div([H4(children='Dash Table', style={'height': '3px'}), DataTable(columns=[], css=[{'selector': 'table', 'rule': 'width: 100%;'}], data=[], editable=True, style_as_list_view=False, page_action='native', page_current=0, page_size=100, filter_action='none', sort_action='native', style_table={'maxHeight': '450', 'overflowX': 'scroll'}, style_cell_conditional=[{'if': {'row_index': 'odd'}, 'backgroundColor': 'rgb(248, 248, 248)'}, {'if': {'column_id': 'symbol'}, 'textAlign': 'left'}, {'if': {'column_id': 'underlying'}, 'textAlign': 'left'}])])\n",
      "enter callback1 (None,)\n",
      "exit callback1 None\n",
      "enter callback2 (None,)\n",
      "exit callback2 Div([H4(children='Dash Table', style={'height': '3px'}), DataTable(columns=[], css=[{'selector': 'table', 'rule': 'width: 100%;'}], data=[], editable=True, style_as_list_view=False, page_action='native', page_current=0, page_size=100, filter_action='none', sort_action='native', style_table={'maxHeight': '450', 'overflowX': 'scroll'}, style_cell_conditional=[{'if': {'row_index': 'odd'}, 'backgroundColor': 'rgb(248, 248, 248)'}, {'if': {'column_id': 'symbol'}, 'textAlign': 'left'}, {'if': {'column_id': 'underlying'}, 'textAlign': 'left'}])])\n"
     ]
    },
    {
     "name": "stderr",
     "output_type": "stream",
     "text": [
      "127.0.0.1 - - [17/Jul/2019 15:23:13] \"POST /_dash-update-component HTTP/1.1\" 200 -\n",
      "127.0.0.1 - - [17/Jul/2019 15:23:13] \"POST /_dash-update-component HTTP/1.1\" 200 -\n"
     ]
    },
    {
     "name": "stdout",
     "output_type": "stream",
     "text": [
      "enter callback1 ('data:text/csv;base64,c3ltYm9sLHBvc2l0aW9uDQpaU1kwMCwtNTANCl5FVVJVU0QsMjAwMDAwDQpYTFUsLTIwMA0KWExFLDIwMA0KVVNPLDINClNQWSwtMjAwDQpTT1lCLDM1MDANClpDWTAwLC01MA0KQ0xZMDAsNTAwDQpIT1kwMCwyMTAwMA0KSEdVMTksMjUwMDANCkNQRVIsLTI2MDANCkNUWjE5LDUwMA==',)\n",
      "exit callback1 [{'symbol': 'ZSY00', 'position': -50}, {'symbol': '^EURUSD', 'position': 200000}, {'symbol': 'XLU', 'position': -200}, {'symbol': 'XLE', 'position': 200}, {'symbol': 'USO', 'position': 2}, {'symbol': 'SPY', 'position': -200}, {'symbol': 'SOYB', 'position': 3500}, {'symbol': 'ZCY00', 'position': -50}, {'symbol': 'CLY00', 'position': 500}, {'symbol': 'HOY00', 'position': 21000}, {'symbol': 'HGU19', 'position': 25000}, {'symbol': 'CPER', 'position': -2600}, {'symbol': 'CTZ19', 'position': 500}]\n",
      "enter callback2 ([{'symbol': 'ZSY00', 'position': -50}, {'symbol': '^EURUSD', 'position': 200000}, {'symbol': 'XLU', 'position': -200}, {'symbol': 'XLE', 'position': 200}, {'symbol': 'USO', 'position': 2}, {'symbol': 'SPY', 'position': -200}, {'symbol': 'SOYB', 'position': 3500}, {'symbol': 'ZCY00', 'position': -50}, {'symbol': 'CLY00', 'position': 500}, {'symbol': 'HOY00', 'position': 21000}, {'symbol': 'HGU19', 'position': 25000}, {'symbol': 'CPER', 'position': -2600}, {'symbol': 'CTZ19', 'position': 500}],)\n",
      "exit callback2 Div([H4(children='Dash Table', style={'height': '3px'}), DataTable(columns=[{'name': 'position', 'id': 'position', 'editable': False}, {'name': 'symbol', 'id': 'symbol', 'editable': False}], css=[{'selector': 'table', 'rule': 'width: 100%;'}], data=[{'position': -50, 'symbol': 'ZSY00'}, {'position': 200000, 'symbol': '^EURUSD'}, {'position': -200, 'symbol': 'XLU'}, {'position': 200, 'symbol': 'XLE'}, {'position': 2, 'symbol': 'USO'}, {'position': -200, 'symbol': 'SPY'}, {'position': 3500, 'symbol': 'SOYB'}, {'position': -50, 'symbol': 'ZCY00'}, {'position': 500, 'symbol': 'CLY00'}, {'position': 21000, 'symbol': 'HOY00'}, {'position': 25000, 'symbol': 'HGU19'}, {'position': -2600, 'symbol': 'CPER'}, {'position': 500, 'symbol': 'CTZ19'}], editable=True, style_as_list_view=False, page_action='native', page_current=0, page_size=100, filter_action='none', sort_action='native', style_table={'maxHeight': '450', 'overflowX': 'scroll'}, style_cell_conditional=[{'if': {'row_index': 'odd'}, 'backgroundColor': 'rgb(248, 248, 248)'}, {'if': {'column_id': 'symbol'}, 'textAlign': 'left'}, {'if': {'column_id': 'underlying'}, 'textAlign': 'left'}])])\n"
     ]
    }
   ],
   "source": [
    "app.run_server(host='127.0.0.1',port=8500)"
   ]
  },
  {
   "cell_type": "code",
   "execution_count": null,
   "metadata": {},
   "outputs": [],
   "source": []
  },
  {
   "cell_type": "code",
   "execution_count": null,
   "metadata": {},
   "outputs": [],
   "source": []
  }
 ],
 "metadata": {
  "kernelspec": {
   "display_name": "Python 3",
   "language": "python",
   "name": "python3"
  },
  "language_info": {
   "codemirror_mode": {
    "name": "ipython",
    "version": 3
   },
   "file_extension": ".py",
   "mimetype": "text/x-python",
   "name": "python",
   "nbconvert_exporter": "python",
   "pygments_lexer": "ipython3",
   "version": "3.6.5"
  }
 },
 "nbformat": 4,
 "nbformat_minor": 2
}
