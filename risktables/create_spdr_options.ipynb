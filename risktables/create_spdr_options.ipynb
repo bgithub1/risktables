{
 "cells": [
  {
   "cell_type": "code",
   "execution_count": 6,
   "metadata": {},
   "outputs": [],
   "source": [
    "import yfinance as yf\n",
    "import pandas as pd\n",
    "import datetime\n",
    "import numpy as np\n",
    "import sys\n"
   ]
  },
  {
   "cell_type": "code",
   "execution_count": 2,
   "metadata": {},
   "outputs": [],
   "source": [
    "def get_yahoo_data(sym,beg_date,end_date):\n",
    "    try:\n",
    "        df = yf.download(sym, beg_date, end_date)\n",
    "        return df\n",
    "    except:\n",
    "        return None\n"
   ]
  },
  {
   "cell_type": "code",
   "execution_count": 12,
   "metadata": {},
   "outputs": [],
   "source": [
    "def create_spdr_options(edate=datetime.datetime.now()):\n",
    "    df_spdr_stocks = pd.read_csv('spdr_stocks.csv')\n",
    "    names = [n[0:3] for n in df_spdr_stocks.symbol.values]\n",
    "    edate = datetime.datetime.now()\n",
    "    bdate = edate - datetime.timedelta(20)\n",
    "    y = (edate + datetime.timedelta(60)).year\n",
    "    base_amt = 10000\n",
    "    closes = []\n",
    "    pc = list(np.array([['c','p'] for _ in range(5)]).reshape(-1))\n",
    "    for i,n in enumerate(names):\n",
    "        df = get_yahoo_data(n,bdate,edate)\n",
    "        last_close = df.iloc[-1].Close\n",
    "        strike = int(last_close.round(0))\n",
    "        qty = int(round(base_amt/strike,0))\n",
    "        closes.append(\n",
    "            {\n",
    "                'symbol':n,\n",
    "                'yyyymmdd':y*100*100+1231,\n",
    "                'strike':strike,\n",
    "                'pc':pc[i],\n",
    "                'position':qty\n",
    "            }\n",
    "        )\n",
    "    df_spdr = pd.DataFrame(closes)\n",
    "    df_spdr['symbol'] = df_spdr['symbol'] + '_' + df_spdr.yyyymmdd.astype(str) + '_' + df_spdr.pc\n",
    "    df_spdr = df_spdr[['symbol','position']].copy()\n",
    "    return df_spdr        \n",
    "\n",
    "\n"
   ]
  },
  {
   "cell_type": "code",
   "execution_count": 13,
   "metadata": {
    "scrolled": true
   },
   "outputs": [
    {
     "name": "stdout",
     "output_type": "stream",
     "text": [
      "[*********************100%***********************]  1 of 1 completed\n",
      "[*********************100%***********************]  1 of 1 completed\n",
      "[*********************100%***********************]  1 of 1 completed\n",
      "[*********************100%***********************]  1 of 1 completed\n",
      "[*********************100%***********************]  1 of 1 completed\n",
      "[*********************100%***********************]  1 of 1 completed\n",
      "[*********************100%***********************]  1 of 1 completed\n",
      "[*********************100%***********************]  1 of 1 completed\n",
      "[*********************100%***********************]  1 of 1 completed\n",
      "[*********************100%***********************]  1 of 1 completed\n",
      "           symbol  position\n",
      "0  XLB_20231231_c       120\n",
      "1  XLC_20231231_p       192\n",
      "2  XLE_20231231_c       111\n",
      "3  XLF_20231231_p       278\n",
      "4  XLI_20231231_c        98\n",
      "5  XLK_20231231_p        76\n",
      "6  XLP_20231231_c       133\n",
      "7  XLU_20231231_p       141\n",
      "8  XLV_20231231_c        74\n",
      "9  XLY_20231231_p        71\n"
     ]
    }
   ],
   "source": [
    "if __name__== '__main__':\n",
    "    df_spdr_options = create_spdr_options()\n",
    "    print(df_spdr_options)\n",
    "    if '.csv' in sys.argv[1] is not None:\n",
    "        csv_file_path = sys.argv[1]\n",
    "        print(f'writing file to {csv_file_path}')\n",
    "        df_spdr_options.to_csv(csv_file_path, index=False)\n",
    "        "
   ]
  },
  {
   "cell_type": "code",
   "execution_count": null,
   "metadata": {},
   "outputs": [],
   "source": []
  },
  {
   "cell_type": "code",
   "execution_count": null,
   "metadata": {},
   "outputs": [],
   "source": []
  }
 ],
 "metadata": {
  "kernelspec": {
   "display_name": "Python 3",
   "language": "python",
   "name": "python3"
  },
  "language_info": {
   "codemirror_mode": {
    "name": "ipython",
    "version": 3
   },
   "file_extension": ".py",
   "mimetype": "text/x-python",
   "name": "python",
   "nbconvert_exporter": "python",
   "pygments_lexer": "ipython3",
   "version": "3.6.5"
  }
 },
 "nbformat": 4,
 "nbformat_minor": 4
}
