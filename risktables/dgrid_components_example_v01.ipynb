{
 "cells": [
  {
   "cell_type": "markdown",
   "metadata": {},
   "source": [
    "### risktables: create portfolio risk measures, and present them using Plot.ly Dash\n",
    "REQUIRES Python 3.6 or above\n",
    "___\n",
    "The risktables python project contains modules to generate portfolio risk measures like VaR, Greeks, Correlation matrices, etc..  \n",
    "\n",
    "As well, it contains a Plot.ly Dash app in the module ```dash_risk_v01.py```, which allows users to see those risk statistics on their own uploaded csv portfolio files.\n",
    "___\n",
    "### Quickstart\n",
    "#### Installing the project:\n",
    "1. git clone https://github.com/bgithub1/risktables.git\n",
    "2. cd ./risktables\n",
    "3. pip install -r requirements.txt\n",
    "\n",
    "*You should now have a project folder called ```risktables```, and a package within that project also called ```risktables```*\n",
    "___\n",
    "\n",
    "### Run the dgrid_components_example_v01.ipynb jupyter notebook\n",
    "1. Make sure you have Jupyter installed:\n",
    " * ```python3 -m pip install --upgrade pip```\n",
    " * ```python3 -m pip install jupyter```\n",
    "1. cd risktables/risktables    # set your working directory to the risktables **PACKAGE**, as opposed to the risktables **project**\n",
    "2. from a bash terminal, launch Jupyter\n",
    " * ```jupyter notebook```\n",
    "3. When the jupyter notebook webpage appears, select the .ipynb file ```dgrid_components_example_v01.ipynb```\n",
    "4. Run all the cells in this notebook.\n",
    " * The first several cells create a Pandas DataFrame called ```df_pseudo```, which creates open,high,low, and close data generated from a random walk, as well as a plotly python candlestick chart of that data.\n",
    " * The cells that follow the candlestick chart run a Plot.ly Dash web app that displays the same DataFrame and chart, using classes from the ```dgrid_components.py``` module.\n",
    "5. Open a web browser and enter: ```localhost:8500``` in the address bar.\n",
    "___\n",
    "### Launching the full portfolio risk web app\n",
    "1. Navigate to risktables/risktables\n",
    "2. python3.6  dash_risk_v01.py\n",
    "3. Open a web browser and enter: ```localhost:8500``` in the address bar\n",
    "\n",
    "#### About market data:\n",
    "The web app uses yahoo finance data for daily history csv.  \n",
    "\n",
    "If you have a free BarChart account, you can subscribe to the BarChart OnDemand API, which gives you API access to Commodities symbols, as well as index and currency pairs that are available on BarChart OnDemand. See https://www.barchart.com/ondemand/api for more info.\n",
    "\n",
    "The web app also uses the Fred API for Federal Reserve Interest Rate Data.  You need to obtain an API key at https://research.stlouisfed.org/docs/api/api_key.html\n",
    "\n",
    "#### Using BarChart Ondemand:\n",
    "1. Create a BarChart Ondemand account\n",
    "2. You will be given an API key.\n",
    "3. Create a single line file called ```free_api_key.txt```, insert the API key, and place in risktables/risktables/temp_folder.\n",
    "\n",
    "#### Using the FRED API:\n",
    "1. In your web browser, navigate to https://research.stlouisfed.org/docs/api/api_key.html\n",
    "2. Follow the instructions to create an API key\n",
    "3. Create a single line file called ```fred_api_key.txt```, insert the API key, and place in risktables/risktables/temp_folder.\n"
   ]
  },
  {
   "cell_type": "code",
   "execution_count": 2,
   "metadata": {},
   "outputs": [
    {
     "data": {
      "text/html": [
       "<script>requirejs.config({paths: { 'plotly': ['https://cdn.plot.ly/plotly-latest.min']},});if(!window.Plotly) {{require(['plotly'],function(plotly) {window.Plotly=plotly;});}}</script>"
      ],
      "text/vnd.plotly.v1+html": [
       "<script>requirejs.config({paths: { 'plotly': ['https://cdn.plot.ly/plotly-latest.min']},});if(!window.Plotly) {{require(['plotly'],function(plotly) {window.Plotly=plotly;});}}</script>"
      ]
     },
     "metadata": {},
     "output_type": "display_data"
    }
   ],
   "source": [
    "from IPython.display import display\n",
    "import dash\n",
    "import sys,os\n",
    "if  not os.path.abspath('./') in sys.path:\n",
    "    sys.path.append(os.path.abspath('./'))\n",
    "if  not os.path.abspath('../') in sys.path:\n",
    "    sys.path.append(os.path.abspath('../'))\n",
    "\n",
    "import datetime\n",
    "import pandas as pd\n",
    "import numpy as np\n",
    "\n",
    "from risktables import dgrid_components as dgc\n",
    "import matplotlib.pyplot as plt\n",
    "import plotly.graph_objs as go\n",
    "from plotly.offline import  init_notebook_mode, iplot\n",
    "init_notebook_mode(connected=True)\n"
   ]
  },
  {
   "cell_type": "markdown",
   "metadata": {},
   "source": [
    "### Generate a Pandas DataFrame ( ```df_pseudo```), with open, high, low and close data generated from a random walk process."
   ]
  },
  {
   "cell_type": "code",
   "execution_count": 3,
   "metadata": {},
   "outputs": [],
   "source": [
    "all_days=1000\n",
    "end_date = datetime.datetime.now()\n",
    "beg_date = end_date - datetime.timedelta(all_days)\n",
    "date_series = pd.bdate_range(beg_date,end_date)\n",
    "trade_dates = date_series.astype(str).str.replace('-','').astype(int)\n",
    "n = len(trade_dates)\n",
    "changes = np.random.lognormal(0,.15/256**.5,n-1)\n",
    "initial = np.array([100.0])\n",
    "closes = np.cumprod(np.append(initial,changes)).round(2)\n",
    "open_ranges = np.random.lognormal(0,.3/256**.5,n)\n",
    "opens = (closes * open_ranges).round(2)\n",
    "low_ranges = np.random.lognormal(.1,.2/256**.5,n)\n",
    "lows = np.array([min(x,y) for x,y in zip(opens,closes)]) - low_ranges\n",
    "lows = lows.round(2)\n",
    "high_ranges = np.random.lognormal(.1,.2/256**.5,n)\n",
    "highs = np.array([max(x,y) for x,y in zip(opens,closes)]) + high_ranges\n",
    "highs = highs.round(2)\n",
    "\n",
    "volume_changes = np.random.lognormal(0,.50/256**.5,n-1)\n",
    "initial_volume = np.array([1000000.0]) * np.random.lognormal(0,.15/256**.5)\n",
    "volumes = np.cumprod(np.append(initial_volume,volume_changes)).round(0)\n",
    "\n",
    "\n",
    "df_pseudo = dgc.make_df({'date':trade_dates,'open':opens,'high':highs,'low':lows,\n",
    "                  'close':closes,'volume':volumes})\n"
   ]
  },
  {
   "cell_type": "markdown",
   "metadata": {},
   "source": [
    "### Plot candlesticks using the data from ```df_pseudo```"
   ]
  },
  {
   "cell_type": "code",
   "execution_count": 4,
   "metadata": {},
   "outputs": [
    {
     "data": {
      "application/vnd.plotly.v1+json": {
       "data": [
        {
         "hoverinfo": "text",
         "mode": "markers",
         "text": [
          "date: 20190522.0<br>open: 123.0<br>high: 124.13<br>low: 121.43<br>close: 122.56<br>volume: 901192.0",
          "date: 20190523.0<br>open: 122.24<br>high: 126.36<br>low: 121.15<br>close: 125.24<br>volume: 891312.0",
          "date: 20190524.0<br>open: 129.57<br>high: 130.68<br>low: 125.55<br>close: 126.67<br>volume: 871264.0",
          "date: 20190527.0<br>open: 128.67<br>high: 129.79<br>low: 125.8<br>close: 126.9<br>volume: 868242.0",
          "date: 20190528.0<br>open: 124.17<br>high: 127.1<br>low: 123.07<br>close: 125.99<br>volume: 870383.0",
          "date: 20190529.0<br>open: 126.32<br>high: 127.87<br>low: 125.22<br>close: 126.77<br>volume: 888569.0",
          "date: 20190530.0<br>open: 125.64<br>high: 127.31<br>low: 124.51<br>close: 126.22<br>volume: 875965.0",
          "date: 20190531.0<br>open: 125.96<br>high: 128.12<br>low: 124.87<br>close: 127.0<br>volume: 918221.0",
          "date: 20190603.0<br>open: 122.97<br>high: 128.56<br>low: 121.85<br>close: 127.48<br>volume: 925776.0",
          "date: 20190604.0<br>open: 128.25<br>high: 130.22<br>low: 127.14<br>close: 129.11<br>volume: 942011.0",
          "date: 20190605.0<br>open: 127.39<br>high: 130.08<br>low: 126.29<br>close: 128.97<br>volume: 935814.0",
          "date: 20190606.0<br>open: 124.65<br>high: 129.41<br>low: 123.55<br>close: 128.31<br>volume: 970068.0",
          "date: 20190607.0<br>open: 133.42<br>high: 134.53<br>low: 130.33<br>close: 131.43<br>volume: 965842.0",
          "date: 20190610.0<br>open: 131.28<br>high: 132.37<br>low: 129.96<br>close: 131.07<br>volume: 993801.0",
          "date: 20190611.0<br>open: 128.51<br>high: 130.26<br>low: 127.41<br>close: 129.17<br>volume: 975017.0",
          "date: 20190612.0<br>open: 130.28<br>high: 131.41<br>low: 127.18<br>close: 128.28<br>volume: 973536.0",
          "date: 20190613.0<br>open: 130.56<br>high: 131.65<br>low: 126.93<br>close: 128.04<br>volume: 945907.0",
          "date: 20190614.0<br>open: 127.43<br>high: 129.79<br>low: 126.32<br>close: 128.67<br>volume: 978397.0",
          "date: 20190617.0<br>open: 131.25<br>high: 132.36<br>low: 128.26<br>close: 129.38<br>volume: 952294.0",
          "date: 20190618.0<br>open: 127.2<br>high: 128.3<br>low: 125.98<br>close: 127.08<br>volume: 948830.0",
          "date: 20190619.0<br>open: 122.66<br>high: 126.4<br>low: 121.56<br>close: 125.3<br>volume: 949372.0",
          "date: 20190620.0<br>open: 126.73<br>high: 127.83<br>low: 123.63<br>close: 124.73<br>volume: 920231.0",
          "date: 20190621.0<br>open: 120.59<br>high: 125.07<br>low: 119.45<br>close: 123.96<br>volume: 912187.0",
          "date: 20190624.0<br>open: 128.28<br>high: 129.37<br>low: 125.36<br>close: 126.48<br>volume: 901702.0",
          "date: 20190625.0<br>open: 121.79<br>high: 126.09<br>low: 120.66<br>close: 124.99<br>volume: 840799.0",
          "date: 20190626.0<br>open: 124.57<br>high: 127.32<br>low: 123.45<br>close: 126.23<br>volume: 848902.0",
          "date: 20190627.0<br>open: 125.61<br>high: 126.75<br>low: 124.09<br>close: 125.2<br>volume: 862183.0",
          "date: 20190628.0<br>open: 125.41<br>high: 126.78<br>low: 124.32<br>close: 125.7<br>volume: 887078.0",
          "date: 20190701.0<br>open: 126.66<br>high: 127.76<br>low: 125.12<br>close: 126.23<br>volume: 912306.0",
          "date: 20190702.0<br>open: 131.15<br>high: 132.27<br>low: 126.75<br>close: 127.85<br>volume: 908165.0",
          "date: 20190703.0<br>open: 127.65<br>high: 128.76<br>low: 126.35<br>close: 127.48<br>volume: 910653.0",
          "date: 20190704.0<br>open: 129.17<br>high: 130.27<br>low: 126.39<br>close: 127.47<br>volume: 924431.0",
          "date: 20190705.0<br>open: 127.59<br>high: 128.69<br>low: 124.21<br>close: 125.32<br>volume: 915573.0",
          "date: 20190708.0<br>open: 120.97<br>high: 125.1<br>low: 119.86<br>close: 124.02<br>volume: 906258.0",
          "date: 20190709.0<br>open: 123.28<br>high: 125.34<br>low: 122.18<br>close: 124.24<br>volume: 887726.0",
          "date: 20190710.0<br>open: 128.83<br>high: 129.95<br>low: 124.44<br>close: 125.51<br>volume: 831549.0",
          "date: 20190711.0<br>open: 121.74<br>high: 126.12<br>low: 120.59<br>close: 125.01<br>volume: 791632.0",
          "date: 20190712.0<br>open: 124.25<br>high: 126.58<br>low: 123.16<br>close: 125.47<br>volume: 802192.0",
          "date: 20190715.0<br>open: 125.81<br>high: 126.92<br>low: 124.53<br>close: 125.63<br>volume: 787464.0",
          "date: 20190716.0<br>open: 126.98<br>high: 128.08<br>low: 125.68<br>close: 126.78<br>volume: 803081.0",
          "date: 20190717.0<br>open: 128.27<br>high: 129.37<br>low: 124.13<br>close: 125.24<br>volume: 806098.0",
          "date: 20190718.0<br>open: 120.78<br>high: 124.83<br>low: 119.68<br>close: 123.74<br>volume: 816758.0",
          "date: 20190719.0<br>open: 123.29<br>high: 124.37<br>low: 122.18<br>close: 123.28<br>volume: 783913.0",
          "date: 20190722.0<br>open: 122.15<br>high: 124.35<br>low: 121.04<br>close: 123.25<br>volume: 806373.0",
          "date: 20190723.0<br>open: 126.56<br>high: 127.66<br>low: 123.32<br>close: 124.44<br>volume: 793032.0",
          "date: 20190724.0<br>open: 120.75<br>high: 124.31<br>low: 119.66<br>close: 123.21<br>volume: 764997.0",
          "date: 20190725.0<br>open: 121.99<br>high: 124.44<br>low: 120.9<br>close: 123.33<br>volume: 764057.0",
          "date: 20190726.0<br>open: 125.78<br>high: 126.88<br>low: 122.73<br>close: 123.84<br>volume: 764744.0",
          "date: 20190729.0<br>open: 124.96<br>high: 126.06<br>low: 122.28<br>close: 123.39<br>volume: 717250.0",
          "date: 20190730.0<br>open: 120.55<br>high: 121.65<br>low: 119.03<br>close: 120.1<br>volume: 756910.0"
         ],
         "type": "scatter",
         "uid": "1db73470-b2de-11e9-bffa-8c859025e7f9",
         "x": [
          1,
          2,
          3,
          4,
          5,
          6,
          7,
          8,
          9,
          10,
          11,
          12,
          13,
          14,
          15,
          16,
          17,
          18,
          19,
          20,
          21,
          22,
          23,
          24,
          25,
          26,
          27,
          28,
          29,
          30,
          31,
          32,
          33,
          34,
          35,
          36,
          37,
          38,
          39,
          40,
          41,
          42,
          43,
          44,
          45,
          46,
          47,
          48,
          49,
          50
         ],
         "xaxis": "x",
         "y": [
          122.56,
          125.24,
          126.67,
          126.9,
          125.99,
          126.77,
          126.22,
          127,
          127.48,
          129.11,
          128.97,
          128.31,
          131.43,
          131.07,
          129.17,
          128.28,
          128.04,
          128.67,
          129.38,
          127.08,
          125.3,
          124.73,
          123.96,
          126.48,
          124.99,
          126.23,
          125.2,
          125.7,
          126.23,
          127.85,
          127.48,
          127.47,
          125.32,
          124.02,
          124.24,
          125.51,
          125.01,
          125.47,
          125.63,
          126.78,
          125.24,
          123.74,
          123.28,
          123.25,
          124.44,
          123.21,
          123.33,
          123.84,
          123.39,
          120.1
         ],
         "yaxis": "y"
        },
        {
         "type": "bar",
         "uid": "1db854b8-b2de-11e9-9813-8c859025e7f9",
         "width": 0.5,
         "x": [
          1,
          2,
          3,
          4,
          5,
          6,
          7,
          8,
          9,
          10,
          11,
          12,
          13,
          14,
          15,
          16,
          17,
          18,
          19,
          20,
          21,
          22,
          23,
          24,
          25,
          26,
          27,
          28,
          29,
          30,
          31,
          32,
          33,
          34,
          35,
          36,
          37,
          38,
          39,
          40,
          41,
          42,
          43,
          44,
          45,
          46,
          47,
          48,
          49,
          50
         ],
         "xaxis": "x",
         "y": [
          901192,
          891312,
          871264,
          868242,
          870383,
          888569,
          875965,
          918221,
          925776,
          942011,
          935814,
          970068,
          965842,
          993801,
          975017,
          973536,
          945907,
          978397,
          952294,
          948830,
          949372,
          920231,
          912187,
          901702,
          840799,
          848902,
          862183,
          887078,
          912306,
          908165,
          910653,
          924431,
          915573,
          906258,
          887726,
          831549,
          791632,
          802192,
          787464,
          803081,
          806098,
          816758,
          783913,
          806373,
          793032,
          764997,
          764057,
          764744,
          717250,
          756910
         ],
         "yaxis": "y2"
        }
       ],
       "layout": {
        "margin": {
         "t": 100
        },
        "shapes": [
         {
          "line": {
           "color": "rgb(55, 128, 191)",
           "width": 1.5
          },
          "type": "line",
          "x0": 1,
          "x1": 1,
          "y0": 121.43,
          "y1": 122.56
         },
         {
          "line": {
           "color": "rgb(55, 128, 191)",
           "width": 1.5
          },
          "type": "line",
          "x0": 2,
          "x1": 2,
          "y0": 121.15,
          "y1": 122.24
         },
         {
          "line": {
           "color": "rgb(55, 128, 191)",
           "width": 1.5
          },
          "type": "line",
          "x0": 3,
          "x1": 3,
          "y0": 125.55,
          "y1": 126.67
         },
         {
          "line": {
           "color": "rgb(55, 128, 191)",
           "width": 1.5
          },
          "type": "line",
          "x0": 4,
          "x1": 4,
          "y0": 125.8,
          "y1": 126.9
         },
         {
          "line": {
           "color": "rgb(55, 128, 191)",
           "width": 1.5
          },
          "type": "line",
          "x0": 5,
          "x1": 5,
          "y0": 123.07,
          "y1": 124.17
         },
         {
          "line": {
           "color": "rgb(55, 128, 191)",
           "width": 1.5
          },
          "type": "line",
          "x0": 6,
          "x1": 6,
          "y0": 125.22,
          "y1": 126.32
         },
         {
          "line": {
           "color": "rgb(55, 128, 191)",
           "width": 1.5
          },
          "type": "line",
          "x0": 7,
          "x1": 7,
          "y0": 124.51,
          "y1": 125.64
         },
         {
          "line": {
           "color": "rgb(55, 128, 191)",
           "width": 1.5
          },
          "type": "line",
          "x0": 8,
          "x1": 8,
          "y0": 124.87,
          "y1": 125.96
         },
         {
          "line": {
           "color": "rgb(55, 128, 191)",
           "width": 1.5
          },
          "type": "line",
          "x0": 9,
          "x1": 9,
          "y0": 121.85,
          "y1": 122.97
         },
         {
          "line": {
           "color": "rgb(55, 128, 191)",
           "width": 1.5
          },
          "type": "line",
          "x0": 10,
          "x1": 10,
          "y0": 127.14,
          "y1": 128.25
         },
         {
          "line": {
           "color": "rgb(55, 128, 191)",
           "width": 1.5
          },
          "type": "line",
          "x0": 11,
          "x1": 11,
          "y0": 126.29,
          "y1": 127.39
         },
         {
          "line": {
           "color": "rgb(55, 128, 191)",
           "width": 1.5
          },
          "type": "line",
          "x0": 12,
          "x1": 12,
          "y0": 123.55,
          "y1": 124.65
         },
         {
          "line": {
           "color": "rgb(55, 128, 191)",
           "width": 1.5
          },
          "type": "line",
          "x0": 13,
          "x1": 13,
          "y0": 130.33,
          "y1": 131.43
         },
         {
          "line": {
           "color": "rgb(55, 128, 191)",
           "width": 1.5
          },
          "type": "line",
          "x0": 14,
          "x1": 14,
          "y0": 129.96,
          "y1": 131.07
         },
         {
          "line": {
           "color": "rgb(55, 128, 191)",
           "width": 1.5
          },
          "type": "line",
          "x0": 15,
          "x1": 15,
          "y0": 127.41,
          "y1": 128.51
         },
         {
          "line": {
           "color": "rgb(55, 128, 191)",
           "width": 1.5
          },
          "type": "line",
          "x0": 16,
          "x1": 16,
          "y0": 127.18,
          "y1": 128.28
         },
         {
          "line": {
           "color": "rgb(55, 128, 191)",
           "width": 1.5
          },
          "type": "line",
          "x0": 17,
          "x1": 17,
          "y0": 126.93,
          "y1": 128.04
         },
         {
          "line": {
           "color": "rgb(55, 128, 191)",
           "width": 1.5
          },
          "type": "line",
          "x0": 18,
          "x1": 18,
          "y0": 126.32,
          "y1": 127.43
         },
         {
          "line": {
           "color": "rgb(55, 128, 191)",
           "width": 1.5
          },
          "type": "line",
          "x0": 19,
          "x1": 19,
          "y0": 128.26,
          "y1": 129.38
         },
         {
          "line": {
           "color": "rgb(55, 128, 191)",
           "width": 1.5
          },
          "type": "line",
          "x0": 20,
          "x1": 20,
          "y0": 125.98,
          "y1": 127.08
         },
         {
          "line": {
           "color": "rgb(55, 128, 191)",
           "width": 1.5
          },
          "type": "line",
          "x0": 21,
          "x1": 21,
          "y0": 121.56,
          "y1": 122.66
         },
         {
          "line": {
           "color": "rgb(55, 128, 191)",
           "width": 1.5
          },
          "type": "line",
          "x0": 22,
          "x1": 22,
          "y0": 123.63,
          "y1": 124.73
         },
         {
          "line": {
           "color": "rgb(55, 128, 191)",
           "width": 1.5
          },
          "type": "line",
          "x0": 23,
          "x1": 23,
          "y0": 119.45,
          "y1": 120.59
         },
         {
          "line": {
           "color": "rgb(55, 128, 191)",
           "width": 1.5
          },
          "type": "line",
          "x0": 24,
          "x1": 24,
          "y0": 125.36,
          "y1": 126.48
         },
         {
          "line": {
           "color": "rgb(55, 128, 191)",
           "width": 1.5
          },
          "type": "line",
          "x0": 25,
          "x1": 25,
          "y0": 120.66,
          "y1": 121.79
         },
         {
          "line": {
           "color": "rgb(55, 128, 191)",
           "width": 1.5
          },
          "type": "line",
          "x0": 26,
          "x1": 26,
          "y0": 123.45,
          "y1": 124.57
         },
         {
          "line": {
           "color": "rgb(55, 128, 191)",
           "width": 1.5
          },
          "type": "line",
          "x0": 27,
          "x1": 27,
          "y0": 124.09,
          "y1": 125.2
         },
         {
          "line": {
           "color": "rgb(55, 128, 191)",
           "width": 1.5
          },
          "type": "line",
          "x0": 28,
          "x1": 28,
          "y0": 124.32,
          "y1": 125.41
         },
         {
          "line": {
           "color": "rgb(55, 128, 191)",
           "width": 1.5
          },
          "type": "line",
          "x0": 29,
          "x1": 29,
          "y0": 125.12,
          "y1": 126.23
         },
         {
          "line": {
           "color": "rgb(55, 128, 191)",
           "width": 1.5
          },
          "type": "line",
          "x0": 30,
          "x1": 30,
          "y0": 126.75,
          "y1": 127.85
         },
         {
          "line": {
           "color": "rgb(55, 128, 191)",
           "width": 1.5
          },
          "type": "line",
          "x0": 31,
          "x1": 31,
          "y0": 126.35,
          "y1": 127.48
         },
         {
          "line": {
           "color": "rgb(55, 128, 191)",
           "width": 1.5
          },
          "type": "line",
          "x0": 32,
          "x1": 32,
          "y0": 126.39,
          "y1": 127.47
         },
         {
          "line": {
           "color": "rgb(55, 128, 191)",
           "width": 1.5
          },
          "type": "line",
          "x0": 33,
          "x1": 33,
          "y0": 124.21,
          "y1": 125.32
         },
         {
          "line": {
           "color": "rgb(55, 128, 191)",
           "width": 1.5
          },
          "type": "line",
          "x0": 34,
          "x1": 34,
          "y0": 119.86,
          "y1": 120.97
         },
         {
          "line": {
           "color": "rgb(55, 128, 191)",
           "width": 1.5
          },
          "type": "line",
          "x0": 35,
          "x1": 35,
          "y0": 122.18,
          "y1": 123.28
         },
         {
          "line": {
           "color": "rgb(55, 128, 191)",
           "width": 1.5
          },
          "type": "line",
          "x0": 36,
          "x1": 36,
          "y0": 124.44,
          "y1": 125.51
         },
         {
          "line": {
           "color": "rgb(55, 128, 191)",
           "width": 1.5
          },
          "type": "line",
          "x0": 37,
          "x1": 37,
          "y0": 120.59,
          "y1": 121.74
         },
         {
          "line": {
           "color": "rgb(55, 128, 191)",
           "width": 1.5
          },
          "type": "line",
          "x0": 38,
          "x1": 38,
          "y0": 123.16,
          "y1": 124.25
         },
         {
          "line": {
           "color": "rgb(55, 128, 191)",
           "width": 1.5
          },
          "type": "line",
          "x0": 39,
          "x1": 39,
          "y0": 124.53,
          "y1": 125.63
         },
         {
          "line": {
           "color": "rgb(55, 128, 191)",
           "width": 1.5
          },
          "type": "line",
          "x0": 40,
          "x1": 40,
          "y0": 125.68,
          "y1": 126.78
         },
         {
          "line": {
           "color": "rgb(55, 128, 191)",
           "width": 1.5
          },
          "type": "line",
          "x0": 41,
          "x1": 41,
          "y0": 124.13,
          "y1": 125.24
         },
         {
          "line": {
           "color": "rgb(55, 128, 191)",
           "width": 1.5
          },
          "type": "line",
          "x0": 42,
          "x1": 42,
          "y0": 119.68,
          "y1": 120.78
         },
         {
          "line": {
           "color": "rgb(55, 128, 191)",
           "width": 1.5
          },
          "type": "line",
          "x0": 43,
          "x1": 43,
          "y0": 122.18,
          "y1": 123.28
         },
         {
          "line": {
           "color": "rgb(55, 128, 191)",
           "width": 1.5
          },
          "type": "line",
          "x0": 44,
          "x1": 44,
          "y0": 121.04,
          "y1": 122.15
         },
         {
          "line": {
           "color": "rgb(55, 128, 191)",
           "width": 1.5
          },
          "type": "line",
          "x0": 45,
          "x1": 45,
          "y0": 123.32,
          "y1": 124.44
         },
         {
          "line": {
           "color": "rgb(55, 128, 191)",
           "width": 1.5
          },
          "type": "line",
          "x0": 46,
          "x1": 46,
          "y0": 119.66,
          "y1": 120.75
         },
         {
          "line": {
           "color": "rgb(55, 128, 191)",
           "width": 1.5
          },
          "type": "line",
          "x0": 47,
          "x1": 47,
          "y0": 120.9,
          "y1": 121.99
         },
         {
          "line": {
           "color": "rgb(55, 128, 191)",
           "width": 1.5
          },
          "type": "line",
          "x0": 48,
          "x1": 48,
          "y0": 122.73,
          "y1": 123.84
         },
         {
          "line": {
           "color": "rgb(55, 128, 191)",
           "width": 1.5
          },
          "type": "line",
          "x0": 49,
          "x1": 49,
          "y0": 122.28,
          "y1": 123.39
         },
         {
          "line": {
           "color": "rgb(55, 128, 191)",
           "width": 1.5
          },
          "type": "line",
          "x0": 50,
          "x1": 50,
          "y0": 119.03,
          "y1": 120.1
         },
         {
          "fillcolor": "rgba(255, 0, 0, 0.6)",
          "line": {
           "color": "rgb(55, 128, 191)",
           "width": 1
          },
          "type": "rect",
          "x0": 0.75,
          "x1": 1.25,
          "xref": "x",
          "y0": 122.56,
          "y1": 123,
          "yref": "y"
         },
         {
          "fillcolor": "rgba(0, 204, 0, 0.6)",
          "line": {
           "color": "rgb(55, 128, 191)",
           "width": 1
          },
          "type": "rect",
          "x0": 1.75,
          "x1": 2.25,
          "xref": "x",
          "y0": 122.24,
          "y1": 125.24,
          "yref": "y"
         },
         {
          "fillcolor": "rgba(255, 0, 0, 0.6)",
          "line": {
           "color": "rgb(55, 128, 191)",
           "width": 1
          },
          "type": "rect",
          "x0": 2.75,
          "x1": 3.25,
          "xref": "x",
          "y0": 126.67,
          "y1": 129.57,
          "yref": "y"
         },
         {
          "fillcolor": "rgba(255, 0, 0, 0.6)",
          "line": {
           "color": "rgb(55, 128, 191)",
           "width": 1
          },
          "type": "rect",
          "x0": 3.75,
          "x1": 4.25,
          "xref": "x",
          "y0": 126.9,
          "y1": 128.67,
          "yref": "y"
         },
         {
          "fillcolor": "rgba(0, 204, 0, 0.6)",
          "line": {
           "color": "rgb(55, 128, 191)",
           "width": 1
          },
          "type": "rect",
          "x0": 4.75,
          "x1": 5.25,
          "xref": "x",
          "y0": 124.17,
          "y1": 125.99,
          "yref": "y"
         },
         {
          "fillcolor": "rgba(0, 204, 0, 0.6)",
          "line": {
           "color": "rgb(55, 128, 191)",
           "width": 1
          },
          "type": "rect",
          "x0": 5.75,
          "x1": 6.25,
          "xref": "x",
          "y0": 126.32,
          "y1": 126.77,
          "yref": "y"
         },
         {
          "fillcolor": "rgba(0, 204, 0, 0.6)",
          "line": {
           "color": "rgb(55, 128, 191)",
           "width": 1
          },
          "type": "rect",
          "x0": 6.75,
          "x1": 7.25,
          "xref": "x",
          "y0": 125.64,
          "y1": 126.22,
          "yref": "y"
         },
         {
          "fillcolor": "rgba(0, 204, 0, 0.6)",
          "line": {
           "color": "rgb(55, 128, 191)",
           "width": 1
          },
          "type": "rect",
          "x0": 7.75,
          "x1": 8.25,
          "xref": "x",
          "y0": 125.96,
          "y1": 127,
          "yref": "y"
         },
         {
          "fillcolor": "rgba(0, 204, 0, 0.6)",
          "line": {
           "color": "rgb(55, 128, 191)",
           "width": 1
          },
          "type": "rect",
          "x0": 8.75,
          "x1": 9.25,
          "xref": "x",
          "y0": 122.97,
          "y1": 127.48,
          "yref": "y"
         },
         {
          "fillcolor": "rgba(0, 204, 0, 0.6)",
          "line": {
           "color": "rgb(55, 128, 191)",
           "width": 1
          },
          "type": "rect",
          "x0": 9.75,
          "x1": 10.25,
          "xref": "x",
          "y0": 128.25,
          "y1": 129.11,
          "yref": "y"
         },
         {
          "fillcolor": "rgba(0, 204, 0, 0.6)",
          "line": {
           "color": "rgb(55, 128, 191)",
           "width": 1
          },
          "type": "rect",
          "x0": 10.75,
          "x1": 11.25,
          "xref": "x",
          "y0": 127.39,
          "y1": 128.97,
          "yref": "y"
         },
         {
          "fillcolor": "rgba(0, 204, 0, 0.6)",
          "line": {
           "color": "rgb(55, 128, 191)",
           "width": 1
          },
          "type": "rect",
          "x0": 11.75,
          "x1": 12.25,
          "xref": "x",
          "y0": 124.65,
          "y1": 128.31,
          "yref": "y"
         },
         {
          "fillcolor": "rgba(255, 0, 0, 0.6)",
          "line": {
           "color": "rgb(55, 128, 191)",
           "width": 1
          },
          "type": "rect",
          "x0": 12.75,
          "x1": 13.25,
          "xref": "x",
          "y0": 131.43,
          "y1": 133.42,
          "yref": "y"
         },
         {
          "fillcolor": "rgba(255, 0, 0, 0.6)",
          "line": {
           "color": "rgb(55, 128, 191)",
           "width": 1
          },
          "type": "rect",
          "x0": 13.75,
          "x1": 14.25,
          "xref": "x",
          "y0": 131.07,
          "y1": 131.28,
          "yref": "y"
         },
         {
          "fillcolor": "rgba(0, 204, 0, 0.6)",
          "line": {
           "color": "rgb(55, 128, 191)",
           "width": 1
          },
          "type": "rect",
          "x0": 14.75,
          "x1": 15.25,
          "xref": "x",
          "y0": 128.51,
          "y1": 129.17,
          "yref": "y"
         },
         {
          "fillcolor": "rgba(255, 0, 0, 0.6)",
          "line": {
           "color": "rgb(55, 128, 191)",
           "width": 1
          },
          "type": "rect",
          "x0": 15.75,
          "x1": 16.25,
          "xref": "x",
          "y0": 128.28,
          "y1": 130.28,
          "yref": "y"
         },
         {
          "fillcolor": "rgba(255, 0, 0, 0.6)",
          "line": {
           "color": "rgb(55, 128, 191)",
           "width": 1
          },
          "type": "rect",
          "x0": 16.75,
          "x1": 17.25,
          "xref": "x",
          "y0": 128.04,
          "y1": 130.56,
          "yref": "y"
         },
         {
          "fillcolor": "rgba(0, 204, 0, 0.6)",
          "line": {
           "color": "rgb(55, 128, 191)",
           "width": 1
          },
          "type": "rect",
          "x0": 17.75,
          "x1": 18.25,
          "xref": "x",
          "y0": 127.43,
          "y1": 128.67,
          "yref": "y"
         },
         {
          "fillcolor": "rgba(255, 0, 0, 0.6)",
          "line": {
           "color": "rgb(55, 128, 191)",
           "width": 1
          },
          "type": "rect",
          "x0": 18.75,
          "x1": 19.25,
          "xref": "x",
          "y0": 129.38,
          "y1": 131.25,
          "yref": "y"
         },
         {
          "fillcolor": "rgba(255, 0, 0, 0.6)",
          "line": {
           "color": "rgb(55, 128, 191)",
           "width": 1
          },
          "type": "rect",
          "x0": 19.75,
          "x1": 20.25,
          "xref": "x",
          "y0": 127.08,
          "y1": 127.2,
          "yref": "y"
         },
         {
          "fillcolor": "rgba(0, 204, 0, 0.6)",
          "line": {
           "color": "rgb(55, 128, 191)",
           "width": 1
          },
          "type": "rect",
          "x0": 20.75,
          "x1": 21.25,
          "xref": "x",
          "y0": 122.66,
          "y1": 125.3,
          "yref": "y"
         },
         {
          "fillcolor": "rgba(255, 0, 0, 0.6)",
          "line": {
           "color": "rgb(55, 128, 191)",
           "width": 1
          },
          "type": "rect",
          "x0": 21.75,
          "x1": 22.25,
          "xref": "x",
          "y0": 124.73,
          "y1": 126.73,
          "yref": "y"
         },
         {
          "fillcolor": "rgba(0, 204, 0, 0.6)",
          "line": {
           "color": "rgb(55, 128, 191)",
           "width": 1
          },
          "type": "rect",
          "x0": 22.75,
          "x1": 23.25,
          "xref": "x",
          "y0": 120.59,
          "y1": 123.96,
          "yref": "y"
         },
         {
          "fillcolor": "rgba(255, 0, 0, 0.6)",
          "line": {
           "color": "rgb(55, 128, 191)",
           "width": 1
          },
          "type": "rect",
          "x0": 23.75,
          "x1": 24.25,
          "xref": "x",
          "y0": 126.48,
          "y1": 128.28,
          "yref": "y"
         },
         {
          "fillcolor": "rgba(0, 204, 0, 0.6)",
          "line": {
           "color": "rgb(55, 128, 191)",
           "width": 1
          },
          "type": "rect",
          "x0": 24.75,
          "x1": 25.25,
          "xref": "x",
          "y0": 121.79,
          "y1": 124.99,
          "yref": "y"
         },
         {
          "fillcolor": "rgba(0, 204, 0, 0.6)",
          "line": {
           "color": "rgb(55, 128, 191)",
           "width": 1
          },
          "type": "rect",
          "x0": 25.75,
          "x1": 26.25,
          "xref": "x",
          "y0": 124.57,
          "y1": 126.23,
          "yref": "y"
         },
         {
          "fillcolor": "rgba(255, 0, 0, 0.6)",
          "line": {
           "color": "rgb(55, 128, 191)",
           "width": 1
          },
          "type": "rect",
          "x0": 26.75,
          "x1": 27.25,
          "xref": "x",
          "y0": 125.2,
          "y1": 125.61,
          "yref": "y"
         },
         {
          "fillcolor": "rgba(0, 204, 0, 0.6)",
          "line": {
           "color": "rgb(55, 128, 191)",
           "width": 1
          },
          "type": "rect",
          "x0": 27.75,
          "x1": 28.25,
          "xref": "x",
          "y0": 125.41,
          "y1": 125.7,
          "yref": "y"
         },
         {
          "fillcolor": "rgba(255, 0, 0, 0.6)",
          "line": {
           "color": "rgb(55, 128, 191)",
           "width": 1
          },
          "type": "rect",
          "x0": 28.75,
          "x1": 29.25,
          "xref": "x",
          "y0": 126.23,
          "y1": 126.66,
          "yref": "y"
         },
         {
          "fillcolor": "rgba(255, 0, 0, 0.6)",
          "line": {
           "color": "rgb(55, 128, 191)",
           "width": 1
          },
          "type": "rect",
          "x0": 29.75,
          "x1": 30.25,
          "xref": "x",
          "y0": 127.85,
          "y1": 131.15,
          "yref": "y"
         },
         {
          "fillcolor": "rgba(255, 0, 0, 0.6)",
          "line": {
           "color": "rgb(55, 128, 191)",
           "width": 1
          },
          "type": "rect",
          "x0": 30.75,
          "x1": 31.25,
          "xref": "x",
          "y0": 127.48,
          "y1": 127.65,
          "yref": "y"
         },
         {
          "fillcolor": "rgba(255, 0, 0, 0.6)",
          "line": {
           "color": "rgb(55, 128, 191)",
           "width": 1
          },
          "type": "rect",
          "x0": 31.75,
          "x1": 32.25,
          "xref": "x",
          "y0": 127.47,
          "y1": 129.17,
          "yref": "y"
         },
         {
          "fillcolor": "rgba(255, 0, 0, 0.6)",
          "line": {
           "color": "rgb(55, 128, 191)",
           "width": 1
          },
          "type": "rect",
          "x0": 32.75,
          "x1": 33.25,
          "xref": "x",
          "y0": 125.32,
          "y1": 127.59,
          "yref": "y"
         },
         {
          "fillcolor": "rgba(0, 204, 0, 0.6)",
          "line": {
           "color": "rgb(55, 128, 191)",
           "width": 1
          },
          "type": "rect",
          "x0": 33.75,
          "x1": 34.25,
          "xref": "x",
          "y0": 120.97,
          "y1": 124.02,
          "yref": "y"
         },
         {
          "fillcolor": "rgba(0, 204, 0, 0.6)",
          "line": {
           "color": "rgb(55, 128, 191)",
           "width": 1
          },
          "type": "rect",
          "x0": 34.75,
          "x1": 35.25,
          "xref": "x",
          "y0": 123.28,
          "y1": 124.24,
          "yref": "y"
         },
         {
          "fillcolor": "rgba(255, 0, 0, 0.6)",
          "line": {
           "color": "rgb(55, 128, 191)",
           "width": 1
          },
          "type": "rect",
          "x0": 35.75,
          "x1": 36.25,
          "xref": "x",
          "y0": 125.51,
          "y1": 128.83,
          "yref": "y"
         },
         {
          "fillcolor": "rgba(0, 204, 0, 0.6)",
          "line": {
           "color": "rgb(55, 128, 191)",
           "width": 1
          },
          "type": "rect",
          "x0": 36.75,
          "x1": 37.25,
          "xref": "x",
          "y0": 121.74,
          "y1": 125.01,
          "yref": "y"
         },
         {
          "fillcolor": "rgba(0, 204, 0, 0.6)",
          "line": {
           "color": "rgb(55, 128, 191)",
           "width": 1
          },
          "type": "rect",
          "x0": 37.75,
          "x1": 38.25,
          "xref": "x",
          "y0": 124.25,
          "y1": 125.47,
          "yref": "y"
         },
         {
          "fillcolor": "rgba(255, 0, 0, 0.6)",
          "line": {
           "color": "rgb(55, 128, 191)",
           "width": 1
          },
          "type": "rect",
          "x0": 38.75,
          "x1": 39.25,
          "xref": "x",
          "y0": 125.63,
          "y1": 125.81,
          "yref": "y"
         },
         {
          "fillcolor": "rgba(255, 0, 0, 0.6)",
          "line": {
           "color": "rgb(55, 128, 191)",
           "width": 1
          },
          "type": "rect",
          "x0": 39.75,
          "x1": 40.25,
          "xref": "x",
          "y0": 126.78,
          "y1": 126.98,
          "yref": "y"
         },
         {
          "fillcolor": "rgba(255, 0, 0, 0.6)",
          "line": {
           "color": "rgb(55, 128, 191)",
           "width": 1
          },
          "type": "rect",
          "x0": 40.75,
          "x1": 41.25,
          "xref": "x",
          "y0": 125.24,
          "y1": 128.27,
          "yref": "y"
         },
         {
          "fillcolor": "rgba(0, 204, 0, 0.6)",
          "line": {
           "color": "rgb(55, 128, 191)",
           "width": 1
          },
          "type": "rect",
          "x0": 41.75,
          "x1": 42.25,
          "xref": "x",
          "y0": 120.78,
          "y1": 123.74,
          "yref": "y"
         },
         {
          "fillcolor": "rgba(255, 0, 0, 0.6)",
          "line": {
           "color": "rgb(55, 128, 191)",
           "width": 1
          },
          "type": "rect",
          "x0": 42.75,
          "x1": 43.25,
          "xref": "x",
          "y0": 123.28,
          "y1": 123.29,
          "yref": "y"
         },
         {
          "fillcolor": "rgba(0, 204, 0, 0.6)",
          "line": {
           "color": "rgb(55, 128, 191)",
           "width": 1
          },
          "type": "rect",
          "x0": 43.75,
          "x1": 44.25,
          "xref": "x",
          "y0": 122.15,
          "y1": 123.25,
          "yref": "y"
         },
         {
          "fillcolor": "rgba(255, 0, 0, 0.6)",
          "line": {
           "color": "rgb(55, 128, 191)",
           "width": 1
          },
          "type": "rect",
          "x0": 44.75,
          "x1": 45.25,
          "xref": "x",
          "y0": 124.44,
          "y1": 126.56,
          "yref": "y"
         },
         {
          "fillcolor": "rgba(0, 204, 0, 0.6)",
          "line": {
           "color": "rgb(55, 128, 191)",
           "width": 1
          },
          "type": "rect",
          "x0": 45.75,
          "x1": 46.25,
          "xref": "x",
          "y0": 120.75,
          "y1": 123.21,
          "yref": "y"
         },
         {
          "fillcolor": "rgba(0, 204, 0, 0.6)",
          "line": {
           "color": "rgb(55, 128, 191)",
           "width": 1
          },
          "type": "rect",
          "x0": 46.75,
          "x1": 47.25,
          "xref": "x",
          "y0": 121.99,
          "y1": 123.33,
          "yref": "y"
         },
         {
          "fillcolor": "rgba(255, 0, 0, 0.6)",
          "line": {
           "color": "rgb(55, 128, 191)",
           "width": 1
          },
          "type": "rect",
          "x0": 47.75,
          "x1": 48.25,
          "xref": "x",
          "y0": 123.84,
          "y1": 125.78,
          "yref": "y"
         },
         {
          "fillcolor": "rgba(255, 0, 0, 0.6)",
          "line": {
           "color": "rgb(55, 128, 191)",
           "width": 1
          },
          "type": "rect",
          "x0": 48.75,
          "x1": 49.25,
          "xref": "x",
          "y0": 123.39,
          "y1": 124.96,
          "yref": "y"
         },
         {
          "fillcolor": "rgba(255, 0, 0, 0.6)",
          "line": {
           "color": "rgb(55, 128, 191)",
           "width": 1
          },
          "type": "rect",
          "x0": 49.75,
          "x1": 50.25,
          "xref": "x",
          "y0": 120.1,
          "y1": 120.55,
          "yref": "y"
         },
         {
          "line": {
           "color": "rgb(55, 128, 191)",
           "width": 1.5
          },
          "type": "line",
          "x0": 1,
          "x1": 1,
          "y0": 123,
          "y1": 124.13
         },
         {
          "line": {
           "color": "rgb(55, 128, 191)",
           "width": 1.5
          },
          "type": "line",
          "x0": 2,
          "x1": 2,
          "y0": 125.24,
          "y1": 126.36
         },
         {
          "line": {
           "color": "rgb(55, 128, 191)",
           "width": 1.5
          },
          "type": "line",
          "x0": 3,
          "x1": 3,
          "y0": 129.57,
          "y1": 130.68
         },
         {
          "line": {
           "color": "rgb(55, 128, 191)",
           "width": 1.5
          },
          "type": "line",
          "x0": 4,
          "x1": 4,
          "y0": 128.67,
          "y1": 129.79
         },
         {
          "line": {
           "color": "rgb(55, 128, 191)",
           "width": 1.5
          },
          "type": "line",
          "x0": 5,
          "x1": 5,
          "y0": 125.99,
          "y1": 127.1
         },
         {
          "line": {
           "color": "rgb(55, 128, 191)",
           "width": 1.5
          },
          "type": "line",
          "x0": 6,
          "x1": 6,
          "y0": 126.77,
          "y1": 127.87
         },
         {
          "line": {
           "color": "rgb(55, 128, 191)",
           "width": 1.5
          },
          "type": "line",
          "x0": 7,
          "x1": 7,
          "y0": 126.22,
          "y1": 127.31
         },
         {
          "line": {
           "color": "rgb(55, 128, 191)",
           "width": 1.5
          },
          "type": "line",
          "x0": 8,
          "x1": 8,
          "y0": 127,
          "y1": 128.12
         },
         {
          "line": {
           "color": "rgb(55, 128, 191)",
           "width": 1.5
          },
          "type": "line",
          "x0": 9,
          "x1": 9,
          "y0": 127.48,
          "y1": 128.56
         },
         {
          "line": {
           "color": "rgb(55, 128, 191)",
           "width": 1.5
          },
          "type": "line",
          "x0": 10,
          "x1": 10,
          "y0": 129.11,
          "y1": 130.22
         },
         {
          "line": {
           "color": "rgb(55, 128, 191)",
           "width": 1.5
          },
          "type": "line",
          "x0": 11,
          "x1": 11,
          "y0": 128.97,
          "y1": 130.08
         },
         {
          "line": {
           "color": "rgb(55, 128, 191)",
           "width": 1.5
          },
          "type": "line",
          "x0": 12,
          "x1": 12,
          "y0": 128.31,
          "y1": 129.41
         },
         {
          "line": {
           "color": "rgb(55, 128, 191)",
           "width": 1.5
          },
          "type": "line",
          "x0": 13,
          "x1": 13,
          "y0": 133.42,
          "y1": 134.53
         },
         {
          "line": {
           "color": "rgb(55, 128, 191)",
           "width": 1.5
          },
          "type": "line",
          "x0": 14,
          "x1": 14,
          "y0": 131.28,
          "y1": 132.37
         },
         {
          "line": {
           "color": "rgb(55, 128, 191)",
           "width": 1.5
          },
          "type": "line",
          "x0": 15,
          "x1": 15,
          "y0": 129.17,
          "y1": 130.26
         },
         {
          "line": {
           "color": "rgb(55, 128, 191)",
           "width": 1.5
          },
          "type": "line",
          "x0": 16,
          "x1": 16,
          "y0": 130.28,
          "y1": 131.41
         },
         {
          "line": {
           "color": "rgb(55, 128, 191)",
           "width": 1.5
          },
          "type": "line",
          "x0": 17,
          "x1": 17,
          "y0": 130.56,
          "y1": 131.65
         },
         {
          "line": {
           "color": "rgb(55, 128, 191)",
           "width": 1.5
          },
          "type": "line",
          "x0": 18,
          "x1": 18,
          "y0": 128.67,
          "y1": 129.79
         },
         {
          "line": {
           "color": "rgb(55, 128, 191)",
           "width": 1.5
          },
          "type": "line",
          "x0": 19,
          "x1": 19,
          "y0": 131.25,
          "y1": 132.36
         },
         {
          "line": {
           "color": "rgb(55, 128, 191)",
           "width": 1.5
          },
          "type": "line",
          "x0": 20,
          "x1": 20,
          "y0": 127.2,
          "y1": 128.3
         },
         {
          "line": {
           "color": "rgb(55, 128, 191)",
           "width": 1.5
          },
          "type": "line",
          "x0": 21,
          "x1": 21,
          "y0": 125.3,
          "y1": 126.4
         },
         {
          "line": {
           "color": "rgb(55, 128, 191)",
           "width": 1.5
          },
          "type": "line",
          "x0": 22,
          "x1": 22,
          "y0": 126.73,
          "y1": 127.83
         },
         {
          "line": {
           "color": "rgb(55, 128, 191)",
           "width": 1.5
          },
          "type": "line",
          "x0": 23,
          "x1": 23,
          "y0": 123.96,
          "y1": 125.07
         },
         {
          "line": {
           "color": "rgb(55, 128, 191)",
           "width": 1.5
          },
          "type": "line",
          "x0": 24,
          "x1": 24,
          "y0": 128.28,
          "y1": 129.37
         },
         {
          "line": {
           "color": "rgb(55, 128, 191)",
           "width": 1.5
          },
          "type": "line",
          "x0": 25,
          "x1": 25,
          "y0": 124.99,
          "y1": 126.09
         },
         {
          "line": {
           "color": "rgb(55, 128, 191)",
           "width": 1.5
          },
          "type": "line",
          "x0": 26,
          "x1": 26,
          "y0": 126.23,
          "y1": 127.32
         },
         {
          "line": {
           "color": "rgb(55, 128, 191)",
           "width": 1.5
          },
          "type": "line",
          "x0": 27,
          "x1": 27,
          "y0": 125.61,
          "y1": 126.75
         },
         {
          "line": {
           "color": "rgb(55, 128, 191)",
           "width": 1.5
          },
          "type": "line",
          "x0": 28,
          "x1": 28,
          "y0": 125.7,
          "y1": 126.78
         },
         {
          "line": {
           "color": "rgb(55, 128, 191)",
           "width": 1.5
          },
          "type": "line",
          "x0": 29,
          "x1": 29,
          "y0": 126.66,
          "y1": 127.76
         },
         {
          "line": {
           "color": "rgb(55, 128, 191)",
           "width": 1.5
          },
          "type": "line",
          "x0": 30,
          "x1": 30,
          "y0": 131.15,
          "y1": 132.27
         },
         {
          "line": {
           "color": "rgb(55, 128, 191)",
           "width": 1.5
          },
          "type": "line",
          "x0": 31,
          "x1": 31,
          "y0": 127.65,
          "y1": 128.76
         },
         {
          "line": {
           "color": "rgb(55, 128, 191)",
           "width": 1.5
          },
          "type": "line",
          "x0": 32,
          "x1": 32,
          "y0": 129.17,
          "y1": 130.27
         },
         {
          "line": {
           "color": "rgb(55, 128, 191)",
           "width": 1.5
          },
          "type": "line",
          "x0": 33,
          "x1": 33,
          "y0": 127.59,
          "y1": 128.69
         },
         {
          "line": {
           "color": "rgb(55, 128, 191)",
           "width": 1.5
          },
          "type": "line",
          "x0": 34,
          "x1": 34,
          "y0": 124.02,
          "y1": 125.1
         },
         {
          "line": {
           "color": "rgb(55, 128, 191)",
           "width": 1.5
          },
          "type": "line",
          "x0": 35,
          "x1": 35,
          "y0": 124.24,
          "y1": 125.34
         },
         {
          "line": {
           "color": "rgb(55, 128, 191)",
           "width": 1.5
          },
          "type": "line",
          "x0": 36,
          "x1": 36,
          "y0": 128.83,
          "y1": 129.95
         },
         {
          "line": {
           "color": "rgb(55, 128, 191)",
           "width": 1.5
          },
          "type": "line",
          "x0": 37,
          "x1": 37,
          "y0": 125.01,
          "y1": 126.12
         },
         {
          "line": {
           "color": "rgb(55, 128, 191)",
           "width": 1.5
          },
          "type": "line",
          "x0": 38,
          "x1": 38,
          "y0": 125.47,
          "y1": 126.58
         },
         {
          "line": {
           "color": "rgb(55, 128, 191)",
           "width": 1.5
          },
          "type": "line",
          "x0": 39,
          "x1": 39,
          "y0": 125.81,
          "y1": 126.92
         },
         {
          "line": {
           "color": "rgb(55, 128, 191)",
           "width": 1.5
          },
          "type": "line",
          "x0": 40,
          "x1": 40,
          "y0": 126.98,
          "y1": 128.08
         },
         {
          "line": {
           "color": "rgb(55, 128, 191)",
           "width": 1.5
          },
          "type": "line",
          "x0": 41,
          "x1": 41,
          "y0": 128.27,
          "y1": 129.37
         },
         {
          "line": {
           "color": "rgb(55, 128, 191)",
           "width": 1.5
          },
          "type": "line",
          "x0": 42,
          "x1": 42,
          "y0": 123.74,
          "y1": 124.83
         },
         {
          "line": {
           "color": "rgb(55, 128, 191)",
           "width": 1.5
          },
          "type": "line",
          "x0": 43,
          "x1": 43,
          "y0": 123.29,
          "y1": 124.37
         },
         {
          "line": {
           "color": "rgb(55, 128, 191)",
           "width": 1.5
          },
          "type": "line",
          "x0": 44,
          "x1": 44,
          "y0": 123.25,
          "y1": 124.35
         },
         {
          "line": {
           "color": "rgb(55, 128, 191)",
           "width": 1.5
          },
          "type": "line",
          "x0": 45,
          "x1": 45,
          "y0": 126.56,
          "y1": 127.66
         },
         {
          "line": {
           "color": "rgb(55, 128, 191)",
           "width": 1.5
          },
          "type": "line",
          "x0": 46,
          "x1": 46,
          "y0": 123.21,
          "y1": 124.31
         },
         {
          "line": {
           "color": "rgb(55, 128, 191)",
           "width": 1.5
          },
          "type": "line",
          "x0": 47,
          "x1": 47,
          "y0": 123.33,
          "y1": 124.44
         },
         {
          "line": {
           "color": "rgb(55, 128, 191)",
           "width": 1.5
          },
          "type": "line",
          "x0": 48,
          "x1": 48,
          "y0": 125.78,
          "y1": 126.88
         },
         {
          "line": {
           "color": "rgb(55, 128, 191)",
           "width": 1.5
          },
          "type": "line",
          "x0": 49,
          "x1": 49,
          "y0": 124.96,
          "y1": 126.06
         },
         {
          "line": {
           "color": "rgb(55, 128, 191)",
           "width": 1.5
          },
          "type": "line",
          "x0": 50,
          "x1": 50,
          "y0": 120.55,
          "y1": 121.65
         }
        ],
        "showlegend": false,
        "title": "Random Walk",
        "xaxis": {
         "anchor": "y2",
         "showgrid": true,
         "showticklabels": true,
         "tickangle": 90,
         "tickmode": "array",
         "ticktext": [
          20190522,
          20190524,
          20190528,
          20190530,
          20190603,
          20190605,
          20190607,
          20190611,
          20190613,
          20190617,
          20190619,
          20190621,
          20190625,
          20190627,
          20190701,
          20190703,
          20190705,
          20190709,
          20190711,
          20190715,
          20190717,
          20190719,
          20190723,
          20190725,
          20190729,
          20190730
         ],
         "tickvals": [
          1,
          3,
          5,
          7,
          9,
          11,
          13,
          15,
          17,
          19,
          21,
          23,
          25,
          27,
          29,
          31,
          33,
          35,
          37,
          39,
          41,
          43,
          45,
          47,
          49,
          50
         ]
        },
        "yaxis": {
         "domain": [
          0.22,
          1
         ],
         "range": [
          119.03,
          134.53
         ]
        },
        "yaxis2": {
         "domain": [
          0,
          0.2
         ],
         "range": [
          0,
          993801
         ]
        }
       }
      },
      "text/html": [
       "<div id=\"3b6050f4-6846-4f0f-bc19-aec4e67a49fb\" style=\"height: 525px; width: 100%;\" class=\"plotly-graph-div\"></div><script type=\"text/javascript\">require([\"plotly\"], function(Plotly) { window.PLOTLYENV=window.PLOTLYENV || {};window.PLOTLYENV.BASE_URL=\"https://plot.ly\";Plotly.newPlot(\"3b6050f4-6846-4f0f-bc19-aec4e67a49fb\", [{\"hoverinfo\": \"text\", \"mode\": \"markers\", \"text\": [\"date: 20190522.0<br>open: 123.0<br>high: 124.13<br>low: 121.43<br>close: 122.56<br>volume: 901192.0\", \"date: 20190523.0<br>open: 122.24<br>high: 126.36<br>low: 121.15<br>close: 125.24<br>volume: 891312.0\", \"date: 20190524.0<br>open: 129.57<br>high: 130.68<br>low: 125.55<br>close: 126.67<br>volume: 871264.0\", \"date: 20190527.0<br>open: 128.67<br>high: 129.79<br>low: 125.8<br>close: 126.9<br>volume: 868242.0\", \"date: 20190528.0<br>open: 124.17<br>high: 127.1<br>low: 123.07<br>close: 125.99<br>volume: 870383.0\", \"date: 20190529.0<br>open: 126.32<br>high: 127.87<br>low: 125.22<br>close: 126.77<br>volume: 888569.0\", \"date: 20190530.0<br>open: 125.64<br>high: 127.31<br>low: 124.51<br>close: 126.22<br>volume: 875965.0\", \"date: 20190531.0<br>open: 125.96<br>high: 128.12<br>low: 124.87<br>close: 127.0<br>volume: 918221.0\", \"date: 20190603.0<br>open: 122.97<br>high: 128.56<br>low: 121.85<br>close: 127.48<br>volume: 925776.0\", \"date: 20190604.0<br>open: 128.25<br>high: 130.22<br>low: 127.14<br>close: 129.11<br>volume: 942011.0\", \"date: 20190605.0<br>open: 127.39<br>high: 130.08<br>low: 126.29<br>close: 128.97<br>volume: 935814.0\", \"date: 20190606.0<br>open: 124.65<br>high: 129.41<br>low: 123.55<br>close: 128.31<br>volume: 970068.0\", \"date: 20190607.0<br>open: 133.42<br>high: 134.53<br>low: 130.33<br>close: 131.43<br>volume: 965842.0\", \"date: 20190610.0<br>open: 131.28<br>high: 132.37<br>low: 129.96<br>close: 131.07<br>volume: 993801.0\", \"date: 20190611.0<br>open: 128.51<br>high: 130.26<br>low: 127.41<br>close: 129.17<br>volume: 975017.0\", \"date: 20190612.0<br>open: 130.28<br>high: 131.41<br>low: 127.18<br>close: 128.28<br>volume: 973536.0\", \"date: 20190613.0<br>open: 130.56<br>high: 131.65<br>low: 126.93<br>close: 128.04<br>volume: 945907.0\", \"date: 20190614.0<br>open: 127.43<br>high: 129.79<br>low: 126.32<br>close: 128.67<br>volume: 978397.0\", \"date: 20190617.0<br>open: 131.25<br>high: 132.36<br>low: 128.26<br>close: 129.38<br>volume: 952294.0\", \"date: 20190618.0<br>open: 127.2<br>high: 128.3<br>low: 125.98<br>close: 127.08<br>volume: 948830.0\", \"date: 20190619.0<br>open: 122.66<br>high: 126.4<br>low: 121.56<br>close: 125.3<br>volume: 949372.0\", \"date: 20190620.0<br>open: 126.73<br>high: 127.83<br>low: 123.63<br>close: 124.73<br>volume: 920231.0\", \"date: 20190621.0<br>open: 120.59<br>high: 125.07<br>low: 119.45<br>close: 123.96<br>volume: 912187.0\", \"date: 20190624.0<br>open: 128.28<br>high: 129.37<br>low: 125.36<br>close: 126.48<br>volume: 901702.0\", \"date: 20190625.0<br>open: 121.79<br>high: 126.09<br>low: 120.66<br>close: 124.99<br>volume: 840799.0\", \"date: 20190626.0<br>open: 124.57<br>high: 127.32<br>low: 123.45<br>close: 126.23<br>volume: 848902.0\", \"date: 20190627.0<br>open: 125.61<br>high: 126.75<br>low: 124.09<br>close: 125.2<br>volume: 862183.0\", \"date: 20190628.0<br>open: 125.41<br>high: 126.78<br>low: 124.32<br>close: 125.7<br>volume: 887078.0\", \"date: 20190701.0<br>open: 126.66<br>high: 127.76<br>low: 125.12<br>close: 126.23<br>volume: 912306.0\", \"date: 20190702.0<br>open: 131.15<br>high: 132.27<br>low: 126.75<br>close: 127.85<br>volume: 908165.0\", \"date: 20190703.0<br>open: 127.65<br>high: 128.76<br>low: 126.35<br>close: 127.48<br>volume: 910653.0\", \"date: 20190704.0<br>open: 129.17<br>high: 130.27<br>low: 126.39<br>close: 127.47<br>volume: 924431.0\", \"date: 20190705.0<br>open: 127.59<br>high: 128.69<br>low: 124.21<br>close: 125.32<br>volume: 915573.0\", \"date: 20190708.0<br>open: 120.97<br>high: 125.1<br>low: 119.86<br>close: 124.02<br>volume: 906258.0\", \"date: 20190709.0<br>open: 123.28<br>high: 125.34<br>low: 122.18<br>close: 124.24<br>volume: 887726.0\", \"date: 20190710.0<br>open: 128.83<br>high: 129.95<br>low: 124.44<br>close: 125.51<br>volume: 831549.0\", \"date: 20190711.0<br>open: 121.74<br>high: 126.12<br>low: 120.59<br>close: 125.01<br>volume: 791632.0\", \"date: 20190712.0<br>open: 124.25<br>high: 126.58<br>low: 123.16<br>close: 125.47<br>volume: 802192.0\", \"date: 20190715.0<br>open: 125.81<br>high: 126.92<br>low: 124.53<br>close: 125.63<br>volume: 787464.0\", \"date: 20190716.0<br>open: 126.98<br>high: 128.08<br>low: 125.68<br>close: 126.78<br>volume: 803081.0\", \"date: 20190717.0<br>open: 128.27<br>high: 129.37<br>low: 124.13<br>close: 125.24<br>volume: 806098.0\", \"date: 20190718.0<br>open: 120.78<br>high: 124.83<br>low: 119.68<br>close: 123.74<br>volume: 816758.0\", \"date: 20190719.0<br>open: 123.29<br>high: 124.37<br>low: 122.18<br>close: 123.28<br>volume: 783913.0\", \"date: 20190722.0<br>open: 122.15<br>high: 124.35<br>low: 121.04<br>close: 123.25<br>volume: 806373.0\", \"date: 20190723.0<br>open: 126.56<br>high: 127.66<br>low: 123.32<br>close: 124.44<br>volume: 793032.0\", \"date: 20190724.0<br>open: 120.75<br>high: 124.31<br>low: 119.66<br>close: 123.21<br>volume: 764997.0\", \"date: 20190725.0<br>open: 121.99<br>high: 124.44<br>low: 120.9<br>close: 123.33<br>volume: 764057.0\", \"date: 20190726.0<br>open: 125.78<br>high: 126.88<br>low: 122.73<br>close: 123.84<br>volume: 764744.0\", \"date: 20190729.0<br>open: 124.96<br>high: 126.06<br>low: 122.28<br>close: 123.39<br>volume: 717250.0\", \"date: 20190730.0<br>open: 120.55<br>high: 121.65<br>low: 119.03<br>close: 120.1<br>volume: 756910.0\"], \"x\": [1, 2, 3, 4, 5, 6, 7, 8, 9, 10, 11, 12, 13, 14, 15, 16, 17, 18, 19, 20, 21, 22, 23, 24, 25, 26, 27, 28, 29, 30, 31, 32, 33, 34, 35, 36, 37, 38, 39, 40, 41, 42, 43, 44, 45, 46, 47, 48, 49, 50], \"xaxis\": \"x\", \"y\": [122.56, 125.24, 126.67, 126.9, 125.99, 126.77, 126.22, 127.0, 127.48, 129.11, 128.97, 128.31, 131.43, 131.07, 129.17, 128.28, 128.04, 128.67, 129.38, 127.08, 125.3, 124.73, 123.96, 126.48, 124.99, 126.23, 125.2, 125.7, 126.23, 127.85, 127.48, 127.47, 125.32, 124.02, 124.24, 125.51, 125.01, 125.47, 125.63, 126.78, 125.24, 123.74, 123.28, 123.25, 124.44, 123.21, 123.33, 123.84, 123.39, 120.1], \"yaxis\": \"y\", \"type\": \"scatter\", \"uid\": \"1dc4205e-b2de-11e9-8067-8c859025e7f9\"}, {\"width\": 0.5, \"x\": [1, 2, 3, 4, 5, 6, 7, 8, 9, 10, 11, 12, 13, 14, 15, 16, 17, 18, 19, 20, 21, 22, 23, 24, 25, 26, 27, 28, 29, 30, 31, 32, 33, 34, 35, 36, 37, 38, 39, 40, 41, 42, 43, 44, 45, 46, 47, 48, 49, 50], \"xaxis\": \"x\", \"y\": [901192.0, 891312.0, 871264.0, 868242.0, 870383.0, 888569.0, 875965.0, 918221.0, 925776.0, 942011.0, 935814.0, 970068.0, 965842.0, 993801.0, 975017.0, 973536.0, 945907.0, 978397.0, 952294.0, 948830.0, 949372.0, 920231.0, 912187.0, 901702.0, 840799.0, 848902.0, 862183.0, 887078.0, 912306.0, 908165.0, 910653.0, 924431.0, 915573.0, 906258.0, 887726.0, 831549.0, 791632.0, 802192.0, 787464.0, 803081.0, 806098.0, 816758.0, 783913.0, 806373.0, 793032.0, 764997.0, 764057.0, 764744.0, 717250.0, 756910.0], \"yaxis\": \"y2\", \"type\": \"bar\", \"uid\": \"1dc421b4-b2de-11e9-9312-8c859025e7f9\"}], {\"margin\": {\"t\": 100}, \"shapes\": [{\"line\": {\"color\": \"rgb(55, 128, 191)\", \"width\": 1.5}, \"type\": \"line\", \"x0\": 1, \"x1\": 1, \"y0\": 121.43, \"y1\": 122.56}, {\"line\": {\"color\": \"rgb(55, 128, 191)\", \"width\": 1.5}, \"type\": \"line\", \"x0\": 2, \"x1\": 2, \"y0\": 121.15, \"y1\": 122.24}, {\"line\": {\"color\": \"rgb(55, 128, 191)\", \"width\": 1.5}, \"type\": \"line\", \"x0\": 3, \"x1\": 3, \"y0\": 125.55, \"y1\": 126.67}, {\"line\": {\"color\": \"rgb(55, 128, 191)\", \"width\": 1.5}, \"type\": \"line\", \"x0\": 4, \"x1\": 4, \"y0\": 125.8, \"y1\": 126.9}, {\"line\": {\"color\": \"rgb(55, 128, 191)\", \"width\": 1.5}, \"type\": \"line\", \"x0\": 5, \"x1\": 5, \"y0\": 123.07, \"y1\": 124.17}, {\"line\": {\"color\": \"rgb(55, 128, 191)\", \"width\": 1.5}, \"type\": \"line\", \"x0\": 6, \"x1\": 6, \"y0\": 125.22, \"y1\": 126.32}, {\"line\": {\"color\": \"rgb(55, 128, 191)\", \"width\": 1.5}, \"type\": \"line\", \"x0\": 7, \"x1\": 7, \"y0\": 124.51, \"y1\": 125.64}, {\"line\": {\"color\": \"rgb(55, 128, 191)\", \"width\": 1.5}, \"type\": \"line\", \"x0\": 8, \"x1\": 8, \"y0\": 124.87, \"y1\": 125.96}, {\"line\": {\"color\": \"rgb(55, 128, 191)\", \"width\": 1.5}, \"type\": \"line\", \"x0\": 9, \"x1\": 9, \"y0\": 121.85, \"y1\": 122.97}, {\"line\": {\"color\": \"rgb(55, 128, 191)\", \"width\": 1.5}, \"type\": \"line\", \"x0\": 10, \"x1\": 10, \"y0\": 127.14, \"y1\": 128.25}, {\"line\": {\"color\": \"rgb(55, 128, 191)\", \"width\": 1.5}, \"type\": \"line\", \"x0\": 11, \"x1\": 11, \"y0\": 126.29, \"y1\": 127.39}, {\"line\": {\"color\": \"rgb(55, 128, 191)\", \"width\": 1.5}, \"type\": \"line\", \"x0\": 12, \"x1\": 12, \"y0\": 123.55, \"y1\": 124.65}, {\"line\": {\"color\": \"rgb(55, 128, 191)\", \"width\": 1.5}, \"type\": \"line\", \"x0\": 13, \"x1\": 13, \"y0\": 130.33, \"y1\": 131.43}, {\"line\": {\"color\": \"rgb(55, 128, 191)\", \"width\": 1.5}, \"type\": \"line\", \"x0\": 14, \"x1\": 14, \"y0\": 129.96, \"y1\": 131.07}, {\"line\": {\"color\": \"rgb(55, 128, 191)\", \"width\": 1.5}, \"type\": \"line\", \"x0\": 15, \"x1\": 15, \"y0\": 127.41, \"y1\": 128.51}, {\"line\": {\"color\": \"rgb(55, 128, 191)\", \"width\": 1.5}, \"type\": \"line\", \"x0\": 16, \"x1\": 16, \"y0\": 127.18, \"y1\": 128.28}, {\"line\": {\"color\": \"rgb(55, 128, 191)\", \"width\": 1.5}, \"type\": \"line\", \"x0\": 17, \"x1\": 17, \"y0\": 126.93, \"y1\": 128.04}, {\"line\": {\"color\": \"rgb(55, 128, 191)\", \"width\": 1.5}, \"type\": \"line\", \"x0\": 18, \"x1\": 18, \"y0\": 126.32, \"y1\": 127.43}, {\"line\": {\"color\": \"rgb(55, 128, 191)\", \"width\": 1.5}, \"type\": \"line\", \"x0\": 19, \"x1\": 19, \"y0\": 128.26, \"y1\": 129.38}, {\"line\": {\"color\": \"rgb(55, 128, 191)\", \"width\": 1.5}, \"type\": \"line\", \"x0\": 20, \"x1\": 20, \"y0\": 125.98, \"y1\": 127.08}, {\"line\": {\"color\": \"rgb(55, 128, 191)\", \"width\": 1.5}, \"type\": \"line\", \"x0\": 21, \"x1\": 21, \"y0\": 121.56, \"y1\": 122.66}, {\"line\": {\"color\": \"rgb(55, 128, 191)\", \"width\": 1.5}, \"type\": \"line\", \"x0\": 22, \"x1\": 22, \"y0\": 123.63, \"y1\": 124.73}, {\"line\": {\"color\": \"rgb(55, 128, 191)\", \"width\": 1.5}, \"type\": \"line\", \"x0\": 23, \"x1\": 23, \"y0\": 119.45, \"y1\": 120.59}, {\"line\": {\"color\": \"rgb(55, 128, 191)\", \"width\": 1.5}, \"type\": \"line\", \"x0\": 24, \"x1\": 24, \"y0\": 125.36, \"y1\": 126.48}, {\"line\": {\"color\": \"rgb(55, 128, 191)\", \"width\": 1.5}, \"type\": \"line\", \"x0\": 25, \"x1\": 25, \"y0\": 120.66, \"y1\": 121.79}, {\"line\": {\"color\": \"rgb(55, 128, 191)\", \"width\": 1.5}, \"type\": \"line\", \"x0\": 26, \"x1\": 26, \"y0\": 123.45, \"y1\": 124.57}, {\"line\": {\"color\": \"rgb(55, 128, 191)\", \"width\": 1.5}, \"type\": \"line\", \"x0\": 27, \"x1\": 27, \"y0\": 124.09, \"y1\": 125.2}, {\"line\": {\"color\": \"rgb(55, 128, 191)\", \"width\": 1.5}, \"type\": \"line\", \"x0\": 28, \"x1\": 28, \"y0\": 124.32, \"y1\": 125.41}, {\"line\": {\"color\": \"rgb(55, 128, 191)\", \"width\": 1.5}, \"type\": \"line\", \"x0\": 29, \"x1\": 29, \"y0\": 125.12, \"y1\": 126.23}, {\"line\": {\"color\": \"rgb(55, 128, 191)\", \"width\": 1.5}, \"type\": \"line\", \"x0\": 30, \"x1\": 30, \"y0\": 126.75, \"y1\": 127.85}, {\"line\": {\"color\": \"rgb(55, 128, 191)\", \"width\": 1.5}, \"type\": \"line\", \"x0\": 31, \"x1\": 31, \"y0\": 126.35, \"y1\": 127.48}, {\"line\": {\"color\": \"rgb(55, 128, 191)\", \"width\": 1.5}, \"type\": \"line\", \"x0\": 32, \"x1\": 32, \"y0\": 126.39, \"y1\": 127.47}, {\"line\": {\"color\": \"rgb(55, 128, 191)\", \"width\": 1.5}, \"type\": \"line\", \"x0\": 33, \"x1\": 33, \"y0\": 124.21, \"y1\": 125.32}, {\"line\": {\"color\": \"rgb(55, 128, 191)\", \"width\": 1.5}, \"type\": \"line\", \"x0\": 34, \"x1\": 34, \"y0\": 119.86, \"y1\": 120.97}, {\"line\": {\"color\": \"rgb(55, 128, 191)\", \"width\": 1.5}, \"type\": \"line\", \"x0\": 35, \"x1\": 35, \"y0\": 122.18, \"y1\": 123.28}, {\"line\": {\"color\": \"rgb(55, 128, 191)\", \"width\": 1.5}, \"type\": \"line\", \"x0\": 36, \"x1\": 36, \"y0\": 124.44, \"y1\": 125.51}, {\"line\": {\"color\": \"rgb(55, 128, 191)\", \"width\": 1.5}, \"type\": \"line\", \"x0\": 37, \"x1\": 37, \"y0\": 120.59, \"y1\": 121.74}, {\"line\": {\"color\": \"rgb(55, 128, 191)\", \"width\": 1.5}, \"type\": \"line\", \"x0\": 38, \"x1\": 38, \"y0\": 123.16, \"y1\": 124.25}, {\"line\": {\"color\": \"rgb(55, 128, 191)\", \"width\": 1.5}, \"type\": \"line\", \"x0\": 39, \"x1\": 39, \"y0\": 124.53, \"y1\": 125.63}, {\"line\": {\"color\": \"rgb(55, 128, 191)\", \"width\": 1.5}, \"type\": \"line\", \"x0\": 40, \"x1\": 40, \"y0\": 125.68, \"y1\": 126.78}, {\"line\": {\"color\": \"rgb(55, 128, 191)\", \"width\": 1.5}, \"type\": \"line\", \"x0\": 41, \"x1\": 41, \"y0\": 124.13, \"y1\": 125.24}, {\"line\": {\"color\": \"rgb(55, 128, 191)\", \"width\": 1.5}, \"type\": \"line\", \"x0\": 42, \"x1\": 42, \"y0\": 119.68, \"y1\": 120.78}, {\"line\": {\"color\": \"rgb(55, 128, 191)\", \"width\": 1.5}, \"type\": \"line\", \"x0\": 43, \"x1\": 43, \"y0\": 122.18, \"y1\": 123.28}, {\"line\": {\"color\": \"rgb(55, 128, 191)\", \"width\": 1.5}, \"type\": \"line\", \"x0\": 44, \"x1\": 44, \"y0\": 121.04, \"y1\": 122.15}, {\"line\": {\"color\": \"rgb(55, 128, 191)\", \"width\": 1.5}, \"type\": \"line\", \"x0\": 45, \"x1\": 45, \"y0\": 123.32, \"y1\": 124.44}, {\"line\": {\"color\": \"rgb(55, 128, 191)\", \"width\": 1.5}, \"type\": \"line\", \"x0\": 46, \"x1\": 46, \"y0\": 119.66, \"y1\": 120.75}, {\"line\": {\"color\": \"rgb(55, 128, 191)\", \"width\": 1.5}, \"type\": \"line\", \"x0\": 47, \"x1\": 47, \"y0\": 120.9, \"y1\": 121.99}, {\"line\": {\"color\": \"rgb(55, 128, 191)\", \"width\": 1.5}, \"type\": \"line\", \"x0\": 48, \"x1\": 48, \"y0\": 122.73, \"y1\": 123.84}, {\"line\": {\"color\": \"rgb(55, 128, 191)\", \"width\": 1.5}, \"type\": \"line\", \"x0\": 49, \"x1\": 49, \"y0\": 122.28, \"y1\": 123.39}, {\"line\": {\"color\": \"rgb(55, 128, 191)\", \"width\": 1.5}, \"type\": \"line\", \"x0\": 50, \"x1\": 50, \"y0\": 119.03, \"y1\": 120.1}, {\"fillcolor\": \"rgba(255, 0, 0, 0.6)\", \"line\": {\"color\": \"rgb(55, 128, 191)\", \"width\": 1}, \"type\": \"rect\", \"x0\": 0.75, \"x1\": 1.25, \"xref\": \"x\", \"y0\": 122.56, \"y1\": 123.0, \"yref\": \"y\"}, {\"fillcolor\": \"rgba(0, 204, 0, 0.6)\", \"line\": {\"color\": \"rgb(55, 128, 191)\", \"width\": 1}, \"type\": \"rect\", \"x0\": 1.75, \"x1\": 2.25, \"xref\": \"x\", \"y0\": 122.24, \"y1\": 125.24, \"yref\": \"y\"}, {\"fillcolor\": \"rgba(255, 0, 0, 0.6)\", \"line\": {\"color\": \"rgb(55, 128, 191)\", \"width\": 1}, \"type\": \"rect\", \"x0\": 2.75, \"x1\": 3.25, \"xref\": \"x\", \"y0\": 126.67, \"y1\": 129.57, \"yref\": \"y\"}, {\"fillcolor\": \"rgba(255, 0, 0, 0.6)\", \"line\": {\"color\": \"rgb(55, 128, 191)\", \"width\": 1}, \"type\": \"rect\", \"x0\": 3.75, \"x1\": 4.25, \"xref\": \"x\", \"y0\": 126.9, \"y1\": 128.67, \"yref\": \"y\"}, {\"fillcolor\": \"rgba(0, 204, 0, 0.6)\", \"line\": {\"color\": \"rgb(55, 128, 191)\", \"width\": 1}, \"type\": \"rect\", \"x0\": 4.75, \"x1\": 5.25, \"xref\": \"x\", \"y0\": 124.17, \"y1\": 125.99, \"yref\": \"y\"}, {\"fillcolor\": \"rgba(0, 204, 0, 0.6)\", \"line\": {\"color\": \"rgb(55, 128, 191)\", \"width\": 1}, \"type\": \"rect\", \"x0\": 5.75, \"x1\": 6.25, \"xref\": \"x\", \"y0\": 126.32, \"y1\": 126.77, \"yref\": \"y\"}, {\"fillcolor\": \"rgba(0, 204, 0, 0.6)\", \"line\": {\"color\": \"rgb(55, 128, 191)\", \"width\": 1}, \"type\": \"rect\", \"x0\": 6.75, \"x1\": 7.25, \"xref\": \"x\", \"y0\": 125.64, \"y1\": 126.22, \"yref\": \"y\"}, {\"fillcolor\": \"rgba(0, 204, 0, 0.6)\", \"line\": {\"color\": \"rgb(55, 128, 191)\", \"width\": 1}, \"type\": \"rect\", \"x0\": 7.75, \"x1\": 8.25, \"xref\": \"x\", \"y0\": 125.96, \"y1\": 127.0, \"yref\": \"y\"}, {\"fillcolor\": \"rgba(0, 204, 0, 0.6)\", \"line\": {\"color\": \"rgb(55, 128, 191)\", \"width\": 1}, \"type\": \"rect\", \"x0\": 8.75, \"x1\": 9.25, \"xref\": \"x\", \"y0\": 122.97, \"y1\": 127.48, \"yref\": \"y\"}, {\"fillcolor\": \"rgba(0, 204, 0, 0.6)\", \"line\": {\"color\": \"rgb(55, 128, 191)\", \"width\": 1}, \"type\": \"rect\", \"x0\": 9.75, \"x1\": 10.25, \"xref\": \"x\", \"y0\": 128.25, \"y1\": 129.11, \"yref\": \"y\"}, {\"fillcolor\": \"rgba(0, 204, 0, 0.6)\", \"line\": {\"color\": \"rgb(55, 128, 191)\", \"width\": 1}, \"type\": \"rect\", \"x0\": 10.75, \"x1\": 11.25, \"xref\": \"x\", \"y0\": 127.39, \"y1\": 128.97, \"yref\": \"y\"}, {\"fillcolor\": \"rgba(0, 204, 0, 0.6)\", \"line\": {\"color\": \"rgb(55, 128, 191)\", \"width\": 1}, \"type\": \"rect\", \"x0\": 11.75, \"x1\": 12.25, \"xref\": \"x\", \"y0\": 124.65, \"y1\": 128.31, \"yref\": \"y\"}, {\"fillcolor\": \"rgba(255, 0, 0, 0.6)\", \"line\": {\"color\": \"rgb(55, 128, 191)\", \"width\": 1}, \"type\": \"rect\", \"x0\": 12.75, \"x1\": 13.25, \"xref\": \"x\", \"y0\": 131.43, \"y1\": 133.42, \"yref\": \"y\"}, {\"fillcolor\": \"rgba(255, 0, 0, 0.6)\", \"line\": {\"color\": \"rgb(55, 128, 191)\", \"width\": 1}, \"type\": \"rect\", \"x0\": 13.75, \"x1\": 14.25, \"xref\": \"x\", \"y0\": 131.07, \"y1\": 131.28, \"yref\": \"y\"}, {\"fillcolor\": \"rgba(0, 204, 0, 0.6)\", \"line\": {\"color\": \"rgb(55, 128, 191)\", \"width\": 1}, \"type\": \"rect\", \"x0\": 14.75, \"x1\": 15.25, \"xref\": \"x\", \"y0\": 128.51, \"y1\": 129.17, \"yref\": \"y\"}, {\"fillcolor\": \"rgba(255, 0, 0, 0.6)\", \"line\": {\"color\": \"rgb(55, 128, 191)\", \"width\": 1}, \"type\": \"rect\", \"x0\": 15.75, \"x1\": 16.25, \"xref\": \"x\", \"y0\": 128.28, \"y1\": 130.28, \"yref\": \"y\"}, {\"fillcolor\": \"rgba(255, 0, 0, 0.6)\", \"line\": {\"color\": \"rgb(55, 128, 191)\", \"width\": 1}, \"type\": \"rect\", \"x0\": 16.75, \"x1\": 17.25, \"xref\": \"x\", \"y0\": 128.04, \"y1\": 130.56, \"yref\": \"y\"}, {\"fillcolor\": \"rgba(0, 204, 0, 0.6)\", \"line\": {\"color\": \"rgb(55, 128, 191)\", \"width\": 1}, \"type\": \"rect\", \"x0\": 17.75, \"x1\": 18.25, \"xref\": \"x\", \"y0\": 127.43, \"y1\": 128.67, \"yref\": \"y\"}, {\"fillcolor\": \"rgba(255, 0, 0, 0.6)\", \"line\": {\"color\": \"rgb(55, 128, 191)\", \"width\": 1}, \"type\": \"rect\", \"x0\": 18.75, \"x1\": 19.25, \"xref\": \"x\", \"y0\": 129.38, \"y1\": 131.25, \"yref\": \"y\"}, {\"fillcolor\": \"rgba(255, 0, 0, 0.6)\", \"line\": {\"color\": \"rgb(55, 128, 191)\", \"width\": 1}, \"type\": \"rect\", \"x0\": 19.75, \"x1\": 20.25, \"xref\": \"x\", \"y0\": 127.08, \"y1\": 127.2, \"yref\": \"y\"}, {\"fillcolor\": \"rgba(0, 204, 0, 0.6)\", \"line\": {\"color\": \"rgb(55, 128, 191)\", \"width\": 1}, \"type\": \"rect\", \"x0\": 20.75, \"x1\": 21.25, \"xref\": \"x\", \"y0\": 122.66, \"y1\": 125.3, \"yref\": \"y\"}, {\"fillcolor\": \"rgba(255, 0, 0, 0.6)\", \"line\": {\"color\": \"rgb(55, 128, 191)\", \"width\": 1}, \"type\": \"rect\", \"x0\": 21.75, \"x1\": 22.25, \"xref\": \"x\", \"y0\": 124.73, \"y1\": 126.73, \"yref\": \"y\"}, {\"fillcolor\": \"rgba(0, 204, 0, 0.6)\", \"line\": {\"color\": \"rgb(55, 128, 191)\", \"width\": 1}, \"type\": \"rect\", \"x0\": 22.75, \"x1\": 23.25, \"xref\": \"x\", \"y0\": 120.59, \"y1\": 123.96, \"yref\": \"y\"}, {\"fillcolor\": \"rgba(255, 0, 0, 0.6)\", \"line\": {\"color\": \"rgb(55, 128, 191)\", \"width\": 1}, \"type\": \"rect\", \"x0\": 23.75, \"x1\": 24.25, \"xref\": \"x\", \"y0\": 126.48, \"y1\": 128.28, \"yref\": \"y\"}, {\"fillcolor\": \"rgba(0, 204, 0, 0.6)\", \"line\": {\"color\": \"rgb(55, 128, 191)\", \"width\": 1}, \"type\": \"rect\", \"x0\": 24.75, \"x1\": 25.25, \"xref\": \"x\", \"y0\": 121.79, \"y1\": 124.99, \"yref\": \"y\"}, {\"fillcolor\": \"rgba(0, 204, 0, 0.6)\", \"line\": {\"color\": \"rgb(55, 128, 191)\", \"width\": 1}, \"type\": \"rect\", \"x0\": 25.75, \"x1\": 26.25, \"xref\": \"x\", \"y0\": 124.57, \"y1\": 126.23, \"yref\": \"y\"}, {\"fillcolor\": \"rgba(255, 0, 0, 0.6)\", \"line\": {\"color\": \"rgb(55, 128, 191)\", \"width\": 1}, \"type\": \"rect\", \"x0\": 26.75, \"x1\": 27.25, \"xref\": \"x\", \"y0\": 125.2, \"y1\": 125.61, \"yref\": \"y\"}, {\"fillcolor\": \"rgba(0, 204, 0, 0.6)\", \"line\": {\"color\": \"rgb(55, 128, 191)\", \"width\": 1}, \"type\": \"rect\", \"x0\": 27.75, \"x1\": 28.25, \"xref\": \"x\", \"y0\": 125.41, \"y1\": 125.7, \"yref\": \"y\"}, {\"fillcolor\": \"rgba(255, 0, 0, 0.6)\", \"line\": {\"color\": \"rgb(55, 128, 191)\", \"width\": 1}, \"type\": \"rect\", \"x0\": 28.75, \"x1\": 29.25, \"xref\": \"x\", \"y0\": 126.23, \"y1\": 126.66, \"yref\": \"y\"}, {\"fillcolor\": \"rgba(255, 0, 0, 0.6)\", \"line\": {\"color\": \"rgb(55, 128, 191)\", \"width\": 1}, \"type\": \"rect\", \"x0\": 29.75, \"x1\": 30.25, \"xref\": \"x\", \"y0\": 127.85, \"y1\": 131.15, \"yref\": \"y\"}, {\"fillcolor\": \"rgba(255, 0, 0, 0.6)\", \"line\": {\"color\": \"rgb(55, 128, 191)\", \"width\": 1}, \"type\": \"rect\", \"x0\": 30.75, \"x1\": 31.25, \"xref\": \"x\", \"y0\": 127.48, \"y1\": 127.65, \"yref\": \"y\"}, {\"fillcolor\": \"rgba(255, 0, 0, 0.6)\", \"line\": {\"color\": \"rgb(55, 128, 191)\", \"width\": 1}, \"type\": \"rect\", \"x0\": 31.75, \"x1\": 32.25, \"xref\": \"x\", \"y0\": 127.47, \"y1\": 129.17, \"yref\": \"y\"}, {\"fillcolor\": \"rgba(255, 0, 0, 0.6)\", \"line\": {\"color\": \"rgb(55, 128, 191)\", \"width\": 1}, \"type\": \"rect\", \"x0\": 32.75, \"x1\": 33.25, \"xref\": \"x\", \"y0\": 125.32, \"y1\": 127.59, \"yref\": \"y\"}, {\"fillcolor\": \"rgba(0, 204, 0, 0.6)\", \"line\": {\"color\": \"rgb(55, 128, 191)\", \"width\": 1}, \"type\": \"rect\", \"x0\": 33.75, \"x1\": 34.25, \"xref\": \"x\", \"y0\": 120.97, \"y1\": 124.02, \"yref\": \"y\"}, {\"fillcolor\": \"rgba(0, 204, 0, 0.6)\", \"line\": {\"color\": \"rgb(55, 128, 191)\", \"width\": 1}, \"type\": \"rect\", \"x0\": 34.75, \"x1\": 35.25, \"xref\": \"x\", \"y0\": 123.28, \"y1\": 124.24, \"yref\": \"y\"}, {\"fillcolor\": \"rgba(255, 0, 0, 0.6)\", \"line\": {\"color\": \"rgb(55, 128, 191)\", \"width\": 1}, \"type\": \"rect\", \"x0\": 35.75, \"x1\": 36.25, \"xref\": \"x\", \"y0\": 125.51, \"y1\": 128.83, \"yref\": \"y\"}, {\"fillcolor\": \"rgba(0, 204, 0, 0.6)\", \"line\": {\"color\": \"rgb(55, 128, 191)\", \"width\": 1}, \"type\": \"rect\", \"x0\": 36.75, \"x1\": 37.25, \"xref\": \"x\", \"y0\": 121.74, \"y1\": 125.01, \"yref\": \"y\"}, {\"fillcolor\": \"rgba(0, 204, 0, 0.6)\", \"line\": {\"color\": \"rgb(55, 128, 191)\", \"width\": 1}, \"type\": \"rect\", \"x0\": 37.75, \"x1\": 38.25, \"xref\": \"x\", \"y0\": 124.25, \"y1\": 125.47, \"yref\": \"y\"}, {\"fillcolor\": \"rgba(255, 0, 0, 0.6)\", \"line\": {\"color\": \"rgb(55, 128, 191)\", \"width\": 1}, \"type\": \"rect\", \"x0\": 38.75, \"x1\": 39.25, \"xref\": \"x\", \"y0\": 125.63, \"y1\": 125.81, \"yref\": \"y\"}, {\"fillcolor\": \"rgba(255, 0, 0, 0.6)\", \"line\": {\"color\": \"rgb(55, 128, 191)\", \"width\": 1}, \"type\": \"rect\", \"x0\": 39.75, \"x1\": 40.25, \"xref\": \"x\", \"y0\": 126.78, \"y1\": 126.98, \"yref\": \"y\"}, {\"fillcolor\": \"rgba(255, 0, 0, 0.6)\", \"line\": {\"color\": \"rgb(55, 128, 191)\", \"width\": 1}, \"type\": \"rect\", \"x0\": 40.75, \"x1\": 41.25, \"xref\": \"x\", \"y0\": 125.24, \"y1\": 128.27, \"yref\": \"y\"}, {\"fillcolor\": \"rgba(0, 204, 0, 0.6)\", \"line\": {\"color\": \"rgb(55, 128, 191)\", \"width\": 1}, \"type\": \"rect\", \"x0\": 41.75, \"x1\": 42.25, \"xref\": \"x\", \"y0\": 120.78, \"y1\": 123.74, \"yref\": \"y\"}, {\"fillcolor\": \"rgba(255, 0, 0, 0.6)\", \"line\": {\"color\": \"rgb(55, 128, 191)\", \"width\": 1}, \"type\": \"rect\", \"x0\": 42.75, \"x1\": 43.25, \"xref\": \"x\", \"y0\": 123.28, \"y1\": 123.29, \"yref\": \"y\"}, {\"fillcolor\": \"rgba(0, 204, 0, 0.6)\", \"line\": {\"color\": \"rgb(55, 128, 191)\", \"width\": 1}, \"type\": \"rect\", \"x0\": 43.75, \"x1\": 44.25, \"xref\": \"x\", \"y0\": 122.15, \"y1\": 123.25, \"yref\": \"y\"}, {\"fillcolor\": \"rgba(255, 0, 0, 0.6)\", \"line\": {\"color\": \"rgb(55, 128, 191)\", \"width\": 1}, \"type\": \"rect\", \"x0\": 44.75, \"x1\": 45.25, \"xref\": \"x\", \"y0\": 124.44, \"y1\": 126.56, \"yref\": \"y\"}, {\"fillcolor\": \"rgba(0, 204, 0, 0.6)\", \"line\": {\"color\": \"rgb(55, 128, 191)\", \"width\": 1}, \"type\": \"rect\", \"x0\": 45.75, \"x1\": 46.25, \"xref\": \"x\", \"y0\": 120.75, \"y1\": 123.21, \"yref\": \"y\"}, {\"fillcolor\": \"rgba(0, 204, 0, 0.6)\", \"line\": {\"color\": \"rgb(55, 128, 191)\", \"width\": 1}, \"type\": \"rect\", \"x0\": 46.75, \"x1\": 47.25, \"xref\": \"x\", \"y0\": 121.99, \"y1\": 123.33, \"yref\": \"y\"}, {\"fillcolor\": \"rgba(255, 0, 0, 0.6)\", \"line\": {\"color\": \"rgb(55, 128, 191)\", \"width\": 1}, \"type\": \"rect\", \"x0\": 47.75, \"x1\": 48.25, \"xref\": \"x\", \"y0\": 123.84, \"y1\": 125.78, \"yref\": \"y\"}, {\"fillcolor\": \"rgba(255, 0, 0, 0.6)\", \"line\": {\"color\": \"rgb(55, 128, 191)\", \"width\": 1}, \"type\": \"rect\", \"x0\": 48.75, \"x1\": 49.25, \"xref\": \"x\", \"y0\": 123.39, \"y1\": 124.96, \"yref\": \"y\"}, {\"fillcolor\": \"rgba(255, 0, 0, 0.6)\", \"line\": {\"color\": \"rgb(55, 128, 191)\", \"width\": 1}, \"type\": \"rect\", \"x0\": 49.75, \"x1\": 50.25, \"xref\": \"x\", \"y0\": 120.1, \"y1\": 120.55, \"yref\": \"y\"}, {\"line\": {\"color\": \"rgb(55, 128, 191)\", \"width\": 1.5}, \"type\": \"line\", \"x0\": 1, \"x1\": 1, \"y0\": 123.0, \"y1\": 124.13}, {\"line\": {\"color\": \"rgb(55, 128, 191)\", \"width\": 1.5}, \"type\": \"line\", \"x0\": 2, \"x1\": 2, \"y0\": 125.24, \"y1\": 126.36}, {\"line\": {\"color\": \"rgb(55, 128, 191)\", \"width\": 1.5}, \"type\": \"line\", \"x0\": 3, \"x1\": 3, \"y0\": 129.57, \"y1\": 130.68}, {\"line\": {\"color\": \"rgb(55, 128, 191)\", \"width\": 1.5}, \"type\": \"line\", \"x0\": 4, \"x1\": 4, \"y0\": 128.67, \"y1\": 129.79}, {\"line\": {\"color\": \"rgb(55, 128, 191)\", \"width\": 1.5}, \"type\": \"line\", \"x0\": 5, \"x1\": 5, \"y0\": 125.99, \"y1\": 127.1}, {\"line\": {\"color\": \"rgb(55, 128, 191)\", \"width\": 1.5}, \"type\": \"line\", \"x0\": 6, \"x1\": 6, \"y0\": 126.77, \"y1\": 127.87}, {\"line\": {\"color\": \"rgb(55, 128, 191)\", \"width\": 1.5}, \"type\": \"line\", \"x0\": 7, \"x1\": 7, \"y0\": 126.22, \"y1\": 127.31}, {\"line\": {\"color\": \"rgb(55, 128, 191)\", \"width\": 1.5}, \"type\": \"line\", \"x0\": 8, \"x1\": 8, \"y0\": 127.0, \"y1\": 128.12}, {\"line\": {\"color\": \"rgb(55, 128, 191)\", \"width\": 1.5}, \"type\": \"line\", \"x0\": 9, \"x1\": 9, \"y0\": 127.48, \"y1\": 128.56}, {\"line\": {\"color\": \"rgb(55, 128, 191)\", \"width\": 1.5}, \"type\": \"line\", \"x0\": 10, \"x1\": 10, \"y0\": 129.11, \"y1\": 130.22}, {\"line\": {\"color\": \"rgb(55, 128, 191)\", \"width\": 1.5}, \"type\": \"line\", \"x0\": 11, \"x1\": 11, \"y0\": 128.97, \"y1\": 130.08}, {\"line\": {\"color\": \"rgb(55, 128, 191)\", \"width\": 1.5}, \"type\": \"line\", \"x0\": 12, \"x1\": 12, \"y0\": 128.31, \"y1\": 129.41}, {\"line\": {\"color\": \"rgb(55, 128, 191)\", \"width\": 1.5}, \"type\": \"line\", \"x0\": 13, \"x1\": 13, \"y0\": 133.42, \"y1\": 134.53}, {\"line\": {\"color\": \"rgb(55, 128, 191)\", \"width\": 1.5}, \"type\": \"line\", \"x0\": 14, \"x1\": 14, \"y0\": 131.28, \"y1\": 132.37}, {\"line\": {\"color\": \"rgb(55, 128, 191)\", \"width\": 1.5}, \"type\": \"line\", \"x0\": 15, \"x1\": 15, \"y0\": 129.17, \"y1\": 130.26}, {\"line\": {\"color\": \"rgb(55, 128, 191)\", \"width\": 1.5}, \"type\": \"line\", \"x0\": 16, \"x1\": 16, \"y0\": 130.28, \"y1\": 131.41}, {\"line\": {\"color\": \"rgb(55, 128, 191)\", \"width\": 1.5}, \"type\": \"line\", \"x0\": 17, \"x1\": 17, \"y0\": 130.56, \"y1\": 131.65}, {\"line\": {\"color\": \"rgb(55, 128, 191)\", \"width\": 1.5}, \"type\": \"line\", \"x0\": 18, \"x1\": 18, \"y0\": 128.67, \"y1\": 129.79}, {\"line\": {\"color\": \"rgb(55, 128, 191)\", \"width\": 1.5}, \"type\": \"line\", \"x0\": 19, \"x1\": 19, \"y0\": 131.25, \"y1\": 132.36}, {\"line\": {\"color\": \"rgb(55, 128, 191)\", \"width\": 1.5}, \"type\": \"line\", \"x0\": 20, \"x1\": 20, \"y0\": 127.2, \"y1\": 128.3}, {\"line\": {\"color\": \"rgb(55, 128, 191)\", \"width\": 1.5}, \"type\": \"line\", \"x0\": 21, \"x1\": 21, \"y0\": 125.3, \"y1\": 126.4}, {\"line\": {\"color\": \"rgb(55, 128, 191)\", \"width\": 1.5}, \"type\": \"line\", \"x0\": 22, \"x1\": 22, \"y0\": 126.73, \"y1\": 127.83}, {\"line\": {\"color\": \"rgb(55, 128, 191)\", \"width\": 1.5}, \"type\": \"line\", \"x0\": 23, \"x1\": 23, \"y0\": 123.96, \"y1\": 125.07}, {\"line\": {\"color\": \"rgb(55, 128, 191)\", \"width\": 1.5}, \"type\": \"line\", \"x0\": 24, \"x1\": 24, \"y0\": 128.28, \"y1\": 129.37}, {\"line\": {\"color\": \"rgb(55, 128, 191)\", \"width\": 1.5}, \"type\": \"line\", \"x0\": 25, \"x1\": 25, \"y0\": 124.99, \"y1\": 126.09}, {\"line\": {\"color\": \"rgb(55, 128, 191)\", \"width\": 1.5}, \"type\": \"line\", \"x0\": 26, \"x1\": 26, \"y0\": 126.23, \"y1\": 127.32}, {\"line\": {\"color\": \"rgb(55, 128, 191)\", \"width\": 1.5}, \"type\": \"line\", \"x0\": 27, \"x1\": 27, \"y0\": 125.61, \"y1\": 126.75}, {\"line\": {\"color\": \"rgb(55, 128, 191)\", \"width\": 1.5}, \"type\": \"line\", \"x0\": 28, \"x1\": 28, \"y0\": 125.7, \"y1\": 126.78}, {\"line\": {\"color\": \"rgb(55, 128, 191)\", \"width\": 1.5}, \"type\": \"line\", \"x0\": 29, \"x1\": 29, \"y0\": 126.66, \"y1\": 127.76}, {\"line\": {\"color\": \"rgb(55, 128, 191)\", \"width\": 1.5}, \"type\": \"line\", \"x0\": 30, \"x1\": 30, \"y0\": 131.15, \"y1\": 132.27}, {\"line\": {\"color\": \"rgb(55, 128, 191)\", \"width\": 1.5}, \"type\": \"line\", \"x0\": 31, \"x1\": 31, \"y0\": 127.65, \"y1\": 128.76}, {\"line\": {\"color\": \"rgb(55, 128, 191)\", \"width\": 1.5}, \"type\": \"line\", \"x0\": 32, \"x1\": 32, \"y0\": 129.17, \"y1\": 130.27}, {\"line\": {\"color\": \"rgb(55, 128, 191)\", \"width\": 1.5}, \"type\": \"line\", \"x0\": 33, \"x1\": 33, \"y0\": 127.59, \"y1\": 128.69}, {\"line\": {\"color\": \"rgb(55, 128, 191)\", \"width\": 1.5}, \"type\": \"line\", \"x0\": 34, \"x1\": 34, \"y0\": 124.02, \"y1\": 125.1}, {\"line\": {\"color\": \"rgb(55, 128, 191)\", \"width\": 1.5}, \"type\": \"line\", \"x0\": 35, \"x1\": 35, \"y0\": 124.24, \"y1\": 125.34}, {\"line\": {\"color\": \"rgb(55, 128, 191)\", \"width\": 1.5}, \"type\": \"line\", \"x0\": 36, \"x1\": 36, \"y0\": 128.83, \"y1\": 129.95}, {\"line\": {\"color\": \"rgb(55, 128, 191)\", \"width\": 1.5}, \"type\": \"line\", \"x0\": 37, \"x1\": 37, \"y0\": 125.01, \"y1\": 126.12}, {\"line\": {\"color\": \"rgb(55, 128, 191)\", \"width\": 1.5}, \"type\": \"line\", \"x0\": 38, \"x1\": 38, \"y0\": 125.47, \"y1\": 126.58}, {\"line\": {\"color\": \"rgb(55, 128, 191)\", \"width\": 1.5}, \"type\": \"line\", \"x0\": 39, \"x1\": 39, \"y0\": 125.81, \"y1\": 126.92}, {\"line\": {\"color\": \"rgb(55, 128, 191)\", \"width\": 1.5}, \"type\": \"line\", \"x0\": 40, \"x1\": 40, \"y0\": 126.98, \"y1\": 128.08}, {\"line\": {\"color\": \"rgb(55, 128, 191)\", \"width\": 1.5}, \"type\": \"line\", \"x0\": 41, \"x1\": 41, \"y0\": 128.27, \"y1\": 129.37}, {\"line\": {\"color\": \"rgb(55, 128, 191)\", \"width\": 1.5}, \"type\": \"line\", \"x0\": 42, \"x1\": 42, \"y0\": 123.74, \"y1\": 124.83}, {\"line\": {\"color\": \"rgb(55, 128, 191)\", \"width\": 1.5}, \"type\": \"line\", \"x0\": 43, \"x1\": 43, \"y0\": 123.29, \"y1\": 124.37}, {\"line\": {\"color\": \"rgb(55, 128, 191)\", \"width\": 1.5}, \"type\": \"line\", \"x0\": 44, \"x1\": 44, \"y0\": 123.25, \"y1\": 124.35}, {\"line\": {\"color\": \"rgb(55, 128, 191)\", \"width\": 1.5}, \"type\": \"line\", \"x0\": 45, \"x1\": 45, \"y0\": 126.56, \"y1\": 127.66}, {\"line\": {\"color\": \"rgb(55, 128, 191)\", \"width\": 1.5}, \"type\": \"line\", \"x0\": 46, \"x1\": 46, \"y0\": 123.21, \"y1\": 124.31}, {\"line\": {\"color\": \"rgb(55, 128, 191)\", \"width\": 1.5}, \"type\": \"line\", \"x0\": 47, \"x1\": 47, \"y0\": 123.33, \"y1\": 124.44}, {\"line\": {\"color\": \"rgb(55, 128, 191)\", \"width\": 1.5}, \"type\": \"line\", \"x0\": 48, \"x1\": 48, \"y0\": 125.78, \"y1\": 126.88}, {\"line\": {\"color\": \"rgb(55, 128, 191)\", \"width\": 1.5}, \"type\": \"line\", \"x0\": 49, \"x1\": 49, \"y0\": 124.96, \"y1\": 126.06}, {\"line\": {\"color\": \"rgb(55, 128, 191)\", \"width\": 1.5}, \"type\": \"line\", \"x0\": 50, \"x1\": 50, \"y0\": 120.55, \"y1\": 121.65}], \"showlegend\": false, \"title\": \"Random Walk\", \"xaxis\": {\"anchor\": \"y2\", \"showgrid\": true, \"showticklabels\": true, \"tickangle\": 90, \"tickmode\": \"array\", \"ticktext\": [20190522, 20190524, 20190528, 20190530, 20190603, 20190605, 20190607, 20190611, 20190613, 20190617, 20190619, 20190621, 20190625, 20190627, 20190701, 20190703, 20190705, 20190709, 20190711, 20190715, 20190717, 20190719, 20190723, 20190725, 20190729, 20190730], \"tickvals\": [1, 3, 5, 7, 9, 11, 13, 15, 17, 19, 21, 23, 25, 27, 29, 31, 33, 35, 37, 39, 41, 43, 45, 47, 49, 50]}, \"yaxis\": {\"domain\": [0.22, 1], \"range\": [119.03, 134.53]}, \"yaxis2\": {\"domain\": [0, 0.2], \"range\": [0, 993801.0]}}, {\"showLink\": true, \"linkText\": \"Export to plot.ly\"})});</script>"
      ],
      "text/vnd.plotly.v1+html": [
       "<div id=\"3b6050f4-6846-4f0f-bc19-aec4e67a49fb\" style=\"height: 525px; width: 100%;\" class=\"plotly-graph-div\"></div><script type=\"text/javascript\">require([\"plotly\"], function(Plotly) { window.PLOTLYENV=window.PLOTLYENV || {};window.PLOTLYENV.BASE_URL=\"https://plot.ly\";Plotly.newPlot(\"3b6050f4-6846-4f0f-bc19-aec4e67a49fb\", [{\"hoverinfo\": \"text\", \"mode\": \"markers\", \"text\": [\"date: 20190522.0<br>open: 123.0<br>high: 124.13<br>low: 121.43<br>close: 122.56<br>volume: 901192.0\", \"date: 20190523.0<br>open: 122.24<br>high: 126.36<br>low: 121.15<br>close: 125.24<br>volume: 891312.0\", \"date: 20190524.0<br>open: 129.57<br>high: 130.68<br>low: 125.55<br>close: 126.67<br>volume: 871264.0\", \"date: 20190527.0<br>open: 128.67<br>high: 129.79<br>low: 125.8<br>close: 126.9<br>volume: 868242.0\", \"date: 20190528.0<br>open: 124.17<br>high: 127.1<br>low: 123.07<br>close: 125.99<br>volume: 870383.0\", \"date: 20190529.0<br>open: 126.32<br>high: 127.87<br>low: 125.22<br>close: 126.77<br>volume: 888569.0\", \"date: 20190530.0<br>open: 125.64<br>high: 127.31<br>low: 124.51<br>close: 126.22<br>volume: 875965.0\", \"date: 20190531.0<br>open: 125.96<br>high: 128.12<br>low: 124.87<br>close: 127.0<br>volume: 918221.0\", \"date: 20190603.0<br>open: 122.97<br>high: 128.56<br>low: 121.85<br>close: 127.48<br>volume: 925776.0\", \"date: 20190604.0<br>open: 128.25<br>high: 130.22<br>low: 127.14<br>close: 129.11<br>volume: 942011.0\", \"date: 20190605.0<br>open: 127.39<br>high: 130.08<br>low: 126.29<br>close: 128.97<br>volume: 935814.0\", \"date: 20190606.0<br>open: 124.65<br>high: 129.41<br>low: 123.55<br>close: 128.31<br>volume: 970068.0\", \"date: 20190607.0<br>open: 133.42<br>high: 134.53<br>low: 130.33<br>close: 131.43<br>volume: 965842.0\", \"date: 20190610.0<br>open: 131.28<br>high: 132.37<br>low: 129.96<br>close: 131.07<br>volume: 993801.0\", \"date: 20190611.0<br>open: 128.51<br>high: 130.26<br>low: 127.41<br>close: 129.17<br>volume: 975017.0\", \"date: 20190612.0<br>open: 130.28<br>high: 131.41<br>low: 127.18<br>close: 128.28<br>volume: 973536.0\", \"date: 20190613.0<br>open: 130.56<br>high: 131.65<br>low: 126.93<br>close: 128.04<br>volume: 945907.0\", \"date: 20190614.0<br>open: 127.43<br>high: 129.79<br>low: 126.32<br>close: 128.67<br>volume: 978397.0\", \"date: 20190617.0<br>open: 131.25<br>high: 132.36<br>low: 128.26<br>close: 129.38<br>volume: 952294.0\", \"date: 20190618.0<br>open: 127.2<br>high: 128.3<br>low: 125.98<br>close: 127.08<br>volume: 948830.0\", \"date: 20190619.0<br>open: 122.66<br>high: 126.4<br>low: 121.56<br>close: 125.3<br>volume: 949372.0\", \"date: 20190620.0<br>open: 126.73<br>high: 127.83<br>low: 123.63<br>close: 124.73<br>volume: 920231.0\", \"date: 20190621.0<br>open: 120.59<br>high: 125.07<br>low: 119.45<br>close: 123.96<br>volume: 912187.0\", \"date: 20190624.0<br>open: 128.28<br>high: 129.37<br>low: 125.36<br>close: 126.48<br>volume: 901702.0\", \"date: 20190625.0<br>open: 121.79<br>high: 126.09<br>low: 120.66<br>close: 124.99<br>volume: 840799.0\", \"date: 20190626.0<br>open: 124.57<br>high: 127.32<br>low: 123.45<br>close: 126.23<br>volume: 848902.0\", \"date: 20190627.0<br>open: 125.61<br>high: 126.75<br>low: 124.09<br>close: 125.2<br>volume: 862183.0\", \"date: 20190628.0<br>open: 125.41<br>high: 126.78<br>low: 124.32<br>close: 125.7<br>volume: 887078.0\", \"date: 20190701.0<br>open: 126.66<br>high: 127.76<br>low: 125.12<br>close: 126.23<br>volume: 912306.0\", \"date: 20190702.0<br>open: 131.15<br>high: 132.27<br>low: 126.75<br>close: 127.85<br>volume: 908165.0\", \"date: 20190703.0<br>open: 127.65<br>high: 128.76<br>low: 126.35<br>close: 127.48<br>volume: 910653.0\", \"date: 20190704.0<br>open: 129.17<br>high: 130.27<br>low: 126.39<br>close: 127.47<br>volume: 924431.0\", \"date: 20190705.0<br>open: 127.59<br>high: 128.69<br>low: 124.21<br>close: 125.32<br>volume: 915573.0\", \"date: 20190708.0<br>open: 120.97<br>high: 125.1<br>low: 119.86<br>close: 124.02<br>volume: 906258.0\", \"date: 20190709.0<br>open: 123.28<br>high: 125.34<br>low: 122.18<br>close: 124.24<br>volume: 887726.0\", \"date: 20190710.0<br>open: 128.83<br>high: 129.95<br>low: 124.44<br>close: 125.51<br>volume: 831549.0\", \"date: 20190711.0<br>open: 121.74<br>high: 126.12<br>low: 120.59<br>close: 125.01<br>volume: 791632.0\", \"date: 20190712.0<br>open: 124.25<br>high: 126.58<br>low: 123.16<br>close: 125.47<br>volume: 802192.0\", \"date: 20190715.0<br>open: 125.81<br>high: 126.92<br>low: 124.53<br>close: 125.63<br>volume: 787464.0\", \"date: 20190716.0<br>open: 126.98<br>high: 128.08<br>low: 125.68<br>close: 126.78<br>volume: 803081.0\", \"date: 20190717.0<br>open: 128.27<br>high: 129.37<br>low: 124.13<br>close: 125.24<br>volume: 806098.0\", \"date: 20190718.0<br>open: 120.78<br>high: 124.83<br>low: 119.68<br>close: 123.74<br>volume: 816758.0\", \"date: 20190719.0<br>open: 123.29<br>high: 124.37<br>low: 122.18<br>close: 123.28<br>volume: 783913.0\", \"date: 20190722.0<br>open: 122.15<br>high: 124.35<br>low: 121.04<br>close: 123.25<br>volume: 806373.0\", \"date: 20190723.0<br>open: 126.56<br>high: 127.66<br>low: 123.32<br>close: 124.44<br>volume: 793032.0\", \"date: 20190724.0<br>open: 120.75<br>high: 124.31<br>low: 119.66<br>close: 123.21<br>volume: 764997.0\", \"date: 20190725.0<br>open: 121.99<br>high: 124.44<br>low: 120.9<br>close: 123.33<br>volume: 764057.0\", \"date: 20190726.0<br>open: 125.78<br>high: 126.88<br>low: 122.73<br>close: 123.84<br>volume: 764744.0\", \"date: 20190729.0<br>open: 124.96<br>high: 126.06<br>low: 122.28<br>close: 123.39<br>volume: 717250.0\", \"date: 20190730.0<br>open: 120.55<br>high: 121.65<br>low: 119.03<br>close: 120.1<br>volume: 756910.0\"], \"x\": [1, 2, 3, 4, 5, 6, 7, 8, 9, 10, 11, 12, 13, 14, 15, 16, 17, 18, 19, 20, 21, 22, 23, 24, 25, 26, 27, 28, 29, 30, 31, 32, 33, 34, 35, 36, 37, 38, 39, 40, 41, 42, 43, 44, 45, 46, 47, 48, 49, 50], \"xaxis\": \"x\", \"y\": [122.56, 125.24, 126.67, 126.9, 125.99, 126.77, 126.22, 127.0, 127.48, 129.11, 128.97, 128.31, 131.43, 131.07, 129.17, 128.28, 128.04, 128.67, 129.38, 127.08, 125.3, 124.73, 123.96, 126.48, 124.99, 126.23, 125.2, 125.7, 126.23, 127.85, 127.48, 127.47, 125.32, 124.02, 124.24, 125.51, 125.01, 125.47, 125.63, 126.78, 125.24, 123.74, 123.28, 123.25, 124.44, 123.21, 123.33, 123.84, 123.39, 120.1], \"yaxis\": \"y\", \"type\": \"scatter\", \"uid\": \"1dc4205e-b2de-11e9-8067-8c859025e7f9\"}, {\"width\": 0.5, \"x\": [1, 2, 3, 4, 5, 6, 7, 8, 9, 10, 11, 12, 13, 14, 15, 16, 17, 18, 19, 20, 21, 22, 23, 24, 25, 26, 27, 28, 29, 30, 31, 32, 33, 34, 35, 36, 37, 38, 39, 40, 41, 42, 43, 44, 45, 46, 47, 48, 49, 50], \"xaxis\": \"x\", \"y\": [901192.0, 891312.0, 871264.0, 868242.0, 870383.0, 888569.0, 875965.0, 918221.0, 925776.0, 942011.0, 935814.0, 970068.0, 965842.0, 993801.0, 975017.0, 973536.0, 945907.0, 978397.0, 952294.0, 948830.0, 949372.0, 920231.0, 912187.0, 901702.0, 840799.0, 848902.0, 862183.0, 887078.0, 912306.0, 908165.0, 910653.0, 924431.0, 915573.0, 906258.0, 887726.0, 831549.0, 791632.0, 802192.0, 787464.0, 803081.0, 806098.0, 816758.0, 783913.0, 806373.0, 793032.0, 764997.0, 764057.0, 764744.0, 717250.0, 756910.0], \"yaxis\": \"y2\", \"type\": \"bar\", \"uid\": \"1dc421b4-b2de-11e9-9312-8c859025e7f9\"}], {\"margin\": {\"t\": 100}, \"shapes\": [{\"line\": {\"color\": \"rgb(55, 128, 191)\", \"width\": 1.5}, \"type\": \"line\", \"x0\": 1, \"x1\": 1, \"y0\": 121.43, \"y1\": 122.56}, {\"line\": {\"color\": \"rgb(55, 128, 191)\", \"width\": 1.5}, \"type\": \"line\", \"x0\": 2, \"x1\": 2, \"y0\": 121.15, \"y1\": 122.24}, {\"line\": {\"color\": \"rgb(55, 128, 191)\", \"width\": 1.5}, \"type\": \"line\", \"x0\": 3, \"x1\": 3, \"y0\": 125.55, \"y1\": 126.67}, {\"line\": {\"color\": \"rgb(55, 128, 191)\", \"width\": 1.5}, \"type\": \"line\", \"x0\": 4, \"x1\": 4, \"y0\": 125.8, \"y1\": 126.9}, {\"line\": {\"color\": \"rgb(55, 128, 191)\", \"width\": 1.5}, \"type\": \"line\", \"x0\": 5, \"x1\": 5, \"y0\": 123.07, \"y1\": 124.17}, {\"line\": {\"color\": \"rgb(55, 128, 191)\", \"width\": 1.5}, \"type\": \"line\", \"x0\": 6, \"x1\": 6, \"y0\": 125.22, \"y1\": 126.32}, {\"line\": {\"color\": \"rgb(55, 128, 191)\", \"width\": 1.5}, \"type\": \"line\", \"x0\": 7, \"x1\": 7, \"y0\": 124.51, \"y1\": 125.64}, {\"line\": {\"color\": \"rgb(55, 128, 191)\", \"width\": 1.5}, \"type\": \"line\", \"x0\": 8, \"x1\": 8, \"y0\": 124.87, \"y1\": 125.96}, {\"line\": {\"color\": \"rgb(55, 128, 191)\", \"width\": 1.5}, \"type\": \"line\", \"x0\": 9, \"x1\": 9, \"y0\": 121.85, \"y1\": 122.97}, {\"line\": {\"color\": \"rgb(55, 128, 191)\", \"width\": 1.5}, \"type\": \"line\", \"x0\": 10, \"x1\": 10, \"y0\": 127.14, \"y1\": 128.25}, {\"line\": {\"color\": \"rgb(55, 128, 191)\", \"width\": 1.5}, \"type\": \"line\", \"x0\": 11, \"x1\": 11, \"y0\": 126.29, \"y1\": 127.39}, {\"line\": {\"color\": \"rgb(55, 128, 191)\", \"width\": 1.5}, \"type\": \"line\", \"x0\": 12, \"x1\": 12, \"y0\": 123.55, \"y1\": 124.65}, {\"line\": {\"color\": \"rgb(55, 128, 191)\", \"width\": 1.5}, \"type\": \"line\", \"x0\": 13, \"x1\": 13, \"y0\": 130.33, \"y1\": 131.43}, {\"line\": {\"color\": \"rgb(55, 128, 191)\", \"width\": 1.5}, \"type\": \"line\", \"x0\": 14, \"x1\": 14, \"y0\": 129.96, \"y1\": 131.07}, {\"line\": {\"color\": \"rgb(55, 128, 191)\", \"width\": 1.5}, \"type\": \"line\", \"x0\": 15, \"x1\": 15, \"y0\": 127.41, \"y1\": 128.51}, {\"line\": {\"color\": \"rgb(55, 128, 191)\", \"width\": 1.5}, \"type\": \"line\", \"x0\": 16, \"x1\": 16, \"y0\": 127.18, \"y1\": 128.28}, {\"line\": {\"color\": \"rgb(55, 128, 191)\", \"width\": 1.5}, \"type\": \"line\", \"x0\": 17, \"x1\": 17, \"y0\": 126.93, \"y1\": 128.04}, {\"line\": {\"color\": \"rgb(55, 128, 191)\", \"width\": 1.5}, \"type\": \"line\", \"x0\": 18, \"x1\": 18, \"y0\": 126.32, \"y1\": 127.43}, {\"line\": {\"color\": \"rgb(55, 128, 191)\", \"width\": 1.5}, \"type\": \"line\", \"x0\": 19, \"x1\": 19, \"y0\": 128.26, \"y1\": 129.38}, {\"line\": {\"color\": \"rgb(55, 128, 191)\", \"width\": 1.5}, \"type\": \"line\", \"x0\": 20, \"x1\": 20, \"y0\": 125.98, \"y1\": 127.08}, {\"line\": {\"color\": \"rgb(55, 128, 191)\", \"width\": 1.5}, \"type\": \"line\", \"x0\": 21, \"x1\": 21, \"y0\": 121.56, \"y1\": 122.66}, {\"line\": {\"color\": \"rgb(55, 128, 191)\", \"width\": 1.5}, \"type\": \"line\", \"x0\": 22, \"x1\": 22, \"y0\": 123.63, \"y1\": 124.73}, {\"line\": {\"color\": \"rgb(55, 128, 191)\", \"width\": 1.5}, \"type\": \"line\", \"x0\": 23, \"x1\": 23, \"y0\": 119.45, \"y1\": 120.59}, {\"line\": {\"color\": \"rgb(55, 128, 191)\", \"width\": 1.5}, \"type\": \"line\", \"x0\": 24, \"x1\": 24, \"y0\": 125.36, \"y1\": 126.48}, {\"line\": {\"color\": \"rgb(55, 128, 191)\", \"width\": 1.5}, \"type\": \"line\", \"x0\": 25, \"x1\": 25, \"y0\": 120.66, \"y1\": 121.79}, {\"line\": {\"color\": \"rgb(55, 128, 191)\", \"width\": 1.5}, \"type\": \"line\", \"x0\": 26, \"x1\": 26, \"y0\": 123.45, \"y1\": 124.57}, {\"line\": {\"color\": \"rgb(55, 128, 191)\", \"width\": 1.5}, \"type\": \"line\", \"x0\": 27, \"x1\": 27, \"y0\": 124.09, \"y1\": 125.2}, {\"line\": {\"color\": \"rgb(55, 128, 191)\", \"width\": 1.5}, \"type\": \"line\", \"x0\": 28, \"x1\": 28, \"y0\": 124.32, \"y1\": 125.41}, {\"line\": {\"color\": \"rgb(55, 128, 191)\", \"width\": 1.5}, \"type\": \"line\", \"x0\": 29, \"x1\": 29, \"y0\": 125.12, \"y1\": 126.23}, {\"line\": {\"color\": \"rgb(55, 128, 191)\", \"width\": 1.5}, \"type\": \"line\", \"x0\": 30, \"x1\": 30, \"y0\": 126.75, \"y1\": 127.85}, {\"line\": {\"color\": \"rgb(55, 128, 191)\", \"width\": 1.5}, \"type\": \"line\", \"x0\": 31, \"x1\": 31, \"y0\": 126.35, \"y1\": 127.48}, {\"line\": {\"color\": \"rgb(55, 128, 191)\", \"width\": 1.5}, \"type\": \"line\", \"x0\": 32, \"x1\": 32, \"y0\": 126.39, \"y1\": 127.47}, {\"line\": {\"color\": \"rgb(55, 128, 191)\", \"width\": 1.5}, \"type\": \"line\", \"x0\": 33, \"x1\": 33, \"y0\": 124.21, \"y1\": 125.32}, {\"line\": {\"color\": \"rgb(55, 128, 191)\", \"width\": 1.5}, \"type\": \"line\", \"x0\": 34, \"x1\": 34, \"y0\": 119.86, \"y1\": 120.97}, {\"line\": {\"color\": \"rgb(55, 128, 191)\", \"width\": 1.5}, \"type\": \"line\", \"x0\": 35, \"x1\": 35, \"y0\": 122.18, \"y1\": 123.28}, {\"line\": {\"color\": \"rgb(55, 128, 191)\", \"width\": 1.5}, \"type\": \"line\", \"x0\": 36, \"x1\": 36, \"y0\": 124.44, \"y1\": 125.51}, {\"line\": {\"color\": \"rgb(55, 128, 191)\", \"width\": 1.5}, \"type\": \"line\", \"x0\": 37, \"x1\": 37, \"y0\": 120.59, \"y1\": 121.74}, {\"line\": {\"color\": \"rgb(55, 128, 191)\", \"width\": 1.5}, \"type\": \"line\", \"x0\": 38, \"x1\": 38, \"y0\": 123.16, \"y1\": 124.25}, {\"line\": {\"color\": \"rgb(55, 128, 191)\", \"width\": 1.5}, \"type\": \"line\", \"x0\": 39, \"x1\": 39, \"y0\": 124.53, \"y1\": 125.63}, {\"line\": {\"color\": \"rgb(55, 128, 191)\", \"width\": 1.5}, \"type\": \"line\", \"x0\": 40, \"x1\": 40, \"y0\": 125.68, \"y1\": 126.78}, {\"line\": {\"color\": \"rgb(55, 128, 191)\", \"width\": 1.5}, \"type\": \"line\", \"x0\": 41, \"x1\": 41, \"y0\": 124.13, \"y1\": 125.24}, {\"line\": {\"color\": \"rgb(55, 128, 191)\", \"width\": 1.5}, \"type\": \"line\", \"x0\": 42, \"x1\": 42, \"y0\": 119.68, \"y1\": 120.78}, {\"line\": {\"color\": \"rgb(55, 128, 191)\", \"width\": 1.5}, \"type\": \"line\", \"x0\": 43, \"x1\": 43, \"y0\": 122.18, \"y1\": 123.28}, {\"line\": {\"color\": \"rgb(55, 128, 191)\", \"width\": 1.5}, \"type\": \"line\", \"x0\": 44, \"x1\": 44, \"y0\": 121.04, \"y1\": 122.15}, {\"line\": {\"color\": \"rgb(55, 128, 191)\", \"width\": 1.5}, \"type\": \"line\", \"x0\": 45, \"x1\": 45, \"y0\": 123.32, \"y1\": 124.44}, {\"line\": {\"color\": \"rgb(55, 128, 191)\", \"width\": 1.5}, \"type\": \"line\", \"x0\": 46, \"x1\": 46, \"y0\": 119.66, \"y1\": 120.75}, {\"line\": {\"color\": \"rgb(55, 128, 191)\", \"width\": 1.5}, \"type\": \"line\", \"x0\": 47, \"x1\": 47, \"y0\": 120.9, \"y1\": 121.99}, {\"line\": {\"color\": \"rgb(55, 128, 191)\", \"width\": 1.5}, \"type\": \"line\", \"x0\": 48, \"x1\": 48, \"y0\": 122.73, \"y1\": 123.84}, {\"line\": {\"color\": \"rgb(55, 128, 191)\", \"width\": 1.5}, \"type\": \"line\", \"x0\": 49, \"x1\": 49, \"y0\": 122.28, \"y1\": 123.39}, {\"line\": {\"color\": \"rgb(55, 128, 191)\", \"width\": 1.5}, \"type\": \"line\", \"x0\": 50, \"x1\": 50, \"y0\": 119.03, \"y1\": 120.1}, {\"fillcolor\": \"rgba(255, 0, 0, 0.6)\", \"line\": {\"color\": \"rgb(55, 128, 191)\", \"width\": 1}, \"type\": \"rect\", \"x0\": 0.75, \"x1\": 1.25, \"xref\": \"x\", \"y0\": 122.56, \"y1\": 123.0, \"yref\": \"y\"}, {\"fillcolor\": \"rgba(0, 204, 0, 0.6)\", \"line\": {\"color\": \"rgb(55, 128, 191)\", \"width\": 1}, \"type\": \"rect\", \"x0\": 1.75, \"x1\": 2.25, \"xref\": \"x\", \"y0\": 122.24, \"y1\": 125.24, \"yref\": \"y\"}, {\"fillcolor\": \"rgba(255, 0, 0, 0.6)\", \"line\": {\"color\": \"rgb(55, 128, 191)\", \"width\": 1}, \"type\": \"rect\", \"x0\": 2.75, \"x1\": 3.25, \"xref\": \"x\", \"y0\": 126.67, \"y1\": 129.57, \"yref\": \"y\"}, {\"fillcolor\": \"rgba(255, 0, 0, 0.6)\", \"line\": {\"color\": \"rgb(55, 128, 191)\", \"width\": 1}, \"type\": \"rect\", \"x0\": 3.75, \"x1\": 4.25, \"xref\": \"x\", \"y0\": 126.9, \"y1\": 128.67, \"yref\": \"y\"}, {\"fillcolor\": \"rgba(0, 204, 0, 0.6)\", \"line\": {\"color\": \"rgb(55, 128, 191)\", \"width\": 1}, \"type\": \"rect\", \"x0\": 4.75, \"x1\": 5.25, \"xref\": \"x\", \"y0\": 124.17, \"y1\": 125.99, \"yref\": \"y\"}, {\"fillcolor\": \"rgba(0, 204, 0, 0.6)\", \"line\": {\"color\": \"rgb(55, 128, 191)\", \"width\": 1}, \"type\": \"rect\", \"x0\": 5.75, \"x1\": 6.25, \"xref\": \"x\", \"y0\": 126.32, \"y1\": 126.77, \"yref\": \"y\"}, {\"fillcolor\": \"rgba(0, 204, 0, 0.6)\", \"line\": {\"color\": \"rgb(55, 128, 191)\", \"width\": 1}, \"type\": \"rect\", \"x0\": 6.75, \"x1\": 7.25, \"xref\": \"x\", \"y0\": 125.64, \"y1\": 126.22, \"yref\": \"y\"}, {\"fillcolor\": \"rgba(0, 204, 0, 0.6)\", \"line\": {\"color\": \"rgb(55, 128, 191)\", \"width\": 1}, \"type\": \"rect\", \"x0\": 7.75, \"x1\": 8.25, \"xref\": \"x\", \"y0\": 125.96, \"y1\": 127.0, \"yref\": \"y\"}, {\"fillcolor\": \"rgba(0, 204, 0, 0.6)\", \"line\": {\"color\": \"rgb(55, 128, 191)\", \"width\": 1}, \"type\": \"rect\", \"x0\": 8.75, \"x1\": 9.25, \"xref\": \"x\", \"y0\": 122.97, \"y1\": 127.48, \"yref\": \"y\"}, {\"fillcolor\": \"rgba(0, 204, 0, 0.6)\", \"line\": {\"color\": \"rgb(55, 128, 191)\", \"width\": 1}, \"type\": \"rect\", \"x0\": 9.75, \"x1\": 10.25, \"xref\": \"x\", \"y0\": 128.25, \"y1\": 129.11, \"yref\": \"y\"}, {\"fillcolor\": \"rgba(0, 204, 0, 0.6)\", \"line\": {\"color\": \"rgb(55, 128, 191)\", \"width\": 1}, \"type\": \"rect\", \"x0\": 10.75, \"x1\": 11.25, \"xref\": \"x\", \"y0\": 127.39, \"y1\": 128.97, \"yref\": \"y\"}, {\"fillcolor\": \"rgba(0, 204, 0, 0.6)\", \"line\": {\"color\": \"rgb(55, 128, 191)\", \"width\": 1}, \"type\": \"rect\", \"x0\": 11.75, \"x1\": 12.25, \"xref\": \"x\", \"y0\": 124.65, \"y1\": 128.31, \"yref\": \"y\"}, {\"fillcolor\": \"rgba(255, 0, 0, 0.6)\", \"line\": {\"color\": \"rgb(55, 128, 191)\", \"width\": 1}, \"type\": \"rect\", \"x0\": 12.75, \"x1\": 13.25, \"xref\": \"x\", \"y0\": 131.43, \"y1\": 133.42, \"yref\": \"y\"}, {\"fillcolor\": \"rgba(255, 0, 0, 0.6)\", \"line\": {\"color\": \"rgb(55, 128, 191)\", \"width\": 1}, \"type\": \"rect\", \"x0\": 13.75, \"x1\": 14.25, \"xref\": \"x\", \"y0\": 131.07, \"y1\": 131.28, \"yref\": \"y\"}, {\"fillcolor\": \"rgba(0, 204, 0, 0.6)\", \"line\": {\"color\": \"rgb(55, 128, 191)\", \"width\": 1}, \"type\": \"rect\", \"x0\": 14.75, \"x1\": 15.25, \"xref\": \"x\", \"y0\": 128.51, \"y1\": 129.17, \"yref\": \"y\"}, {\"fillcolor\": \"rgba(255, 0, 0, 0.6)\", \"line\": {\"color\": \"rgb(55, 128, 191)\", \"width\": 1}, \"type\": \"rect\", \"x0\": 15.75, \"x1\": 16.25, \"xref\": \"x\", \"y0\": 128.28, \"y1\": 130.28, \"yref\": \"y\"}, {\"fillcolor\": \"rgba(255, 0, 0, 0.6)\", \"line\": {\"color\": \"rgb(55, 128, 191)\", \"width\": 1}, \"type\": \"rect\", \"x0\": 16.75, \"x1\": 17.25, \"xref\": \"x\", \"y0\": 128.04, \"y1\": 130.56, \"yref\": \"y\"}, {\"fillcolor\": \"rgba(0, 204, 0, 0.6)\", \"line\": {\"color\": \"rgb(55, 128, 191)\", \"width\": 1}, \"type\": \"rect\", \"x0\": 17.75, \"x1\": 18.25, \"xref\": \"x\", \"y0\": 127.43, \"y1\": 128.67, \"yref\": \"y\"}, {\"fillcolor\": \"rgba(255, 0, 0, 0.6)\", \"line\": {\"color\": \"rgb(55, 128, 191)\", \"width\": 1}, \"type\": \"rect\", \"x0\": 18.75, \"x1\": 19.25, \"xref\": \"x\", \"y0\": 129.38, \"y1\": 131.25, \"yref\": \"y\"}, {\"fillcolor\": \"rgba(255, 0, 0, 0.6)\", \"line\": {\"color\": \"rgb(55, 128, 191)\", \"width\": 1}, \"type\": \"rect\", \"x0\": 19.75, \"x1\": 20.25, \"xref\": \"x\", \"y0\": 127.08, \"y1\": 127.2, \"yref\": \"y\"}, {\"fillcolor\": \"rgba(0, 204, 0, 0.6)\", \"line\": {\"color\": \"rgb(55, 128, 191)\", \"width\": 1}, \"type\": \"rect\", \"x0\": 20.75, \"x1\": 21.25, \"xref\": \"x\", \"y0\": 122.66, \"y1\": 125.3, \"yref\": \"y\"}, {\"fillcolor\": \"rgba(255, 0, 0, 0.6)\", \"line\": {\"color\": \"rgb(55, 128, 191)\", \"width\": 1}, \"type\": \"rect\", \"x0\": 21.75, \"x1\": 22.25, \"xref\": \"x\", \"y0\": 124.73, \"y1\": 126.73, \"yref\": \"y\"}, {\"fillcolor\": \"rgba(0, 204, 0, 0.6)\", \"line\": {\"color\": \"rgb(55, 128, 191)\", \"width\": 1}, \"type\": \"rect\", \"x0\": 22.75, \"x1\": 23.25, \"xref\": \"x\", \"y0\": 120.59, \"y1\": 123.96, \"yref\": \"y\"}, {\"fillcolor\": \"rgba(255, 0, 0, 0.6)\", \"line\": {\"color\": \"rgb(55, 128, 191)\", \"width\": 1}, \"type\": \"rect\", \"x0\": 23.75, \"x1\": 24.25, \"xref\": \"x\", \"y0\": 126.48, \"y1\": 128.28, \"yref\": \"y\"}, {\"fillcolor\": \"rgba(0, 204, 0, 0.6)\", \"line\": {\"color\": \"rgb(55, 128, 191)\", \"width\": 1}, \"type\": \"rect\", \"x0\": 24.75, \"x1\": 25.25, \"xref\": \"x\", \"y0\": 121.79, \"y1\": 124.99, \"yref\": \"y\"}, {\"fillcolor\": \"rgba(0, 204, 0, 0.6)\", \"line\": {\"color\": \"rgb(55, 128, 191)\", \"width\": 1}, \"type\": \"rect\", \"x0\": 25.75, \"x1\": 26.25, \"xref\": \"x\", \"y0\": 124.57, \"y1\": 126.23, \"yref\": \"y\"}, {\"fillcolor\": \"rgba(255, 0, 0, 0.6)\", \"line\": {\"color\": \"rgb(55, 128, 191)\", \"width\": 1}, \"type\": \"rect\", \"x0\": 26.75, \"x1\": 27.25, \"xref\": \"x\", \"y0\": 125.2, \"y1\": 125.61, \"yref\": \"y\"}, {\"fillcolor\": \"rgba(0, 204, 0, 0.6)\", \"line\": {\"color\": \"rgb(55, 128, 191)\", \"width\": 1}, \"type\": \"rect\", \"x0\": 27.75, \"x1\": 28.25, \"xref\": \"x\", \"y0\": 125.41, \"y1\": 125.7, \"yref\": \"y\"}, {\"fillcolor\": \"rgba(255, 0, 0, 0.6)\", \"line\": {\"color\": \"rgb(55, 128, 191)\", \"width\": 1}, \"type\": \"rect\", \"x0\": 28.75, \"x1\": 29.25, \"xref\": \"x\", \"y0\": 126.23, \"y1\": 126.66, \"yref\": \"y\"}, {\"fillcolor\": \"rgba(255, 0, 0, 0.6)\", \"line\": {\"color\": \"rgb(55, 128, 191)\", \"width\": 1}, \"type\": \"rect\", \"x0\": 29.75, \"x1\": 30.25, \"xref\": \"x\", \"y0\": 127.85, \"y1\": 131.15, \"yref\": \"y\"}, {\"fillcolor\": \"rgba(255, 0, 0, 0.6)\", \"line\": {\"color\": \"rgb(55, 128, 191)\", \"width\": 1}, \"type\": \"rect\", \"x0\": 30.75, \"x1\": 31.25, \"xref\": \"x\", \"y0\": 127.48, \"y1\": 127.65, \"yref\": \"y\"}, {\"fillcolor\": \"rgba(255, 0, 0, 0.6)\", \"line\": {\"color\": \"rgb(55, 128, 191)\", \"width\": 1}, \"type\": \"rect\", \"x0\": 31.75, \"x1\": 32.25, \"xref\": \"x\", \"y0\": 127.47, \"y1\": 129.17, \"yref\": \"y\"}, {\"fillcolor\": \"rgba(255, 0, 0, 0.6)\", \"line\": {\"color\": \"rgb(55, 128, 191)\", \"width\": 1}, \"type\": \"rect\", \"x0\": 32.75, \"x1\": 33.25, \"xref\": \"x\", \"y0\": 125.32, \"y1\": 127.59, \"yref\": \"y\"}, {\"fillcolor\": \"rgba(0, 204, 0, 0.6)\", \"line\": {\"color\": \"rgb(55, 128, 191)\", \"width\": 1}, \"type\": \"rect\", \"x0\": 33.75, \"x1\": 34.25, \"xref\": \"x\", \"y0\": 120.97, \"y1\": 124.02, \"yref\": \"y\"}, {\"fillcolor\": \"rgba(0, 204, 0, 0.6)\", \"line\": {\"color\": \"rgb(55, 128, 191)\", \"width\": 1}, \"type\": \"rect\", \"x0\": 34.75, \"x1\": 35.25, \"xref\": \"x\", \"y0\": 123.28, \"y1\": 124.24, \"yref\": \"y\"}, {\"fillcolor\": \"rgba(255, 0, 0, 0.6)\", \"line\": {\"color\": \"rgb(55, 128, 191)\", \"width\": 1}, \"type\": \"rect\", \"x0\": 35.75, \"x1\": 36.25, \"xref\": \"x\", \"y0\": 125.51, \"y1\": 128.83, \"yref\": \"y\"}, {\"fillcolor\": \"rgba(0, 204, 0, 0.6)\", \"line\": {\"color\": \"rgb(55, 128, 191)\", \"width\": 1}, \"type\": \"rect\", \"x0\": 36.75, \"x1\": 37.25, \"xref\": \"x\", \"y0\": 121.74, \"y1\": 125.01, \"yref\": \"y\"}, {\"fillcolor\": \"rgba(0, 204, 0, 0.6)\", \"line\": {\"color\": \"rgb(55, 128, 191)\", \"width\": 1}, \"type\": \"rect\", \"x0\": 37.75, \"x1\": 38.25, \"xref\": \"x\", \"y0\": 124.25, \"y1\": 125.47, \"yref\": \"y\"}, {\"fillcolor\": \"rgba(255, 0, 0, 0.6)\", \"line\": {\"color\": \"rgb(55, 128, 191)\", \"width\": 1}, \"type\": \"rect\", \"x0\": 38.75, \"x1\": 39.25, \"xref\": \"x\", \"y0\": 125.63, \"y1\": 125.81, \"yref\": \"y\"}, {\"fillcolor\": \"rgba(255, 0, 0, 0.6)\", \"line\": {\"color\": \"rgb(55, 128, 191)\", \"width\": 1}, \"type\": \"rect\", \"x0\": 39.75, \"x1\": 40.25, \"xref\": \"x\", \"y0\": 126.78, \"y1\": 126.98, \"yref\": \"y\"}, {\"fillcolor\": \"rgba(255, 0, 0, 0.6)\", \"line\": {\"color\": \"rgb(55, 128, 191)\", \"width\": 1}, \"type\": \"rect\", \"x0\": 40.75, \"x1\": 41.25, \"xref\": \"x\", \"y0\": 125.24, \"y1\": 128.27, \"yref\": \"y\"}, {\"fillcolor\": \"rgba(0, 204, 0, 0.6)\", \"line\": {\"color\": \"rgb(55, 128, 191)\", \"width\": 1}, \"type\": \"rect\", \"x0\": 41.75, \"x1\": 42.25, \"xref\": \"x\", \"y0\": 120.78, \"y1\": 123.74, \"yref\": \"y\"}, {\"fillcolor\": \"rgba(255, 0, 0, 0.6)\", \"line\": {\"color\": \"rgb(55, 128, 191)\", \"width\": 1}, \"type\": \"rect\", \"x0\": 42.75, \"x1\": 43.25, \"xref\": \"x\", \"y0\": 123.28, \"y1\": 123.29, \"yref\": \"y\"}, {\"fillcolor\": \"rgba(0, 204, 0, 0.6)\", \"line\": {\"color\": \"rgb(55, 128, 191)\", \"width\": 1}, \"type\": \"rect\", \"x0\": 43.75, \"x1\": 44.25, \"xref\": \"x\", \"y0\": 122.15, \"y1\": 123.25, \"yref\": \"y\"}, {\"fillcolor\": \"rgba(255, 0, 0, 0.6)\", \"line\": {\"color\": \"rgb(55, 128, 191)\", \"width\": 1}, \"type\": \"rect\", \"x0\": 44.75, \"x1\": 45.25, \"xref\": \"x\", \"y0\": 124.44, \"y1\": 126.56, \"yref\": \"y\"}, {\"fillcolor\": \"rgba(0, 204, 0, 0.6)\", \"line\": {\"color\": \"rgb(55, 128, 191)\", \"width\": 1}, \"type\": \"rect\", \"x0\": 45.75, \"x1\": 46.25, \"xref\": \"x\", \"y0\": 120.75, \"y1\": 123.21, \"yref\": \"y\"}, {\"fillcolor\": \"rgba(0, 204, 0, 0.6)\", \"line\": {\"color\": \"rgb(55, 128, 191)\", \"width\": 1}, \"type\": \"rect\", \"x0\": 46.75, \"x1\": 47.25, \"xref\": \"x\", \"y0\": 121.99, \"y1\": 123.33, \"yref\": \"y\"}, {\"fillcolor\": \"rgba(255, 0, 0, 0.6)\", \"line\": {\"color\": \"rgb(55, 128, 191)\", \"width\": 1}, \"type\": \"rect\", \"x0\": 47.75, \"x1\": 48.25, \"xref\": \"x\", \"y0\": 123.84, \"y1\": 125.78, \"yref\": \"y\"}, {\"fillcolor\": \"rgba(255, 0, 0, 0.6)\", \"line\": {\"color\": \"rgb(55, 128, 191)\", \"width\": 1}, \"type\": \"rect\", \"x0\": 48.75, \"x1\": 49.25, \"xref\": \"x\", \"y0\": 123.39, \"y1\": 124.96, \"yref\": \"y\"}, {\"fillcolor\": \"rgba(255, 0, 0, 0.6)\", \"line\": {\"color\": \"rgb(55, 128, 191)\", \"width\": 1}, \"type\": \"rect\", \"x0\": 49.75, \"x1\": 50.25, \"xref\": \"x\", \"y0\": 120.1, \"y1\": 120.55, \"yref\": \"y\"}, {\"line\": {\"color\": \"rgb(55, 128, 191)\", \"width\": 1.5}, \"type\": \"line\", \"x0\": 1, \"x1\": 1, \"y0\": 123.0, \"y1\": 124.13}, {\"line\": {\"color\": \"rgb(55, 128, 191)\", \"width\": 1.5}, \"type\": \"line\", \"x0\": 2, \"x1\": 2, \"y0\": 125.24, \"y1\": 126.36}, {\"line\": {\"color\": \"rgb(55, 128, 191)\", \"width\": 1.5}, \"type\": \"line\", \"x0\": 3, \"x1\": 3, \"y0\": 129.57, \"y1\": 130.68}, {\"line\": {\"color\": \"rgb(55, 128, 191)\", \"width\": 1.5}, \"type\": \"line\", \"x0\": 4, \"x1\": 4, \"y0\": 128.67, \"y1\": 129.79}, {\"line\": {\"color\": \"rgb(55, 128, 191)\", \"width\": 1.5}, \"type\": \"line\", \"x0\": 5, \"x1\": 5, \"y0\": 125.99, \"y1\": 127.1}, {\"line\": {\"color\": \"rgb(55, 128, 191)\", \"width\": 1.5}, \"type\": \"line\", \"x0\": 6, \"x1\": 6, \"y0\": 126.77, \"y1\": 127.87}, {\"line\": {\"color\": \"rgb(55, 128, 191)\", \"width\": 1.5}, \"type\": \"line\", \"x0\": 7, \"x1\": 7, \"y0\": 126.22, \"y1\": 127.31}, {\"line\": {\"color\": \"rgb(55, 128, 191)\", \"width\": 1.5}, \"type\": \"line\", \"x0\": 8, \"x1\": 8, \"y0\": 127.0, \"y1\": 128.12}, {\"line\": {\"color\": \"rgb(55, 128, 191)\", \"width\": 1.5}, \"type\": \"line\", \"x0\": 9, \"x1\": 9, \"y0\": 127.48, \"y1\": 128.56}, {\"line\": {\"color\": \"rgb(55, 128, 191)\", \"width\": 1.5}, \"type\": \"line\", \"x0\": 10, \"x1\": 10, \"y0\": 129.11, \"y1\": 130.22}, {\"line\": {\"color\": \"rgb(55, 128, 191)\", \"width\": 1.5}, \"type\": \"line\", \"x0\": 11, \"x1\": 11, \"y0\": 128.97, \"y1\": 130.08}, {\"line\": {\"color\": \"rgb(55, 128, 191)\", \"width\": 1.5}, \"type\": \"line\", \"x0\": 12, \"x1\": 12, \"y0\": 128.31, \"y1\": 129.41}, {\"line\": {\"color\": \"rgb(55, 128, 191)\", \"width\": 1.5}, \"type\": \"line\", \"x0\": 13, \"x1\": 13, \"y0\": 133.42, \"y1\": 134.53}, {\"line\": {\"color\": \"rgb(55, 128, 191)\", \"width\": 1.5}, \"type\": \"line\", \"x0\": 14, \"x1\": 14, \"y0\": 131.28, \"y1\": 132.37}, {\"line\": {\"color\": \"rgb(55, 128, 191)\", \"width\": 1.5}, \"type\": \"line\", \"x0\": 15, \"x1\": 15, \"y0\": 129.17, \"y1\": 130.26}, {\"line\": {\"color\": \"rgb(55, 128, 191)\", \"width\": 1.5}, \"type\": \"line\", \"x0\": 16, \"x1\": 16, \"y0\": 130.28, \"y1\": 131.41}, {\"line\": {\"color\": \"rgb(55, 128, 191)\", \"width\": 1.5}, \"type\": \"line\", \"x0\": 17, \"x1\": 17, \"y0\": 130.56, \"y1\": 131.65}, {\"line\": {\"color\": \"rgb(55, 128, 191)\", \"width\": 1.5}, \"type\": \"line\", \"x0\": 18, \"x1\": 18, \"y0\": 128.67, \"y1\": 129.79}, {\"line\": {\"color\": \"rgb(55, 128, 191)\", \"width\": 1.5}, \"type\": \"line\", \"x0\": 19, \"x1\": 19, \"y0\": 131.25, \"y1\": 132.36}, {\"line\": {\"color\": \"rgb(55, 128, 191)\", \"width\": 1.5}, \"type\": \"line\", \"x0\": 20, \"x1\": 20, \"y0\": 127.2, \"y1\": 128.3}, {\"line\": {\"color\": \"rgb(55, 128, 191)\", \"width\": 1.5}, \"type\": \"line\", \"x0\": 21, \"x1\": 21, \"y0\": 125.3, \"y1\": 126.4}, {\"line\": {\"color\": \"rgb(55, 128, 191)\", \"width\": 1.5}, \"type\": \"line\", \"x0\": 22, \"x1\": 22, \"y0\": 126.73, \"y1\": 127.83}, {\"line\": {\"color\": \"rgb(55, 128, 191)\", \"width\": 1.5}, \"type\": \"line\", \"x0\": 23, \"x1\": 23, \"y0\": 123.96, \"y1\": 125.07}, {\"line\": {\"color\": \"rgb(55, 128, 191)\", \"width\": 1.5}, \"type\": \"line\", \"x0\": 24, \"x1\": 24, \"y0\": 128.28, \"y1\": 129.37}, {\"line\": {\"color\": \"rgb(55, 128, 191)\", \"width\": 1.5}, \"type\": \"line\", \"x0\": 25, \"x1\": 25, \"y0\": 124.99, \"y1\": 126.09}, {\"line\": {\"color\": \"rgb(55, 128, 191)\", \"width\": 1.5}, \"type\": \"line\", \"x0\": 26, \"x1\": 26, \"y0\": 126.23, \"y1\": 127.32}, {\"line\": {\"color\": \"rgb(55, 128, 191)\", \"width\": 1.5}, \"type\": \"line\", \"x0\": 27, \"x1\": 27, \"y0\": 125.61, \"y1\": 126.75}, {\"line\": {\"color\": \"rgb(55, 128, 191)\", \"width\": 1.5}, \"type\": \"line\", \"x0\": 28, \"x1\": 28, \"y0\": 125.7, \"y1\": 126.78}, {\"line\": {\"color\": \"rgb(55, 128, 191)\", \"width\": 1.5}, \"type\": \"line\", \"x0\": 29, \"x1\": 29, \"y0\": 126.66, \"y1\": 127.76}, {\"line\": {\"color\": \"rgb(55, 128, 191)\", \"width\": 1.5}, \"type\": \"line\", \"x0\": 30, \"x1\": 30, \"y0\": 131.15, \"y1\": 132.27}, {\"line\": {\"color\": \"rgb(55, 128, 191)\", \"width\": 1.5}, \"type\": \"line\", \"x0\": 31, \"x1\": 31, \"y0\": 127.65, \"y1\": 128.76}, {\"line\": {\"color\": \"rgb(55, 128, 191)\", \"width\": 1.5}, \"type\": \"line\", \"x0\": 32, \"x1\": 32, \"y0\": 129.17, \"y1\": 130.27}, {\"line\": {\"color\": \"rgb(55, 128, 191)\", \"width\": 1.5}, \"type\": \"line\", \"x0\": 33, \"x1\": 33, \"y0\": 127.59, \"y1\": 128.69}, {\"line\": {\"color\": \"rgb(55, 128, 191)\", \"width\": 1.5}, \"type\": \"line\", \"x0\": 34, \"x1\": 34, \"y0\": 124.02, \"y1\": 125.1}, {\"line\": {\"color\": \"rgb(55, 128, 191)\", \"width\": 1.5}, \"type\": \"line\", \"x0\": 35, \"x1\": 35, \"y0\": 124.24, \"y1\": 125.34}, {\"line\": {\"color\": \"rgb(55, 128, 191)\", \"width\": 1.5}, \"type\": \"line\", \"x0\": 36, \"x1\": 36, \"y0\": 128.83, \"y1\": 129.95}, {\"line\": {\"color\": \"rgb(55, 128, 191)\", \"width\": 1.5}, \"type\": \"line\", \"x0\": 37, \"x1\": 37, \"y0\": 125.01, \"y1\": 126.12}, {\"line\": {\"color\": \"rgb(55, 128, 191)\", \"width\": 1.5}, \"type\": \"line\", \"x0\": 38, \"x1\": 38, \"y0\": 125.47, \"y1\": 126.58}, {\"line\": {\"color\": \"rgb(55, 128, 191)\", \"width\": 1.5}, \"type\": \"line\", \"x0\": 39, \"x1\": 39, \"y0\": 125.81, \"y1\": 126.92}, {\"line\": {\"color\": \"rgb(55, 128, 191)\", \"width\": 1.5}, \"type\": \"line\", \"x0\": 40, \"x1\": 40, \"y0\": 126.98, \"y1\": 128.08}, {\"line\": {\"color\": \"rgb(55, 128, 191)\", \"width\": 1.5}, \"type\": \"line\", \"x0\": 41, \"x1\": 41, \"y0\": 128.27, \"y1\": 129.37}, {\"line\": {\"color\": \"rgb(55, 128, 191)\", \"width\": 1.5}, \"type\": \"line\", \"x0\": 42, \"x1\": 42, \"y0\": 123.74, \"y1\": 124.83}, {\"line\": {\"color\": \"rgb(55, 128, 191)\", \"width\": 1.5}, \"type\": \"line\", \"x0\": 43, \"x1\": 43, \"y0\": 123.29, \"y1\": 124.37}, {\"line\": {\"color\": \"rgb(55, 128, 191)\", \"width\": 1.5}, \"type\": \"line\", \"x0\": 44, \"x1\": 44, \"y0\": 123.25, \"y1\": 124.35}, {\"line\": {\"color\": \"rgb(55, 128, 191)\", \"width\": 1.5}, \"type\": \"line\", \"x0\": 45, \"x1\": 45, \"y0\": 126.56, \"y1\": 127.66}, {\"line\": {\"color\": \"rgb(55, 128, 191)\", \"width\": 1.5}, \"type\": \"line\", \"x0\": 46, \"x1\": 46, \"y0\": 123.21, \"y1\": 124.31}, {\"line\": {\"color\": \"rgb(55, 128, 191)\", \"width\": 1.5}, \"type\": \"line\", \"x0\": 47, \"x1\": 47, \"y0\": 123.33, \"y1\": 124.44}, {\"line\": {\"color\": \"rgb(55, 128, 191)\", \"width\": 1.5}, \"type\": \"line\", \"x0\": 48, \"x1\": 48, \"y0\": 125.78, \"y1\": 126.88}, {\"line\": {\"color\": \"rgb(55, 128, 191)\", \"width\": 1.5}, \"type\": \"line\", \"x0\": 49, \"x1\": 49, \"y0\": 124.96, \"y1\": 126.06}, {\"line\": {\"color\": \"rgb(55, 128, 191)\", \"width\": 1.5}, \"type\": \"line\", \"x0\": 50, \"x1\": 50, \"y0\": 120.55, \"y1\": 121.65}], \"showlegend\": false, \"title\": \"Random Walk\", \"xaxis\": {\"anchor\": \"y2\", \"showgrid\": true, \"showticklabels\": true, \"tickangle\": 90, \"tickmode\": \"array\", \"ticktext\": [20190522, 20190524, 20190528, 20190530, 20190603, 20190605, 20190607, 20190611, 20190613, 20190617, 20190619, 20190621, 20190625, 20190627, 20190701, 20190703, 20190705, 20190709, 20190711, 20190715, 20190717, 20190719, 20190723, 20190725, 20190729, 20190730], \"tickvals\": [1, 3, 5, 7, 9, 11, 13, 15, 17, 19, 21, 23, 25, 27, 29, 31, 33, 35, 37, 39, 41, 43, 45, 47, 49, 50]}, \"yaxis\": {\"domain\": [0.22, 1], \"range\": [119.03, 134.53]}, \"yaxis2\": {\"domain\": [0, 0.2], \"range\": [0, 993801.0]}}, {\"showLink\": true, \"linkText\": \"Export to plot.ly\"})});</script>"
      ]
     },
     "metadata": {},
     "output_type": "display_data"
    }
   ],
   "source": [
    "fig1 = dgc.PlotlyCandles(df_pseudo.iloc[-50:],number_of_ticks_display=20,title='Random Walk')\n",
    "iplot(fig1.get_figure())"
   ]
  },
  {
   "cell_type": "markdown",
   "metadata": {},
   "source": [
    "### Create a small Plot.ly Dash web app using classes from the module ```dgrid_components.py```"
   ]
  },
  {
   "cell_type": "code",
   "execution_count": 5,
   "metadata": {},
   "outputs": [],
   "source": [
    "no_border={\n",
    "    'border': '1px solid #000',\n",
    "    'grid-gap': '10px 10px',\n",
    "}\n",
    "df_save_list = []\n",
    "logger = dgc.init_root_logger('logfile.log','INFO')\n",
    "\n",
    "def dash_app_1():\n",
    "    days_to_show = 50\n",
    "    df_to_show = df_pseudo.iloc[-days_to_show:]\n",
    "    \n",
    "    dt1_comp = dgc.DashTableComponent(\n",
    "        'dt1',df_to_show,None,title='Random Walk',\n",
    "        editable_columns=['close'],logger = logger\n",
    "    )\n",
    "    def create_figure_from_df(input_list):\n",
    "        if input_list is None or len(input_list)<1 or input_list[0] is None:\n",
    "            return [None]\n",
    "        dict_df = input_list[0]\n",
    "        df = dgc.make_df(dict_df)\n",
    "        df.close = df.close.astype(str).astype(float)\n",
    "        p = dgc.PlotlyCandles(df,number_of_ticks_display=20,title='Random Walk').get_figure()\n",
    "        return p\n",
    "    \n",
    "    gr1_comp = dgc.FigureComponent('f1',dt1_comp,create_figure_from_df,logger=logger)\n",
    "\n",
    "    app = dash.Dash()\n",
    "    comp_list = [dt1_comp,gr1_comp]\n",
    "    html_list = [dgc.create_grid([c],num_columns=1) for c in comp_list]\n",
    "    app.layout = dgc.html.Div(html_list)\n",
    "    [c.callback(app) for c in comp_list]\n",
    "    return app\n"
   ]
  },
  {
   "cell_type": "markdown",
   "metadata": {},
   "source": [
    "### Launch the web app\n",
    "##### To see the web app, open a browser to localhost:8500"
   ]
  },
  {
   "cell_type": "code",
   "execution_count": 6,
   "metadata": {
    "scrolled": true
   },
   "outputs": [
    {
     "name": "stdout",
     "output_type": "stream",
     "text": [
      " * Serving Flask app \"__main__\" (lazy loading)\n",
      " * Environment: production\n",
      "   WARNING: Do not use the development server in a production environment.\n",
      "   Use a production WSGI server instead.\n",
      " * Debug mode: off\n"
     ]
    },
    {
     "name": "stderr",
     "output_type": "stream",
     "text": [
      "2019-07-30 11:24:26,506 - werkzeug - INFO -  * Running on http://127.0.0.1:8500/ (Press CTRL+C to quit)\n",
      "2019-07-30 11:24:55,827 - werkzeug - INFO - 127.0.0.1 - - [30/Jul/2019 11:24:55] \"GET / HTTP/1.1\" 200 -\n",
      "2019-07-30 11:24:55,910 - werkzeug - INFO - 127.0.0.1 - - [30/Jul/2019 11:24:55] \"GET /assets/custom.css?m=1564112807.0 HTTP/1.1\" 200 -\n",
      "2019-07-30 11:24:55,913 - werkzeug - INFO - 127.0.0.1 - - [30/Jul/2019 11:24:55] \"GET /_dash-component-suites/dash_renderer/react@16.8.6.min.js?v=1.0.0&m=1563025507 HTTP/1.1\" 200 -\n",
      "2019-07-30 11:24:55,931 - werkzeug - INFO - 127.0.0.1 - - [30/Jul/2019 11:24:55] \"GET /_dash-component-suites/dash_renderer/prop-types@15.7.2.min.js?v=1.0.0&m=1563025507 HTTP/1.1\" 200 -\n",
      "2019-07-30 11:24:55,941 - werkzeug - INFO - 127.0.0.1 - - [30/Jul/2019 11:24:55] \"GET /_dash-component-suites/dash_renderer/react-dom@16.8.6.min.js?v=1.0.0&m=1563025507 HTTP/1.1\" 200 -\n",
      "2019-07-30 11:24:55,945 - werkzeug - INFO - 127.0.0.1 - - [30/Jul/2019 11:24:55] \"GET /_dash-component-suites/dash_html_components/dash_html_components.min.js?v=1.0.0&m=1563025508 HTTP/1.1\" 200 -\n",
      "2019-07-30 11:24:55,951 - werkzeug - INFO - 127.0.0.1 - - [30/Jul/2019 11:24:55] \"GET /_dash-component-suites/dash_core_components/highlight.pack.js?v=1.0.0&m=1563025508 HTTP/1.1\" 200 -\n",
      "2019-07-30 11:24:55,962 - werkzeug - INFO - 127.0.0.1 - - [30/Jul/2019 11:24:55] \"GET /_dash-component-suites/dash_table/bundle.js?v=4.0.1&m=1563025509 HTTP/1.1\" 200 -\n",
      "2019-07-30 11:24:55,986 - werkzeug - INFO - 127.0.0.1 - - [30/Jul/2019 11:24:55] \"GET /_dash-component-suites/dash_renderer/dash_renderer.min.js?v=1.0.0&m=1563025507 HTTP/1.1\" 200 -\n",
      "2019-07-30 11:24:55,999 - werkzeug - INFO - 127.0.0.1 - - [30/Jul/2019 11:24:55] \"GET /_dash-component-suites/dash_core_components/dash_core_components.min.js?v=1.0.0&m=1563025508 HTTP/1.1\" 200 -\n",
      "2019-07-30 11:24:56,116 - werkzeug - INFO - 127.0.0.1 - - [30/Jul/2019 11:24:56] \"GET /_dash-component-suites/dash_core_components/plotly-1.48.3.min.js?v=1.0.0&m=1563025508 HTTP/1.1\" 200 -\n",
      "2019-07-30 11:24:56,674 - werkzeug - INFO - 127.0.0.1 - - [30/Jul/2019 11:24:56] \"GET /_dash-dependencies HTTP/1.1\" 200 -\n",
      "2019-07-30 11:24:56,674 - werkzeug - INFO - 127.0.0.1 - - [30/Jul/2019 11:24:56] \"GET /_dash-layout HTTP/1.1\" 200 -\n",
      "2019-07-30 11:24:56,693 - werkzeug - INFO - 127.0.0.1 - - [30/Jul/2019 11:24:56] \"GET /_favicon.ico?v=1.0.1 HTTP/1.1\" 200 -\n",
      "2019-07-30 11:24:56,760 - werkzeug - INFO - 127.0.0.1 - - [30/Jul/2019 11:24:56] \"POST /_dash-update-component HTTP/1.1\" 200 -\n",
      "2019-07-30 11:24:56,903 - werkzeug - INFO - 127.0.0.1 - - [30/Jul/2019 11:24:56] \"POST /_dash-update-component HTTP/1.1\" 200 -\n",
      "2019-07-30 11:24:57,650 - werkzeug - INFO - 127.0.0.1 - - [30/Jul/2019 11:24:57] \"POST /_dash-update-component HTTP/1.1\" 200 -\n",
      "2019-07-30 11:24:57,673 - werkzeug - INFO - 127.0.0.1 - - [30/Jul/2019 11:24:57] \"POST /_dash-update-component HTTP/1.1\" 200 -\n"
     ]
    }
   ],
   "source": [
    "DASH_APP_TO_RUN = dash_app_1\n",
    "app = DASH_APP_TO_RUN()\n",
    "app.run_server(host='127.0.0.1',port=8500)"
   ]
  },
  {
   "cell_type": "markdown",
   "metadata": {},
   "source": [
    "### After stopping the above cell, see the layout \"flattened\""
   ]
  },
  {
   "cell_type": "code",
   "execution_count": 7,
   "metadata": {
    "scrolled": true
   },
   "outputs": [
    {
     "name": "stdout",
     "output_type": "stream",
     "text": [
      "***********************************************\n",
      "DataTable(columns=[{'name': 'date', 'id': 'date', 'editable': False}, {'name': 'open', 'id': 'open', 'editable': False}, {'name': 'high', 'id': 'high', 'editable': False}, {'name': 'low', 'id': 'low', 'editable': False}, {'name': 'close', 'id': 'close', 'editable': True}, {'name': 'volume', 'id': 'volume', 'editable': False}], css=[{'selector': 'table', 'rule': 'width: 100%;'}], data=[{'date': 20190522.0, 'open': 123.0, 'high': 124.13, 'low': 121.43, 'close': 122.56, 'volume': 901192.0}, {'date': 20190523.0, 'open': 122.24, 'high': 126.36, 'low': 121.15, 'close': 125.24, 'volume': 891312.0}, {'date': 20190524.0, 'open': 129.57, 'high': 130.68, 'low': 125.55, 'close': 126.67, 'volume': 871264.0}, {'date': 20190527.0, 'open': 128.67, 'high': 129.79, 'low': 125.8, 'close': 126.9, 'volume': 868242.0}, {'date': 20190528.0, 'open': 124.17, 'high': 127.1, 'low': 123.07, 'close': 125.99, 'volume': 870383.0}, {'date': 20190529.0, 'open': 126.32, 'high': 127.87, 'low': 125.22, 'close': 126.77, 'volume': 888569.0}, {'date': 20190530.0, 'open': 125.64, 'high': 127.31, 'low': 124.51, 'close': 126.22, 'volume': 875965.0}, {'date': 20190531.0, 'open': 125.96, 'high': 128.12, 'low': 124.87, 'close': 127.0, 'volume': 918221.0}, {'date': 20190603.0, 'open': 122.97, 'high': 128.56, 'low': 121.85, 'close': 127.48, 'volume': 925776.0}, {'date': 20190604.0, 'open': 128.25, 'high': 130.22, 'low': 127.14, 'close': 129.11, 'volume': 942011.0}, {'date': 20190605.0, 'open': 127.39, 'high': 130.08, 'low': 126.29, 'close': 128.97, 'volume': 935814.0}, {'date': 20190606.0, 'open': 124.65, 'high': 129.41, 'low': 123.55, 'close': 128.31, 'volume': 970068.0}, {'date': 20190607.0, 'open': 133.42, 'high': 134.53, 'low': 130.33, 'close': 131.43, 'volume': 965842.0}, {'date': 20190610.0, 'open': 131.28, 'high': 132.37, 'low': 129.96, 'close': 131.07, 'volume': 993801.0}, {'date': 20190611.0, 'open': 128.51, 'high': 130.26, 'low': 127.41, 'close': 129.17, 'volume': 975017.0}, {'date': 20190612.0, 'open': 130.28, 'high': 131.41, 'low': 127.18, 'close': 128.28, 'volume': 973536.0}, {'date': 20190613.0, 'open': 130.56, 'high': 131.65, 'low': 126.93, 'close': 128.04, 'volume': 945907.0}, {'date': 20190614.0, 'open': 127.43, 'high': 129.79, 'low': 126.32, 'close': 128.67, 'volume': 978397.0}, {'date': 20190617.0, 'open': 131.25, 'high': 132.36, 'low': 128.26, 'close': 129.38, 'volume': 952294.0}, {'date': 20190618.0, 'open': 127.2, 'high': 128.3, 'low': 125.98, 'close': 127.08, 'volume': 948830.0}, {'date': 20190619.0, 'open': 122.66, 'high': 126.4, 'low': 121.56, 'close': 125.3, 'volume': 949372.0}, {'date': 20190620.0, 'open': 126.73, 'high': 127.83, 'low': 123.63, 'close': 124.73, 'volume': 920231.0}, {'date': 20190621.0, 'open': 120.59, 'high': 125.07, 'low': 119.45, 'close': 123.96, 'volume': 912187.0}, {'date': 20190624.0, 'open': 128.28, 'high': 129.37, 'low': 125.36, 'close': 126.48, 'volume': 901702.0}, {'date': 20190625.0, 'open': 121.79, 'high': 126.09, 'low': 120.66, 'close': 124.99, 'volume': 840799.0}, {'date': 20190626.0, 'open': 124.57, 'high': 127.32, 'low': 123.45, 'close': 126.23, 'volume': 848902.0}, {'date': 20190627.0, 'open': 125.61, 'high': 126.75, 'low': 124.09, 'close': 125.2, 'volume': 862183.0}, {'date': 20190628.0, 'open': 125.41, 'high': 126.78, 'low': 124.32, 'close': 125.7, 'volume': 887078.0}, {'date': 20190701.0, 'open': 126.66, 'high': 127.76, 'low': 125.12, 'close': 126.23, 'volume': 912306.0}, {'date': 20190702.0, 'open': 131.15, 'high': 132.27, 'low': 126.75, 'close': 127.85, 'volume': 908165.0}, {'date': 20190703.0, 'open': 127.65, 'high': 128.76, 'low': 126.35, 'close': 127.48, 'volume': 910653.0}, {'date': 20190704.0, 'open': 129.17, 'high': 130.27, 'low': 126.39, 'close': 127.47, 'volume': 924431.0}, {'date': 20190705.0, 'open': 127.59, 'high': 128.69, 'low': 124.21, 'close': 125.32, 'volume': 915573.0}, {'date': 20190708.0, 'open': 120.97, 'high': 125.1, 'low': 119.86, 'close': 124.02, 'volume': 906258.0}, {'date': 20190709.0, 'open': 123.28, 'high': 125.34, 'low': 122.18, 'close': 124.24, 'volume': 887726.0}, {'date': 20190710.0, 'open': 128.83, 'high': 129.95, 'low': 124.44, 'close': 125.51, 'volume': 831549.0}, {'date': 20190711.0, 'open': 121.74, 'high': 126.12, 'low': 120.59, 'close': 125.01, 'volume': 791632.0}, {'date': 20190712.0, 'open': 124.25, 'high': 126.58, 'low': 123.16, 'close': 125.47, 'volume': 802192.0}, {'date': 20190715.0, 'open': 125.81, 'high': 126.92, 'low': 124.53, 'close': 125.63, 'volume': 787464.0}, {'date': 20190716.0, 'open': 126.98, 'high': 128.08, 'low': 125.68, 'close': 126.78, 'volume': 803081.0}, {'date': 20190717.0, 'open': 128.27, 'high': 129.37, 'low': 124.13, 'close': 125.24, 'volume': 806098.0}, {'date': 20190718.0, 'open': 120.78, 'high': 124.83, 'low': 119.68, 'close': 123.74, 'volume': 816758.0}, {'date': 20190719.0, 'open': 123.29, 'high': 124.37, 'low': 122.18, 'close': 123.28, 'volume': 783913.0}, {'date': 20190722.0, 'open': 122.15, 'high': 124.35, 'low': 121.04, 'close': 123.25, 'volume': 806373.0}, {'date': 20190723.0, 'open': 126.56, 'high': 127.66, 'low': 123.32, 'close': 124.44, 'volume': 793032.0}, {'date': 20190724.0, 'open': 120.75, 'high': 124.31, 'low': 119.66, 'close': 123.21, 'volume': 764997.0}, {'date': 20190725.0, 'open': 121.99, 'high': 124.44, 'low': 120.9, 'close': 123.33, 'volume': 764057.0}, {'date': 20190726.0, 'open': 125.78, 'high': 126.88, 'low': 122.73, 'close': 123.84, 'volume': 764744.0}, {'date': 20190729.0, 'open': 124.96, 'high': 126.06, 'low': 122.28, 'close': 123.39, 'volume': 717250.0}, {'date': 20190730.0, 'open': 120.55, 'high': 121.65, 'low': 119.03, 'close': 120.1, 'volume': 756910.0}], editable=True, id='dt1', style_as_list_view=False, page_current=0, page_size=100, filter_action='none', style_table={'maxHeight': '450px', 'overflowX': 'scroll', 'overflowY': 'scroll'}, style_cell_conditional=[{'if': {'column_id': 'symbol'}, 'textAlign': 'left'}, {'if': {'column_id': 'underlying'}, 'textAlign': 'left'}], style_data_conditional=[{'if': {'row_index': 'odd'}, 'backgroundColor': 'rgb(248, 248, 248)'}])\n",
      "***********************************************\n",
      "Store(id='dt1_default_store', data={'date': {665: 20190522, 666: 20190523, 667: 20190524, 668: 20190527, 669: 20190528, 670: 20190529, 671: 20190530, 672: 20190531, 673: 20190603, 674: 20190604, 675: 20190605, 676: 20190606, 677: 20190607, 678: 20190610, 679: 20190611, 680: 20190612, 681: 20190613, 682: 20190614, 683: 20190617, 684: 20190618, 685: 20190619, 686: 20190620, 687: 20190621, 688: 20190624, 689: 20190625, 690: 20190626, 691: 20190627, 692: 20190628, 693: 20190701, 694: 20190702, 695: 20190703, 696: 20190704, 697: 20190705, 698: 20190708, 699: 20190709, 700: 20190710, 701: 20190711, 702: 20190712, 703: 20190715, 704: 20190716, 705: 20190717, 706: 20190718, 707: 20190719, 708: 20190722, 709: 20190723, 710: 20190724, 711: 20190725, 712: 20190726, 713: 20190729, 714: 20190730}, 'open': {665: 123.0, 666: 122.24, 667: 129.57, 668: 128.67, 669: 124.17, 670: 126.32, 671: 125.64, 672: 125.96, 673: 122.97, 674: 128.25, 675: 127.39, 676: 124.65, 677: 133.42, 678: 131.28, 679: 128.51, 680: 130.28, 681: 130.56, 682: 127.43, 683: 131.25, 684: 127.2, 685: 122.66, 686: 126.73, 687: 120.59, 688: 128.28, 689: 121.79, 690: 124.57, 691: 125.61, 692: 125.41, 693: 126.66, 694: 131.15, 695: 127.65, 696: 129.17, 697: 127.59, 698: 120.97, 699: 123.28, 700: 128.83, 701: 121.74, 702: 124.25, 703: 125.81, 704: 126.98, 705: 128.27, 706: 120.78, 707: 123.29, 708: 122.15, 709: 126.56, 710: 120.75, 711: 121.99, 712: 125.78, 713: 124.96, 714: 120.55}, 'high': {665: 124.13, 666: 126.36, 667: 130.68, 668: 129.79, 669: 127.1, 670: 127.87, 671: 127.31, 672: 128.12, 673: 128.56, 674: 130.22, 675: 130.08, 676: 129.41, 677: 134.53, 678: 132.37, 679: 130.26, 680: 131.41, 681: 131.65, 682: 129.79, 683: 132.36, 684: 128.3, 685: 126.4, 686: 127.83, 687: 125.07, 688: 129.37, 689: 126.09, 690: 127.32, 691: 126.75, 692: 126.78, 693: 127.76, 694: 132.27, 695: 128.76, 696: 130.27, 697: 128.69, 698: 125.1, 699: 125.34, 700: 129.95, 701: 126.12, 702: 126.58, 703: 126.92, 704: 128.08, 705: 129.37, 706: 124.83, 707: 124.37, 708: 124.35, 709: 127.66, 710: 124.31, 711: 124.44, 712: 126.88, 713: 126.06, 714: 121.65}, 'low': {665: 121.43, 666: 121.15, 667: 125.55, 668: 125.8, 669: 123.07, 670: 125.22, 671: 124.51, 672: 124.87, 673: 121.85, 674: 127.14, 675: 126.29, 676: 123.55, 677: 130.33, 678: 129.96, 679: 127.41, 680: 127.18, 681: 126.93, 682: 126.32, 683: 128.26, 684: 125.98, 685: 121.56, 686: 123.63, 687: 119.45, 688: 125.36, 689: 120.66, 690: 123.45, 691: 124.09, 692: 124.32, 693: 125.12, 694: 126.75, 695: 126.35, 696: 126.39, 697: 124.21, 698: 119.86, 699: 122.18, 700: 124.44, 701: 120.59, 702: 123.16, 703: 124.53, 704: 125.68, 705: 124.13, 706: 119.68, 707: 122.18, 708: 121.04, 709: 123.32, 710: 119.66, 711: 120.9, 712: 122.73, 713: 122.28, 714: 119.03}, 'close': {665: 122.56, 666: 125.24, 667: 126.67, 668: 126.9, 669: 125.99, 670: 126.77, 671: 126.22, 672: 127.0, 673: 127.48, 674: 129.11, 675: 128.97, 676: 128.31, 677: 131.43, 678: 131.07, 679: 129.17, 680: 128.28, 681: 128.04, 682: 128.67, 683: 129.38, 684: 127.08, 685: 125.3, 686: 124.73, 687: 123.96, 688: 126.48, 689: 124.99, 690: 126.23, 691: 125.2, 692: 125.7, 693: 126.23, 694: 127.85, 695: 127.48, 696: 127.47, 697: 125.32, 698: 124.02, 699: 124.24, 700: 125.51, 701: 125.01, 702: 125.47, 703: 125.63, 704: 126.78, 705: 125.24, 706: 123.74, 707: 123.28, 708: 123.25, 709: 124.44, 710: 123.21, 711: 123.33, 712: 123.84, 713: 123.39, 714: 120.1}, 'volume': {665: 901192.0, 666: 891312.0, 667: 871264.0, 668: 868242.0, 669: 870383.0, 670: 888569.0, 671: 875965.0, 672: 918221.0, 673: 925776.0, 674: 942011.0, 675: 935814.0, 676: 970068.0, 677: 965842.0, 678: 993801.0, 679: 975017.0, 680: 973536.0, 681: 945907.0, 682: 978397.0, 683: 952294.0, 684: 948830.0, 685: 949372.0, 686: 920231.0, 687: 912187.0, 688: 901702.0, 689: 840799.0, 690: 848902.0, 691: 862183.0, 692: 887078.0, 693: 912306.0, 694: 908165.0, 695: 910653.0, 696: 924431.0, 697: 915573.0, 698: 906258.0, 699: 887726.0, 700: 831549.0, 701: 791632.0, 702: 802192.0, 703: 787464.0, 704: 803081.0, 705: 806098.0, 706: 816758.0, 707: 783913.0, 708: 806373.0, 709: 793032.0, 710: 764997.0, 711: 764057.0, 712: 764744.0, 713: 717250.0, 714: 756910.0}})\n",
      "***********************************************\n",
      "Div(children=Graph(id='f1', figure=Figure({\n",
      "    'data': [], 'layout': {}\n",
      "})), id='f1_html', className='item1', style={'line-height': '40px', 'border': 'none #000', 'textAlign': 'center', 'vertical-align': 'middle'})\n"
     ]
    }
   ],
   "source": [
    "l = dgc.flatten_layout(app)\n",
    "for c in l:\n",
    "    print('***********************************************')\n",
    "    print(c)"
   ]
  }
 ],
 "metadata": {
  "kernelspec": {
   "display_name": "Python 3",
   "language": "python",
   "name": "python3"
  },
  "language_info": {
   "codemirror_mode": {
    "name": "ipython",
    "version": 3
   },
   "file_extension": ".py",
   "mimetype": "text/x-python",
   "name": "python",
   "nbconvert_exporter": "python",
   "pygments_lexer": "ipython3",
   "version": "3.6.5"
  }
 },
 "nbformat": 4,
 "nbformat_minor": 2
}
