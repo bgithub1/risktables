{
 "cells": [
  {
   "cell_type": "markdown",
   "metadata": {},
   "source": [
    "## A toy example of using the dgrid_components.py module in risktables, for both plots inside a jupyter notebook, and to run a web app from a jupyter notebook"
   ]
  },
  {
   "cell_type": "code",
   "execution_count": 1,
   "metadata": {},
   "outputs": [
    {
     "data": {
      "text/html": [
       "<script>requirejs.config({paths: { 'plotly': ['https://cdn.plot.ly/plotly-latest.min']},});if(!window.Plotly) {{require(['plotly'],function(plotly) {window.Plotly=plotly;});}}</script>"
      ],
      "text/vnd.plotly.v1+html": [
       "<script>requirejs.config({paths: { 'plotly': ['https://cdn.plot.ly/plotly-latest.min']},});if(!window.Plotly) {{require(['plotly'],function(plotly) {window.Plotly=plotly;});}}</script>"
      ]
     },
     "metadata": {},
     "output_type": "display_data"
    }
   ],
   "source": [
    "from IPython.display import display\n",
    "import dash\n",
    "import sys,os\n",
    "if  not os.path.abspath('./') in sys.path:\n",
    "    sys.path.append(os.path.abspath('./'))\n",
    "if  not os.path.abspath('../') in sys.path:\n",
    "    sys.path.append(os.path.abspath('../'))\n",
    "\n",
    "import datetime\n",
    "import pandas as pd\n",
    "import numpy as np\n",
    "\n",
    "from risktables import dgrid_components as dgc\n",
    "import matplotlib.pyplot as plt\n",
    "import plotly.graph_objs as go\n",
    "from plotly.offline import  init_notebook_mode, iplot\n",
    "init_notebook_mode(connected=True)\n",
    "import pathlib\n",
    "SYSTEM_HOME = pathlib.Path.home()"
   ]
  },
  {
   "cell_type": "markdown",
   "metadata": {},
   "source": [
    "### Generate a Pandas DataFrame ( ```df_pseudo```), with open, high, low and close data generated from a random walk process."
   ]
  },
  {
   "cell_type": "code",
   "execution_count": 2,
   "metadata": {},
   "outputs": [],
   "source": [
    "all_days=1000\n",
    "end_date = datetime.datetime.now()\n",
    "beg_date = end_date - datetime.timedelta(all_days)\n",
    "date_series = pd.bdate_range(beg_date,end_date)\n",
    "trade_dates = date_series.astype(str).str.replace('-','').astype(int)\n",
    "n = len(trade_dates)\n",
    "changes = np.random.lognormal(0,.15/256**.5,n-1)\n",
    "initial = np.array([100.0])\n",
    "closes = np.cumprod(np.append(initial,changes)).round(2)\n",
    "open_ranges = np.random.lognormal(0,.3/256**.5,n)\n",
    "opens = (closes * open_ranges).round(2)\n",
    "low_ranges = np.random.lognormal(.1,.2/256**.5,n)\n",
    "lows = np.array([min(x,y) for x,y in zip(opens,closes)]) - low_ranges\n",
    "lows = lows.round(2)\n",
    "high_ranges = np.random.lognormal(.1,.2/256**.5,n)\n",
    "highs = np.array([max(x,y) for x,y in zip(opens,closes)]) + high_ranges\n",
    "highs = highs.round(2)\n",
    "\n",
    "volume_changes = np.random.lognormal(0,.50/256**.5,n-1)\n",
    "initial_volume = np.array([1000000.0]) * np.random.lognormal(0,.15/256**.5)\n",
    "volumes = np.cumprod(np.append(initial_volume,volume_changes)).round(0)\n",
    "\n",
    "\n",
    "df_pseudo = dgc.make_df({'date':trade_dates,'open':opens,'high':highs,'low':lows,\n",
    "                  'close':closes,'volume':volumes})\n"
   ]
  },
  {
   "cell_type": "markdown",
   "metadata": {},
   "source": [
    "### Plot candlesticks using the data from ```df_pseudo```"
   ]
  },
  {
   "cell_type": "code",
   "execution_count": 8,
   "metadata": {},
   "outputs": [
    {
     "data": {
      "text/plain": [
       "28223"
      ]
     },
     "execution_count": 8,
     "metadata": {},
     "output_type": "execute_result"
    }
   ],
   "source": [
    "import json\n",
    "import plotly\n",
    "f = json.dumps(fig1.get_figure(), cls=plotly.utils.PlotlyJSONEncoder)\n",
    "open(f'{SYSTEM_HOME}/mydata5.json','w').write(f)\n"
   ]
  },
  {
   "cell_type": "code",
   "execution_count": 3,
   "metadata": {
    "scrolled": true
   },
   "outputs": [
    {
     "data": {
      "application/vnd.plotly.v1+json": {
       "data": [
        {
         "hoverinfo": "text",
         "mode": "markers",
         "text": [
          "date: 20190522.0<br>open: 101.31<br>high: 102.45<br>low: 99.27<br>close: 100.36<br>volume: 508189.0",
          "date: 20190523.0<br>open: 97.34<br>high: 100.48<br>low: 96.22<br>close: 99.38<br>volume: 505512.0",
          "date: 20190524.0<br>open: 103.39<br>high: 104.48<br>low: 98.01<br>close: 99.11<br>volume: 515390.0",
          "date: 20190527.0<br>open: 99.18<br>high: 100.42<br>low: 98.08<br>close: 99.33<br>volume: 517170.0",
          "date: 20190528.0<br>open: 100.58<br>high: 101.68<br>low: 98.64<br>close: 99.76<br>volume: 507294.0",
          "date: 20190529.0<br>open: 97.85<br>high: 99.06<br>low: 96.73<br>close: 97.96<br>volume: 524174.0",
          "date: 20190530.0<br>open: 99.82<br>high: 100.91<br>low: 96.93<br>close: 98.03<br>volume: 522681.0",
          "date: 20190531.0<br>open: 98.07<br>high: 99.18<br>low: 96.93<br>close: 98.02<br>volume: 513723.0",
          "date: 20190603.0<br>open: 97.31<br>high: 98.43<br>low: 96.13<br>close: 97.24<br>volume: 524228.0",
          "date: 20190604.0<br>open: 101.14<br>high: 102.24<br>low: 95.85<br>close: 96.95<br>volume: 544952.0",
          "date: 20190605.0<br>open: 97.79<br>high: 98.89<br>low: 96.32<br>close: 97.41<br>volume: 533178.0",
          "date: 20190606.0<br>open: 95.48<br>high: 97.9<br>low: 94.38<br>close: 96.77<br>volume: 542283.0",
          "date: 20190607.0<br>open: 95.64<br>high: 97.73<br>low: 94.54<br>close: 96.63<br>volume: 526258.0",
          "date: 20190610.0<br>open: 98.33<br>high: 99.44<br>low: 95.28<br>close: 96.4<br>volume: 538453.0",
          "date: 20190611.0<br>open: 93.35<br>high: 96.74<br>low: 92.24<br>close: 95.63<br>volume: 561944.0",
          "date: 20190612.0<br>open: 98.92<br>high: 100.03<br>low: 96.14<br>close: 97.23<br>volume: 588815.0",
          "date: 20190613.0<br>open: 97.41<br>high: 98.53<br>low: 94.99<br>close: 96.1<br>volume: 571027.0",
          "date: 20190614.0<br>open: 96.68<br>high: 98.67<br>low: 95.58<br>close: 97.59<br>volume: 573271.0",
          "date: 20190617.0<br>open: 96.37<br>high: 98.49<br>low: 95.26<br>close: 97.37<br>volume: 570063.0",
          "date: 20190618.0<br>open: 91.31<br>high: 96.08<br>low: 90.21<br>close: 94.97<br>volume: 598076.0",
          "date: 20190619.0<br>open: 97.23<br>high: 98.34<br>low: 93.92<br>close: 95.03<br>volume: 601930.0",
          "date: 20190620.0<br>open: 95.25<br>high: 97.36<br>low: 94.12<br>close: 96.27<br>volume: 594289.0",
          "date: 20190621.0<br>open: 96.87<br>high: 98.28<br>low: 95.74<br>close: 97.2<br>volume: 594720.0",
          "date: 20190624.0<br>open: 93.57<br>high: 97.28<br>low: 92.45<br>close: 96.19<br>volume: 606445.0",
          "date: 20190625.0<br>open: 93.84<br>high: 96.82<br>low: 92.75<br>close: 95.73<br>volume: 629321.0",
          "date: 20190626.0<br>open: 98.89<br>high: 99.98<br>low: 95.29<br>close: 96.41<br>volume: 637696.0",
          "date: 20190627.0<br>open: 92.71<br>high: 97.21<br>low: 91.61<br>close: 96.13<br>volume: 640868.0",
          "date: 20190628.0<br>open: 98.79<br>high: 99.89<br>low: 95.92<br>close: 97.03<br>volume: 645630.0",
          "date: 20190701.0<br>open: 97.16<br>high: 98.28<br>low: 95.81<br>close: 96.92<br>volume: 627348.0",
          "date: 20190702.0<br>open: 98.87<br>high: 99.98<br>low: 95.07<br>close: 96.15<br>volume: 591945.0",
          "date: 20190703.0<br>open: 95.56<br>high: 97.73<br>low: 94.46<br>close: 96.62<br>volume: 564548.0",
          "date: 20190704.0<br>open: 96.15<br>high: 97.25<br>low: 93.78<br>close: 94.88<br>volume: 550666.0",
          "date: 20190705.0<br>open: 95.24<br>high: 96.33<br>low: 93.59<br>close: 94.72<br>volume: 538959.0",
          "date: 20190708.0<br>open: 94.77<br>high: 97.08<br>low: 93.68<br>close: 95.98<br>volume: 518851.0",
          "date: 20190709.0<br>open: 99.26<br>high: 100.36<br>low: 95.14<br>close: 96.24<br>volume: 508969.0",
          "date: 20190710.0<br>open: 95.7<br>high: 98.47<br>low: 94.63<br>close: 97.36<br>volume: 524536.0",
          "date: 20190711.0<br>open: 95.28<br>high: 98.08<br>low: 94.19<br>close: 96.99<br>volume: 557674.0",
          "date: 20190712.0<br>open: 97.34<br>high: 98.76<br>low: 96.23<br>close: 97.64<br>volume: 547407.0",
          "date: 20190715.0<br>open: 97.46<br>high: 99.53<br>low: 96.35<br>close: 98.4<br>volume: 566988.0",
          "date: 20190716.0<br>open: 98.06<br>high: 101.23<br>low: 96.96<br>close: 100.11<br>volume: 570074.0",
          "date: 20190717.0<br>open: 98.97<br>high: 101.96<br>low: 97.87<br>close: 100.84<br>volume: 588760.0",
          "date: 20190718.0<br>open: 102.93<br>high: 104.06<br>low: 100.03<br>close: 101.14<br>volume: 565762.0",
          "date: 20190719.0<br>open: 102.2<br>high: 103.33<br>low: 100.59<br>close: 101.72<br>volume: 580302.0",
          "date: 20190722.0<br>open: 102.76<br>high: 103.86<br>low: 99.92<br>close: 101.02<br>volume: 583273.0",
          "date: 20190723.0<br>open: 101.01<br>high: 102.89<br>low: 99.92<br>close: 101.79<br>volume: 599763.0",
          "date: 20190724.0<br>open: 100.54<br>high: 102.4<br>low: 99.45<br>close: 101.32<br>volume: 572154.0",
          "date: 20190725.0<br>open: 100.85<br>high: 103.24<br>low: 99.73<br>close: 102.13<br>volume: 595131.0",
          "date: 20190726.0<br>open: 103.01<br>high: 104.72<br>low: 101.89<br>close: 103.62<br>volume: 616860.0",
          "date: 20190729.0<br>open: 103.63<br>high: 104.74<br>low: 101.68<br>close: 102.8<br>volume: 640899.0",
          "date: 20190730.0<br>open: 99.29<br>high: 103.15<br>low: 98.2<br>close: 102.04<br>volume: 615994.0"
         ],
         "type": "scatter",
         "uid": "d60fe08c-b2f0-11e9-8863-8c859025e7f9",
         "x": [
          1,
          2,
          3,
          4,
          5,
          6,
          7,
          8,
          9,
          10,
          11,
          12,
          13,
          14,
          15,
          16,
          17,
          18,
          19,
          20,
          21,
          22,
          23,
          24,
          25,
          26,
          27,
          28,
          29,
          30,
          31,
          32,
          33,
          34,
          35,
          36,
          37,
          38,
          39,
          40,
          41,
          42,
          43,
          44,
          45,
          46,
          47,
          48,
          49,
          50
         ],
         "xaxis": "x",
         "y": [
          100.36,
          99.38,
          99.11,
          99.33,
          99.76,
          97.96,
          98.03,
          98.02,
          97.24,
          96.95,
          97.41,
          96.77,
          96.63,
          96.4,
          95.63,
          97.23,
          96.1,
          97.59,
          97.37,
          94.97,
          95.03,
          96.27,
          97.2,
          96.19,
          95.73,
          96.41,
          96.13,
          97.03,
          96.92,
          96.15,
          96.62,
          94.88,
          94.72,
          95.98,
          96.24,
          97.36,
          96.99,
          97.64,
          98.4,
          100.11,
          100.84,
          101.14,
          101.72,
          101.02,
          101.79,
          101.32,
          102.13,
          103.62,
          102.8,
          102.04
         ],
         "yaxis": "y"
        },
        {
         "type": "bar",
         "uid": "d61198f0-b2f0-11e9-a62a-8c859025e7f9",
         "width": 0.5,
         "x": [
          1,
          2,
          3,
          4,
          5,
          6,
          7,
          8,
          9,
          10,
          11,
          12,
          13,
          14,
          15,
          16,
          17,
          18,
          19,
          20,
          21,
          22,
          23,
          24,
          25,
          26,
          27,
          28,
          29,
          30,
          31,
          32,
          33,
          34,
          35,
          36,
          37,
          38,
          39,
          40,
          41,
          42,
          43,
          44,
          45,
          46,
          47,
          48,
          49,
          50
         ],
         "xaxis": "x",
         "y": [
          508189,
          505512,
          515390,
          517170,
          507294,
          524174,
          522681,
          513723,
          524228,
          544952,
          533178,
          542283,
          526258,
          538453,
          561944,
          588815,
          571027,
          573271,
          570063,
          598076,
          601930,
          594289,
          594720,
          606445,
          629321,
          637696,
          640868,
          645630,
          627348,
          591945,
          564548,
          550666,
          538959,
          518851,
          508969,
          524536,
          557674,
          547407,
          566988,
          570074,
          588760,
          565762,
          580302,
          583273,
          599763,
          572154,
          595131,
          616860,
          640899,
          615994
         ],
         "yaxis": "y2"
        }
       ],
       "layout": {
        "margin": {
         "t": 100
        },
        "shapes": [
         {
          "line": {
           "color": "rgb(55, 128, 191)",
           "width": 1.5
          },
          "type": "line",
          "x0": 1,
          "x1": 1,
          "y0": 99.27,
          "y1": 100.36
         },
         {
          "line": {
           "color": "rgb(55, 128, 191)",
           "width": 1.5
          },
          "type": "line",
          "x0": 2,
          "x1": 2,
          "y0": 96.22,
          "y1": 97.34
         },
         {
          "line": {
           "color": "rgb(55, 128, 191)",
           "width": 1.5
          },
          "type": "line",
          "x0": 3,
          "x1": 3,
          "y0": 98.01,
          "y1": 99.11
         },
         {
          "line": {
           "color": "rgb(55, 128, 191)",
           "width": 1.5
          },
          "type": "line",
          "x0": 4,
          "x1": 4,
          "y0": 98.08,
          "y1": 99.18
         },
         {
          "line": {
           "color": "rgb(55, 128, 191)",
           "width": 1.5
          },
          "type": "line",
          "x0": 5,
          "x1": 5,
          "y0": 98.64,
          "y1": 99.76
         },
         {
          "line": {
           "color": "rgb(55, 128, 191)",
           "width": 1.5
          },
          "type": "line",
          "x0": 6,
          "x1": 6,
          "y0": 96.73,
          "y1": 97.85
         },
         {
          "line": {
           "color": "rgb(55, 128, 191)",
           "width": 1.5
          },
          "type": "line",
          "x0": 7,
          "x1": 7,
          "y0": 96.93,
          "y1": 98.03
         },
         {
          "line": {
           "color": "rgb(55, 128, 191)",
           "width": 1.5
          },
          "type": "line",
          "x0": 8,
          "x1": 8,
          "y0": 96.93,
          "y1": 98.02
         },
         {
          "line": {
           "color": "rgb(55, 128, 191)",
           "width": 1.5
          },
          "type": "line",
          "x0": 9,
          "x1": 9,
          "y0": 96.13,
          "y1": 97.24
         },
         {
          "line": {
           "color": "rgb(55, 128, 191)",
           "width": 1.5
          },
          "type": "line",
          "x0": 10,
          "x1": 10,
          "y0": 95.85,
          "y1": 96.95
         },
         {
          "line": {
           "color": "rgb(55, 128, 191)",
           "width": 1.5
          },
          "type": "line",
          "x0": 11,
          "x1": 11,
          "y0": 96.32,
          "y1": 97.41
         },
         {
          "line": {
           "color": "rgb(55, 128, 191)",
           "width": 1.5
          },
          "type": "line",
          "x0": 12,
          "x1": 12,
          "y0": 94.38,
          "y1": 95.48
         },
         {
          "line": {
           "color": "rgb(55, 128, 191)",
           "width": 1.5
          },
          "type": "line",
          "x0": 13,
          "x1": 13,
          "y0": 94.54,
          "y1": 95.64
         },
         {
          "line": {
           "color": "rgb(55, 128, 191)",
           "width": 1.5
          },
          "type": "line",
          "x0": 14,
          "x1": 14,
          "y0": 95.28,
          "y1": 96.4
         },
         {
          "line": {
           "color": "rgb(55, 128, 191)",
           "width": 1.5
          },
          "type": "line",
          "x0": 15,
          "x1": 15,
          "y0": 92.24,
          "y1": 93.35
         },
         {
          "line": {
           "color": "rgb(55, 128, 191)",
           "width": 1.5
          },
          "type": "line",
          "x0": 16,
          "x1": 16,
          "y0": 96.14,
          "y1": 97.23
         },
         {
          "line": {
           "color": "rgb(55, 128, 191)",
           "width": 1.5
          },
          "type": "line",
          "x0": 17,
          "x1": 17,
          "y0": 94.99,
          "y1": 96.1
         },
         {
          "line": {
           "color": "rgb(55, 128, 191)",
           "width": 1.5
          },
          "type": "line",
          "x0": 18,
          "x1": 18,
          "y0": 95.58,
          "y1": 96.68
         },
         {
          "line": {
           "color": "rgb(55, 128, 191)",
           "width": 1.5
          },
          "type": "line",
          "x0": 19,
          "x1": 19,
          "y0": 95.26,
          "y1": 96.37
         },
         {
          "line": {
           "color": "rgb(55, 128, 191)",
           "width": 1.5
          },
          "type": "line",
          "x0": 20,
          "x1": 20,
          "y0": 90.21,
          "y1": 91.31
         },
         {
          "line": {
           "color": "rgb(55, 128, 191)",
           "width": 1.5
          },
          "type": "line",
          "x0": 21,
          "x1": 21,
          "y0": 93.92,
          "y1": 95.03
         },
         {
          "line": {
           "color": "rgb(55, 128, 191)",
           "width": 1.5
          },
          "type": "line",
          "x0": 22,
          "x1": 22,
          "y0": 94.12,
          "y1": 95.25
         },
         {
          "line": {
           "color": "rgb(55, 128, 191)",
           "width": 1.5
          },
          "type": "line",
          "x0": 23,
          "x1": 23,
          "y0": 95.74,
          "y1": 96.87
         },
         {
          "line": {
           "color": "rgb(55, 128, 191)",
           "width": 1.5
          },
          "type": "line",
          "x0": 24,
          "x1": 24,
          "y0": 92.45,
          "y1": 93.57
         },
         {
          "line": {
           "color": "rgb(55, 128, 191)",
           "width": 1.5
          },
          "type": "line",
          "x0": 25,
          "x1": 25,
          "y0": 92.75,
          "y1": 93.84
         },
         {
          "line": {
           "color": "rgb(55, 128, 191)",
           "width": 1.5
          },
          "type": "line",
          "x0": 26,
          "x1": 26,
          "y0": 95.29,
          "y1": 96.41
         },
         {
          "line": {
           "color": "rgb(55, 128, 191)",
           "width": 1.5
          },
          "type": "line",
          "x0": 27,
          "x1": 27,
          "y0": 91.61,
          "y1": 92.71
         },
         {
          "line": {
           "color": "rgb(55, 128, 191)",
           "width": 1.5
          },
          "type": "line",
          "x0": 28,
          "x1": 28,
          "y0": 95.92,
          "y1": 97.03
         },
         {
          "line": {
           "color": "rgb(55, 128, 191)",
           "width": 1.5
          },
          "type": "line",
          "x0": 29,
          "x1": 29,
          "y0": 95.81,
          "y1": 96.92
         },
         {
          "line": {
           "color": "rgb(55, 128, 191)",
           "width": 1.5
          },
          "type": "line",
          "x0": 30,
          "x1": 30,
          "y0": 95.07,
          "y1": 96.15
         },
         {
          "line": {
           "color": "rgb(55, 128, 191)",
           "width": 1.5
          },
          "type": "line",
          "x0": 31,
          "x1": 31,
          "y0": 94.46,
          "y1": 95.56
         },
         {
          "line": {
           "color": "rgb(55, 128, 191)",
           "width": 1.5
          },
          "type": "line",
          "x0": 32,
          "x1": 32,
          "y0": 93.78,
          "y1": 94.88
         },
         {
          "line": {
           "color": "rgb(55, 128, 191)",
           "width": 1.5
          },
          "type": "line",
          "x0": 33,
          "x1": 33,
          "y0": 93.59,
          "y1": 94.72
         },
         {
          "line": {
           "color": "rgb(55, 128, 191)",
           "width": 1.5
          },
          "type": "line",
          "x0": 34,
          "x1": 34,
          "y0": 93.68,
          "y1": 94.77
         },
         {
          "line": {
           "color": "rgb(55, 128, 191)",
           "width": 1.5
          },
          "type": "line",
          "x0": 35,
          "x1": 35,
          "y0": 95.14,
          "y1": 96.24
         },
         {
          "line": {
           "color": "rgb(55, 128, 191)",
           "width": 1.5
          },
          "type": "line",
          "x0": 36,
          "x1": 36,
          "y0": 94.63,
          "y1": 95.7
         },
         {
          "line": {
           "color": "rgb(55, 128, 191)",
           "width": 1.5
          },
          "type": "line",
          "x0": 37,
          "x1": 37,
          "y0": 94.19,
          "y1": 95.28
         },
         {
          "line": {
           "color": "rgb(55, 128, 191)",
           "width": 1.5
          },
          "type": "line",
          "x0": 38,
          "x1": 38,
          "y0": 96.23,
          "y1": 97.34
         },
         {
          "line": {
           "color": "rgb(55, 128, 191)",
           "width": 1.5
          },
          "type": "line",
          "x0": 39,
          "x1": 39,
          "y0": 96.35,
          "y1": 97.46
         },
         {
          "line": {
           "color": "rgb(55, 128, 191)",
           "width": 1.5
          },
          "type": "line",
          "x0": 40,
          "x1": 40,
          "y0": 96.96,
          "y1": 98.06
         },
         {
          "line": {
           "color": "rgb(55, 128, 191)",
           "width": 1.5
          },
          "type": "line",
          "x0": 41,
          "x1": 41,
          "y0": 97.87,
          "y1": 98.97
         },
         {
          "line": {
           "color": "rgb(55, 128, 191)",
           "width": 1.5
          },
          "type": "line",
          "x0": 42,
          "x1": 42,
          "y0": 100.03,
          "y1": 101.14
         },
         {
          "line": {
           "color": "rgb(55, 128, 191)",
           "width": 1.5
          },
          "type": "line",
          "x0": 43,
          "x1": 43,
          "y0": 100.59,
          "y1": 101.72
         },
         {
          "line": {
           "color": "rgb(55, 128, 191)",
           "width": 1.5
          },
          "type": "line",
          "x0": 44,
          "x1": 44,
          "y0": 99.92,
          "y1": 101.02
         },
         {
          "line": {
           "color": "rgb(55, 128, 191)",
           "width": 1.5
          },
          "type": "line",
          "x0": 45,
          "x1": 45,
          "y0": 99.92,
          "y1": 101.01
         },
         {
          "line": {
           "color": "rgb(55, 128, 191)",
           "width": 1.5
          },
          "type": "line",
          "x0": 46,
          "x1": 46,
          "y0": 99.45,
          "y1": 100.54
         },
         {
          "line": {
           "color": "rgb(55, 128, 191)",
           "width": 1.5
          },
          "type": "line",
          "x0": 47,
          "x1": 47,
          "y0": 99.73,
          "y1": 100.85
         },
         {
          "line": {
           "color": "rgb(55, 128, 191)",
           "width": 1.5
          },
          "type": "line",
          "x0": 48,
          "x1": 48,
          "y0": 101.89,
          "y1": 103.01
         },
         {
          "line": {
           "color": "rgb(55, 128, 191)",
           "width": 1.5
          },
          "type": "line",
          "x0": 49,
          "x1": 49,
          "y0": 101.68,
          "y1": 102.8
         },
         {
          "line": {
           "color": "rgb(55, 128, 191)",
           "width": 1.5
          },
          "type": "line",
          "x0": 50,
          "x1": 50,
          "y0": 98.2,
          "y1": 99.29
         },
         {
          "fillcolor": "rgba(255, 0, 0, 0.6)",
          "line": {
           "color": "rgb(55, 128, 191)",
           "width": 1
          },
          "type": "rect",
          "x0": 0.75,
          "x1": 1.25,
          "xref": "x",
          "y0": 100.36,
          "y1": 101.31,
          "yref": "y"
         },
         {
          "fillcolor": "rgba(0, 204, 0, 0.6)",
          "line": {
           "color": "rgb(55, 128, 191)",
           "width": 1
          },
          "type": "rect",
          "x0": 1.75,
          "x1": 2.25,
          "xref": "x",
          "y0": 97.34,
          "y1": 99.38,
          "yref": "y"
         },
         {
          "fillcolor": "rgba(255, 0, 0, 0.6)",
          "line": {
           "color": "rgb(55, 128, 191)",
           "width": 1
          },
          "type": "rect",
          "x0": 2.75,
          "x1": 3.25,
          "xref": "x",
          "y0": 99.11,
          "y1": 103.39,
          "yref": "y"
         },
         {
          "fillcolor": "rgba(0, 204, 0, 0.6)",
          "line": {
           "color": "rgb(55, 128, 191)",
           "width": 1
          },
          "type": "rect",
          "x0": 3.75,
          "x1": 4.25,
          "xref": "x",
          "y0": 99.18,
          "y1": 99.33,
          "yref": "y"
         },
         {
          "fillcolor": "rgba(255, 0, 0, 0.6)",
          "line": {
           "color": "rgb(55, 128, 191)",
           "width": 1
          },
          "type": "rect",
          "x0": 4.75,
          "x1": 5.25,
          "xref": "x",
          "y0": 99.76,
          "y1": 100.58,
          "yref": "y"
         },
         {
          "fillcolor": "rgba(0, 204, 0, 0.6)",
          "line": {
           "color": "rgb(55, 128, 191)",
           "width": 1
          },
          "type": "rect",
          "x0": 5.75,
          "x1": 6.25,
          "xref": "x",
          "y0": 97.85,
          "y1": 97.96,
          "yref": "y"
         },
         {
          "fillcolor": "rgba(255, 0, 0, 0.6)",
          "line": {
           "color": "rgb(55, 128, 191)",
           "width": 1
          },
          "type": "rect",
          "x0": 6.75,
          "x1": 7.25,
          "xref": "x",
          "y0": 98.03,
          "y1": 99.82,
          "yref": "y"
         },
         {
          "fillcolor": "rgba(255, 0, 0, 0.6)",
          "line": {
           "color": "rgb(55, 128, 191)",
           "width": 1
          },
          "type": "rect",
          "x0": 7.75,
          "x1": 8.25,
          "xref": "x",
          "y0": 98.02,
          "y1": 98.07,
          "yref": "y"
         },
         {
          "fillcolor": "rgba(255, 0, 0, 0.6)",
          "line": {
           "color": "rgb(55, 128, 191)",
           "width": 1
          },
          "type": "rect",
          "x0": 8.75,
          "x1": 9.25,
          "xref": "x",
          "y0": 97.24,
          "y1": 97.31,
          "yref": "y"
         },
         {
          "fillcolor": "rgba(255, 0, 0, 0.6)",
          "line": {
           "color": "rgb(55, 128, 191)",
           "width": 1
          },
          "type": "rect",
          "x0": 9.75,
          "x1": 10.25,
          "xref": "x",
          "y0": 96.95,
          "y1": 101.14,
          "yref": "y"
         },
         {
          "fillcolor": "rgba(255, 0, 0, 0.6)",
          "line": {
           "color": "rgb(55, 128, 191)",
           "width": 1
          },
          "type": "rect",
          "x0": 10.75,
          "x1": 11.25,
          "xref": "x",
          "y0": 97.41,
          "y1": 97.79,
          "yref": "y"
         },
         {
          "fillcolor": "rgba(0, 204, 0, 0.6)",
          "line": {
           "color": "rgb(55, 128, 191)",
           "width": 1
          },
          "type": "rect",
          "x0": 11.75,
          "x1": 12.25,
          "xref": "x",
          "y0": 95.48,
          "y1": 96.77,
          "yref": "y"
         },
         {
          "fillcolor": "rgba(0, 204, 0, 0.6)",
          "line": {
           "color": "rgb(55, 128, 191)",
           "width": 1
          },
          "type": "rect",
          "x0": 12.75,
          "x1": 13.25,
          "xref": "x",
          "y0": 95.64,
          "y1": 96.63,
          "yref": "y"
         },
         {
          "fillcolor": "rgba(255, 0, 0, 0.6)",
          "line": {
           "color": "rgb(55, 128, 191)",
           "width": 1
          },
          "type": "rect",
          "x0": 13.75,
          "x1": 14.25,
          "xref": "x",
          "y0": 96.4,
          "y1": 98.33,
          "yref": "y"
         },
         {
          "fillcolor": "rgba(0, 204, 0, 0.6)",
          "line": {
           "color": "rgb(55, 128, 191)",
           "width": 1
          },
          "type": "rect",
          "x0": 14.75,
          "x1": 15.25,
          "xref": "x",
          "y0": 93.35,
          "y1": 95.63,
          "yref": "y"
         },
         {
          "fillcolor": "rgba(255, 0, 0, 0.6)",
          "line": {
           "color": "rgb(55, 128, 191)",
           "width": 1
          },
          "type": "rect",
          "x0": 15.75,
          "x1": 16.25,
          "xref": "x",
          "y0": 97.23,
          "y1": 98.92,
          "yref": "y"
         },
         {
          "fillcolor": "rgba(255, 0, 0, 0.6)",
          "line": {
           "color": "rgb(55, 128, 191)",
           "width": 1
          },
          "type": "rect",
          "x0": 16.75,
          "x1": 17.25,
          "xref": "x",
          "y0": 96.1,
          "y1": 97.41,
          "yref": "y"
         },
         {
          "fillcolor": "rgba(0, 204, 0, 0.6)",
          "line": {
           "color": "rgb(55, 128, 191)",
           "width": 1
          },
          "type": "rect",
          "x0": 17.75,
          "x1": 18.25,
          "xref": "x",
          "y0": 96.68,
          "y1": 97.59,
          "yref": "y"
         },
         {
          "fillcolor": "rgba(0, 204, 0, 0.6)",
          "line": {
           "color": "rgb(55, 128, 191)",
           "width": 1
          },
          "type": "rect",
          "x0": 18.75,
          "x1": 19.25,
          "xref": "x",
          "y0": 96.37,
          "y1": 97.37,
          "yref": "y"
         },
         {
          "fillcolor": "rgba(0, 204, 0, 0.6)",
          "line": {
           "color": "rgb(55, 128, 191)",
           "width": 1
          },
          "type": "rect",
          "x0": 19.75,
          "x1": 20.25,
          "xref": "x",
          "y0": 91.31,
          "y1": 94.97,
          "yref": "y"
         },
         {
          "fillcolor": "rgba(255, 0, 0, 0.6)",
          "line": {
           "color": "rgb(55, 128, 191)",
           "width": 1
          },
          "type": "rect",
          "x0": 20.75,
          "x1": 21.25,
          "xref": "x",
          "y0": 95.03,
          "y1": 97.23,
          "yref": "y"
         },
         {
          "fillcolor": "rgba(0, 204, 0, 0.6)",
          "line": {
           "color": "rgb(55, 128, 191)",
           "width": 1
          },
          "type": "rect",
          "x0": 21.75,
          "x1": 22.25,
          "xref": "x",
          "y0": 95.25,
          "y1": 96.27,
          "yref": "y"
         },
         {
          "fillcolor": "rgba(0, 204, 0, 0.6)",
          "line": {
           "color": "rgb(55, 128, 191)",
           "width": 1
          },
          "type": "rect",
          "x0": 22.75,
          "x1": 23.25,
          "xref": "x",
          "y0": 96.87,
          "y1": 97.2,
          "yref": "y"
         },
         {
          "fillcolor": "rgba(0, 204, 0, 0.6)",
          "line": {
           "color": "rgb(55, 128, 191)",
           "width": 1
          },
          "type": "rect",
          "x0": 23.75,
          "x1": 24.25,
          "xref": "x",
          "y0": 93.57,
          "y1": 96.19,
          "yref": "y"
         },
         {
          "fillcolor": "rgba(0, 204, 0, 0.6)",
          "line": {
           "color": "rgb(55, 128, 191)",
           "width": 1
          },
          "type": "rect",
          "x0": 24.75,
          "x1": 25.25,
          "xref": "x",
          "y0": 93.84,
          "y1": 95.73,
          "yref": "y"
         },
         {
          "fillcolor": "rgba(255, 0, 0, 0.6)",
          "line": {
           "color": "rgb(55, 128, 191)",
           "width": 1
          },
          "type": "rect",
          "x0": 25.75,
          "x1": 26.25,
          "xref": "x",
          "y0": 96.41,
          "y1": 98.89,
          "yref": "y"
         },
         {
          "fillcolor": "rgba(0, 204, 0, 0.6)",
          "line": {
           "color": "rgb(55, 128, 191)",
           "width": 1
          },
          "type": "rect",
          "x0": 26.75,
          "x1": 27.25,
          "xref": "x",
          "y0": 92.71,
          "y1": 96.13,
          "yref": "y"
         },
         {
          "fillcolor": "rgba(255, 0, 0, 0.6)",
          "line": {
           "color": "rgb(55, 128, 191)",
           "width": 1
          },
          "type": "rect",
          "x0": 27.75,
          "x1": 28.25,
          "xref": "x",
          "y0": 97.03,
          "y1": 98.79,
          "yref": "y"
         },
         {
          "fillcolor": "rgba(255, 0, 0, 0.6)",
          "line": {
           "color": "rgb(55, 128, 191)",
           "width": 1
          },
          "type": "rect",
          "x0": 28.75,
          "x1": 29.25,
          "xref": "x",
          "y0": 96.92,
          "y1": 97.16,
          "yref": "y"
         },
         {
          "fillcolor": "rgba(255, 0, 0, 0.6)",
          "line": {
           "color": "rgb(55, 128, 191)",
           "width": 1
          },
          "type": "rect",
          "x0": 29.75,
          "x1": 30.25,
          "xref": "x",
          "y0": 96.15,
          "y1": 98.87,
          "yref": "y"
         },
         {
          "fillcolor": "rgba(0, 204, 0, 0.6)",
          "line": {
           "color": "rgb(55, 128, 191)",
           "width": 1
          },
          "type": "rect",
          "x0": 30.75,
          "x1": 31.25,
          "xref": "x",
          "y0": 95.56,
          "y1": 96.62,
          "yref": "y"
         },
         {
          "fillcolor": "rgba(255, 0, 0, 0.6)",
          "line": {
           "color": "rgb(55, 128, 191)",
           "width": 1
          },
          "type": "rect",
          "x0": 31.75,
          "x1": 32.25,
          "xref": "x",
          "y0": 94.88,
          "y1": 96.15,
          "yref": "y"
         },
         {
          "fillcolor": "rgba(255, 0, 0, 0.6)",
          "line": {
           "color": "rgb(55, 128, 191)",
           "width": 1
          },
          "type": "rect",
          "x0": 32.75,
          "x1": 33.25,
          "xref": "x",
          "y0": 94.72,
          "y1": 95.24,
          "yref": "y"
         },
         {
          "fillcolor": "rgba(0, 204, 0, 0.6)",
          "line": {
           "color": "rgb(55, 128, 191)",
           "width": 1
          },
          "type": "rect",
          "x0": 33.75,
          "x1": 34.25,
          "xref": "x",
          "y0": 94.77,
          "y1": 95.98,
          "yref": "y"
         },
         {
          "fillcolor": "rgba(255, 0, 0, 0.6)",
          "line": {
           "color": "rgb(55, 128, 191)",
           "width": 1
          },
          "type": "rect",
          "x0": 34.75,
          "x1": 35.25,
          "xref": "x",
          "y0": 96.24,
          "y1": 99.26,
          "yref": "y"
         },
         {
          "fillcolor": "rgba(0, 204, 0, 0.6)",
          "line": {
           "color": "rgb(55, 128, 191)",
           "width": 1
          },
          "type": "rect",
          "x0": 35.75,
          "x1": 36.25,
          "xref": "x",
          "y0": 95.7,
          "y1": 97.36,
          "yref": "y"
         },
         {
          "fillcolor": "rgba(0, 204, 0, 0.6)",
          "line": {
           "color": "rgb(55, 128, 191)",
           "width": 1
          },
          "type": "rect",
          "x0": 36.75,
          "x1": 37.25,
          "xref": "x",
          "y0": 95.28,
          "y1": 96.99,
          "yref": "y"
         },
         {
          "fillcolor": "rgba(0, 204, 0, 0.6)",
          "line": {
           "color": "rgb(55, 128, 191)",
           "width": 1
          },
          "type": "rect",
          "x0": 37.75,
          "x1": 38.25,
          "xref": "x",
          "y0": 97.34,
          "y1": 97.64,
          "yref": "y"
         },
         {
          "fillcolor": "rgba(0, 204, 0, 0.6)",
          "line": {
           "color": "rgb(55, 128, 191)",
           "width": 1
          },
          "type": "rect",
          "x0": 38.75,
          "x1": 39.25,
          "xref": "x",
          "y0": 97.46,
          "y1": 98.4,
          "yref": "y"
         },
         {
          "fillcolor": "rgba(0, 204, 0, 0.6)",
          "line": {
           "color": "rgb(55, 128, 191)",
           "width": 1
          },
          "type": "rect",
          "x0": 39.75,
          "x1": 40.25,
          "xref": "x",
          "y0": 98.06,
          "y1": 100.11,
          "yref": "y"
         },
         {
          "fillcolor": "rgba(0, 204, 0, 0.6)",
          "line": {
           "color": "rgb(55, 128, 191)",
           "width": 1
          },
          "type": "rect",
          "x0": 40.75,
          "x1": 41.25,
          "xref": "x",
          "y0": 98.97,
          "y1": 100.84,
          "yref": "y"
         },
         {
          "fillcolor": "rgba(255, 0, 0, 0.6)",
          "line": {
           "color": "rgb(55, 128, 191)",
           "width": 1
          },
          "type": "rect",
          "x0": 41.75,
          "x1": 42.25,
          "xref": "x",
          "y0": 101.14,
          "y1": 102.93,
          "yref": "y"
         },
         {
          "fillcolor": "rgba(255, 0, 0, 0.6)",
          "line": {
           "color": "rgb(55, 128, 191)",
           "width": 1
          },
          "type": "rect",
          "x0": 42.75,
          "x1": 43.25,
          "xref": "x",
          "y0": 101.72,
          "y1": 102.2,
          "yref": "y"
         },
         {
          "fillcolor": "rgba(255, 0, 0, 0.6)",
          "line": {
           "color": "rgb(55, 128, 191)",
           "width": 1
          },
          "type": "rect",
          "x0": 43.75,
          "x1": 44.25,
          "xref": "x",
          "y0": 101.02,
          "y1": 102.76,
          "yref": "y"
         },
         {
          "fillcolor": "rgba(0, 204, 0, 0.6)",
          "line": {
           "color": "rgb(55, 128, 191)",
           "width": 1
          },
          "type": "rect",
          "x0": 44.75,
          "x1": 45.25,
          "xref": "x",
          "y0": 101.01,
          "y1": 101.79,
          "yref": "y"
         },
         {
          "fillcolor": "rgba(0, 204, 0, 0.6)",
          "line": {
           "color": "rgb(55, 128, 191)",
           "width": 1
          },
          "type": "rect",
          "x0": 45.75,
          "x1": 46.25,
          "xref": "x",
          "y0": 100.54,
          "y1": 101.32,
          "yref": "y"
         },
         {
          "fillcolor": "rgba(0, 204, 0, 0.6)",
          "line": {
           "color": "rgb(55, 128, 191)",
           "width": 1
          },
          "type": "rect",
          "x0": 46.75,
          "x1": 47.25,
          "xref": "x",
          "y0": 100.85,
          "y1": 102.13,
          "yref": "y"
         },
         {
          "fillcolor": "rgba(0, 204, 0, 0.6)",
          "line": {
           "color": "rgb(55, 128, 191)",
           "width": 1
          },
          "type": "rect",
          "x0": 47.75,
          "x1": 48.25,
          "xref": "x",
          "y0": 103.01,
          "y1": 103.62,
          "yref": "y"
         },
         {
          "fillcolor": "rgba(255, 0, 0, 0.6)",
          "line": {
           "color": "rgb(55, 128, 191)",
           "width": 1
          },
          "type": "rect",
          "x0": 48.75,
          "x1": 49.25,
          "xref": "x",
          "y0": 102.8,
          "y1": 103.63,
          "yref": "y"
         },
         {
          "fillcolor": "rgba(0, 204, 0, 0.6)",
          "line": {
           "color": "rgb(55, 128, 191)",
           "width": 1
          },
          "type": "rect",
          "x0": 49.75,
          "x1": 50.25,
          "xref": "x",
          "y0": 99.29,
          "y1": 102.04,
          "yref": "y"
         },
         {
          "line": {
           "color": "rgb(55, 128, 191)",
           "width": 1.5
          },
          "type": "line",
          "x0": 1,
          "x1": 1,
          "y0": 101.31,
          "y1": 102.45
         },
         {
          "line": {
           "color": "rgb(55, 128, 191)",
           "width": 1.5
          },
          "type": "line",
          "x0": 2,
          "x1": 2,
          "y0": 99.38,
          "y1": 100.48
         },
         {
          "line": {
           "color": "rgb(55, 128, 191)",
           "width": 1.5
          },
          "type": "line",
          "x0": 3,
          "x1": 3,
          "y0": 103.39,
          "y1": 104.48
         },
         {
          "line": {
           "color": "rgb(55, 128, 191)",
           "width": 1.5
          },
          "type": "line",
          "x0": 4,
          "x1": 4,
          "y0": 99.33,
          "y1": 100.42
         },
         {
          "line": {
           "color": "rgb(55, 128, 191)",
           "width": 1.5
          },
          "type": "line",
          "x0": 5,
          "x1": 5,
          "y0": 100.58,
          "y1": 101.68
         },
         {
          "line": {
           "color": "rgb(55, 128, 191)",
           "width": 1.5
          },
          "type": "line",
          "x0": 6,
          "x1": 6,
          "y0": 97.96,
          "y1": 99.06
         },
         {
          "line": {
           "color": "rgb(55, 128, 191)",
           "width": 1.5
          },
          "type": "line",
          "x0": 7,
          "x1": 7,
          "y0": 99.82,
          "y1": 100.91
         },
         {
          "line": {
           "color": "rgb(55, 128, 191)",
           "width": 1.5
          },
          "type": "line",
          "x0": 8,
          "x1": 8,
          "y0": 98.07,
          "y1": 99.18
         },
         {
          "line": {
           "color": "rgb(55, 128, 191)",
           "width": 1.5
          },
          "type": "line",
          "x0": 9,
          "x1": 9,
          "y0": 97.31,
          "y1": 98.43
         },
         {
          "line": {
           "color": "rgb(55, 128, 191)",
           "width": 1.5
          },
          "type": "line",
          "x0": 10,
          "x1": 10,
          "y0": 101.14,
          "y1": 102.24
         },
         {
          "line": {
           "color": "rgb(55, 128, 191)",
           "width": 1.5
          },
          "type": "line",
          "x0": 11,
          "x1": 11,
          "y0": 97.79,
          "y1": 98.89
         },
         {
          "line": {
           "color": "rgb(55, 128, 191)",
           "width": 1.5
          },
          "type": "line",
          "x0": 12,
          "x1": 12,
          "y0": 96.77,
          "y1": 97.9
         },
         {
          "line": {
           "color": "rgb(55, 128, 191)",
           "width": 1.5
          },
          "type": "line",
          "x0": 13,
          "x1": 13,
          "y0": 96.63,
          "y1": 97.73
         },
         {
          "line": {
           "color": "rgb(55, 128, 191)",
           "width": 1.5
          },
          "type": "line",
          "x0": 14,
          "x1": 14,
          "y0": 98.33,
          "y1": 99.44
         },
         {
          "line": {
           "color": "rgb(55, 128, 191)",
           "width": 1.5
          },
          "type": "line",
          "x0": 15,
          "x1": 15,
          "y0": 95.63,
          "y1": 96.74
         },
         {
          "line": {
           "color": "rgb(55, 128, 191)",
           "width": 1.5
          },
          "type": "line",
          "x0": 16,
          "x1": 16,
          "y0": 98.92,
          "y1": 100.03
         },
         {
          "line": {
           "color": "rgb(55, 128, 191)",
           "width": 1.5
          },
          "type": "line",
          "x0": 17,
          "x1": 17,
          "y0": 97.41,
          "y1": 98.53
         },
         {
          "line": {
           "color": "rgb(55, 128, 191)",
           "width": 1.5
          },
          "type": "line",
          "x0": 18,
          "x1": 18,
          "y0": 97.59,
          "y1": 98.67
         },
         {
          "line": {
           "color": "rgb(55, 128, 191)",
           "width": 1.5
          },
          "type": "line",
          "x0": 19,
          "x1": 19,
          "y0": 97.37,
          "y1": 98.49
         },
         {
          "line": {
           "color": "rgb(55, 128, 191)",
           "width": 1.5
          },
          "type": "line",
          "x0": 20,
          "x1": 20,
          "y0": 94.97,
          "y1": 96.08
         },
         {
          "line": {
           "color": "rgb(55, 128, 191)",
           "width": 1.5
          },
          "type": "line",
          "x0": 21,
          "x1": 21,
          "y0": 97.23,
          "y1": 98.34
         },
         {
          "line": {
           "color": "rgb(55, 128, 191)",
           "width": 1.5
          },
          "type": "line",
          "x0": 22,
          "x1": 22,
          "y0": 96.27,
          "y1": 97.36
         },
         {
          "line": {
           "color": "rgb(55, 128, 191)",
           "width": 1.5
          },
          "type": "line",
          "x0": 23,
          "x1": 23,
          "y0": 97.2,
          "y1": 98.28
         },
         {
          "line": {
           "color": "rgb(55, 128, 191)",
           "width": 1.5
          },
          "type": "line",
          "x0": 24,
          "x1": 24,
          "y0": 96.19,
          "y1": 97.28
         },
         {
          "line": {
           "color": "rgb(55, 128, 191)",
           "width": 1.5
          },
          "type": "line",
          "x0": 25,
          "x1": 25,
          "y0": 95.73,
          "y1": 96.82
         },
         {
          "line": {
           "color": "rgb(55, 128, 191)",
           "width": 1.5
          },
          "type": "line",
          "x0": 26,
          "x1": 26,
          "y0": 98.89,
          "y1": 99.98
         },
         {
          "line": {
           "color": "rgb(55, 128, 191)",
           "width": 1.5
          },
          "type": "line",
          "x0": 27,
          "x1": 27,
          "y0": 96.13,
          "y1": 97.21
         },
         {
          "line": {
           "color": "rgb(55, 128, 191)",
           "width": 1.5
          },
          "type": "line",
          "x0": 28,
          "x1": 28,
          "y0": 98.79,
          "y1": 99.89
         },
         {
          "line": {
           "color": "rgb(55, 128, 191)",
           "width": 1.5
          },
          "type": "line",
          "x0": 29,
          "x1": 29,
          "y0": 97.16,
          "y1": 98.28
         },
         {
          "line": {
           "color": "rgb(55, 128, 191)",
           "width": 1.5
          },
          "type": "line",
          "x0": 30,
          "x1": 30,
          "y0": 98.87,
          "y1": 99.98
         },
         {
          "line": {
           "color": "rgb(55, 128, 191)",
           "width": 1.5
          },
          "type": "line",
          "x0": 31,
          "x1": 31,
          "y0": 96.62,
          "y1": 97.73
         },
         {
          "line": {
           "color": "rgb(55, 128, 191)",
           "width": 1.5
          },
          "type": "line",
          "x0": 32,
          "x1": 32,
          "y0": 96.15,
          "y1": 97.25
         },
         {
          "line": {
           "color": "rgb(55, 128, 191)",
           "width": 1.5
          },
          "type": "line",
          "x0": 33,
          "x1": 33,
          "y0": 95.24,
          "y1": 96.33
         },
         {
          "line": {
           "color": "rgb(55, 128, 191)",
           "width": 1.5
          },
          "type": "line",
          "x0": 34,
          "x1": 34,
          "y0": 95.98,
          "y1": 97.08
         },
         {
          "line": {
           "color": "rgb(55, 128, 191)",
           "width": 1.5
          },
          "type": "line",
          "x0": 35,
          "x1": 35,
          "y0": 99.26,
          "y1": 100.36
         },
         {
          "line": {
           "color": "rgb(55, 128, 191)",
           "width": 1.5
          },
          "type": "line",
          "x0": 36,
          "x1": 36,
          "y0": 97.36,
          "y1": 98.47
         },
         {
          "line": {
           "color": "rgb(55, 128, 191)",
           "width": 1.5
          },
          "type": "line",
          "x0": 37,
          "x1": 37,
          "y0": 96.99,
          "y1": 98.08
         },
         {
          "line": {
           "color": "rgb(55, 128, 191)",
           "width": 1.5
          },
          "type": "line",
          "x0": 38,
          "x1": 38,
          "y0": 97.64,
          "y1": 98.76
         },
         {
          "line": {
           "color": "rgb(55, 128, 191)",
           "width": 1.5
          },
          "type": "line",
          "x0": 39,
          "x1": 39,
          "y0": 98.4,
          "y1": 99.53
         },
         {
          "line": {
           "color": "rgb(55, 128, 191)",
           "width": 1.5
          },
          "type": "line",
          "x0": 40,
          "x1": 40,
          "y0": 100.11,
          "y1": 101.23
         },
         {
          "line": {
           "color": "rgb(55, 128, 191)",
           "width": 1.5
          },
          "type": "line",
          "x0": 41,
          "x1": 41,
          "y0": 100.84,
          "y1": 101.96
         },
         {
          "line": {
           "color": "rgb(55, 128, 191)",
           "width": 1.5
          },
          "type": "line",
          "x0": 42,
          "x1": 42,
          "y0": 102.93,
          "y1": 104.06
         },
         {
          "line": {
           "color": "rgb(55, 128, 191)",
           "width": 1.5
          },
          "type": "line",
          "x0": 43,
          "x1": 43,
          "y0": 102.2,
          "y1": 103.33
         },
         {
          "line": {
           "color": "rgb(55, 128, 191)",
           "width": 1.5
          },
          "type": "line",
          "x0": 44,
          "x1": 44,
          "y0": 102.76,
          "y1": 103.86
         },
         {
          "line": {
           "color": "rgb(55, 128, 191)",
           "width": 1.5
          },
          "type": "line",
          "x0": 45,
          "x1": 45,
          "y0": 101.79,
          "y1": 102.89
         },
         {
          "line": {
           "color": "rgb(55, 128, 191)",
           "width": 1.5
          },
          "type": "line",
          "x0": 46,
          "x1": 46,
          "y0": 101.32,
          "y1": 102.4
         },
         {
          "line": {
           "color": "rgb(55, 128, 191)",
           "width": 1.5
          },
          "type": "line",
          "x0": 47,
          "x1": 47,
          "y0": 102.13,
          "y1": 103.24
         },
         {
          "line": {
           "color": "rgb(55, 128, 191)",
           "width": 1.5
          },
          "type": "line",
          "x0": 48,
          "x1": 48,
          "y0": 103.62,
          "y1": 104.72
         },
         {
          "line": {
           "color": "rgb(55, 128, 191)",
           "width": 1.5
          },
          "type": "line",
          "x0": 49,
          "x1": 49,
          "y0": 103.63,
          "y1": 104.74
         },
         {
          "line": {
           "color": "rgb(55, 128, 191)",
           "width": 1.5
          },
          "type": "line",
          "x0": 50,
          "x1": 50,
          "y0": 102.04,
          "y1": 103.15
         }
        ],
        "showlegend": false,
        "title": "Random Walk",
        "xaxis": {
         "anchor": "y2",
         "showgrid": true,
         "showticklabels": true,
         "tickangle": 90,
         "tickmode": "array",
         "ticktext": [
          20190522,
          20190524,
          20190528,
          20190530,
          20190603,
          20190605,
          20190607,
          20190611,
          20190613,
          20190617,
          20190619,
          20190621,
          20190625,
          20190627,
          20190701,
          20190703,
          20190705,
          20190709,
          20190711,
          20190715,
          20190717,
          20190719,
          20190723,
          20190725,
          20190729,
          20190730
         ],
         "tickvals": [
          1,
          3,
          5,
          7,
          9,
          11,
          13,
          15,
          17,
          19,
          21,
          23,
          25,
          27,
          29,
          31,
          33,
          35,
          37,
          39,
          41,
          43,
          45,
          47,
          49,
          50
         ]
        },
        "yaxis": {
         "domain": [
          0.22,
          1
         ],
         "range": [
          90.21,
          104.74
         ]
        },
        "yaxis2": {
         "domain": [
          0,
          0.2
         ],
         "range": [
          0,
          645630
         ]
        }
       }
      },
      "text/html": [
       "<div id=\"0d376463-94a5-4c6d-97bc-5c289fa1e5b9\" style=\"height: 525px; width: 100%;\" class=\"plotly-graph-div\"></div><script type=\"text/javascript\">require([\"plotly\"], function(Plotly) { window.PLOTLYENV=window.PLOTLYENV || {};window.PLOTLYENV.BASE_URL=\"https://plot.ly\";Plotly.newPlot(\"0d376463-94a5-4c6d-97bc-5c289fa1e5b9\", [{\"hoverinfo\": \"text\", \"mode\": \"markers\", \"text\": [\"date: 20190522.0<br>open: 101.31<br>high: 102.45<br>low: 99.27<br>close: 100.36<br>volume: 508189.0\", \"date: 20190523.0<br>open: 97.34<br>high: 100.48<br>low: 96.22<br>close: 99.38<br>volume: 505512.0\", \"date: 20190524.0<br>open: 103.39<br>high: 104.48<br>low: 98.01<br>close: 99.11<br>volume: 515390.0\", \"date: 20190527.0<br>open: 99.18<br>high: 100.42<br>low: 98.08<br>close: 99.33<br>volume: 517170.0\", \"date: 20190528.0<br>open: 100.58<br>high: 101.68<br>low: 98.64<br>close: 99.76<br>volume: 507294.0\", \"date: 20190529.0<br>open: 97.85<br>high: 99.06<br>low: 96.73<br>close: 97.96<br>volume: 524174.0\", \"date: 20190530.0<br>open: 99.82<br>high: 100.91<br>low: 96.93<br>close: 98.03<br>volume: 522681.0\", \"date: 20190531.0<br>open: 98.07<br>high: 99.18<br>low: 96.93<br>close: 98.02<br>volume: 513723.0\", \"date: 20190603.0<br>open: 97.31<br>high: 98.43<br>low: 96.13<br>close: 97.24<br>volume: 524228.0\", \"date: 20190604.0<br>open: 101.14<br>high: 102.24<br>low: 95.85<br>close: 96.95<br>volume: 544952.0\", \"date: 20190605.0<br>open: 97.79<br>high: 98.89<br>low: 96.32<br>close: 97.41<br>volume: 533178.0\", \"date: 20190606.0<br>open: 95.48<br>high: 97.9<br>low: 94.38<br>close: 96.77<br>volume: 542283.0\", \"date: 20190607.0<br>open: 95.64<br>high: 97.73<br>low: 94.54<br>close: 96.63<br>volume: 526258.0\", \"date: 20190610.0<br>open: 98.33<br>high: 99.44<br>low: 95.28<br>close: 96.4<br>volume: 538453.0\", \"date: 20190611.0<br>open: 93.35<br>high: 96.74<br>low: 92.24<br>close: 95.63<br>volume: 561944.0\", \"date: 20190612.0<br>open: 98.92<br>high: 100.03<br>low: 96.14<br>close: 97.23<br>volume: 588815.0\", \"date: 20190613.0<br>open: 97.41<br>high: 98.53<br>low: 94.99<br>close: 96.1<br>volume: 571027.0\", \"date: 20190614.0<br>open: 96.68<br>high: 98.67<br>low: 95.58<br>close: 97.59<br>volume: 573271.0\", \"date: 20190617.0<br>open: 96.37<br>high: 98.49<br>low: 95.26<br>close: 97.37<br>volume: 570063.0\", \"date: 20190618.0<br>open: 91.31<br>high: 96.08<br>low: 90.21<br>close: 94.97<br>volume: 598076.0\", \"date: 20190619.0<br>open: 97.23<br>high: 98.34<br>low: 93.92<br>close: 95.03<br>volume: 601930.0\", \"date: 20190620.0<br>open: 95.25<br>high: 97.36<br>low: 94.12<br>close: 96.27<br>volume: 594289.0\", \"date: 20190621.0<br>open: 96.87<br>high: 98.28<br>low: 95.74<br>close: 97.2<br>volume: 594720.0\", \"date: 20190624.0<br>open: 93.57<br>high: 97.28<br>low: 92.45<br>close: 96.19<br>volume: 606445.0\", \"date: 20190625.0<br>open: 93.84<br>high: 96.82<br>low: 92.75<br>close: 95.73<br>volume: 629321.0\", \"date: 20190626.0<br>open: 98.89<br>high: 99.98<br>low: 95.29<br>close: 96.41<br>volume: 637696.0\", \"date: 20190627.0<br>open: 92.71<br>high: 97.21<br>low: 91.61<br>close: 96.13<br>volume: 640868.0\", \"date: 20190628.0<br>open: 98.79<br>high: 99.89<br>low: 95.92<br>close: 97.03<br>volume: 645630.0\", \"date: 20190701.0<br>open: 97.16<br>high: 98.28<br>low: 95.81<br>close: 96.92<br>volume: 627348.0\", \"date: 20190702.0<br>open: 98.87<br>high: 99.98<br>low: 95.07<br>close: 96.15<br>volume: 591945.0\", \"date: 20190703.0<br>open: 95.56<br>high: 97.73<br>low: 94.46<br>close: 96.62<br>volume: 564548.0\", \"date: 20190704.0<br>open: 96.15<br>high: 97.25<br>low: 93.78<br>close: 94.88<br>volume: 550666.0\", \"date: 20190705.0<br>open: 95.24<br>high: 96.33<br>low: 93.59<br>close: 94.72<br>volume: 538959.0\", \"date: 20190708.0<br>open: 94.77<br>high: 97.08<br>low: 93.68<br>close: 95.98<br>volume: 518851.0\", \"date: 20190709.0<br>open: 99.26<br>high: 100.36<br>low: 95.14<br>close: 96.24<br>volume: 508969.0\", \"date: 20190710.0<br>open: 95.7<br>high: 98.47<br>low: 94.63<br>close: 97.36<br>volume: 524536.0\", \"date: 20190711.0<br>open: 95.28<br>high: 98.08<br>low: 94.19<br>close: 96.99<br>volume: 557674.0\", \"date: 20190712.0<br>open: 97.34<br>high: 98.76<br>low: 96.23<br>close: 97.64<br>volume: 547407.0\", \"date: 20190715.0<br>open: 97.46<br>high: 99.53<br>low: 96.35<br>close: 98.4<br>volume: 566988.0\", \"date: 20190716.0<br>open: 98.06<br>high: 101.23<br>low: 96.96<br>close: 100.11<br>volume: 570074.0\", \"date: 20190717.0<br>open: 98.97<br>high: 101.96<br>low: 97.87<br>close: 100.84<br>volume: 588760.0\", \"date: 20190718.0<br>open: 102.93<br>high: 104.06<br>low: 100.03<br>close: 101.14<br>volume: 565762.0\", \"date: 20190719.0<br>open: 102.2<br>high: 103.33<br>low: 100.59<br>close: 101.72<br>volume: 580302.0\", \"date: 20190722.0<br>open: 102.76<br>high: 103.86<br>low: 99.92<br>close: 101.02<br>volume: 583273.0\", \"date: 20190723.0<br>open: 101.01<br>high: 102.89<br>low: 99.92<br>close: 101.79<br>volume: 599763.0\", \"date: 20190724.0<br>open: 100.54<br>high: 102.4<br>low: 99.45<br>close: 101.32<br>volume: 572154.0\", \"date: 20190725.0<br>open: 100.85<br>high: 103.24<br>low: 99.73<br>close: 102.13<br>volume: 595131.0\", \"date: 20190726.0<br>open: 103.01<br>high: 104.72<br>low: 101.89<br>close: 103.62<br>volume: 616860.0\", \"date: 20190729.0<br>open: 103.63<br>high: 104.74<br>low: 101.68<br>close: 102.8<br>volume: 640899.0\", \"date: 20190730.0<br>open: 99.29<br>high: 103.15<br>low: 98.2<br>close: 102.04<br>volume: 615994.0\"], \"x\": [1, 2, 3, 4, 5, 6, 7, 8, 9, 10, 11, 12, 13, 14, 15, 16, 17, 18, 19, 20, 21, 22, 23, 24, 25, 26, 27, 28, 29, 30, 31, 32, 33, 34, 35, 36, 37, 38, 39, 40, 41, 42, 43, 44, 45, 46, 47, 48, 49, 50], \"xaxis\": \"x\", \"y\": [100.36, 99.38, 99.11, 99.33, 99.76, 97.96, 98.03, 98.02, 97.24, 96.95, 97.41, 96.77, 96.63, 96.4, 95.63, 97.23, 96.1, 97.59, 97.37, 94.97, 95.03, 96.27, 97.2, 96.19, 95.73, 96.41, 96.13, 97.03, 96.92, 96.15, 96.62, 94.88, 94.72, 95.98, 96.24, 97.36, 96.99, 97.64, 98.4, 100.11, 100.84, 101.14, 101.72, 101.02, 101.79, 101.32, 102.13, 103.62, 102.8, 102.04], \"yaxis\": \"y\", \"type\": \"scatter\", \"uid\": \"d6210c9a-b2f0-11e9-901d-8c859025e7f9\"}, {\"width\": 0.5, \"x\": [1, 2, 3, 4, 5, 6, 7, 8, 9, 10, 11, 12, 13, 14, 15, 16, 17, 18, 19, 20, 21, 22, 23, 24, 25, 26, 27, 28, 29, 30, 31, 32, 33, 34, 35, 36, 37, 38, 39, 40, 41, 42, 43, 44, 45, 46, 47, 48, 49, 50], \"xaxis\": \"x\", \"y\": [508189.0, 505512.0, 515390.0, 517170.0, 507294.0, 524174.0, 522681.0, 513723.0, 524228.0, 544952.0, 533178.0, 542283.0, 526258.0, 538453.0, 561944.0, 588815.0, 571027.0, 573271.0, 570063.0, 598076.0, 601930.0, 594289.0, 594720.0, 606445.0, 629321.0, 637696.0, 640868.0, 645630.0, 627348.0, 591945.0, 564548.0, 550666.0, 538959.0, 518851.0, 508969.0, 524536.0, 557674.0, 547407.0, 566988.0, 570074.0, 588760.0, 565762.0, 580302.0, 583273.0, 599763.0, 572154.0, 595131.0, 616860.0, 640899.0, 615994.0], \"yaxis\": \"y2\", \"type\": \"bar\", \"uid\": \"d6210e1e-b2f0-11e9-bdfb-8c859025e7f9\"}], {\"margin\": {\"t\": 100}, \"shapes\": [{\"line\": {\"color\": \"rgb(55, 128, 191)\", \"width\": 1.5}, \"type\": \"line\", \"x0\": 1, \"x1\": 1, \"y0\": 99.27, \"y1\": 100.36}, {\"line\": {\"color\": \"rgb(55, 128, 191)\", \"width\": 1.5}, \"type\": \"line\", \"x0\": 2, \"x1\": 2, \"y0\": 96.22, \"y1\": 97.34}, {\"line\": {\"color\": \"rgb(55, 128, 191)\", \"width\": 1.5}, \"type\": \"line\", \"x0\": 3, \"x1\": 3, \"y0\": 98.01, \"y1\": 99.11}, {\"line\": {\"color\": \"rgb(55, 128, 191)\", \"width\": 1.5}, \"type\": \"line\", \"x0\": 4, \"x1\": 4, \"y0\": 98.08, \"y1\": 99.18}, {\"line\": {\"color\": \"rgb(55, 128, 191)\", \"width\": 1.5}, \"type\": \"line\", \"x0\": 5, \"x1\": 5, \"y0\": 98.64, \"y1\": 99.76}, {\"line\": {\"color\": \"rgb(55, 128, 191)\", \"width\": 1.5}, \"type\": \"line\", \"x0\": 6, \"x1\": 6, \"y0\": 96.73, \"y1\": 97.85}, {\"line\": {\"color\": \"rgb(55, 128, 191)\", \"width\": 1.5}, \"type\": \"line\", \"x0\": 7, \"x1\": 7, \"y0\": 96.93, \"y1\": 98.03}, {\"line\": {\"color\": \"rgb(55, 128, 191)\", \"width\": 1.5}, \"type\": \"line\", \"x0\": 8, \"x1\": 8, \"y0\": 96.93, \"y1\": 98.02}, {\"line\": {\"color\": \"rgb(55, 128, 191)\", \"width\": 1.5}, \"type\": \"line\", \"x0\": 9, \"x1\": 9, \"y0\": 96.13, \"y1\": 97.24}, {\"line\": {\"color\": \"rgb(55, 128, 191)\", \"width\": 1.5}, \"type\": \"line\", \"x0\": 10, \"x1\": 10, \"y0\": 95.85, \"y1\": 96.95}, {\"line\": {\"color\": \"rgb(55, 128, 191)\", \"width\": 1.5}, \"type\": \"line\", \"x0\": 11, \"x1\": 11, \"y0\": 96.32, \"y1\": 97.41}, {\"line\": {\"color\": \"rgb(55, 128, 191)\", \"width\": 1.5}, \"type\": \"line\", \"x0\": 12, \"x1\": 12, \"y0\": 94.38, \"y1\": 95.48}, {\"line\": {\"color\": \"rgb(55, 128, 191)\", \"width\": 1.5}, \"type\": \"line\", \"x0\": 13, \"x1\": 13, \"y0\": 94.54, \"y1\": 95.64}, {\"line\": {\"color\": \"rgb(55, 128, 191)\", \"width\": 1.5}, \"type\": \"line\", \"x0\": 14, \"x1\": 14, \"y0\": 95.28, \"y1\": 96.4}, {\"line\": {\"color\": \"rgb(55, 128, 191)\", \"width\": 1.5}, \"type\": \"line\", \"x0\": 15, \"x1\": 15, \"y0\": 92.24, \"y1\": 93.35}, {\"line\": {\"color\": \"rgb(55, 128, 191)\", \"width\": 1.5}, \"type\": \"line\", \"x0\": 16, \"x1\": 16, \"y0\": 96.14, \"y1\": 97.23}, {\"line\": {\"color\": \"rgb(55, 128, 191)\", \"width\": 1.5}, \"type\": \"line\", \"x0\": 17, \"x1\": 17, \"y0\": 94.99, \"y1\": 96.1}, {\"line\": {\"color\": \"rgb(55, 128, 191)\", \"width\": 1.5}, \"type\": \"line\", \"x0\": 18, \"x1\": 18, \"y0\": 95.58, \"y1\": 96.68}, {\"line\": {\"color\": \"rgb(55, 128, 191)\", \"width\": 1.5}, \"type\": \"line\", \"x0\": 19, \"x1\": 19, \"y0\": 95.26, \"y1\": 96.37}, {\"line\": {\"color\": \"rgb(55, 128, 191)\", \"width\": 1.5}, \"type\": \"line\", \"x0\": 20, \"x1\": 20, \"y0\": 90.21, \"y1\": 91.31}, {\"line\": {\"color\": \"rgb(55, 128, 191)\", \"width\": 1.5}, \"type\": \"line\", \"x0\": 21, \"x1\": 21, \"y0\": 93.92, \"y1\": 95.03}, {\"line\": {\"color\": \"rgb(55, 128, 191)\", \"width\": 1.5}, \"type\": \"line\", \"x0\": 22, \"x1\": 22, \"y0\": 94.12, \"y1\": 95.25}, {\"line\": {\"color\": \"rgb(55, 128, 191)\", \"width\": 1.5}, \"type\": \"line\", \"x0\": 23, \"x1\": 23, \"y0\": 95.74, \"y1\": 96.87}, {\"line\": {\"color\": \"rgb(55, 128, 191)\", \"width\": 1.5}, \"type\": \"line\", \"x0\": 24, \"x1\": 24, \"y0\": 92.45, \"y1\": 93.57}, {\"line\": {\"color\": \"rgb(55, 128, 191)\", \"width\": 1.5}, \"type\": \"line\", \"x0\": 25, \"x1\": 25, \"y0\": 92.75, \"y1\": 93.84}, {\"line\": {\"color\": \"rgb(55, 128, 191)\", \"width\": 1.5}, \"type\": \"line\", \"x0\": 26, \"x1\": 26, \"y0\": 95.29, \"y1\": 96.41}, {\"line\": {\"color\": \"rgb(55, 128, 191)\", \"width\": 1.5}, \"type\": \"line\", \"x0\": 27, \"x1\": 27, \"y0\": 91.61, \"y1\": 92.71}, {\"line\": {\"color\": \"rgb(55, 128, 191)\", \"width\": 1.5}, \"type\": \"line\", \"x0\": 28, \"x1\": 28, \"y0\": 95.92, \"y1\": 97.03}, {\"line\": {\"color\": \"rgb(55, 128, 191)\", \"width\": 1.5}, \"type\": \"line\", \"x0\": 29, \"x1\": 29, \"y0\": 95.81, \"y1\": 96.92}, {\"line\": {\"color\": \"rgb(55, 128, 191)\", \"width\": 1.5}, \"type\": \"line\", \"x0\": 30, \"x1\": 30, \"y0\": 95.07, \"y1\": 96.15}, {\"line\": {\"color\": \"rgb(55, 128, 191)\", \"width\": 1.5}, \"type\": \"line\", \"x0\": 31, \"x1\": 31, \"y0\": 94.46, \"y1\": 95.56}, {\"line\": {\"color\": \"rgb(55, 128, 191)\", \"width\": 1.5}, \"type\": \"line\", \"x0\": 32, \"x1\": 32, \"y0\": 93.78, \"y1\": 94.88}, {\"line\": {\"color\": \"rgb(55, 128, 191)\", \"width\": 1.5}, \"type\": \"line\", \"x0\": 33, \"x1\": 33, \"y0\": 93.59, \"y1\": 94.72}, {\"line\": {\"color\": \"rgb(55, 128, 191)\", \"width\": 1.5}, \"type\": \"line\", \"x0\": 34, \"x1\": 34, \"y0\": 93.68, \"y1\": 94.77}, {\"line\": {\"color\": \"rgb(55, 128, 191)\", \"width\": 1.5}, \"type\": \"line\", \"x0\": 35, \"x1\": 35, \"y0\": 95.14, \"y1\": 96.24}, {\"line\": {\"color\": \"rgb(55, 128, 191)\", \"width\": 1.5}, \"type\": \"line\", \"x0\": 36, \"x1\": 36, \"y0\": 94.63, \"y1\": 95.7}, {\"line\": {\"color\": \"rgb(55, 128, 191)\", \"width\": 1.5}, \"type\": \"line\", \"x0\": 37, \"x1\": 37, \"y0\": 94.19, \"y1\": 95.28}, {\"line\": {\"color\": \"rgb(55, 128, 191)\", \"width\": 1.5}, \"type\": \"line\", \"x0\": 38, \"x1\": 38, \"y0\": 96.23, \"y1\": 97.34}, {\"line\": {\"color\": \"rgb(55, 128, 191)\", \"width\": 1.5}, \"type\": \"line\", \"x0\": 39, \"x1\": 39, \"y0\": 96.35, \"y1\": 97.46}, {\"line\": {\"color\": \"rgb(55, 128, 191)\", \"width\": 1.5}, \"type\": \"line\", \"x0\": 40, \"x1\": 40, \"y0\": 96.96, \"y1\": 98.06}, {\"line\": {\"color\": \"rgb(55, 128, 191)\", \"width\": 1.5}, \"type\": \"line\", \"x0\": 41, \"x1\": 41, \"y0\": 97.87, \"y1\": 98.97}, {\"line\": {\"color\": \"rgb(55, 128, 191)\", \"width\": 1.5}, \"type\": \"line\", \"x0\": 42, \"x1\": 42, \"y0\": 100.03, \"y1\": 101.14}, {\"line\": {\"color\": \"rgb(55, 128, 191)\", \"width\": 1.5}, \"type\": \"line\", \"x0\": 43, \"x1\": 43, \"y0\": 100.59, \"y1\": 101.72}, {\"line\": {\"color\": \"rgb(55, 128, 191)\", \"width\": 1.5}, \"type\": \"line\", \"x0\": 44, \"x1\": 44, \"y0\": 99.92, \"y1\": 101.02}, {\"line\": {\"color\": \"rgb(55, 128, 191)\", \"width\": 1.5}, \"type\": \"line\", \"x0\": 45, \"x1\": 45, \"y0\": 99.92, \"y1\": 101.01}, {\"line\": {\"color\": \"rgb(55, 128, 191)\", \"width\": 1.5}, \"type\": \"line\", \"x0\": 46, \"x1\": 46, \"y0\": 99.45, \"y1\": 100.54}, {\"line\": {\"color\": \"rgb(55, 128, 191)\", \"width\": 1.5}, \"type\": \"line\", \"x0\": 47, \"x1\": 47, \"y0\": 99.73, \"y1\": 100.85}, {\"line\": {\"color\": \"rgb(55, 128, 191)\", \"width\": 1.5}, \"type\": \"line\", \"x0\": 48, \"x1\": 48, \"y0\": 101.89, \"y1\": 103.01}, {\"line\": {\"color\": \"rgb(55, 128, 191)\", \"width\": 1.5}, \"type\": \"line\", \"x0\": 49, \"x1\": 49, \"y0\": 101.68, \"y1\": 102.8}, {\"line\": {\"color\": \"rgb(55, 128, 191)\", \"width\": 1.5}, \"type\": \"line\", \"x0\": 50, \"x1\": 50, \"y0\": 98.2, \"y1\": 99.29}, {\"fillcolor\": \"rgba(255, 0, 0, 0.6)\", \"line\": {\"color\": \"rgb(55, 128, 191)\", \"width\": 1}, \"type\": \"rect\", \"x0\": 0.75, \"x1\": 1.25, \"xref\": \"x\", \"y0\": 100.36, \"y1\": 101.31, \"yref\": \"y\"}, {\"fillcolor\": \"rgba(0, 204, 0, 0.6)\", \"line\": {\"color\": \"rgb(55, 128, 191)\", \"width\": 1}, \"type\": \"rect\", \"x0\": 1.75, \"x1\": 2.25, \"xref\": \"x\", \"y0\": 97.34, \"y1\": 99.38, \"yref\": \"y\"}, {\"fillcolor\": \"rgba(255, 0, 0, 0.6)\", \"line\": {\"color\": \"rgb(55, 128, 191)\", \"width\": 1}, \"type\": \"rect\", \"x0\": 2.75, \"x1\": 3.25, \"xref\": \"x\", \"y0\": 99.11, \"y1\": 103.39, \"yref\": \"y\"}, {\"fillcolor\": \"rgba(0, 204, 0, 0.6)\", \"line\": {\"color\": \"rgb(55, 128, 191)\", \"width\": 1}, \"type\": \"rect\", \"x0\": 3.75, \"x1\": 4.25, \"xref\": \"x\", \"y0\": 99.18, \"y1\": 99.33, \"yref\": \"y\"}, {\"fillcolor\": \"rgba(255, 0, 0, 0.6)\", \"line\": {\"color\": \"rgb(55, 128, 191)\", \"width\": 1}, \"type\": \"rect\", \"x0\": 4.75, \"x1\": 5.25, \"xref\": \"x\", \"y0\": 99.76, \"y1\": 100.58, \"yref\": \"y\"}, {\"fillcolor\": \"rgba(0, 204, 0, 0.6)\", \"line\": {\"color\": \"rgb(55, 128, 191)\", \"width\": 1}, \"type\": \"rect\", \"x0\": 5.75, \"x1\": 6.25, \"xref\": \"x\", \"y0\": 97.85, \"y1\": 97.96, \"yref\": \"y\"}, {\"fillcolor\": \"rgba(255, 0, 0, 0.6)\", \"line\": {\"color\": \"rgb(55, 128, 191)\", \"width\": 1}, \"type\": \"rect\", \"x0\": 6.75, \"x1\": 7.25, \"xref\": \"x\", \"y0\": 98.03, \"y1\": 99.82, \"yref\": \"y\"}, {\"fillcolor\": \"rgba(255, 0, 0, 0.6)\", \"line\": {\"color\": \"rgb(55, 128, 191)\", \"width\": 1}, \"type\": \"rect\", \"x0\": 7.75, \"x1\": 8.25, \"xref\": \"x\", \"y0\": 98.02, \"y1\": 98.07, \"yref\": \"y\"}, {\"fillcolor\": \"rgba(255, 0, 0, 0.6)\", \"line\": {\"color\": \"rgb(55, 128, 191)\", \"width\": 1}, \"type\": \"rect\", \"x0\": 8.75, \"x1\": 9.25, \"xref\": \"x\", \"y0\": 97.24, \"y1\": 97.31, \"yref\": \"y\"}, {\"fillcolor\": \"rgba(255, 0, 0, 0.6)\", \"line\": {\"color\": \"rgb(55, 128, 191)\", \"width\": 1}, \"type\": \"rect\", \"x0\": 9.75, \"x1\": 10.25, \"xref\": \"x\", \"y0\": 96.95, \"y1\": 101.14, \"yref\": \"y\"}, {\"fillcolor\": \"rgba(255, 0, 0, 0.6)\", \"line\": {\"color\": \"rgb(55, 128, 191)\", \"width\": 1}, \"type\": \"rect\", \"x0\": 10.75, \"x1\": 11.25, \"xref\": \"x\", \"y0\": 97.41, \"y1\": 97.79, \"yref\": \"y\"}, {\"fillcolor\": \"rgba(0, 204, 0, 0.6)\", \"line\": {\"color\": \"rgb(55, 128, 191)\", \"width\": 1}, \"type\": \"rect\", \"x0\": 11.75, \"x1\": 12.25, \"xref\": \"x\", \"y0\": 95.48, \"y1\": 96.77, \"yref\": \"y\"}, {\"fillcolor\": \"rgba(0, 204, 0, 0.6)\", \"line\": {\"color\": \"rgb(55, 128, 191)\", \"width\": 1}, \"type\": \"rect\", \"x0\": 12.75, \"x1\": 13.25, \"xref\": \"x\", \"y0\": 95.64, \"y1\": 96.63, \"yref\": \"y\"}, {\"fillcolor\": \"rgba(255, 0, 0, 0.6)\", \"line\": {\"color\": \"rgb(55, 128, 191)\", \"width\": 1}, \"type\": \"rect\", \"x0\": 13.75, \"x1\": 14.25, \"xref\": \"x\", \"y0\": 96.4, \"y1\": 98.33, \"yref\": \"y\"}, {\"fillcolor\": \"rgba(0, 204, 0, 0.6)\", \"line\": {\"color\": \"rgb(55, 128, 191)\", \"width\": 1}, \"type\": \"rect\", \"x0\": 14.75, \"x1\": 15.25, \"xref\": \"x\", \"y0\": 93.35, \"y1\": 95.63, \"yref\": \"y\"}, {\"fillcolor\": \"rgba(255, 0, 0, 0.6)\", \"line\": {\"color\": \"rgb(55, 128, 191)\", \"width\": 1}, \"type\": \"rect\", \"x0\": 15.75, \"x1\": 16.25, \"xref\": \"x\", \"y0\": 97.23, \"y1\": 98.92, \"yref\": \"y\"}, {\"fillcolor\": \"rgba(255, 0, 0, 0.6)\", \"line\": {\"color\": \"rgb(55, 128, 191)\", \"width\": 1}, \"type\": \"rect\", \"x0\": 16.75, \"x1\": 17.25, \"xref\": \"x\", \"y0\": 96.1, \"y1\": 97.41, \"yref\": \"y\"}, {\"fillcolor\": \"rgba(0, 204, 0, 0.6)\", \"line\": {\"color\": \"rgb(55, 128, 191)\", \"width\": 1}, \"type\": \"rect\", \"x0\": 17.75, \"x1\": 18.25, \"xref\": \"x\", \"y0\": 96.68, \"y1\": 97.59, \"yref\": \"y\"}, {\"fillcolor\": \"rgba(0, 204, 0, 0.6)\", \"line\": {\"color\": \"rgb(55, 128, 191)\", \"width\": 1}, \"type\": \"rect\", \"x0\": 18.75, \"x1\": 19.25, \"xref\": \"x\", \"y0\": 96.37, \"y1\": 97.37, \"yref\": \"y\"}, {\"fillcolor\": \"rgba(0, 204, 0, 0.6)\", \"line\": {\"color\": \"rgb(55, 128, 191)\", \"width\": 1}, \"type\": \"rect\", \"x0\": 19.75, \"x1\": 20.25, \"xref\": \"x\", \"y0\": 91.31, \"y1\": 94.97, \"yref\": \"y\"}, {\"fillcolor\": \"rgba(255, 0, 0, 0.6)\", \"line\": {\"color\": \"rgb(55, 128, 191)\", \"width\": 1}, \"type\": \"rect\", \"x0\": 20.75, \"x1\": 21.25, \"xref\": \"x\", \"y0\": 95.03, \"y1\": 97.23, \"yref\": \"y\"}, {\"fillcolor\": \"rgba(0, 204, 0, 0.6)\", \"line\": {\"color\": \"rgb(55, 128, 191)\", \"width\": 1}, \"type\": \"rect\", \"x0\": 21.75, \"x1\": 22.25, \"xref\": \"x\", \"y0\": 95.25, \"y1\": 96.27, \"yref\": \"y\"}, {\"fillcolor\": \"rgba(0, 204, 0, 0.6)\", \"line\": {\"color\": \"rgb(55, 128, 191)\", \"width\": 1}, \"type\": \"rect\", \"x0\": 22.75, \"x1\": 23.25, \"xref\": \"x\", \"y0\": 96.87, \"y1\": 97.2, \"yref\": \"y\"}, {\"fillcolor\": \"rgba(0, 204, 0, 0.6)\", \"line\": {\"color\": \"rgb(55, 128, 191)\", \"width\": 1}, \"type\": \"rect\", \"x0\": 23.75, \"x1\": 24.25, \"xref\": \"x\", \"y0\": 93.57, \"y1\": 96.19, \"yref\": \"y\"}, {\"fillcolor\": \"rgba(0, 204, 0, 0.6)\", \"line\": {\"color\": \"rgb(55, 128, 191)\", \"width\": 1}, \"type\": \"rect\", \"x0\": 24.75, \"x1\": 25.25, \"xref\": \"x\", \"y0\": 93.84, \"y1\": 95.73, \"yref\": \"y\"}, {\"fillcolor\": \"rgba(255, 0, 0, 0.6)\", \"line\": {\"color\": \"rgb(55, 128, 191)\", \"width\": 1}, \"type\": \"rect\", \"x0\": 25.75, \"x1\": 26.25, \"xref\": \"x\", \"y0\": 96.41, \"y1\": 98.89, \"yref\": \"y\"}, {\"fillcolor\": \"rgba(0, 204, 0, 0.6)\", \"line\": {\"color\": \"rgb(55, 128, 191)\", \"width\": 1}, \"type\": \"rect\", \"x0\": 26.75, \"x1\": 27.25, \"xref\": \"x\", \"y0\": 92.71, \"y1\": 96.13, \"yref\": \"y\"}, {\"fillcolor\": \"rgba(255, 0, 0, 0.6)\", \"line\": {\"color\": \"rgb(55, 128, 191)\", \"width\": 1}, \"type\": \"rect\", \"x0\": 27.75, \"x1\": 28.25, \"xref\": \"x\", \"y0\": 97.03, \"y1\": 98.79, \"yref\": \"y\"}, {\"fillcolor\": \"rgba(255, 0, 0, 0.6)\", \"line\": {\"color\": \"rgb(55, 128, 191)\", \"width\": 1}, \"type\": \"rect\", \"x0\": 28.75, \"x1\": 29.25, \"xref\": \"x\", \"y0\": 96.92, \"y1\": 97.16, \"yref\": \"y\"}, {\"fillcolor\": \"rgba(255, 0, 0, 0.6)\", \"line\": {\"color\": \"rgb(55, 128, 191)\", \"width\": 1}, \"type\": \"rect\", \"x0\": 29.75, \"x1\": 30.25, \"xref\": \"x\", \"y0\": 96.15, \"y1\": 98.87, \"yref\": \"y\"}, {\"fillcolor\": \"rgba(0, 204, 0, 0.6)\", \"line\": {\"color\": \"rgb(55, 128, 191)\", \"width\": 1}, \"type\": \"rect\", \"x0\": 30.75, \"x1\": 31.25, \"xref\": \"x\", \"y0\": 95.56, \"y1\": 96.62, \"yref\": \"y\"}, {\"fillcolor\": \"rgba(255, 0, 0, 0.6)\", \"line\": {\"color\": \"rgb(55, 128, 191)\", \"width\": 1}, \"type\": \"rect\", \"x0\": 31.75, \"x1\": 32.25, \"xref\": \"x\", \"y0\": 94.88, \"y1\": 96.15, \"yref\": \"y\"}, {\"fillcolor\": \"rgba(255, 0, 0, 0.6)\", \"line\": {\"color\": \"rgb(55, 128, 191)\", \"width\": 1}, \"type\": \"rect\", \"x0\": 32.75, \"x1\": 33.25, \"xref\": \"x\", \"y0\": 94.72, \"y1\": 95.24, \"yref\": \"y\"}, {\"fillcolor\": \"rgba(0, 204, 0, 0.6)\", \"line\": {\"color\": \"rgb(55, 128, 191)\", \"width\": 1}, \"type\": \"rect\", \"x0\": 33.75, \"x1\": 34.25, \"xref\": \"x\", \"y0\": 94.77, \"y1\": 95.98, \"yref\": \"y\"}, {\"fillcolor\": \"rgba(255, 0, 0, 0.6)\", \"line\": {\"color\": \"rgb(55, 128, 191)\", \"width\": 1}, \"type\": \"rect\", \"x0\": 34.75, \"x1\": 35.25, \"xref\": \"x\", \"y0\": 96.24, \"y1\": 99.26, \"yref\": \"y\"}, {\"fillcolor\": \"rgba(0, 204, 0, 0.6)\", \"line\": {\"color\": \"rgb(55, 128, 191)\", \"width\": 1}, \"type\": \"rect\", \"x0\": 35.75, \"x1\": 36.25, \"xref\": \"x\", \"y0\": 95.7, \"y1\": 97.36, \"yref\": \"y\"}, {\"fillcolor\": \"rgba(0, 204, 0, 0.6)\", \"line\": {\"color\": \"rgb(55, 128, 191)\", \"width\": 1}, \"type\": \"rect\", \"x0\": 36.75, \"x1\": 37.25, \"xref\": \"x\", \"y0\": 95.28, \"y1\": 96.99, \"yref\": \"y\"}, {\"fillcolor\": \"rgba(0, 204, 0, 0.6)\", \"line\": {\"color\": \"rgb(55, 128, 191)\", \"width\": 1}, \"type\": \"rect\", \"x0\": 37.75, \"x1\": 38.25, \"xref\": \"x\", \"y0\": 97.34, \"y1\": 97.64, \"yref\": \"y\"}, {\"fillcolor\": \"rgba(0, 204, 0, 0.6)\", \"line\": {\"color\": \"rgb(55, 128, 191)\", \"width\": 1}, \"type\": \"rect\", \"x0\": 38.75, \"x1\": 39.25, \"xref\": \"x\", \"y0\": 97.46, \"y1\": 98.4, \"yref\": \"y\"}, {\"fillcolor\": \"rgba(0, 204, 0, 0.6)\", \"line\": {\"color\": \"rgb(55, 128, 191)\", \"width\": 1}, \"type\": \"rect\", \"x0\": 39.75, \"x1\": 40.25, \"xref\": \"x\", \"y0\": 98.06, \"y1\": 100.11, \"yref\": \"y\"}, {\"fillcolor\": \"rgba(0, 204, 0, 0.6)\", \"line\": {\"color\": \"rgb(55, 128, 191)\", \"width\": 1}, \"type\": \"rect\", \"x0\": 40.75, \"x1\": 41.25, \"xref\": \"x\", \"y0\": 98.97, \"y1\": 100.84, \"yref\": \"y\"}, {\"fillcolor\": \"rgba(255, 0, 0, 0.6)\", \"line\": {\"color\": \"rgb(55, 128, 191)\", \"width\": 1}, \"type\": \"rect\", \"x0\": 41.75, \"x1\": 42.25, \"xref\": \"x\", \"y0\": 101.14, \"y1\": 102.93, \"yref\": \"y\"}, {\"fillcolor\": \"rgba(255, 0, 0, 0.6)\", \"line\": {\"color\": \"rgb(55, 128, 191)\", \"width\": 1}, \"type\": \"rect\", \"x0\": 42.75, \"x1\": 43.25, \"xref\": \"x\", \"y0\": 101.72, \"y1\": 102.2, \"yref\": \"y\"}, {\"fillcolor\": \"rgba(255, 0, 0, 0.6)\", \"line\": {\"color\": \"rgb(55, 128, 191)\", \"width\": 1}, \"type\": \"rect\", \"x0\": 43.75, \"x1\": 44.25, \"xref\": \"x\", \"y0\": 101.02, \"y1\": 102.76, \"yref\": \"y\"}, {\"fillcolor\": \"rgba(0, 204, 0, 0.6)\", \"line\": {\"color\": \"rgb(55, 128, 191)\", \"width\": 1}, \"type\": \"rect\", \"x0\": 44.75, \"x1\": 45.25, \"xref\": \"x\", \"y0\": 101.01, \"y1\": 101.79, \"yref\": \"y\"}, {\"fillcolor\": \"rgba(0, 204, 0, 0.6)\", \"line\": {\"color\": \"rgb(55, 128, 191)\", \"width\": 1}, \"type\": \"rect\", \"x0\": 45.75, \"x1\": 46.25, \"xref\": \"x\", \"y0\": 100.54, \"y1\": 101.32, \"yref\": \"y\"}, {\"fillcolor\": \"rgba(0, 204, 0, 0.6)\", \"line\": {\"color\": \"rgb(55, 128, 191)\", \"width\": 1}, \"type\": \"rect\", \"x0\": 46.75, \"x1\": 47.25, \"xref\": \"x\", \"y0\": 100.85, \"y1\": 102.13, \"yref\": \"y\"}, {\"fillcolor\": \"rgba(0, 204, 0, 0.6)\", \"line\": {\"color\": \"rgb(55, 128, 191)\", \"width\": 1}, \"type\": \"rect\", \"x0\": 47.75, \"x1\": 48.25, \"xref\": \"x\", \"y0\": 103.01, \"y1\": 103.62, \"yref\": \"y\"}, {\"fillcolor\": \"rgba(255, 0, 0, 0.6)\", \"line\": {\"color\": \"rgb(55, 128, 191)\", \"width\": 1}, \"type\": \"rect\", \"x0\": 48.75, \"x1\": 49.25, \"xref\": \"x\", \"y0\": 102.8, \"y1\": 103.63, \"yref\": \"y\"}, {\"fillcolor\": \"rgba(0, 204, 0, 0.6)\", \"line\": {\"color\": \"rgb(55, 128, 191)\", \"width\": 1}, \"type\": \"rect\", \"x0\": 49.75, \"x1\": 50.25, \"xref\": \"x\", \"y0\": 99.29, \"y1\": 102.04, \"yref\": \"y\"}, {\"line\": {\"color\": \"rgb(55, 128, 191)\", \"width\": 1.5}, \"type\": \"line\", \"x0\": 1, \"x1\": 1, \"y0\": 101.31, \"y1\": 102.45}, {\"line\": {\"color\": \"rgb(55, 128, 191)\", \"width\": 1.5}, \"type\": \"line\", \"x0\": 2, \"x1\": 2, \"y0\": 99.38, \"y1\": 100.48}, {\"line\": {\"color\": \"rgb(55, 128, 191)\", \"width\": 1.5}, \"type\": \"line\", \"x0\": 3, \"x1\": 3, \"y0\": 103.39, \"y1\": 104.48}, {\"line\": {\"color\": \"rgb(55, 128, 191)\", \"width\": 1.5}, \"type\": \"line\", \"x0\": 4, \"x1\": 4, \"y0\": 99.33, \"y1\": 100.42}, {\"line\": {\"color\": \"rgb(55, 128, 191)\", \"width\": 1.5}, \"type\": \"line\", \"x0\": 5, \"x1\": 5, \"y0\": 100.58, \"y1\": 101.68}, {\"line\": {\"color\": \"rgb(55, 128, 191)\", \"width\": 1.5}, \"type\": \"line\", \"x0\": 6, \"x1\": 6, \"y0\": 97.96, \"y1\": 99.06}, {\"line\": {\"color\": \"rgb(55, 128, 191)\", \"width\": 1.5}, \"type\": \"line\", \"x0\": 7, \"x1\": 7, \"y0\": 99.82, \"y1\": 100.91}, {\"line\": {\"color\": \"rgb(55, 128, 191)\", \"width\": 1.5}, \"type\": \"line\", \"x0\": 8, \"x1\": 8, \"y0\": 98.07, \"y1\": 99.18}, {\"line\": {\"color\": \"rgb(55, 128, 191)\", \"width\": 1.5}, \"type\": \"line\", \"x0\": 9, \"x1\": 9, \"y0\": 97.31, \"y1\": 98.43}, {\"line\": {\"color\": \"rgb(55, 128, 191)\", \"width\": 1.5}, \"type\": \"line\", \"x0\": 10, \"x1\": 10, \"y0\": 101.14, \"y1\": 102.24}, {\"line\": {\"color\": \"rgb(55, 128, 191)\", \"width\": 1.5}, \"type\": \"line\", \"x0\": 11, \"x1\": 11, \"y0\": 97.79, \"y1\": 98.89}, {\"line\": {\"color\": \"rgb(55, 128, 191)\", \"width\": 1.5}, \"type\": \"line\", \"x0\": 12, \"x1\": 12, \"y0\": 96.77, \"y1\": 97.9}, {\"line\": {\"color\": \"rgb(55, 128, 191)\", \"width\": 1.5}, \"type\": \"line\", \"x0\": 13, \"x1\": 13, \"y0\": 96.63, \"y1\": 97.73}, {\"line\": {\"color\": \"rgb(55, 128, 191)\", \"width\": 1.5}, \"type\": \"line\", \"x0\": 14, \"x1\": 14, \"y0\": 98.33, \"y1\": 99.44}, {\"line\": {\"color\": \"rgb(55, 128, 191)\", \"width\": 1.5}, \"type\": \"line\", \"x0\": 15, \"x1\": 15, \"y0\": 95.63, \"y1\": 96.74}, {\"line\": {\"color\": \"rgb(55, 128, 191)\", \"width\": 1.5}, \"type\": \"line\", \"x0\": 16, \"x1\": 16, \"y0\": 98.92, \"y1\": 100.03}, {\"line\": {\"color\": \"rgb(55, 128, 191)\", \"width\": 1.5}, \"type\": \"line\", \"x0\": 17, \"x1\": 17, \"y0\": 97.41, \"y1\": 98.53}, {\"line\": {\"color\": \"rgb(55, 128, 191)\", \"width\": 1.5}, \"type\": \"line\", \"x0\": 18, \"x1\": 18, \"y0\": 97.59, \"y1\": 98.67}, {\"line\": {\"color\": \"rgb(55, 128, 191)\", \"width\": 1.5}, \"type\": \"line\", \"x0\": 19, \"x1\": 19, \"y0\": 97.37, \"y1\": 98.49}, {\"line\": {\"color\": \"rgb(55, 128, 191)\", \"width\": 1.5}, \"type\": \"line\", \"x0\": 20, \"x1\": 20, \"y0\": 94.97, \"y1\": 96.08}, {\"line\": {\"color\": \"rgb(55, 128, 191)\", \"width\": 1.5}, \"type\": \"line\", \"x0\": 21, \"x1\": 21, \"y0\": 97.23, \"y1\": 98.34}, {\"line\": {\"color\": \"rgb(55, 128, 191)\", \"width\": 1.5}, \"type\": \"line\", \"x0\": 22, \"x1\": 22, \"y0\": 96.27, \"y1\": 97.36}, {\"line\": {\"color\": \"rgb(55, 128, 191)\", \"width\": 1.5}, \"type\": \"line\", \"x0\": 23, \"x1\": 23, \"y0\": 97.2, \"y1\": 98.28}, {\"line\": {\"color\": \"rgb(55, 128, 191)\", \"width\": 1.5}, \"type\": \"line\", \"x0\": 24, \"x1\": 24, \"y0\": 96.19, \"y1\": 97.28}, {\"line\": {\"color\": \"rgb(55, 128, 191)\", \"width\": 1.5}, \"type\": \"line\", \"x0\": 25, \"x1\": 25, \"y0\": 95.73, \"y1\": 96.82}, {\"line\": {\"color\": \"rgb(55, 128, 191)\", \"width\": 1.5}, \"type\": \"line\", \"x0\": 26, \"x1\": 26, \"y0\": 98.89, \"y1\": 99.98}, {\"line\": {\"color\": \"rgb(55, 128, 191)\", \"width\": 1.5}, \"type\": \"line\", \"x0\": 27, \"x1\": 27, \"y0\": 96.13, \"y1\": 97.21}, {\"line\": {\"color\": \"rgb(55, 128, 191)\", \"width\": 1.5}, \"type\": \"line\", \"x0\": 28, \"x1\": 28, \"y0\": 98.79, \"y1\": 99.89}, {\"line\": {\"color\": \"rgb(55, 128, 191)\", \"width\": 1.5}, \"type\": \"line\", \"x0\": 29, \"x1\": 29, \"y0\": 97.16, \"y1\": 98.28}, {\"line\": {\"color\": \"rgb(55, 128, 191)\", \"width\": 1.5}, \"type\": \"line\", \"x0\": 30, \"x1\": 30, \"y0\": 98.87, \"y1\": 99.98}, {\"line\": {\"color\": \"rgb(55, 128, 191)\", \"width\": 1.5}, \"type\": \"line\", \"x0\": 31, \"x1\": 31, \"y0\": 96.62, \"y1\": 97.73}, {\"line\": {\"color\": \"rgb(55, 128, 191)\", \"width\": 1.5}, \"type\": \"line\", \"x0\": 32, \"x1\": 32, \"y0\": 96.15, \"y1\": 97.25}, {\"line\": {\"color\": \"rgb(55, 128, 191)\", \"width\": 1.5}, \"type\": \"line\", \"x0\": 33, \"x1\": 33, \"y0\": 95.24, \"y1\": 96.33}, {\"line\": {\"color\": \"rgb(55, 128, 191)\", \"width\": 1.5}, \"type\": \"line\", \"x0\": 34, \"x1\": 34, \"y0\": 95.98, \"y1\": 97.08}, {\"line\": {\"color\": \"rgb(55, 128, 191)\", \"width\": 1.5}, \"type\": \"line\", \"x0\": 35, \"x1\": 35, \"y0\": 99.26, \"y1\": 100.36}, {\"line\": {\"color\": \"rgb(55, 128, 191)\", \"width\": 1.5}, \"type\": \"line\", \"x0\": 36, \"x1\": 36, \"y0\": 97.36, \"y1\": 98.47}, {\"line\": {\"color\": \"rgb(55, 128, 191)\", \"width\": 1.5}, \"type\": \"line\", \"x0\": 37, \"x1\": 37, \"y0\": 96.99, \"y1\": 98.08}, {\"line\": {\"color\": \"rgb(55, 128, 191)\", \"width\": 1.5}, \"type\": \"line\", \"x0\": 38, \"x1\": 38, \"y0\": 97.64, \"y1\": 98.76}, {\"line\": {\"color\": \"rgb(55, 128, 191)\", \"width\": 1.5}, \"type\": \"line\", \"x0\": 39, \"x1\": 39, \"y0\": 98.4, \"y1\": 99.53}, {\"line\": {\"color\": \"rgb(55, 128, 191)\", \"width\": 1.5}, \"type\": \"line\", \"x0\": 40, \"x1\": 40, \"y0\": 100.11, \"y1\": 101.23}, {\"line\": {\"color\": \"rgb(55, 128, 191)\", \"width\": 1.5}, \"type\": \"line\", \"x0\": 41, \"x1\": 41, \"y0\": 100.84, \"y1\": 101.96}, {\"line\": {\"color\": \"rgb(55, 128, 191)\", \"width\": 1.5}, \"type\": \"line\", \"x0\": 42, \"x1\": 42, \"y0\": 102.93, \"y1\": 104.06}, {\"line\": {\"color\": \"rgb(55, 128, 191)\", \"width\": 1.5}, \"type\": \"line\", \"x0\": 43, \"x1\": 43, \"y0\": 102.2, \"y1\": 103.33}, {\"line\": {\"color\": \"rgb(55, 128, 191)\", \"width\": 1.5}, \"type\": \"line\", \"x0\": 44, \"x1\": 44, \"y0\": 102.76, \"y1\": 103.86}, {\"line\": {\"color\": \"rgb(55, 128, 191)\", \"width\": 1.5}, \"type\": \"line\", \"x0\": 45, \"x1\": 45, \"y0\": 101.79, \"y1\": 102.89}, {\"line\": {\"color\": \"rgb(55, 128, 191)\", \"width\": 1.5}, \"type\": \"line\", \"x0\": 46, \"x1\": 46, \"y0\": 101.32, \"y1\": 102.4}, {\"line\": {\"color\": \"rgb(55, 128, 191)\", \"width\": 1.5}, \"type\": \"line\", \"x0\": 47, \"x1\": 47, \"y0\": 102.13, \"y1\": 103.24}, {\"line\": {\"color\": \"rgb(55, 128, 191)\", \"width\": 1.5}, \"type\": \"line\", \"x0\": 48, \"x1\": 48, \"y0\": 103.62, \"y1\": 104.72}, {\"line\": {\"color\": \"rgb(55, 128, 191)\", \"width\": 1.5}, \"type\": \"line\", \"x0\": 49, \"x1\": 49, \"y0\": 103.63, \"y1\": 104.74}, {\"line\": {\"color\": \"rgb(55, 128, 191)\", \"width\": 1.5}, \"type\": \"line\", \"x0\": 50, \"x1\": 50, \"y0\": 102.04, \"y1\": 103.15}], \"showlegend\": false, \"title\": \"Random Walk\", \"xaxis\": {\"anchor\": \"y2\", \"showgrid\": true, \"showticklabels\": true, \"tickangle\": 90, \"tickmode\": \"array\", \"ticktext\": [20190522, 20190524, 20190528, 20190530, 20190603, 20190605, 20190607, 20190611, 20190613, 20190617, 20190619, 20190621, 20190625, 20190627, 20190701, 20190703, 20190705, 20190709, 20190711, 20190715, 20190717, 20190719, 20190723, 20190725, 20190729, 20190730], \"tickvals\": [1, 3, 5, 7, 9, 11, 13, 15, 17, 19, 21, 23, 25, 27, 29, 31, 33, 35, 37, 39, 41, 43, 45, 47, 49, 50]}, \"yaxis\": {\"domain\": [0.22, 1], \"range\": [90.21, 104.74]}, \"yaxis2\": {\"domain\": [0, 0.2], \"range\": [0, 645630.0]}}, {\"showLink\": true, \"linkText\": \"Export to plot.ly\"})});</script>"
      ],
      "text/vnd.plotly.v1+html": [
       "<div id=\"0d376463-94a5-4c6d-97bc-5c289fa1e5b9\" style=\"height: 525px; width: 100%;\" class=\"plotly-graph-div\"></div><script type=\"text/javascript\">require([\"plotly\"], function(Plotly) { window.PLOTLYENV=window.PLOTLYENV || {};window.PLOTLYENV.BASE_URL=\"https://plot.ly\";Plotly.newPlot(\"0d376463-94a5-4c6d-97bc-5c289fa1e5b9\", [{\"hoverinfo\": \"text\", \"mode\": \"markers\", \"text\": [\"date: 20190522.0<br>open: 101.31<br>high: 102.45<br>low: 99.27<br>close: 100.36<br>volume: 508189.0\", \"date: 20190523.0<br>open: 97.34<br>high: 100.48<br>low: 96.22<br>close: 99.38<br>volume: 505512.0\", \"date: 20190524.0<br>open: 103.39<br>high: 104.48<br>low: 98.01<br>close: 99.11<br>volume: 515390.0\", \"date: 20190527.0<br>open: 99.18<br>high: 100.42<br>low: 98.08<br>close: 99.33<br>volume: 517170.0\", \"date: 20190528.0<br>open: 100.58<br>high: 101.68<br>low: 98.64<br>close: 99.76<br>volume: 507294.0\", \"date: 20190529.0<br>open: 97.85<br>high: 99.06<br>low: 96.73<br>close: 97.96<br>volume: 524174.0\", \"date: 20190530.0<br>open: 99.82<br>high: 100.91<br>low: 96.93<br>close: 98.03<br>volume: 522681.0\", \"date: 20190531.0<br>open: 98.07<br>high: 99.18<br>low: 96.93<br>close: 98.02<br>volume: 513723.0\", \"date: 20190603.0<br>open: 97.31<br>high: 98.43<br>low: 96.13<br>close: 97.24<br>volume: 524228.0\", \"date: 20190604.0<br>open: 101.14<br>high: 102.24<br>low: 95.85<br>close: 96.95<br>volume: 544952.0\", \"date: 20190605.0<br>open: 97.79<br>high: 98.89<br>low: 96.32<br>close: 97.41<br>volume: 533178.0\", \"date: 20190606.0<br>open: 95.48<br>high: 97.9<br>low: 94.38<br>close: 96.77<br>volume: 542283.0\", \"date: 20190607.0<br>open: 95.64<br>high: 97.73<br>low: 94.54<br>close: 96.63<br>volume: 526258.0\", \"date: 20190610.0<br>open: 98.33<br>high: 99.44<br>low: 95.28<br>close: 96.4<br>volume: 538453.0\", \"date: 20190611.0<br>open: 93.35<br>high: 96.74<br>low: 92.24<br>close: 95.63<br>volume: 561944.0\", \"date: 20190612.0<br>open: 98.92<br>high: 100.03<br>low: 96.14<br>close: 97.23<br>volume: 588815.0\", \"date: 20190613.0<br>open: 97.41<br>high: 98.53<br>low: 94.99<br>close: 96.1<br>volume: 571027.0\", \"date: 20190614.0<br>open: 96.68<br>high: 98.67<br>low: 95.58<br>close: 97.59<br>volume: 573271.0\", \"date: 20190617.0<br>open: 96.37<br>high: 98.49<br>low: 95.26<br>close: 97.37<br>volume: 570063.0\", \"date: 20190618.0<br>open: 91.31<br>high: 96.08<br>low: 90.21<br>close: 94.97<br>volume: 598076.0\", \"date: 20190619.0<br>open: 97.23<br>high: 98.34<br>low: 93.92<br>close: 95.03<br>volume: 601930.0\", \"date: 20190620.0<br>open: 95.25<br>high: 97.36<br>low: 94.12<br>close: 96.27<br>volume: 594289.0\", \"date: 20190621.0<br>open: 96.87<br>high: 98.28<br>low: 95.74<br>close: 97.2<br>volume: 594720.0\", \"date: 20190624.0<br>open: 93.57<br>high: 97.28<br>low: 92.45<br>close: 96.19<br>volume: 606445.0\", \"date: 20190625.0<br>open: 93.84<br>high: 96.82<br>low: 92.75<br>close: 95.73<br>volume: 629321.0\", \"date: 20190626.0<br>open: 98.89<br>high: 99.98<br>low: 95.29<br>close: 96.41<br>volume: 637696.0\", \"date: 20190627.0<br>open: 92.71<br>high: 97.21<br>low: 91.61<br>close: 96.13<br>volume: 640868.0\", \"date: 20190628.0<br>open: 98.79<br>high: 99.89<br>low: 95.92<br>close: 97.03<br>volume: 645630.0\", \"date: 20190701.0<br>open: 97.16<br>high: 98.28<br>low: 95.81<br>close: 96.92<br>volume: 627348.0\", \"date: 20190702.0<br>open: 98.87<br>high: 99.98<br>low: 95.07<br>close: 96.15<br>volume: 591945.0\", \"date: 20190703.0<br>open: 95.56<br>high: 97.73<br>low: 94.46<br>close: 96.62<br>volume: 564548.0\", \"date: 20190704.0<br>open: 96.15<br>high: 97.25<br>low: 93.78<br>close: 94.88<br>volume: 550666.0\", \"date: 20190705.0<br>open: 95.24<br>high: 96.33<br>low: 93.59<br>close: 94.72<br>volume: 538959.0\", \"date: 20190708.0<br>open: 94.77<br>high: 97.08<br>low: 93.68<br>close: 95.98<br>volume: 518851.0\", \"date: 20190709.0<br>open: 99.26<br>high: 100.36<br>low: 95.14<br>close: 96.24<br>volume: 508969.0\", \"date: 20190710.0<br>open: 95.7<br>high: 98.47<br>low: 94.63<br>close: 97.36<br>volume: 524536.0\", \"date: 20190711.0<br>open: 95.28<br>high: 98.08<br>low: 94.19<br>close: 96.99<br>volume: 557674.0\", \"date: 20190712.0<br>open: 97.34<br>high: 98.76<br>low: 96.23<br>close: 97.64<br>volume: 547407.0\", \"date: 20190715.0<br>open: 97.46<br>high: 99.53<br>low: 96.35<br>close: 98.4<br>volume: 566988.0\", \"date: 20190716.0<br>open: 98.06<br>high: 101.23<br>low: 96.96<br>close: 100.11<br>volume: 570074.0\", \"date: 20190717.0<br>open: 98.97<br>high: 101.96<br>low: 97.87<br>close: 100.84<br>volume: 588760.0\", \"date: 20190718.0<br>open: 102.93<br>high: 104.06<br>low: 100.03<br>close: 101.14<br>volume: 565762.0\", \"date: 20190719.0<br>open: 102.2<br>high: 103.33<br>low: 100.59<br>close: 101.72<br>volume: 580302.0\", \"date: 20190722.0<br>open: 102.76<br>high: 103.86<br>low: 99.92<br>close: 101.02<br>volume: 583273.0\", \"date: 20190723.0<br>open: 101.01<br>high: 102.89<br>low: 99.92<br>close: 101.79<br>volume: 599763.0\", \"date: 20190724.0<br>open: 100.54<br>high: 102.4<br>low: 99.45<br>close: 101.32<br>volume: 572154.0\", \"date: 20190725.0<br>open: 100.85<br>high: 103.24<br>low: 99.73<br>close: 102.13<br>volume: 595131.0\", \"date: 20190726.0<br>open: 103.01<br>high: 104.72<br>low: 101.89<br>close: 103.62<br>volume: 616860.0\", \"date: 20190729.0<br>open: 103.63<br>high: 104.74<br>low: 101.68<br>close: 102.8<br>volume: 640899.0\", \"date: 20190730.0<br>open: 99.29<br>high: 103.15<br>low: 98.2<br>close: 102.04<br>volume: 615994.0\"], \"x\": [1, 2, 3, 4, 5, 6, 7, 8, 9, 10, 11, 12, 13, 14, 15, 16, 17, 18, 19, 20, 21, 22, 23, 24, 25, 26, 27, 28, 29, 30, 31, 32, 33, 34, 35, 36, 37, 38, 39, 40, 41, 42, 43, 44, 45, 46, 47, 48, 49, 50], \"xaxis\": \"x\", \"y\": [100.36, 99.38, 99.11, 99.33, 99.76, 97.96, 98.03, 98.02, 97.24, 96.95, 97.41, 96.77, 96.63, 96.4, 95.63, 97.23, 96.1, 97.59, 97.37, 94.97, 95.03, 96.27, 97.2, 96.19, 95.73, 96.41, 96.13, 97.03, 96.92, 96.15, 96.62, 94.88, 94.72, 95.98, 96.24, 97.36, 96.99, 97.64, 98.4, 100.11, 100.84, 101.14, 101.72, 101.02, 101.79, 101.32, 102.13, 103.62, 102.8, 102.04], \"yaxis\": \"y\", \"type\": \"scatter\", \"uid\": \"d6210c9a-b2f0-11e9-901d-8c859025e7f9\"}, {\"width\": 0.5, \"x\": [1, 2, 3, 4, 5, 6, 7, 8, 9, 10, 11, 12, 13, 14, 15, 16, 17, 18, 19, 20, 21, 22, 23, 24, 25, 26, 27, 28, 29, 30, 31, 32, 33, 34, 35, 36, 37, 38, 39, 40, 41, 42, 43, 44, 45, 46, 47, 48, 49, 50], \"xaxis\": \"x\", \"y\": [508189.0, 505512.0, 515390.0, 517170.0, 507294.0, 524174.0, 522681.0, 513723.0, 524228.0, 544952.0, 533178.0, 542283.0, 526258.0, 538453.0, 561944.0, 588815.0, 571027.0, 573271.0, 570063.0, 598076.0, 601930.0, 594289.0, 594720.0, 606445.0, 629321.0, 637696.0, 640868.0, 645630.0, 627348.0, 591945.0, 564548.0, 550666.0, 538959.0, 518851.0, 508969.0, 524536.0, 557674.0, 547407.0, 566988.0, 570074.0, 588760.0, 565762.0, 580302.0, 583273.0, 599763.0, 572154.0, 595131.0, 616860.0, 640899.0, 615994.0], \"yaxis\": \"y2\", \"type\": \"bar\", \"uid\": \"d6210e1e-b2f0-11e9-bdfb-8c859025e7f9\"}], {\"margin\": {\"t\": 100}, \"shapes\": [{\"line\": {\"color\": \"rgb(55, 128, 191)\", \"width\": 1.5}, \"type\": \"line\", \"x0\": 1, \"x1\": 1, \"y0\": 99.27, \"y1\": 100.36}, {\"line\": {\"color\": \"rgb(55, 128, 191)\", \"width\": 1.5}, \"type\": \"line\", \"x0\": 2, \"x1\": 2, \"y0\": 96.22, \"y1\": 97.34}, {\"line\": {\"color\": \"rgb(55, 128, 191)\", \"width\": 1.5}, \"type\": \"line\", \"x0\": 3, \"x1\": 3, \"y0\": 98.01, \"y1\": 99.11}, {\"line\": {\"color\": \"rgb(55, 128, 191)\", \"width\": 1.5}, \"type\": \"line\", \"x0\": 4, \"x1\": 4, \"y0\": 98.08, \"y1\": 99.18}, {\"line\": {\"color\": \"rgb(55, 128, 191)\", \"width\": 1.5}, \"type\": \"line\", \"x0\": 5, \"x1\": 5, \"y0\": 98.64, \"y1\": 99.76}, {\"line\": {\"color\": \"rgb(55, 128, 191)\", \"width\": 1.5}, \"type\": \"line\", \"x0\": 6, \"x1\": 6, \"y0\": 96.73, \"y1\": 97.85}, {\"line\": {\"color\": \"rgb(55, 128, 191)\", \"width\": 1.5}, \"type\": \"line\", \"x0\": 7, \"x1\": 7, \"y0\": 96.93, \"y1\": 98.03}, {\"line\": {\"color\": \"rgb(55, 128, 191)\", \"width\": 1.5}, \"type\": \"line\", \"x0\": 8, \"x1\": 8, \"y0\": 96.93, \"y1\": 98.02}, {\"line\": {\"color\": \"rgb(55, 128, 191)\", \"width\": 1.5}, \"type\": \"line\", \"x0\": 9, \"x1\": 9, \"y0\": 96.13, \"y1\": 97.24}, {\"line\": {\"color\": \"rgb(55, 128, 191)\", \"width\": 1.5}, \"type\": \"line\", \"x0\": 10, \"x1\": 10, \"y0\": 95.85, \"y1\": 96.95}, {\"line\": {\"color\": \"rgb(55, 128, 191)\", \"width\": 1.5}, \"type\": \"line\", \"x0\": 11, \"x1\": 11, \"y0\": 96.32, \"y1\": 97.41}, {\"line\": {\"color\": \"rgb(55, 128, 191)\", \"width\": 1.5}, \"type\": \"line\", \"x0\": 12, \"x1\": 12, \"y0\": 94.38, \"y1\": 95.48}, {\"line\": {\"color\": \"rgb(55, 128, 191)\", \"width\": 1.5}, \"type\": \"line\", \"x0\": 13, \"x1\": 13, \"y0\": 94.54, \"y1\": 95.64}, {\"line\": {\"color\": \"rgb(55, 128, 191)\", \"width\": 1.5}, \"type\": \"line\", \"x0\": 14, \"x1\": 14, \"y0\": 95.28, \"y1\": 96.4}, {\"line\": {\"color\": \"rgb(55, 128, 191)\", \"width\": 1.5}, \"type\": \"line\", \"x0\": 15, \"x1\": 15, \"y0\": 92.24, \"y1\": 93.35}, {\"line\": {\"color\": \"rgb(55, 128, 191)\", \"width\": 1.5}, \"type\": \"line\", \"x0\": 16, \"x1\": 16, \"y0\": 96.14, \"y1\": 97.23}, {\"line\": {\"color\": \"rgb(55, 128, 191)\", \"width\": 1.5}, \"type\": \"line\", \"x0\": 17, \"x1\": 17, \"y0\": 94.99, \"y1\": 96.1}, {\"line\": {\"color\": \"rgb(55, 128, 191)\", \"width\": 1.5}, \"type\": \"line\", \"x0\": 18, \"x1\": 18, \"y0\": 95.58, \"y1\": 96.68}, {\"line\": {\"color\": \"rgb(55, 128, 191)\", \"width\": 1.5}, \"type\": \"line\", \"x0\": 19, \"x1\": 19, \"y0\": 95.26, \"y1\": 96.37}, {\"line\": {\"color\": \"rgb(55, 128, 191)\", \"width\": 1.5}, \"type\": \"line\", \"x0\": 20, \"x1\": 20, \"y0\": 90.21, \"y1\": 91.31}, {\"line\": {\"color\": \"rgb(55, 128, 191)\", \"width\": 1.5}, \"type\": \"line\", \"x0\": 21, \"x1\": 21, \"y0\": 93.92, \"y1\": 95.03}, {\"line\": {\"color\": \"rgb(55, 128, 191)\", \"width\": 1.5}, \"type\": \"line\", \"x0\": 22, \"x1\": 22, \"y0\": 94.12, \"y1\": 95.25}, {\"line\": {\"color\": \"rgb(55, 128, 191)\", \"width\": 1.5}, \"type\": \"line\", \"x0\": 23, \"x1\": 23, \"y0\": 95.74, \"y1\": 96.87}, {\"line\": {\"color\": \"rgb(55, 128, 191)\", \"width\": 1.5}, \"type\": \"line\", \"x0\": 24, \"x1\": 24, \"y0\": 92.45, \"y1\": 93.57}, {\"line\": {\"color\": \"rgb(55, 128, 191)\", \"width\": 1.5}, \"type\": \"line\", \"x0\": 25, \"x1\": 25, \"y0\": 92.75, \"y1\": 93.84}, {\"line\": {\"color\": \"rgb(55, 128, 191)\", \"width\": 1.5}, \"type\": \"line\", \"x0\": 26, \"x1\": 26, \"y0\": 95.29, \"y1\": 96.41}, {\"line\": {\"color\": \"rgb(55, 128, 191)\", \"width\": 1.5}, \"type\": \"line\", \"x0\": 27, \"x1\": 27, \"y0\": 91.61, \"y1\": 92.71}, {\"line\": {\"color\": \"rgb(55, 128, 191)\", \"width\": 1.5}, \"type\": \"line\", \"x0\": 28, \"x1\": 28, \"y0\": 95.92, \"y1\": 97.03}, {\"line\": {\"color\": \"rgb(55, 128, 191)\", \"width\": 1.5}, \"type\": \"line\", \"x0\": 29, \"x1\": 29, \"y0\": 95.81, \"y1\": 96.92}, {\"line\": {\"color\": \"rgb(55, 128, 191)\", \"width\": 1.5}, \"type\": \"line\", \"x0\": 30, \"x1\": 30, \"y0\": 95.07, \"y1\": 96.15}, {\"line\": {\"color\": \"rgb(55, 128, 191)\", \"width\": 1.5}, \"type\": \"line\", \"x0\": 31, \"x1\": 31, \"y0\": 94.46, \"y1\": 95.56}, {\"line\": {\"color\": \"rgb(55, 128, 191)\", \"width\": 1.5}, \"type\": \"line\", \"x0\": 32, \"x1\": 32, \"y0\": 93.78, \"y1\": 94.88}, {\"line\": {\"color\": \"rgb(55, 128, 191)\", \"width\": 1.5}, \"type\": \"line\", \"x0\": 33, \"x1\": 33, \"y0\": 93.59, \"y1\": 94.72}, {\"line\": {\"color\": \"rgb(55, 128, 191)\", \"width\": 1.5}, \"type\": \"line\", \"x0\": 34, \"x1\": 34, \"y0\": 93.68, \"y1\": 94.77}, {\"line\": {\"color\": \"rgb(55, 128, 191)\", \"width\": 1.5}, \"type\": \"line\", \"x0\": 35, \"x1\": 35, \"y0\": 95.14, \"y1\": 96.24}, {\"line\": {\"color\": \"rgb(55, 128, 191)\", \"width\": 1.5}, \"type\": \"line\", \"x0\": 36, \"x1\": 36, \"y0\": 94.63, \"y1\": 95.7}, {\"line\": {\"color\": \"rgb(55, 128, 191)\", \"width\": 1.5}, \"type\": \"line\", \"x0\": 37, \"x1\": 37, \"y0\": 94.19, \"y1\": 95.28}, {\"line\": {\"color\": \"rgb(55, 128, 191)\", \"width\": 1.5}, \"type\": \"line\", \"x0\": 38, \"x1\": 38, \"y0\": 96.23, \"y1\": 97.34}, {\"line\": {\"color\": \"rgb(55, 128, 191)\", \"width\": 1.5}, \"type\": \"line\", \"x0\": 39, \"x1\": 39, \"y0\": 96.35, \"y1\": 97.46}, {\"line\": {\"color\": \"rgb(55, 128, 191)\", \"width\": 1.5}, \"type\": \"line\", \"x0\": 40, \"x1\": 40, \"y0\": 96.96, \"y1\": 98.06}, {\"line\": {\"color\": \"rgb(55, 128, 191)\", \"width\": 1.5}, \"type\": \"line\", \"x0\": 41, \"x1\": 41, \"y0\": 97.87, \"y1\": 98.97}, {\"line\": {\"color\": \"rgb(55, 128, 191)\", \"width\": 1.5}, \"type\": \"line\", \"x0\": 42, \"x1\": 42, \"y0\": 100.03, \"y1\": 101.14}, {\"line\": {\"color\": \"rgb(55, 128, 191)\", \"width\": 1.5}, \"type\": \"line\", \"x0\": 43, \"x1\": 43, \"y0\": 100.59, \"y1\": 101.72}, {\"line\": {\"color\": \"rgb(55, 128, 191)\", \"width\": 1.5}, \"type\": \"line\", \"x0\": 44, \"x1\": 44, \"y0\": 99.92, \"y1\": 101.02}, {\"line\": {\"color\": \"rgb(55, 128, 191)\", \"width\": 1.5}, \"type\": \"line\", \"x0\": 45, \"x1\": 45, \"y0\": 99.92, \"y1\": 101.01}, {\"line\": {\"color\": \"rgb(55, 128, 191)\", \"width\": 1.5}, \"type\": \"line\", \"x0\": 46, \"x1\": 46, \"y0\": 99.45, \"y1\": 100.54}, {\"line\": {\"color\": \"rgb(55, 128, 191)\", \"width\": 1.5}, \"type\": \"line\", \"x0\": 47, \"x1\": 47, \"y0\": 99.73, \"y1\": 100.85}, {\"line\": {\"color\": \"rgb(55, 128, 191)\", \"width\": 1.5}, \"type\": \"line\", \"x0\": 48, \"x1\": 48, \"y0\": 101.89, \"y1\": 103.01}, {\"line\": {\"color\": \"rgb(55, 128, 191)\", \"width\": 1.5}, \"type\": \"line\", \"x0\": 49, \"x1\": 49, \"y0\": 101.68, \"y1\": 102.8}, {\"line\": {\"color\": \"rgb(55, 128, 191)\", \"width\": 1.5}, \"type\": \"line\", \"x0\": 50, \"x1\": 50, \"y0\": 98.2, \"y1\": 99.29}, {\"fillcolor\": \"rgba(255, 0, 0, 0.6)\", \"line\": {\"color\": \"rgb(55, 128, 191)\", \"width\": 1}, \"type\": \"rect\", \"x0\": 0.75, \"x1\": 1.25, \"xref\": \"x\", \"y0\": 100.36, \"y1\": 101.31, \"yref\": \"y\"}, {\"fillcolor\": \"rgba(0, 204, 0, 0.6)\", \"line\": {\"color\": \"rgb(55, 128, 191)\", \"width\": 1}, \"type\": \"rect\", \"x0\": 1.75, \"x1\": 2.25, \"xref\": \"x\", \"y0\": 97.34, \"y1\": 99.38, \"yref\": \"y\"}, {\"fillcolor\": \"rgba(255, 0, 0, 0.6)\", \"line\": {\"color\": \"rgb(55, 128, 191)\", \"width\": 1}, \"type\": \"rect\", \"x0\": 2.75, \"x1\": 3.25, \"xref\": \"x\", \"y0\": 99.11, \"y1\": 103.39, \"yref\": \"y\"}, {\"fillcolor\": \"rgba(0, 204, 0, 0.6)\", \"line\": {\"color\": \"rgb(55, 128, 191)\", \"width\": 1}, \"type\": \"rect\", \"x0\": 3.75, \"x1\": 4.25, \"xref\": \"x\", \"y0\": 99.18, \"y1\": 99.33, \"yref\": \"y\"}, {\"fillcolor\": \"rgba(255, 0, 0, 0.6)\", \"line\": {\"color\": \"rgb(55, 128, 191)\", \"width\": 1}, \"type\": \"rect\", \"x0\": 4.75, \"x1\": 5.25, \"xref\": \"x\", \"y0\": 99.76, \"y1\": 100.58, \"yref\": \"y\"}, {\"fillcolor\": \"rgba(0, 204, 0, 0.6)\", \"line\": {\"color\": \"rgb(55, 128, 191)\", \"width\": 1}, \"type\": \"rect\", \"x0\": 5.75, \"x1\": 6.25, \"xref\": \"x\", \"y0\": 97.85, \"y1\": 97.96, \"yref\": \"y\"}, {\"fillcolor\": \"rgba(255, 0, 0, 0.6)\", \"line\": {\"color\": \"rgb(55, 128, 191)\", \"width\": 1}, \"type\": \"rect\", \"x0\": 6.75, \"x1\": 7.25, \"xref\": \"x\", \"y0\": 98.03, \"y1\": 99.82, \"yref\": \"y\"}, {\"fillcolor\": \"rgba(255, 0, 0, 0.6)\", \"line\": {\"color\": \"rgb(55, 128, 191)\", \"width\": 1}, \"type\": \"rect\", \"x0\": 7.75, \"x1\": 8.25, \"xref\": \"x\", \"y0\": 98.02, \"y1\": 98.07, \"yref\": \"y\"}, {\"fillcolor\": \"rgba(255, 0, 0, 0.6)\", \"line\": {\"color\": \"rgb(55, 128, 191)\", \"width\": 1}, \"type\": \"rect\", \"x0\": 8.75, \"x1\": 9.25, \"xref\": \"x\", \"y0\": 97.24, \"y1\": 97.31, \"yref\": \"y\"}, {\"fillcolor\": \"rgba(255, 0, 0, 0.6)\", \"line\": {\"color\": \"rgb(55, 128, 191)\", \"width\": 1}, \"type\": \"rect\", \"x0\": 9.75, \"x1\": 10.25, \"xref\": \"x\", \"y0\": 96.95, \"y1\": 101.14, \"yref\": \"y\"}, {\"fillcolor\": \"rgba(255, 0, 0, 0.6)\", \"line\": {\"color\": \"rgb(55, 128, 191)\", \"width\": 1}, \"type\": \"rect\", \"x0\": 10.75, \"x1\": 11.25, \"xref\": \"x\", \"y0\": 97.41, \"y1\": 97.79, \"yref\": \"y\"}, {\"fillcolor\": \"rgba(0, 204, 0, 0.6)\", \"line\": {\"color\": \"rgb(55, 128, 191)\", \"width\": 1}, \"type\": \"rect\", \"x0\": 11.75, \"x1\": 12.25, \"xref\": \"x\", \"y0\": 95.48, \"y1\": 96.77, \"yref\": \"y\"}, {\"fillcolor\": \"rgba(0, 204, 0, 0.6)\", \"line\": {\"color\": \"rgb(55, 128, 191)\", \"width\": 1}, \"type\": \"rect\", \"x0\": 12.75, \"x1\": 13.25, \"xref\": \"x\", \"y0\": 95.64, \"y1\": 96.63, \"yref\": \"y\"}, {\"fillcolor\": \"rgba(255, 0, 0, 0.6)\", \"line\": {\"color\": \"rgb(55, 128, 191)\", \"width\": 1}, \"type\": \"rect\", \"x0\": 13.75, \"x1\": 14.25, \"xref\": \"x\", \"y0\": 96.4, \"y1\": 98.33, \"yref\": \"y\"}, {\"fillcolor\": \"rgba(0, 204, 0, 0.6)\", \"line\": {\"color\": \"rgb(55, 128, 191)\", \"width\": 1}, \"type\": \"rect\", \"x0\": 14.75, \"x1\": 15.25, \"xref\": \"x\", \"y0\": 93.35, \"y1\": 95.63, \"yref\": \"y\"}, {\"fillcolor\": \"rgba(255, 0, 0, 0.6)\", \"line\": {\"color\": \"rgb(55, 128, 191)\", \"width\": 1}, \"type\": \"rect\", \"x0\": 15.75, \"x1\": 16.25, \"xref\": \"x\", \"y0\": 97.23, \"y1\": 98.92, \"yref\": \"y\"}, {\"fillcolor\": \"rgba(255, 0, 0, 0.6)\", \"line\": {\"color\": \"rgb(55, 128, 191)\", \"width\": 1}, \"type\": \"rect\", \"x0\": 16.75, \"x1\": 17.25, \"xref\": \"x\", \"y0\": 96.1, \"y1\": 97.41, \"yref\": \"y\"}, {\"fillcolor\": \"rgba(0, 204, 0, 0.6)\", \"line\": {\"color\": \"rgb(55, 128, 191)\", \"width\": 1}, \"type\": \"rect\", \"x0\": 17.75, \"x1\": 18.25, \"xref\": \"x\", \"y0\": 96.68, \"y1\": 97.59, \"yref\": \"y\"}, {\"fillcolor\": \"rgba(0, 204, 0, 0.6)\", \"line\": {\"color\": \"rgb(55, 128, 191)\", \"width\": 1}, \"type\": \"rect\", \"x0\": 18.75, \"x1\": 19.25, \"xref\": \"x\", \"y0\": 96.37, \"y1\": 97.37, \"yref\": \"y\"}, {\"fillcolor\": \"rgba(0, 204, 0, 0.6)\", \"line\": {\"color\": \"rgb(55, 128, 191)\", \"width\": 1}, \"type\": \"rect\", \"x0\": 19.75, \"x1\": 20.25, \"xref\": \"x\", \"y0\": 91.31, \"y1\": 94.97, \"yref\": \"y\"}, {\"fillcolor\": \"rgba(255, 0, 0, 0.6)\", \"line\": {\"color\": \"rgb(55, 128, 191)\", \"width\": 1}, \"type\": \"rect\", \"x0\": 20.75, \"x1\": 21.25, \"xref\": \"x\", \"y0\": 95.03, \"y1\": 97.23, \"yref\": \"y\"}, {\"fillcolor\": \"rgba(0, 204, 0, 0.6)\", \"line\": {\"color\": \"rgb(55, 128, 191)\", \"width\": 1}, \"type\": \"rect\", \"x0\": 21.75, \"x1\": 22.25, \"xref\": \"x\", \"y0\": 95.25, \"y1\": 96.27, \"yref\": \"y\"}, {\"fillcolor\": \"rgba(0, 204, 0, 0.6)\", \"line\": {\"color\": \"rgb(55, 128, 191)\", \"width\": 1}, \"type\": \"rect\", \"x0\": 22.75, \"x1\": 23.25, \"xref\": \"x\", \"y0\": 96.87, \"y1\": 97.2, \"yref\": \"y\"}, {\"fillcolor\": \"rgba(0, 204, 0, 0.6)\", \"line\": {\"color\": \"rgb(55, 128, 191)\", \"width\": 1}, \"type\": \"rect\", \"x0\": 23.75, \"x1\": 24.25, \"xref\": \"x\", \"y0\": 93.57, \"y1\": 96.19, \"yref\": \"y\"}, {\"fillcolor\": \"rgba(0, 204, 0, 0.6)\", \"line\": {\"color\": \"rgb(55, 128, 191)\", \"width\": 1}, \"type\": \"rect\", \"x0\": 24.75, \"x1\": 25.25, \"xref\": \"x\", \"y0\": 93.84, \"y1\": 95.73, \"yref\": \"y\"}, {\"fillcolor\": \"rgba(255, 0, 0, 0.6)\", \"line\": {\"color\": \"rgb(55, 128, 191)\", \"width\": 1}, \"type\": \"rect\", \"x0\": 25.75, \"x1\": 26.25, \"xref\": \"x\", \"y0\": 96.41, \"y1\": 98.89, \"yref\": \"y\"}, {\"fillcolor\": \"rgba(0, 204, 0, 0.6)\", \"line\": {\"color\": \"rgb(55, 128, 191)\", \"width\": 1}, \"type\": \"rect\", \"x0\": 26.75, \"x1\": 27.25, \"xref\": \"x\", \"y0\": 92.71, \"y1\": 96.13, \"yref\": \"y\"}, {\"fillcolor\": \"rgba(255, 0, 0, 0.6)\", \"line\": {\"color\": \"rgb(55, 128, 191)\", \"width\": 1}, \"type\": \"rect\", \"x0\": 27.75, \"x1\": 28.25, \"xref\": \"x\", \"y0\": 97.03, \"y1\": 98.79, \"yref\": \"y\"}, {\"fillcolor\": \"rgba(255, 0, 0, 0.6)\", \"line\": {\"color\": \"rgb(55, 128, 191)\", \"width\": 1}, \"type\": \"rect\", \"x0\": 28.75, \"x1\": 29.25, \"xref\": \"x\", \"y0\": 96.92, \"y1\": 97.16, \"yref\": \"y\"}, {\"fillcolor\": \"rgba(255, 0, 0, 0.6)\", \"line\": {\"color\": \"rgb(55, 128, 191)\", \"width\": 1}, \"type\": \"rect\", \"x0\": 29.75, \"x1\": 30.25, \"xref\": \"x\", \"y0\": 96.15, \"y1\": 98.87, \"yref\": \"y\"}, {\"fillcolor\": \"rgba(0, 204, 0, 0.6)\", \"line\": {\"color\": \"rgb(55, 128, 191)\", \"width\": 1}, \"type\": \"rect\", \"x0\": 30.75, \"x1\": 31.25, \"xref\": \"x\", \"y0\": 95.56, \"y1\": 96.62, \"yref\": \"y\"}, {\"fillcolor\": \"rgba(255, 0, 0, 0.6)\", \"line\": {\"color\": \"rgb(55, 128, 191)\", \"width\": 1}, \"type\": \"rect\", \"x0\": 31.75, \"x1\": 32.25, \"xref\": \"x\", \"y0\": 94.88, \"y1\": 96.15, \"yref\": \"y\"}, {\"fillcolor\": \"rgba(255, 0, 0, 0.6)\", \"line\": {\"color\": \"rgb(55, 128, 191)\", \"width\": 1}, \"type\": \"rect\", \"x0\": 32.75, \"x1\": 33.25, \"xref\": \"x\", \"y0\": 94.72, \"y1\": 95.24, \"yref\": \"y\"}, {\"fillcolor\": \"rgba(0, 204, 0, 0.6)\", \"line\": {\"color\": \"rgb(55, 128, 191)\", \"width\": 1}, \"type\": \"rect\", \"x0\": 33.75, \"x1\": 34.25, \"xref\": \"x\", \"y0\": 94.77, \"y1\": 95.98, \"yref\": \"y\"}, {\"fillcolor\": \"rgba(255, 0, 0, 0.6)\", \"line\": {\"color\": \"rgb(55, 128, 191)\", \"width\": 1}, \"type\": \"rect\", \"x0\": 34.75, \"x1\": 35.25, \"xref\": \"x\", \"y0\": 96.24, \"y1\": 99.26, \"yref\": \"y\"}, {\"fillcolor\": \"rgba(0, 204, 0, 0.6)\", \"line\": {\"color\": \"rgb(55, 128, 191)\", \"width\": 1}, \"type\": \"rect\", \"x0\": 35.75, \"x1\": 36.25, \"xref\": \"x\", \"y0\": 95.7, \"y1\": 97.36, \"yref\": \"y\"}, {\"fillcolor\": \"rgba(0, 204, 0, 0.6)\", \"line\": {\"color\": \"rgb(55, 128, 191)\", \"width\": 1}, \"type\": \"rect\", \"x0\": 36.75, \"x1\": 37.25, \"xref\": \"x\", \"y0\": 95.28, \"y1\": 96.99, \"yref\": \"y\"}, {\"fillcolor\": \"rgba(0, 204, 0, 0.6)\", \"line\": {\"color\": \"rgb(55, 128, 191)\", \"width\": 1}, \"type\": \"rect\", \"x0\": 37.75, \"x1\": 38.25, \"xref\": \"x\", \"y0\": 97.34, \"y1\": 97.64, \"yref\": \"y\"}, {\"fillcolor\": \"rgba(0, 204, 0, 0.6)\", \"line\": {\"color\": \"rgb(55, 128, 191)\", \"width\": 1}, \"type\": \"rect\", \"x0\": 38.75, \"x1\": 39.25, \"xref\": \"x\", \"y0\": 97.46, \"y1\": 98.4, \"yref\": \"y\"}, {\"fillcolor\": \"rgba(0, 204, 0, 0.6)\", \"line\": {\"color\": \"rgb(55, 128, 191)\", \"width\": 1}, \"type\": \"rect\", \"x0\": 39.75, \"x1\": 40.25, \"xref\": \"x\", \"y0\": 98.06, \"y1\": 100.11, \"yref\": \"y\"}, {\"fillcolor\": \"rgba(0, 204, 0, 0.6)\", \"line\": {\"color\": \"rgb(55, 128, 191)\", \"width\": 1}, \"type\": \"rect\", \"x0\": 40.75, \"x1\": 41.25, \"xref\": \"x\", \"y0\": 98.97, \"y1\": 100.84, \"yref\": \"y\"}, {\"fillcolor\": \"rgba(255, 0, 0, 0.6)\", \"line\": {\"color\": \"rgb(55, 128, 191)\", \"width\": 1}, \"type\": \"rect\", \"x0\": 41.75, \"x1\": 42.25, \"xref\": \"x\", \"y0\": 101.14, \"y1\": 102.93, \"yref\": \"y\"}, {\"fillcolor\": \"rgba(255, 0, 0, 0.6)\", \"line\": {\"color\": \"rgb(55, 128, 191)\", \"width\": 1}, \"type\": \"rect\", \"x0\": 42.75, \"x1\": 43.25, \"xref\": \"x\", \"y0\": 101.72, \"y1\": 102.2, \"yref\": \"y\"}, {\"fillcolor\": \"rgba(255, 0, 0, 0.6)\", \"line\": {\"color\": \"rgb(55, 128, 191)\", \"width\": 1}, \"type\": \"rect\", \"x0\": 43.75, \"x1\": 44.25, \"xref\": \"x\", \"y0\": 101.02, \"y1\": 102.76, \"yref\": \"y\"}, {\"fillcolor\": \"rgba(0, 204, 0, 0.6)\", \"line\": {\"color\": \"rgb(55, 128, 191)\", \"width\": 1}, \"type\": \"rect\", \"x0\": 44.75, \"x1\": 45.25, \"xref\": \"x\", \"y0\": 101.01, \"y1\": 101.79, \"yref\": \"y\"}, {\"fillcolor\": \"rgba(0, 204, 0, 0.6)\", \"line\": {\"color\": \"rgb(55, 128, 191)\", \"width\": 1}, \"type\": \"rect\", \"x0\": 45.75, \"x1\": 46.25, \"xref\": \"x\", \"y0\": 100.54, \"y1\": 101.32, \"yref\": \"y\"}, {\"fillcolor\": \"rgba(0, 204, 0, 0.6)\", \"line\": {\"color\": \"rgb(55, 128, 191)\", \"width\": 1}, \"type\": \"rect\", \"x0\": 46.75, \"x1\": 47.25, \"xref\": \"x\", \"y0\": 100.85, \"y1\": 102.13, \"yref\": \"y\"}, {\"fillcolor\": \"rgba(0, 204, 0, 0.6)\", \"line\": {\"color\": \"rgb(55, 128, 191)\", \"width\": 1}, \"type\": \"rect\", \"x0\": 47.75, \"x1\": 48.25, \"xref\": \"x\", \"y0\": 103.01, \"y1\": 103.62, \"yref\": \"y\"}, {\"fillcolor\": \"rgba(255, 0, 0, 0.6)\", \"line\": {\"color\": \"rgb(55, 128, 191)\", \"width\": 1}, \"type\": \"rect\", \"x0\": 48.75, \"x1\": 49.25, \"xref\": \"x\", \"y0\": 102.8, \"y1\": 103.63, \"yref\": \"y\"}, {\"fillcolor\": \"rgba(0, 204, 0, 0.6)\", \"line\": {\"color\": \"rgb(55, 128, 191)\", \"width\": 1}, \"type\": \"rect\", \"x0\": 49.75, \"x1\": 50.25, \"xref\": \"x\", \"y0\": 99.29, \"y1\": 102.04, \"yref\": \"y\"}, {\"line\": {\"color\": \"rgb(55, 128, 191)\", \"width\": 1.5}, \"type\": \"line\", \"x0\": 1, \"x1\": 1, \"y0\": 101.31, \"y1\": 102.45}, {\"line\": {\"color\": \"rgb(55, 128, 191)\", \"width\": 1.5}, \"type\": \"line\", \"x0\": 2, \"x1\": 2, \"y0\": 99.38, \"y1\": 100.48}, {\"line\": {\"color\": \"rgb(55, 128, 191)\", \"width\": 1.5}, \"type\": \"line\", \"x0\": 3, \"x1\": 3, \"y0\": 103.39, \"y1\": 104.48}, {\"line\": {\"color\": \"rgb(55, 128, 191)\", \"width\": 1.5}, \"type\": \"line\", \"x0\": 4, \"x1\": 4, \"y0\": 99.33, \"y1\": 100.42}, {\"line\": {\"color\": \"rgb(55, 128, 191)\", \"width\": 1.5}, \"type\": \"line\", \"x0\": 5, \"x1\": 5, \"y0\": 100.58, \"y1\": 101.68}, {\"line\": {\"color\": \"rgb(55, 128, 191)\", \"width\": 1.5}, \"type\": \"line\", \"x0\": 6, \"x1\": 6, \"y0\": 97.96, \"y1\": 99.06}, {\"line\": {\"color\": \"rgb(55, 128, 191)\", \"width\": 1.5}, \"type\": \"line\", \"x0\": 7, \"x1\": 7, \"y0\": 99.82, \"y1\": 100.91}, {\"line\": {\"color\": \"rgb(55, 128, 191)\", \"width\": 1.5}, \"type\": \"line\", \"x0\": 8, \"x1\": 8, \"y0\": 98.07, \"y1\": 99.18}, {\"line\": {\"color\": \"rgb(55, 128, 191)\", \"width\": 1.5}, \"type\": \"line\", \"x0\": 9, \"x1\": 9, \"y0\": 97.31, \"y1\": 98.43}, {\"line\": {\"color\": \"rgb(55, 128, 191)\", \"width\": 1.5}, \"type\": \"line\", \"x0\": 10, \"x1\": 10, \"y0\": 101.14, \"y1\": 102.24}, {\"line\": {\"color\": \"rgb(55, 128, 191)\", \"width\": 1.5}, \"type\": \"line\", \"x0\": 11, \"x1\": 11, \"y0\": 97.79, \"y1\": 98.89}, {\"line\": {\"color\": \"rgb(55, 128, 191)\", \"width\": 1.5}, \"type\": \"line\", \"x0\": 12, \"x1\": 12, \"y0\": 96.77, \"y1\": 97.9}, {\"line\": {\"color\": \"rgb(55, 128, 191)\", \"width\": 1.5}, \"type\": \"line\", \"x0\": 13, \"x1\": 13, \"y0\": 96.63, \"y1\": 97.73}, {\"line\": {\"color\": \"rgb(55, 128, 191)\", \"width\": 1.5}, \"type\": \"line\", \"x0\": 14, \"x1\": 14, \"y0\": 98.33, \"y1\": 99.44}, {\"line\": {\"color\": \"rgb(55, 128, 191)\", \"width\": 1.5}, \"type\": \"line\", \"x0\": 15, \"x1\": 15, \"y0\": 95.63, \"y1\": 96.74}, {\"line\": {\"color\": \"rgb(55, 128, 191)\", \"width\": 1.5}, \"type\": \"line\", \"x0\": 16, \"x1\": 16, \"y0\": 98.92, \"y1\": 100.03}, {\"line\": {\"color\": \"rgb(55, 128, 191)\", \"width\": 1.5}, \"type\": \"line\", \"x0\": 17, \"x1\": 17, \"y0\": 97.41, \"y1\": 98.53}, {\"line\": {\"color\": \"rgb(55, 128, 191)\", \"width\": 1.5}, \"type\": \"line\", \"x0\": 18, \"x1\": 18, \"y0\": 97.59, \"y1\": 98.67}, {\"line\": {\"color\": \"rgb(55, 128, 191)\", \"width\": 1.5}, \"type\": \"line\", \"x0\": 19, \"x1\": 19, \"y0\": 97.37, \"y1\": 98.49}, {\"line\": {\"color\": \"rgb(55, 128, 191)\", \"width\": 1.5}, \"type\": \"line\", \"x0\": 20, \"x1\": 20, \"y0\": 94.97, \"y1\": 96.08}, {\"line\": {\"color\": \"rgb(55, 128, 191)\", \"width\": 1.5}, \"type\": \"line\", \"x0\": 21, \"x1\": 21, \"y0\": 97.23, \"y1\": 98.34}, {\"line\": {\"color\": \"rgb(55, 128, 191)\", \"width\": 1.5}, \"type\": \"line\", \"x0\": 22, \"x1\": 22, \"y0\": 96.27, \"y1\": 97.36}, {\"line\": {\"color\": \"rgb(55, 128, 191)\", \"width\": 1.5}, \"type\": \"line\", \"x0\": 23, \"x1\": 23, \"y0\": 97.2, \"y1\": 98.28}, {\"line\": {\"color\": \"rgb(55, 128, 191)\", \"width\": 1.5}, \"type\": \"line\", \"x0\": 24, \"x1\": 24, \"y0\": 96.19, \"y1\": 97.28}, {\"line\": {\"color\": \"rgb(55, 128, 191)\", \"width\": 1.5}, \"type\": \"line\", \"x0\": 25, \"x1\": 25, \"y0\": 95.73, \"y1\": 96.82}, {\"line\": {\"color\": \"rgb(55, 128, 191)\", \"width\": 1.5}, \"type\": \"line\", \"x0\": 26, \"x1\": 26, \"y0\": 98.89, \"y1\": 99.98}, {\"line\": {\"color\": \"rgb(55, 128, 191)\", \"width\": 1.5}, \"type\": \"line\", \"x0\": 27, \"x1\": 27, \"y0\": 96.13, \"y1\": 97.21}, {\"line\": {\"color\": \"rgb(55, 128, 191)\", \"width\": 1.5}, \"type\": \"line\", \"x0\": 28, \"x1\": 28, \"y0\": 98.79, \"y1\": 99.89}, {\"line\": {\"color\": \"rgb(55, 128, 191)\", \"width\": 1.5}, \"type\": \"line\", \"x0\": 29, \"x1\": 29, \"y0\": 97.16, \"y1\": 98.28}, {\"line\": {\"color\": \"rgb(55, 128, 191)\", \"width\": 1.5}, \"type\": \"line\", \"x0\": 30, \"x1\": 30, \"y0\": 98.87, \"y1\": 99.98}, {\"line\": {\"color\": \"rgb(55, 128, 191)\", \"width\": 1.5}, \"type\": \"line\", \"x0\": 31, \"x1\": 31, \"y0\": 96.62, \"y1\": 97.73}, {\"line\": {\"color\": \"rgb(55, 128, 191)\", \"width\": 1.5}, \"type\": \"line\", \"x0\": 32, \"x1\": 32, \"y0\": 96.15, \"y1\": 97.25}, {\"line\": {\"color\": \"rgb(55, 128, 191)\", \"width\": 1.5}, \"type\": \"line\", \"x0\": 33, \"x1\": 33, \"y0\": 95.24, \"y1\": 96.33}, {\"line\": {\"color\": \"rgb(55, 128, 191)\", \"width\": 1.5}, \"type\": \"line\", \"x0\": 34, \"x1\": 34, \"y0\": 95.98, \"y1\": 97.08}, {\"line\": {\"color\": \"rgb(55, 128, 191)\", \"width\": 1.5}, \"type\": \"line\", \"x0\": 35, \"x1\": 35, \"y0\": 99.26, \"y1\": 100.36}, {\"line\": {\"color\": \"rgb(55, 128, 191)\", \"width\": 1.5}, \"type\": \"line\", \"x0\": 36, \"x1\": 36, \"y0\": 97.36, \"y1\": 98.47}, {\"line\": {\"color\": \"rgb(55, 128, 191)\", \"width\": 1.5}, \"type\": \"line\", \"x0\": 37, \"x1\": 37, \"y0\": 96.99, \"y1\": 98.08}, {\"line\": {\"color\": \"rgb(55, 128, 191)\", \"width\": 1.5}, \"type\": \"line\", \"x0\": 38, \"x1\": 38, \"y0\": 97.64, \"y1\": 98.76}, {\"line\": {\"color\": \"rgb(55, 128, 191)\", \"width\": 1.5}, \"type\": \"line\", \"x0\": 39, \"x1\": 39, \"y0\": 98.4, \"y1\": 99.53}, {\"line\": {\"color\": \"rgb(55, 128, 191)\", \"width\": 1.5}, \"type\": \"line\", \"x0\": 40, \"x1\": 40, \"y0\": 100.11, \"y1\": 101.23}, {\"line\": {\"color\": \"rgb(55, 128, 191)\", \"width\": 1.5}, \"type\": \"line\", \"x0\": 41, \"x1\": 41, \"y0\": 100.84, \"y1\": 101.96}, {\"line\": {\"color\": \"rgb(55, 128, 191)\", \"width\": 1.5}, \"type\": \"line\", \"x0\": 42, \"x1\": 42, \"y0\": 102.93, \"y1\": 104.06}, {\"line\": {\"color\": \"rgb(55, 128, 191)\", \"width\": 1.5}, \"type\": \"line\", \"x0\": 43, \"x1\": 43, \"y0\": 102.2, \"y1\": 103.33}, {\"line\": {\"color\": \"rgb(55, 128, 191)\", \"width\": 1.5}, \"type\": \"line\", \"x0\": 44, \"x1\": 44, \"y0\": 102.76, \"y1\": 103.86}, {\"line\": {\"color\": \"rgb(55, 128, 191)\", \"width\": 1.5}, \"type\": \"line\", \"x0\": 45, \"x1\": 45, \"y0\": 101.79, \"y1\": 102.89}, {\"line\": {\"color\": \"rgb(55, 128, 191)\", \"width\": 1.5}, \"type\": \"line\", \"x0\": 46, \"x1\": 46, \"y0\": 101.32, \"y1\": 102.4}, {\"line\": {\"color\": \"rgb(55, 128, 191)\", \"width\": 1.5}, \"type\": \"line\", \"x0\": 47, \"x1\": 47, \"y0\": 102.13, \"y1\": 103.24}, {\"line\": {\"color\": \"rgb(55, 128, 191)\", \"width\": 1.5}, \"type\": \"line\", \"x0\": 48, \"x1\": 48, \"y0\": 103.62, \"y1\": 104.72}, {\"line\": {\"color\": \"rgb(55, 128, 191)\", \"width\": 1.5}, \"type\": \"line\", \"x0\": 49, \"x1\": 49, \"y0\": 103.63, \"y1\": 104.74}, {\"line\": {\"color\": \"rgb(55, 128, 191)\", \"width\": 1.5}, \"type\": \"line\", \"x0\": 50, \"x1\": 50, \"y0\": 102.04, \"y1\": 103.15}], \"showlegend\": false, \"title\": \"Random Walk\", \"xaxis\": {\"anchor\": \"y2\", \"showgrid\": true, \"showticklabels\": true, \"tickangle\": 90, \"tickmode\": \"array\", \"ticktext\": [20190522, 20190524, 20190528, 20190530, 20190603, 20190605, 20190607, 20190611, 20190613, 20190617, 20190619, 20190621, 20190625, 20190627, 20190701, 20190703, 20190705, 20190709, 20190711, 20190715, 20190717, 20190719, 20190723, 20190725, 20190729, 20190730], \"tickvals\": [1, 3, 5, 7, 9, 11, 13, 15, 17, 19, 21, 23, 25, 27, 29, 31, 33, 35, 37, 39, 41, 43, 45, 47, 49, 50]}, \"yaxis\": {\"domain\": [0.22, 1], \"range\": [90.21, 104.74]}, \"yaxis2\": {\"domain\": [0, 0.2], \"range\": [0, 645630.0]}}, {\"showLink\": true, \"linkText\": \"Export to plot.ly\"})});</script>"
      ]
     },
     "metadata": {},
     "output_type": "display_data"
    }
   ],
   "source": [
    "fig1 = dgc.PlotlyCandles(df_pseudo.iloc[-50:],number_of_ticks_display=20,title='Random Walk')\n",
    "iplot(fig1.get_figure())\n"
   ]
  },
  {
   "cell_type": "markdown",
   "metadata": {},
   "source": [
    "### Create a small Plot.ly Dash web app using classes from the module ```dgrid_components.py```"
   ]
  },
  {
   "cell_type": "code",
   "execution_count": 5,
   "metadata": {},
   "outputs": [],
   "source": [
    "no_border={\n",
    "    'border': '1px solid #000',\n",
    "    'grid-gap': '10px 10px',\n",
    "}\n",
    "df_save_list = []\n",
    "logger = dgc.init_root_logger('logfile.log','INFO')\n",
    "\n",
    "def dash_app_1():\n",
    "    days_to_show = 50\n",
    "    df_to_show = df_pseudo.iloc[-days_to_show:]\n",
    "    \n",
    "    dt1_comp = dgc.DashTableComponent(\n",
    "        'dt1',df_to_show,None,title='Random Walk',\n",
    "        editable_columns=['close'],logger = logger\n",
    "    )\n",
    "    def create_figure_from_df(input_list):\n",
    "        if input_list is None or len(input_list)<1 or input_list[0] is None:\n",
    "            return [None]\n",
    "        dict_df = input_list[0]\n",
    "        df = dgc.make_df(dict_df)\n",
    "        df.close = df.close.astype(str).astype(float)\n",
    "        p = dgc.PlotlyCandles(df,number_of_ticks_display=20,title='Random Walk').get_figure()\n",
    "        return p\n",
    "    \n",
    "    gr1_comp = dgc.FigureComponent('f1',dt1_comp,create_figure_from_df,logger=logger)\n",
    "\n",
    "    app = dash.Dash()\n",
    "    comp_list = [dt1_comp,gr1_comp]\n",
    "    html_list = [dgc.create_grid([c],num_columns=1) for c in comp_list]\n",
    "    app.layout = dgc.html.Div(html_list)\n",
    "    [c.callback(app) for c in comp_list]\n",
    "    return app\n"
   ]
  },
  {
   "cell_type": "markdown",
   "metadata": {},
   "source": [
    "### Launch the web app\n",
    "##### To see the web app, open a browser to localhost:8500"
   ]
  },
  {
   "cell_type": "code",
   "execution_count": 6,
   "metadata": {
    "scrolled": true
   },
   "outputs": [
    {
     "name": "stdout",
     "output_type": "stream",
     "text": [
      " * Serving Flask app \"__main__\" (lazy loading)\n",
      " * Environment: production\n",
      "   WARNING: Do not use the development server in a production environment.\n",
      "   Use a production WSGI server instead.\n",
      " * Debug mode: off\n"
     ]
    },
    {
     "name": "stderr",
     "output_type": "stream",
     "text": [
      "2019-07-30 11:24:26,506 - werkzeug - INFO -  * Running on http://127.0.0.1:8500/ (Press CTRL+C to quit)\n",
      "2019-07-30 11:24:55,827 - werkzeug - INFO - 127.0.0.1 - - [30/Jul/2019 11:24:55] \"GET / HTTP/1.1\" 200 -\n",
      "2019-07-30 11:24:55,910 - werkzeug - INFO - 127.0.0.1 - - [30/Jul/2019 11:24:55] \"GET /assets/custom.css?m=1564112807.0 HTTP/1.1\" 200 -\n",
      "2019-07-30 11:24:55,913 - werkzeug - INFO - 127.0.0.1 - - [30/Jul/2019 11:24:55] \"GET /_dash-component-suites/dash_renderer/react@16.8.6.min.js?v=1.0.0&m=1563025507 HTTP/1.1\" 200 -\n",
      "2019-07-30 11:24:55,931 - werkzeug - INFO - 127.0.0.1 - - [30/Jul/2019 11:24:55] \"GET /_dash-component-suites/dash_renderer/prop-types@15.7.2.min.js?v=1.0.0&m=1563025507 HTTP/1.1\" 200 -\n",
      "2019-07-30 11:24:55,941 - werkzeug - INFO - 127.0.0.1 - - [30/Jul/2019 11:24:55] \"GET /_dash-component-suites/dash_renderer/react-dom@16.8.6.min.js?v=1.0.0&m=1563025507 HTTP/1.1\" 200 -\n",
      "2019-07-30 11:24:55,945 - werkzeug - INFO - 127.0.0.1 - - [30/Jul/2019 11:24:55] \"GET /_dash-component-suites/dash_html_components/dash_html_components.min.js?v=1.0.0&m=1563025508 HTTP/1.1\" 200 -\n",
      "2019-07-30 11:24:55,951 - werkzeug - INFO - 127.0.0.1 - - [30/Jul/2019 11:24:55] \"GET /_dash-component-suites/dash_core_components/highlight.pack.js?v=1.0.0&m=1563025508 HTTP/1.1\" 200 -\n",
      "2019-07-30 11:24:55,962 - werkzeug - INFO - 127.0.0.1 - - [30/Jul/2019 11:24:55] \"GET /_dash-component-suites/dash_table/bundle.js?v=4.0.1&m=1563025509 HTTP/1.1\" 200 -\n",
      "2019-07-30 11:24:55,986 - werkzeug - INFO - 127.0.0.1 - - [30/Jul/2019 11:24:55] \"GET /_dash-component-suites/dash_renderer/dash_renderer.min.js?v=1.0.0&m=1563025507 HTTP/1.1\" 200 -\n",
      "2019-07-30 11:24:55,999 - werkzeug - INFO - 127.0.0.1 - - [30/Jul/2019 11:24:55] \"GET /_dash-component-suites/dash_core_components/dash_core_components.min.js?v=1.0.0&m=1563025508 HTTP/1.1\" 200 -\n",
      "2019-07-30 11:24:56,116 - werkzeug - INFO - 127.0.0.1 - - [30/Jul/2019 11:24:56] \"GET /_dash-component-suites/dash_core_components/plotly-1.48.3.min.js?v=1.0.0&m=1563025508 HTTP/1.1\" 200 -\n",
      "2019-07-30 11:24:56,674 - werkzeug - INFO - 127.0.0.1 - - [30/Jul/2019 11:24:56] \"GET /_dash-dependencies HTTP/1.1\" 200 -\n",
      "2019-07-30 11:24:56,674 - werkzeug - INFO - 127.0.0.1 - - [30/Jul/2019 11:24:56] \"GET /_dash-layout HTTP/1.1\" 200 -\n",
      "2019-07-30 11:24:56,693 - werkzeug - INFO - 127.0.0.1 - - [30/Jul/2019 11:24:56] \"GET /_favicon.ico?v=1.0.1 HTTP/1.1\" 200 -\n",
      "2019-07-30 11:24:56,760 - werkzeug - INFO - 127.0.0.1 - - [30/Jul/2019 11:24:56] \"POST /_dash-update-component HTTP/1.1\" 200 -\n",
      "2019-07-30 11:24:56,903 - werkzeug - INFO - 127.0.0.1 - - [30/Jul/2019 11:24:56] \"POST /_dash-update-component HTTP/1.1\" 200 -\n",
      "2019-07-30 11:24:57,650 - werkzeug - INFO - 127.0.0.1 - - [30/Jul/2019 11:24:57] \"POST /_dash-update-component HTTP/1.1\" 200 -\n",
      "2019-07-30 11:24:57,673 - werkzeug - INFO - 127.0.0.1 - - [30/Jul/2019 11:24:57] \"POST /_dash-update-component HTTP/1.1\" 200 -\n"
     ]
    }
   ],
   "source": [
    "DASH_APP_TO_RUN = dash_app_1\n",
    "app = DASH_APP_TO_RUN()\n",
    "app.run_server(host='127.0.0.1',port=8500)"
   ]
  },
  {
   "cell_type": "markdown",
   "metadata": {},
   "source": [
    "### After stopping the above cell, see the layout \"flattened\""
   ]
  },
  {
   "cell_type": "code",
   "execution_count": 7,
   "metadata": {
    "scrolled": true
   },
   "outputs": [
    {
     "name": "stdout",
     "output_type": "stream",
     "text": [
      "***********************************************\n",
      "DataTable(columns=[{'name': 'date', 'id': 'date', 'editable': False}, {'name': 'open', 'id': 'open', 'editable': False}, {'name': 'high', 'id': 'high', 'editable': False}, {'name': 'low', 'id': 'low', 'editable': False}, {'name': 'close', 'id': 'close', 'editable': True}, {'name': 'volume', 'id': 'volume', 'editable': False}], css=[{'selector': 'table', 'rule': 'width: 100%;'}], data=[{'date': 20190522.0, 'open': 123.0, 'high': 124.13, 'low': 121.43, 'close': 122.56, 'volume': 901192.0}, {'date': 20190523.0, 'open': 122.24, 'high': 126.36, 'low': 121.15, 'close': 125.24, 'volume': 891312.0}, {'date': 20190524.0, 'open': 129.57, 'high': 130.68, 'low': 125.55, 'close': 126.67, 'volume': 871264.0}, {'date': 20190527.0, 'open': 128.67, 'high': 129.79, 'low': 125.8, 'close': 126.9, 'volume': 868242.0}, {'date': 20190528.0, 'open': 124.17, 'high': 127.1, 'low': 123.07, 'close': 125.99, 'volume': 870383.0}, {'date': 20190529.0, 'open': 126.32, 'high': 127.87, 'low': 125.22, 'close': 126.77, 'volume': 888569.0}, {'date': 20190530.0, 'open': 125.64, 'high': 127.31, 'low': 124.51, 'close': 126.22, 'volume': 875965.0}, {'date': 20190531.0, 'open': 125.96, 'high': 128.12, 'low': 124.87, 'close': 127.0, 'volume': 918221.0}, {'date': 20190603.0, 'open': 122.97, 'high': 128.56, 'low': 121.85, 'close': 127.48, 'volume': 925776.0}, {'date': 20190604.0, 'open': 128.25, 'high': 130.22, 'low': 127.14, 'close': 129.11, 'volume': 942011.0}, {'date': 20190605.0, 'open': 127.39, 'high': 130.08, 'low': 126.29, 'close': 128.97, 'volume': 935814.0}, {'date': 20190606.0, 'open': 124.65, 'high': 129.41, 'low': 123.55, 'close': 128.31, 'volume': 970068.0}, {'date': 20190607.0, 'open': 133.42, 'high': 134.53, 'low': 130.33, 'close': 131.43, 'volume': 965842.0}, {'date': 20190610.0, 'open': 131.28, 'high': 132.37, 'low': 129.96, 'close': 131.07, 'volume': 993801.0}, {'date': 20190611.0, 'open': 128.51, 'high': 130.26, 'low': 127.41, 'close': 129.17, 'volume': 975017.0}, {'date': 20190612.0, 'open': 130.28, 'high': 131.41, 'low': 127.18, 'close': 128.28, 'volume': 973536.0}, {'date': 20190613.0, 'open': 130.56, 'high': 131.65, 'low': 126.93, 'close': 128.04, 'volume': 945907.0}, {'date': 20190614.0, 'open': 127.43, 'high': 129.79, 'low': 126.32, 'close': 128.67, 'volume': 978397.0}, {'date': 20190617.0, 'open': 131.25, 'high': 132.36, 'low': 128.26, 'close': 129.38, 'volume': 952294.0}, {'date': 20190618.0, 'open': 127.2, 'high': 128.3, 'low': 125.98, 'close': 127.08, 'volume': 948830.0}, {'date': 20190619.0, 'open': 122.66, 'high': 126.4, 'low': 121.56, 'close': 125.3, 'volume': 949372.0}, {'date': 20190620.0, 'open': 126.73, 'high': 127.83, 'low': 123.63, 'close': 124.73, 'volume': 920231.0}, {'date': 20190621.0, 'open': 120.59, 'high': 125.07, 'low': 119.45, 'close': 123.96, 'volume': 912187.0}, {'date': 20190624.0, 'open': 128.28, 'high': 129.37, 'low': 125.36, 'close': 126.48, 'volume': 901702.0}, {'date': 20190625.0, 'open': 121.79, 'high': 126.09, 'low': 120.66, 'close': 124.99, 'volume': 840799.0}, {'date': 20190626.0, 'open': 124.57, 'high': 127.32, 'low': 123.45, 'close': 126.23, 'volume': 848902.0}, {'date': 20190627.0, 'open': 125.61, 'high': 126.75, 'low': 124.09, 'close': 125.2, 'volume': 862183.0}, {'date': 20190628.0, 'open': 125.41, 'high': 126.78, 'low': 124.32, 'close': 125.7, 'volume': 887078.0}, {'date': 20190701.0, 'open': 126.66, 'high': 127.76, 'low': 125.12, 'close': 126.23, 'volume': 912306.0}, {'date': 20190702.0, 'open': 131.15, 'high': 132.27, 'low': 126.75, 'close': 127.85, 'volume': 908165.0}, {'date': 20190703.0, 'open': 127.65, 'high': 128.76, 'low': 126.35, 'close': 127.48, 'volume': 910653.0}, {'date': 20190704.0, 'open': 129.17, 'high': 130.27, 'low': 126.39, 'close': 127.47, 'volume': 924431.0}, {'date': 20190705.0, 'open': 127.59, 'high': 128.69, 'low': 124.21, 'close': 125.32, 'volume': 915573.0}, {'date': 20190708.0, 'open': 120.97, 'high': 125.1, 'low': 119.86, 'close': 124.02, 'volume': 906258.0}, {'date': 20190709.0, 'open': 123.28, 'high': 125.34, 'low': 122.18, 'close': 124.24, 'volume': 887726.0}, {'date': 20190710.0, 'open': 128.83, 'high': 129.95, 'low': 124.44, 'close': 125.51, 'volume': 831549.0}, {'date': 20190711.0, 'open': 121.74, 'high': 126.12, 'low': 120.59, 'close': 125.01, 'volume': 791632.0}, {'date': 20190712.0, 'open': 124.25, 'high': 126.58, 'low': 123.16, 'close': 125.47, 'volume': 802192.0}, {'date': 20190715.0, 'open': 125.81, 'high': 126.92, 'low': 124.53, 'close': 125.63, 'volume': 787464.0}, {'date': 20190716.0, 'open': 126.98, 'high': 128.08, 'low': 125.68, 'close': 126.78, 'volume': 803081.0}, {'date': 20190717.0, 'open': 128.27, 'high': 129.37, 'low': 124.13, 'close': 125.24, 'volume': 806098.0}, {'date': 20190718.0, 'open': 120.78, 'high': 124.83, 'low': 119.68, 'close': 123.74, 'volume': 816758.0}, {'date': 20190719.0, 'open': 123.29, 'high': 124.37, 'low': 122.18, 'close': 123.28, 'volume': 783913.0}, {'date': 20190722.0, 'open': 122.15, 'high': 124.35, 'low': 121.04, 'close': 123.25, 'volume': 806373.0}, {'date': 20190723.0, 'open': 126.56, 'high': 127.66, 'low': 123.32, 'close': 124.44, 'volume': 793032.0}, {'date': 20190724.0, 'open': 120.75, 'high': 124.31, 'low': 119.66, 'close': 123.21, 'volume': 764997.0}, {'date': 20190725.0, 'open': 121.99, 'high': 124.44, 'low': 120.9, 'close': 123.33, 'volume': 764057.0}, {'date': 20190726.0, 'open': 125.78, 'high': 126.88, 'low': 122.73, 'close': 123.84, 'volume': 764744.0}, {'date': 20190729.0, 'open': 124.96, 'high': 126.06, 'low': 122.28, 'close': 123.39, 'volume': 717250.0}, {'date': 20190730.0, 'open': 120.55, 'high': 121.65, 'low': 119.03, 'close': 120.1, 'volume': 756910.0}], editable=True, id='dt1', style_as_list_view=False, page_current=0, page_size=100, filter_action='none', style_table={'maxHeight': '450px', 'overflowX': 'scroll', 'overflowY': 'scroll'}, style_cell_conditional=[{'if': {'column_id': 'symbol'}, 'textAlign': 'left'}, {'if': {'column_id': 'underlying'}, 'textAlign': 'left'}], style_data_conditional=[{'if': {'row_index': 'odd'}, 'backgroundColor': 'rgb(248, 248, 248)'}])\n",
      "***********************************************\n",
      "Store(id='dt1_default_store', data={'date': {665: 20190522, 666: 20190523, 667: 20190524, 668: 20190527, 669: 20190528, 670: 20190529, 671: 20190530, 672: 20190531, 673: 20190603, 674: 20190604, 675: 20190605, 676: 20190606, 677: 20190607, 678: 20190610, 679: 20190611, 680: 20190612, 681: 20190613, 682: 20190614, 683: 20190617, 684: 20190618, 685: 20190619, 686: 20190620, 687: 20190621, 688: 20190624, 689: 20190625, 690: 20190626, 691: 20190627, 692: 20190628, 693: 20190701, 694: 20190702, 695: 20190703, 696: 20190704, 697: 20190705, 698: 20190708, 699: 20190709, 700: 20190710, 701: 20190711, 702: 20190712, 703: 20190715, 704: 20190716, 705: 20190717, 706: 20190718, 707: 20190719, 708: 20190722, 709: 20190723, 710: 20190724, 711: 20190725, 712: 20190726, 713: 20190729, 714: 20190730}, 'open': {665: 123.0, 666: 122.24, 667: 129.57, 668: 128.67, 669: 124.17, 670: 126.32, 671: 125.64, 672: 125.96, 673: 122.97, 674: 128.25, 675: 127.39, 676: 124.65, 677: 133.42, 678: 131.28, 679: 128.51, 680: 130.28, 681: 130.56, 682: 127.43, 683: 131.25, 684: 127.2, 685: 122.66, 686: 126.73, 687: 120.59, 688: 128.28, 689: 121.79, 690: 124.57, 691: 125.61, 692: 125.41, 693: 126.66, 694: 131.15, 695: 127.65, 696: 129.17, 697: 127.59, 698: 120.97, 699: 123.28, 700: 128.83, 701: 121.74, 702: 124.25, 703: 125.81, 704: 126.98, 705: 128.27, 706: 120.78, 707: 123.29, 708: 122.15, 709: 126.56, 710: 120.75, 711: 121.99, 712: 125.78, 713: 124.96, 714: 120.55}, 'high': {665: 124.13, 666: 126.36, 667: 130.68, 668: 129.79, 669: 127.1, 670: 127.87, 671: 127.31, 672: 128.12, 673: 128.56, 674: 130.22, 675: 130.08, 676: 129.41, 677: 134.53, 678: 132.37, 679: 130.26, 680: 131.41, 681: 131.65, 682: 129.79, 683: 132.36, 684: 128.3, 685: 126.4, 686: 127.83, 687: 125.07, 688: 129.37, 689: 126.09, 690: 127.32, 691: 126.75, 692: 126.78, 693: 127.76, 694: 132.27, 695: 128.76, 696: 130.27, 697: 128.69, 698: 125.1, 699: 125.34, 700: 129.95, 701: 126.12, 702: 126.58, 703: 126.92, 704: 128.08, 705: 129.37, 706: 124.83, 707: 124.37, 708: 124.35, 709: 127.66, 710: 124.31, 711: 124.44, 712: 126.88, 713: 126.06, 714: 121.65}, 'low': {665: 121.43, 666: 121.15, 667: 125.55, 668: 125.8, 669: 123.07, 670: 125.22, 671: 124.51, 672: 124.87, 673: 121.85, 674: 127.14, 675: 126.29, 676: 123.55, 677: 130.33, 678: 129.96, 679: 127.41, 680: 127.18, 681: 126.93, 682: 126.32, 683: 128.26, 684: 125.98, 685: 121.56, 686: 123.63, 687: 119.45, 688: 125.36, 689: 120.66, 690: 123.45, 691: 124.09, 692: 124.32, 693: 125.12, 694: 126.75, 695: 126.35, 696: 126.39, 697: 124.21, 698: 119.86, 699: 122.18, 700: 124.44, 701: 120.59, 702: 123.16, 703: 124.53, 704: 125.68, 705: 124.13, 706: 119.68, 707: 122.18, 708: 121.04, 709: 123.32, 710: 119.66, 711: 120.9, 712: 122.73, 713: 122.28, 714: 119.03}, 'close': {665: 122.56, 666: 125.24, 667: 126.67, 668: 126.9, 669: 125.99, 670: 126.77, 671: 126.22, 672: 127.0, 673: 127.48, 674: 129.11, 675: 128.97, 676: 128.31, 677: 131.43, 678: 131.07, 679: 129.17, 680: 128.28, 681: 128.04, 682: 128.67, 683: 129.38, 684: 127.08, 685: 125.3, 686: 124.73, 687: 123.96, 688: 126.48, 689: 124.99, 690: 126.23, 691: 125.2, 692: 125.7, 693: 126.23, 694: 127.85, 695: 127.48, 696: 127.47, 697: 125.32, 698: 124.02, 699: 124.24, 700: 125.51, 701: 125.01, 702: 125.47, 703: 125.63, 704: 126.78, 705: 125.24, 706: 123.74, 707: 123.28, 708: 123.25, 709: 124.44, 710: 123.21, 711: 123.33, 712: 123.84, 713: 123.39, 714: 120.1}, 'volume': {665: 901192.0, 666: 891312.0, 667: 871264.0, 668: 868242.0, 669: 870383.0, 670: 888569.0, 671: 875965.0, 672: 918221.0, 673: 925776.0, 674: 942011.0, 675: 935814.0, 676: 970068.0, 677: 965842.0, 678: 993801.0, 679: 975017.0, 680: 973536.0, 681: 945907.0, 682: 978397.0, 683: 952294.0, 684: 948830.0, 685: 949372.0, 686: 920231.0, 687: 912187.0, 688: 901702.0, 689: 840799.0, 690: 848902.0, 691: 862183.0, 692: 887078.0, 693: 912306.0, 694: 908165.0, 695: 910653.0, 696: 924431.0, 697: 915573.0, 698: 906258.0, 699: 887726.0, 700: 831549.0, 701: 791632.0, 702: 802192.0, 703: 787464.0, 704: 803081.0, 705: 806098.0, 706: 816758.0, 707: 783913.0, 708: 806373.0, 709: 793032.0, 710: 764997.0, 711: 764057.0, 712: 764744.0, 713: 717250.0, 714: 756910.0}})\n",
      "***********************************************\n",
      "Div(children=Graph(id='f1', figure=Figure({\n",
      "    'data': [], 'layout': {}\n",
      "})), id='f1_html', className='item1', style={'line-height': '40px', 'border': 'none #000', 'textAlign': 'center', 'vertical-align': 'middle'})\n"
     ]
    }
   ],
   "source": [
    "l = dgc.flatten_layout(app)\n",
    "for c in l:\n",
    "    print('***********************************************')\n",
    "    print(c)"
   ]
  }
 ],
 "metadata": {
  "kernelspec": {
   "display_name": "Python 3",
   "language": "python",
   "name": "python3"
  },
  "language_info": {
   "codemirror_mode": {
    "name": "ipython",
    "version": 3
   },
   "file_extension": ".py",
   "mimetype": "text/x-python",
   "name": "python",
   "nbconvert_exporter": "python",
   "pygments_lexer": "ipython3",
   "version": "3.6.5"
  }
 },
 "nbformat": 4,
 "nbformat_minor": 2
}
