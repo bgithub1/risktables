{
 "cells": [
  {
   "cell_type": "code",
   "execution_count": 4,
   "metadata": {},
   "outputs": [
    {
     "data": {
      "text/html": [
       "<script>requirejs.config({paths: { 'plotly': ['https://cdn.plot.ly/plotly-latest.min']},});if(!window.Plotly) {{require(['plotly'],function(plotly) {window.Plotly=plotly;});}}</script>"
      ],
      "text/vnd.plotly.v1+html": [
       "<script>requirejs.config({paths: { 'plotly': ['https://cdn.plot.ly/plotly-latest.min']},});if(!window.Plotly) {{require(['plotly'],function(plotly) {window.Plotly=plotly;});}}</script>"
      ]
     },
     "metadata": {},
     "output_type": "display_data"
    }
   ],
   "source": [
    "from IPython.display import display\n",
    "import dash\n",
    "import sys,os\n",
    "if  not os.path.abspath('./') in sys.path:\n",
    "    sys.path.append(os.path.abspath('./'))\n",
    "if  not os.path.abspath('../') in sys.path:\n",
    "    sys.path.append(os.path.abspath('../'))\n",
    "if  not os.path.abspath('../../dashgrid') in sys.path:\n",
    "    sys.path.append(os.path.abspath('../../dashgrid'))\n",
    "if  not os.path.abspath('../../dashgrid/dashgrid') in sys.path:\n",
    "    sys.path.append(os.path.abspath('../../dashgrid/dashgrid'))\n",
    "\n",
    "import datetime\n",
    "import pandas as pd\n",
    "import numpy as np\n",
    "from dashgrid import dgrid_components as dgc\n",
    "import matplotlib.pyplot as plt\n",
    "import plotly.graph_objs as go\n",
    "from plotly.offline import  init_notebook_mode, iplot\n",
    "init_notebook_mode(connected=True)\n"
   ]
  },
  {
   "cell_type": "code",
   "execution_count": 5,
   "metadata": {},
   "outputs": [],
   "source": [
    "all_days=1000\n",
    "end_date = datetime.datetime.now()\n",
    "beg_date = end_date - datetime.timedelta(all_days)\n",
    "date_series = pd.bdate_range(beg_date,end_date)\n",
    "trade_dates = date_series.astype(str).str.replace('-','').astype(int)\n",
    "n = len(trade_dates)\n",
    "changes = np.random.lognormal(0,.15/256**.5,n-1)\n",
    "initial = np.array([100.0])\n",
    "closes = np.cumprod(np.append(initial,changes)).round(2)\n",
    "open_ranges = np.random.lognormal(0,.3/256**.5,n)\n",
    "opens = (closes * open_ranges).round(2)\n",
    "low_ranges = np.random.lognormal(.1,.2/256**.5,n)\n",
    "lows = np.array([min(x,y) for x,y in zip(opens,closes)]) - low_ranges\n",
    "lows = lows.round(2)\n",
    "high_ranges = np.random.lognormal(.1,.2/256**.5,n)\n",
    "highs = np.array([max(x,y) for x,y in zip(opens,closes)]) + high_ranges\n",
    "highs = highs.round(2)\n",
    "\n",
    "volume_changes = np.random.lognormal(0,.50/256**.5,n-1)\n",
    "initial_volume = np.array([1000000.0]) * np.random.lognormal(0,.15/256**.5)\n",
    "volumes = np.cumprod(np.append(initial_volume,volume_changes)).round(0)\n",
    "\n",
    "\n",
    "df_pseudo = dgc.make_df({'date':trade_dates,'open':opens,'high':highs,'low':lows,\n",
    "                  'close':closes,'volume':volumes})\n"
   ]
  },
  {
   "cell_type": "code",
   "execution_count": 6,
   "metadata": {},
   "outputs": [
    {
     "data": {
      "application/vnd.plotly.v1+json": {
       "data": [
        {
         "hoverinfo": "text",
         "mode": "markers",
         "text": [
          "date: 20190514.0<br>open: 109.21<br>high: 111.56<br>low: 108.09<br>close: 110.46<br>volume: 1412272.0",
          "date: 20190515.0<br>open: 109.09<br>high: 112.41<br>low: 107.98<br>close: 111.3<br>volume: 1396075.0",
          "date: 20190516.0<br>open: 110.51<br>high: 113.64<br>low: 109.4<br>close: 112.54<br>volume: 1386180.0",
          "date: 20190517.0<br>open: 113.54<br>high: 114.62<br>low: 111.22<br>close: 112.33<br>volume: 1369202.0",
          "date: 20190520.0<br>open: 112.83<br>high: 113.93<br>low: 110.73<br>close: 111.83<br>volume: 1327937.0",
          "date: 20190521.0<br>open: 108.08<br>high: 112.99<br>low: 106.95<br>close: 111.9<br>volume: 1307760.0",
          "date: 20190522.0<br>open: 112.37<br>high: 114.68<br>low: 111.28<br>close: 113.56<br>volume: 1260429.0",
          "date: 20190523.0<br>open: 111.79<br>high: 112.9<br>low: 110.47<br>close: 111.58<br>volume: 1295276.0",
          "date: 20190524.0<br>open: 112.46<br>high: 113.58<br>low: 110.35<br>close: 111.47<br>volume: 1291582.0",
          "date: 20190527.0<br>open: 113.75<br>high: 114.85<br>low: 109.3<br>close: 110.42<br>volume: 1267547.0",
          "date: 20190528.0<br>open: 109.08<br>high: 112.56<br>low: 107.99<br>close: 111.45<br>volume: 1238594.0",
          "date: 20190529.0<br>open: 108.94<br>high: 113.62<br>low: 107.82<br>close: 112.5<br>volume: 1195036.0",
          "date: 20190530.0<br>open: 110.6<br>high: 112.6<br>low: 109.5<br>close: 111.47<br>volume: 1200445.0",
          "date: 20190531.0<br>open: 107.79<br>high: 110.6<br>low: 106.68<br>close: 109.47<br>volume: 1203099.0",
          "date: 20190603.0<br>open: 108.95<br>high: 110.06<br>low: 107.7<br>close: 108.83<br>volume: 1204910.0",
          "date: 20190604.0<br>open: 110.24<br>high: 111.37<br>low: 108.15<br>close: 109.26<br>volume: 1173806.0",
          "date: 20190605.0<br>open: 111.48<br>high: 112.59<br>low: 109.49<br>close: 110.62<br>volume: 1140345.0",
          "date: 20190606.0<br>open: 113.29<br>high: 114.4<br>low: 109.67<br>close: 110.76<br>volume: 1167744.0",
          "date: 20190607.0<br>open: 114.84<br>high: 115.93<br>low: 111.16<br>close: 112.25<br>volume: 1150781.0",
          "date: 20190610.0<br>open: 113.28<br>high: 114.39<br>low: 110.63<br>close: 111.76<br>volume: 1195662.0",
          "date: 20190611.0<br>open: 112.7<br>high: 113.8<br>low: 110.15<br>close: 111.26<br>volume: 1220819.0",
          "date: 20190612.0<br>open: 112.14<br>high: 113.24<br>low: 109.27<br>close: 110.37<br>volume: 1239004.0",
          "date: 20190613.0<br>open: 116.76<br>high: 117.87<br>low: 109.63<br>close: 110.72<br>volume: 1211392.0",
          "date: 20190614.0<br>open: 109.23<br>high: 110.3<br>low: 108.1<br>close: 109.23<br>volume: 1172675.0",
          "date: 20190617.0<br>open: 109.09<br>high: 110.56<br>low: 107.97<br>close: 109.45<br>volume: 1206630.0",
          "date: 20190618.0<br>open: 111.78<br>high: 112.89<br>low: 110.42<br>close: 111.51<br>volume: 1222724.0",
          "date: 20190619.0<br>open: 111.59<br>high: 112.7<br>low: 108.82<br>close: 109.92<br>volume: 1212840.0",
          "date: 20190620.0<br>open: 112.42<br>high: 113.54<br>low: 108.87<br>close: 110.0<br>volume: 1261872.0",
          "date: 20190621.0<br>open: 109.63<br>high: 110.74<br>low: 107.5<br>close: 108.61<br>volume: 1228190.0",
          "date: 20190624.0<br>open: 108.0<br>high: 110.2<br>low: 106.89<br>close: 109.1<br>volume: 1200058.0",
          "date: 20190625.0<br>open: 109.26<br>high: 112.1<br>low: 108.16<br>close: 111.0<br>volume: 1143059.0",
          "date: 20190626.0<br>open: 111.31<br>high: 112.41<br>low: 109.64<br>close: 110.74<br>volume: 1194944.0",
          "date: 20190627.0<br>open: 113.88<br>high: 114.98<br>low: 110.78<br>close: 111.88<br>volume: 1220863.0",
          "date: 20190628.0<br>open: 112.7<br>high: 113.82<br>low: 109.49<br>close: 110.6<br>volume: 1285284.0",
          "date: 20190701.0<br>open: 110.87<br>high: 111.96<br>low: 108.36<br>close: 109.5<br>volume: 1193349.0",
          "date: 20190702.0<br>open: 106.64<br>high: 108.97<br>low: 105.55<br>close: 107.88<br>volume: 1229046.0",
          "date: 20190703.0<br>open: 105.57<br>high: 107.36<br>low: 104.48<br>close: 106.27<br>volume: 1266775.0",
          "date: 20190704.0<br>open: 106.2<br>high: 107.4<br>low: 105.1<br>close: 106.3<br>volume: 1281493.0",
          "date: 20190705.0<br>open: 107.54<br>high: 108.67<br>low: 106.09<br>close: 107.23<br>volume: 1287722.0",
          "date: 20190708.0<br>open: 104.98<br>high: 107.6<br>low: 103.87<br>close: 106.51<br>volume: 1292652.0",
          "date: 20190709.0<br>open: 106.7<br>high: 109.28<br>low: 105.59<br>close: 108.19<br>volume: 1320691.0",
          "date: 20190710.0<br>open: 107.57<br>high: 110.5<br>low: 106.45<br>close: 109.4<br>volume: 1316110.0",
          "date: 20190711.0<br>open: 106.96<br>high: 110.11<br>low: 105.86<br>close: 109.01<br>volume: 1286632.0",
          "date: 20190712.0<br>open: 108.94<br>high: 110.05<br>low: 107.32<br>close: 108.42<br>volume: 1251882.0",
          "date: 20190715.0<br>open: 111.58<br>high: 112.68<br>low: 107.3<br>close: 108.41<br>volume: 1296167.0",
          "date: 20190716.0<br>open: 105.78<br>high: 107.7<br>low: 104.69<br>close: 106.61<br>volume: 1306426.0",
          "date: 20190717.0<br>open: 109.14<br>high: 110.24<br>low: 106.16<br>close: 107.26<br>volume: 1308012.0",
          "date: 20190718.0<br>open: 107.49<br>high: 109.05<br>low: 106.37<br>close: 107.92<br>volume: 1300657.0",
          "date: 20190719.0<br>open: 109.74<br>high: 110.84<br>low: 106.53<br>close: 107.63<br>volume: 1263383.0",
          "date: 20190722.0<br>open: 107.56<br>high: 108.69<br>low: 105.63<br>close: 106.75<br>volume: 1233222.0"
         ],
         "type": "scatter",
         "uid": "2a5caafa-acf3-11e9-81a1-8c859025e7f9",
         "x": [
          1,
          2,
          3,
          4,
          5,
          6,
          7,
          8,
          9,
          10,
          11,
          12,
          13,
          14,
          15,
          16,
          17,
          18,
          19,
          20,
          21,
          22,
          23,
          24,
          25,
          26,
          27,
          28,
          29,
          30,
          31,
          32,
          33,
          34,
          35,
          36,
          37,
          38,
          39,
          40,
          41,
          42,
          43,
          44,
          45,
          46,
          47,
          48,
          49,
          50
         ],
         "xaxis": "x",
         "y": [
          110.46,
          111.3,
          112.54,
          112.33,
          111.83,
          111.9,
          113.56,
          111.58,
          111.47,
          110.42,
          111.45,
          112.5,
          111.47,
          109.47,
          108.83,
          109.26,
          110.62,
          110.76,
          112.25,
          111.76,
          111.26,
          110.37,
          110.72,
          109.23,
          109.45,
          111.51,
          109.92,
          110,
          108.61,
          109.1,
          111,
          110.74,
          111.88,
          110.6,
          109.5,
          107.88,
          106.27,
          106.3,
          107.23,
          106.51,
          108.19,
          109.4,
          109.01,
          108.42,
          108.41,
          106.61,
          107.26,
          107.92,
          107.63,
          106.75
         ],
         "yaxis": "y"
        },
        {
         "type": "bar",
         "uid": "2a5e3b24-acf3-11e9-84b3-8c859025e7f9",
         "width": 0.5,
         "x": [
          1,
          2,
          3,
          4,
          5,
          6,
          7,
          8,
          9,
          10,
          11,
          12,
          13,
          14,
          15,
          16,
          17,
          18,
          19,
          20,
          21,
          22,
          23,
          24,
          25,
          26,
          27,
          28,
          29,
          30,
          31,
          32,
          33,
          34,
          35,
          36,
          37,
          38,
          39,
          40,
          41,
          42,
          43,
          44,
          45,
          46,
          47,
          48,
          49,
          50
         ],
         "xaxis": "x",
         "y": [
          1412272,
          1396075,
          1386180,
          1369202,
          1327937,
          1307760,
          1260429,
          1295276,
          1291582,
          1267547,
          1238594,
          1195036,
          1200445,
          1203099,
          1204910,
          1173806,
          1140345,
          1167744,
          1150781,
          1195662,
          1220819,
          1239004,
          1211392,
          1172675,
          1206630,
          1222724,
          1212840,
          1261872,
          1228190,
          1200058,
          1143059,
          1194944,
          1220863,
          1285284,
          1193349,
          1229046,
          1266775,
          1281493,
          1287722,
          1292652,
          1320691,
          1316110,
          1286632,
          1251882,
          1296167,
          1306426,
          1308012,
          1300657,
          1263383,
          1233222
         ],
         "yaxis": "y2"
        }
       ],
       "layout": {
        "margin": {
         "t": 100
        },
        "shapes": [
         {
          "line": {
           "color": "rgb(55, 128, 191)",
           "width": 1.5
          },
          "type": "line",
          "x0": 1,
          "x1": 1,
          "y0": 108.09,
          "y1": 109.21
         },
         {
          "line": {
           "color": "rgb(55, 128, 191)",
           "width": 1.5
          },
          "type": "line",
          "x0": 2,
          "x1": 2,
          "y0": 107.98,
          "y1": 109.09
         },
         {
          "line": {
           "color": "rgb(55, 128, 191)",
           "width": 1.5
          },
          "type": "line",
          "x0": 3,
          "x1": 3,
          "y0": 109.4,
          "y1": 110.51
         },
         {
          "line": {
           "color": "rgb(55, 128, 191)",
           "width": 1.5
          },
          "type": "line",
          "x0": 4,
          "x1": 4,
          "y0": 111.22,
          "y1": 112.33
         },
         {
          "line": {
           "color": "rgb(55, 128, 191)",
           "width": 1.5
          },
          "type": "line",
          "x0": 5,
          "x1": 5,
          "y0": 110.73,
          "y1": 111.83
         },
         {
          "line": {
           "color": "rgb(55, 128, 191)",
           "width": 1.5
          },
          "type": "line",
          "x0": 6,
          "x1": 6,
          "y0": 106.95,
          "y1": 108.08
         },
         {
          "line": {
           "color": "rgb(55, 128, 191)",
           "width": 1.5
          },
          "type": "line",
          "x0": 7,
          "x1": 7,
          "y0": 111.28,
          "y1": 112.37
         },
         {
          "line": {
           "color": "rgb(55, 128, 191)",
           "width": 1.5
          },
          "type": "line",
          "x0": 8,
          "x1": 8,
          "y0": 110.47,
          "y1": 111.58
         },
         {
          "line": {
           "color": "rgb(55, 128, 191)",
           "width": 1.5
          },
          "type": "line",
          "x0": 9,
          "x1": 9,
          "y0": 110.35,
          "y1": 111.47
         },
         {
          "line": {
           "color": "rgb(55, 128, 191)",
           "width": 1.5
          },
          "type": "line",
          "x0": 10,
          "x1": 10,
          "y0": 109.3,
          "y1": 110.42
         },
         {
          "line": {
           "color": "rgb(55, 128, 191)",
           "width": 1.5
          },
          "type": "line",
          "x0": 11,
          "x1": 11,
          "y0": 107.99,
          "y1": 109.08
         },
         {
          "line": {
           "color": "rgb(55, 128, 191)",
           "width": 1.5
          },
          "type": "line",
          "x0": 12,
          "x1": 12,
          "y0": 107.82,
          "y1": 108.94
         },
         {
          "line": {
           "color": "rgb(55, 128, 191)",
           "width": 1.5
          },
          "type": "line",
          "x0": 13,
          "x1": 13,
          "y0": 109.5,
          "y1": 110.6
         },
         {
          "line": {
           "color": "rgb(55, 128, 191)",
           "width": 1.5
          },
          "type": "line",
          "x0": 14,
          "x1": 14,
          "y0": 106.68,
          "y1": 107.79
         },
         {
          "line": {
           "color": "rgb(55, 128, 191)",
           "width": 1.5
          },
          "type": "line",
          "x0": 15,
          "x1": 15,
          "y0": 107.7,
          "y1": 108.83
         },
         {
          "line": {
           "color": "rgb(55, 128, 191)",
           "width": 1.5
          },
          "type": "line",
          "x0": 16,
          "x1": 16,
          "y0": 108.15,
          "y1": 109.26
         },
         {
          "line": {
           "color": "rgb(55, 128, 191)",
           "width": 1.5
          },
          "type": "line",
          "x0": 17,
          "x1": 17,
          "y0": 109.49,
          "y1": 110.62
         },
         {
          "line": {
           "color": "rgb(55, 128, 191)",
           "width": 1.5
          },
          "type": "line",
          "x0": 18,
          "x1": 18,
          "y0": 109.67,
          "y1": 110.76
         },
         {
          "line": {
           "color": "rgb(55, 128, 191)",
           "width": 1.5
          },
          "type": "line",
          "x0": 19,
          "x1": 19,
          "y0": 111.16,
          "y1": 112.25
         },
         {
          "line": {
           "color": "rgb(55, 128, 191)",
           "width": 1.5
          },
          "type": "line",
          "x0": 20,
          "x1": 20,
          "y0": 110.63,
          "y1": 111.76
         },
         {
          "line": {
           "color": "rgb(55, 128, 191)",
           "width": 1.5
          },
          "type": "line",
          "x0": 21,
          "x1": 21,
          "y0": 110.15,
          "y1": 111.26
         },
         {
          "line": {
           "color": "rgb(55, 128, 191)",
           "width": 1.5
          },
          "type": "line",
          "x0": 22,
          "x1": 22,
          "y0": 109.27,
          "y1": 110.37
         },
         {
          "line": {
           "color": "rgb(55, 128, 191)",
           "width": 1.5
          },
          "type": "line",
          "x0": 23,
          "x1": 23,
          "y0": 109.63,
          "y1": 110.72
         },
         {
          "line": {
           "color": "rgb(55, 128, 191)",
           "width": 1.5
          },
          "type": "line",
          "x0": 24,
          "x1": 24,
          "y0": 108.1,
          "y1": 109.23
         },
         {
          "line": {
           "color": "rgb(55, 128, 191)",
           "width": 1.5
          },
          "type": "line",
          "x0": 25,
          "x1": 25,
          "y0": 107.97,
          "y1": 109.09
         },
         {
          "line": {
           "color": "rgb(55, 128, 191)",
           "width": 1.5
          },
          "type": "line",
          "x0": 26,
          "x1": 26,
          "y0": 110.42,
          "y1": 111.51
         },
         {
          "line": {
           "color": "rgb(55, 128, 191)",
           "width": 1.5
          },
          "type": "line",
          "x0": 27,
          "x1": 27,
          "y0": 108.82,
          "y1": 109.92
         },
         {
          "line": {
           "color": "rgb(55, 128, 191)",
           "width": 1.5
          },
          "type": "line",
          "x0": 28,
          "x1": 28,
          "y0": 108.87,
          "y1": 110
         },
         {
          "line": {
           "color": "rgb(55, 128, 191)",
           "width": 1.5
          },
          "type": "line",
          "x0": 29,
          "x1": 29,
          "y0": 107.5,
          "y1": 108.61
         },
         {
          "line": {
           "color": "rgb(55, 128, 191)",
           "width": 1.5
          },
          "type": "line",
          "x0": 30,
          "x1": 30,
          "y0": 106.89,
          "y1": 108
         },
         {
          "line": {
           "color": "rgb(55, 128, 191)",
           "width": 1.5
          },
          "type": "line",
          "x0": 31,
          "x1": 31,
          "y0": 108.16,
          "y1": 109.26
         },
         {
          "line": {
           "color": "rgb(55, 128, 191)",
           "width": 1.5
          },
          "type": "line",
          "x0": 32,
          "x1": 32,
          "y0": 109.64,
          "y1": 110.74
         },
         {
          "line": {
           "color": "rgb(55, 128, 191)",
           "width": 1.5
          },
          "type": "line",
          "x0": 33,
          "x1": 33,
          "y0": 110.78,
          "y1": 111.88
         },
         {
          "line": {
           "color": "rgb(55, 128, 191)",
           "width": 1.5
          },
          "type": "line",
          "x0": 34,
          "x1": 34,
          "y0": 109.49,
          "y1": 110.6
         },
         {
          "line": {
           "color": "rgb(55, 128, 191)",
           "width": 1.5
          },
          "type": "line",
          "x0": 35,
          "x1": 35,
          "y0": 108.36,
          "y1": 109.5
         },
         {
          "line": {
           "color": "rgb(55, 128, 191)",
           "width": 1.5
          },
          "type": "line",
          "x0": 36,
          "x1": 36,
          "y0": 105.55,
          "y1": 106.64
         },
         {
          "line": {
           "color": "rgb(55, 128, 191)",
           "width": 1.5
          },
          "type": "line",
          "x0": 37,
          "x1": 37,
          "y0": 104.48,
          "y1": 105.57
         },
         {
          "line": {
           "color": "rgb(55, 128, 191)",
           "width": 1.5
          },
          "type": "line",
          "x0": 38,
          "x1": 38,
          "y0": 105.1,
          "y1": 106.2
         },
         {
          "line": {
           "color": "rgb(55, 128, 191)",
           "width": 1.5
          },
          "type": "line",
          "x0": 39,
          "x1": 39,
          "y0": 106.09,
          "y1": 107.23
         },
         {
          "line": {
           "color": "rgb(55, 128, 191)",
           "width": 1.5
          },
          "type": "line",
          "x0": 40,
          "x1": 40,
          "y0": 103.87,
          "y1": 104.98
         },
         {
          "line": {
           "color": "rgb(55, 128, 191)",
           "width": 1.5
          },
          "type": "line",
          "x0": 41,
          "x1": 41,
          "y0": 105.59,
          "y1": 106.7
         },
         {
          "line": {
           "color": "rgb(55, 128, 191)",
           "width": 1.5
          },
          "type": "line",
          "x0": 42,
          "x1": 42,
          "y0": 106.45,
          "y1": 107.57
         },
         {
          "line": {
           "color": "rgb(55, 128, 191)",
           "width": 1.5
          },
          "type": "line",
          "x0": 43,
          "x1": 43,
          "y0": 105.86,
          "y1": 106.96
         },
         {
          "line": {
           "color": "rgb(55, 128, 191)",
           "width": 1.5
          },
          "type": "line",
          "x0": 44,
          "x1": 44,
          "y0": 107.32,
          "y1": 108.42
         },
         {
          "line": {
           "color": "rgb(55, 128, 191)",
           "width": 1.5
          },
          "type": "line",
          "x0": 45,
          "x1": 45,
          "y0": 107.3,
          "y1": 108.41
         },
         {
          "line": {
           "color": "rgb(55, 128, 191)",
           "width": 1.5
          },
          "type": "line",
          "x0": 46,
          "x1": 46,
          "y0": 104.69,
          "y1": 105.78
         },
         {
          "line": {
           "color": "rgb(55, 128, 191)",
           "width": 1.5
          },
          "type": "line",
          "x0": 47,
          "x1": 47,
          "y0": 106.16,
          "y1": 107.26
         },
         {
          "line": {
           "color": "rgb(55, 128, 191)",
           "width": 1.5
          },
          "type": "line",
          "x0": 48,
          "x1": 48,
          "y0": 106.37,
          "y1": 107.49
         },
         {
          "line": {
           "color": "rgb(55, 128, 191)",
           "width": 1.5
          },
          "type": "line",
          "x0": 49,
          "x1": 49,
          "y0": 106.53,
          "y1": 107.63
         },
         {
          "line": {
           "color": "rgb(55, 128, 191)",
           "width": 1.5
          },
          "type": "line",
          "x0": 50,
          "x1": 50,
          "y0": 105.63,
          "y1": 106.75
         },
         {
          "fillcolor": "rgba(0, 204, 0, 0.6)",
          "line": {
           "color": "rgb(55, 128, 191)",
           "width": 1
          },
          "type": "rect",
          "x0": 0.75,
          "x1": 1.25,
          "xref": "x",
          "y0": 109.21,
          "y1": 110.46,
          "yref": "y"
         },
         {
          "fillcolor": "rgba(0, 204, 0, 0.6)",
          "line": {
           "color": "rgb(55, 128, 191)",
           "width": 1
          },
          "type": "rect",
          "x0": 1.75,
          "x1": 2.25,
          "xref": "x",
          "y0": 109.09,
          "y1": 111.3,
          "yref": "y"
         },
         {
          "fillcolor": "rgba(0, 204, 0, 0.6)",
          "line": {
           "color": "rgb(55, 128, 191)",
           "width": 1
          },
          "type": "rect",
          "x0": 2.75,
          "x1": 3.25,
          "xref": "x",
          "y0": 110.51,
          "y1": 112.54,
          "yref": "y"
         },
         {
          "fillcolor": "rgba(255, 0, 0, 0.6)",
          "line": {
           "color": "rgb(55, 128, 191)",
           "width": 1
          },
          "type": "rect",
          "x0": 3.75,
          "x1": 4.25,
          "xref": "x",
          "y0": 112.33,
          "y1": 113.54,
          "yref": "y"
         },
         {
          "fillcolor": "rgba(255, 0, 0, 0.6)",
          "line": {
           "color": "rgb(55, 128, 191)",
           "width": 1
          },
          "type": "rect",
          "x0": 4.75,
          "x1": 5.25,
          "xref": "x",
          "y0": 111.83,
          "y1": 112.83,
          "yref": "y"
         },
         {
          "fillcolor": "rgba(0, 204, 0, 0.6)",
          "line": {
           "color": "rgb(55, 128, 191)",
           "width": 1
          },
          "type": "rect",
          "x0": 5.75,
          "x1": 6.25,
          "xref": "x",
          "y0": 108.08,
          "y1": 111.9,
          "yref": "y"
         },
         {
          "fillcolor": "rgba(0, 204, 0, 0.6)",
          "line": {
           "color": "rgb(55, 128, 191)",
           "width": 1
          },
          "type": "rect",
          "x0": 6.75,
          "x1": 7.25,
          "xref": "x",
          "y0": 112.37,
          "y1": 113.56,
          "yref": "y"
         },
         {
          "fillcolor": "rgba(255, 0, 0, 0.6)",
          "line": {
           "color": "rgb(55, 128, 191)",
           "width": 1
          },
          "type": "rect",
          "x0": 7.75,
          "x1": 8.25,
          "xref": "x",
          "y0": 111.58,
          "y1": 111.79,
          "yref": "y"
         },
         {
          "fillcolor": "rgba(255, 0, 0, 0.6)",
          "line": {
           "color": "rgb(55, 128, 191)",
           "width": 1
          },
          "type": "rect",
          "x0": 8.75,
          "x1": 9.25,
          "xref": "x",
          "y0": 111.47,
          "y1": 112.46,
          "yref": "y"
         },
         {
          "fillcolor": "rgba(255, 0, 0, 0.6)",
          "line": {
           "color": "rgb(55, 128, 191)",
           "width": 1
          },
          "type": "rect",
          "x0": 9.75,
          "x1": 10.25,
          "xref": "x",
          "y0": 110.42,
          "y1": 113.75,
          "yref": "y"
         },
         {
          "fillcolor": "rgba(0, 204, 0, 0.6)",
          "line": {
           "color": "rgb(55, 128, 191)",
           "width": 1
          },
          "type": "rect",
          "x0": 10.75,
          "x1": 11.25,
          "xref": "x",
          "y0": 109.08,
          "y1": 111.45,
          "yref": "y"
         },
         {
          "fillcolor": "rgba(0, 204, 0, 0.6)",
          "line": {
           "color": "rgb(55, 128, 191)",
           "width": 1
          },
          "type": "rect",
          "x0": 11.75,
          "x1": 12.25,
          "xref": "x",
          "y0": 108.94,
          "y1": 112.5,
          "yref": "y"
         },
         {
          "fillcolor": "rgba(0, 204, 0, 0.6)",
          "line": {
           "color": "rgb(55, 128, 191)",
           "width": 1
          },
          "type": "rect",
          "x0": 12.75,
          "x1": 13.25,
          "xref": "x",
          "y0": 110.6,
          "y1": 111.47,
          "yref": "y"
         },
         {
          "fillcolor": "rgba(0, 204, 0, 0.6)",
          "line": {
           "color": "rgb(55, 128, 191)",
           "width": 1
          },
          "type": "rect",
          "x0": 13.75,
          "x1": 14.25,
          "xref": "x",
          "y0": 107.79,
          "y1": 109.47,
          "yref": "y"
         },
         {
          "fillcolor": "rgba(255, 0, 0, 0.6)",
          "line": {
           "color": "rgb(55, 128, 191)",
           "width": 1
          },
          "type": "rect",
          "x0": 14.75,
          "x1": 15.25,
          "xref": "x",
          "y0": 108.83,
          "y1": 108.95,
          "yref": "y"
         },
         {
          "fillcolor": "rgba(255, 0, 0, 0.6)",
          "line": {
           "color": "rgb(55, 128, 191)",
           "width": 1
          },
          "type": "rect",
          "x0": 15.75,
          "x1": 16.25,
          "xref": "x",
          "y0": 109.26,
          "y1": 110.24,
          "yref": "y"
         },
         {
          "fillcolor": "rgba(255, 0, 0, 0.6)",
          "line": {
           "color": "rgb(55, 128, 191)",
           "width": 1
          },
          "type": "rect",
          "x0": 16.75,
          "x1": 17.25,
          "xref": "x",
          "y0": 110.62,
          "y1": 111.48,
          "yref": "y"
         },
         {
          "fillcolor": "rgba(255, 0, 0, 0.6)",
          "line": {
           "color": "rgb(55, 128, 191)",
           "width": 1
          },
          "type": "rect",
          "x0": 17.75,
          "x1": 18.25,
          "xref": "x",
          "y0": 110.76,
          "y1": 113.29,
          "yref": "y"
         },
         {
          "fillcolor": "rgba(255, 0, 0, 0.6)",
          "line": {
           "color": "rgb(55, 128, 191)",
           "width": 1
          },
          "type": "rect",
          "x0": 18.75,
          "x1": 19.25,
          "xref": "x",
          "y0": 112.25,
          "y1": 114.84,
          "yref": "y"
         },
         {
          "fillcolor": "rgba(255, 0, 0, 0.6)",
          "line": {
           "color": "rgb(55, 128, 191)",
           "width": 1
          },
          "type": "rect",
          "x0": 19.75,
          "x1": 20.25,
          "xref": "x",
          "y0": 111.76,
          "y1": 113.28,
          "yref": "y"
         },
         {
          "fillcolor": "rgba(255, 0, 0, 0.6)",
          "line": {
           "color": "rgb(55, 128, 191)",
           "width": 1
          },
          "type": "rect",
          "x0": 20.75,
          "x1": 21.25,
          "xref": "x",
          "y0": 111.26,
          "y1": 112.7,
          "yref": "y"
         },
         {
          "fillcolor": "rgba(255, 0, 0, 0.6)",
          "line": {
           "color": "rgb(55, 128, 191)",
           "width": 1
          },
          "type": "rect",
          "x0": 21.75,
          "x1": 22.25,
          "xref": "x",
          "y0": 110.37,
          "y1": 112.14,
          "yref": "y"
         },
         {
          "fillcolor": "rgba(255, 0, 0, 0.6)",
          "line": {
           "color": "rgb(55, 128, 191)",
           "width": 1
          },
          "type": "rect",
          "x0": 22.75,
          "x1": 23.25,
          "xref": "x",
          "y0": 110.72,
          "y1": 116.76,
          "yref": "y"
         },
         {
          "fillcolor": "rgba(255, 0, 0, 0.6)",
          "line": {
           "color": "rgb(55, 128, 191)",
           "width": 1
          },
          "type": "rect",
          "x0": 23.75,
          "x1": 24.25,
          "xref": "x",
          "y0": 109.23,
          "y1": 109.23,
          "yref": "y"
         },
         {
          "fillcolor": "rgba(0, 204, 0, 0.6)",
          "line": {
           "color": "rgb(55, 128, 191)",
           "width": 1
          },
          "type": "rect",
          "x0": 24.75,
          "x1": 25.25,
          "xref": "x",
          "y0": 109.09,
          "y1": 109.45,
          "yref": "y"
         },
         {
          "fillcolor": "rgba(255, 0, 0, 0.6)",
          "line": {
           "color": "rgb(55, 128, 191)",
           "width": 1
          },
          "type": "rect",
          "x0": 25.75,
          "x1": 26.25,
          "xref": "x",
          "y0": 111.51,
          "y1": 111.78,
          "yref": "y"
         },
         {
          "fillcolor": "rgba(255, 0, 0, 0.6)",
          "line": {
           "color": "rgb(55, 128, 191)",
           "width": 1
          },
          "type": "rect",
          "x0": 26.75,
          "x1": 27.25,
          "xref": "x",
          "y0": 109.92,
          "y1": 111.59,
          "yref": "y"
         },
         {
          "fillcolor": "rgba(255, 0, 0, 0.6)",
          "line": {
           "color": "rgb(55, 128, 191)",
           "width": 1
          },
          "type": "rect",
          "x0": 27.75,
          "x1": 28.25,
          "xref": "x",
          "y0": 110,
          "y1": 112.42,
          "yref": "y"
         },
         {
          "fillcolor": "rgba(255, 0, 0, 0.6)",
          "line": {
           "color": "rgb(55, 128, 191)",
           "width": 1
          },
          "type": "rect",
          "x0": 28.75,
          "x1": 29.25,
          "xref": "x",
          "y0": 108.61,
          "y1": 109.63,
          "yref": "y"
         },
         {
          "fillcolor": "rgba(0, 204, 0, 0.6)",
          "line": {
           "color": "rgb(55, 128, 191)",
           "width": 1
          },
          "type": "rect",
          "x0": 29.75,
          "x1": 30.25,
          "xref": "x",
          "y0": 108,
          "y1": 109.1,
          "yref": "y"
         },
         {
          "fillcolor": "rgba(0, 204, 0, 0.6)",
          "line": {
           "color": "rgb(55, 128, 191)",
           "width": 1
          },
          "type": "rect",
          "x0": 30.75,
          "x1": 31.25,
          "xref": "x",
          "y0": 109.26,
          "y1": 111,
          "yref": "y"
         },
         {
          "fillcolor": "rgba(255, 0, 0, 0.6)",
          "line": {
           "color": "rgb(55, 128, 191)",
           "width": 1
          },
          "type": "rect",
          "x0": 31.75,
          "x1": 32.25,
          "xref": "x",
          "y0": 110.74,
          "y1": 111.31,
          "yref": "y"
         },
         {
          "fillcolor": "rgba(255, 0, 0, 0.6)",
          "line": {
           "color": "rgb(55, 128, 191)",
           "width": 1
          },
          "type": "rect",
          "x0": 32.75,
          "x1": 33.25,
          "xref": "x",
          "y0": 111.88,
          "y1": 113.88,
          "yref": "y"
         },
         {
          "fillcolor": "rgba(255, 0, 0, 0.6)",
          "line": {
           "color": "rgb(55, 128, 191)",
           "width": 1
          },
          "type": "rect",
          "x0": 33.75,
          "x1": 34.25,
          "xref": "x",
          "y0": 110.6,
          "y1": 112.7,
          "yref": "y"
         },
         {
          "fillcolor": "rgba(255, 0, 0, 0.6)",
          "line": {
           "color": "rgb(55, 128, 191)",
           "width": 1
          },
          "type": "rect",
          "x0": 34.75,
          "x1": 35.25,
          "xref": "x",
          "y0": 109.5,
          "y1": 110.87,
          "yref": "y"
         },
         {
          "fillcolor": "rgba(0, 204, 0, 0.6)",
          "line": {
           "color": "rgb(55, 128, 191)",
           "width": 1
          },
          "type": "rect",
          "x0": 35.75,
          "x1": 36.25,
          "xref": "x",
          "y0": 106.64,
          "y1": 107.88,
          "yref": "y"
         },
         {
          "fillcolor": "rgba(0, 204, 0, 0.6)",
          "line": {
           "color": "rgb(55, 128, 191)",
           "width": 1
          },
          "type": "rect",
          "x0": 36.75,
          "x1": 37.25,
          "xref": "x",
          "y0": 105.57,
          "y1": 106.27,
          "yref": "y"
         },
         {
          "fillcolor": "rgba(0, 204, 0, 0.6)",
          "line": {
           "color": "rgb(55, 128, 191)",
           "width": 1
          },
          "type": "rect",
          "x0": 37.75,
          "x1": 38.25,
          "xref": "x",
          "y0": 106.2,
          "y1": 106.3,
          "yref": "y"
         },
         {
          "fillcolor": "rgba(255, 0, 0, 0.6)",
          "line": {
           "color": "rgb(55, 128, 191)",
           "width": 1
          },
          "type": "rect",
          "x0": 38.75,
          "x1": 39.25,
          "xref": "x",
          "y0": 107.23,
          "y1": 107.54,
          "yref": "y"
         },
         {
          "fillcolor": "rgba(0, 204, 0, 0.6)",
          "line": {
           "color": "rgb(55, 128, 191)",
           "width": 1
          },
          "type": "rect",
          "x0": 39.75,
          "x1": 40.25,
          "xref": "x",
          "y0": 104.98,
          "y1": 106.51,
          "yref": "y"
         },
         {
          "fillcolor": "rgba(0, 204, 0, 0.6)",
          "line": {
           "color": "rgb(55, 128, 191)",
           "width": 1
          },
          "type": "rect",
          "x0": 40.75,
          "x1": 41.25,
          "xref": "x",
          "y0": 106.7,
          "y1": 108.19,
          "yref": "y"
         },
         {
          "fillcolor": "rgba(0, 204, 0, 0.6)",
          "line": {
           "color": "rgb(55, 128, 191)",
           "width": 1
          },
          "type": "rect",
          "x0": 41.75,
          "x1": 42.25,
          "xref": "x",
          "y0": 107.57,
          "y1": 109.4,
          "yref": "y"
         },
         {
          "fillcolor": "rgba(0, 204, 0, 0.6)",
          "line": {
           "color": "rgb(55, 128, 191)",
           "width": 1
          },
          "type": "rect",
          "x0": 42.75,
          "x1": 43.25,
          "xref": "x",
          "y0": 106.96,
          "y1": 109.01,
          "yref": "y"
         },
         {
          "fillcolor": "rgba(255, 0, 0, 0.6)",
          "line": {
           "color": "rgb(55, 128, 191)",
           "width": 1
          },
          "type": "rect",
          "x0": 43.75,
          "x1": 44.25,
          "xref": "x",
          "y0": 108.42,
          "y1": 108.94,
          "yref": "y"
         },
         {
          "fillcolor": "rgba(255, 0, 0, 0.6)",
          "line": {
           "color": "rgb(55, 128, 191)",
           "width": 1
          },
          "type": "rect",
          "x0": 44.75,
          "x1": 45.25,
          "xref": "x",
          "y0": 108.41,
          "y1": 111.58,
          "yref": "y"
         },
         {
          "fillcolor": "rgba(0, 204, 0, 0.6)",
          "line": {
           "color": "rgb(55, 128, 191)",
           "width": 1
          },
          "type": "rect",
          "x0": 45.75,
          "x1": 46.25,
          "xref": "x",
          "y0": 105.78,
          "y1": 106.61,
          "yref": "y"
         },
         {
          "fillcolor": "rgba(255, 0, 0, 0.6)",
          "line": {
           "color": "rgb(55, 128, 191)",
           "width": 1
          },
          "type": "rect",
          "x0": 46.75,
          "x1": 47.25,
          "xref": "x",
          "y0": 107.26,
          "y1": 109.14,
          "yref": "y"
         },
         {
          "fillcolor": "rgba(0, 204, 0, 0.6)",
          "line": {
           "color": "rgb(55, 128, 191)",
           "width": 1
          },
          "type": "rect",
          "x0": 47.75,
          "x1": 48.25,
          "xref": "x",
          "y0": 107.49,
          "y1": 107.92,
          "yref": "y"
         },
         {
          "fillcolor": "rgba(255, 0, 0, 0.6)",
          "line": {
           "color": "rgb(55, 128, 191)",
           "width": 1
          },
          "type": "rect",
          "x0": 48.75,
          "x1": 49.25,
          "xref": "x",
          "y0": 107.63,
          "y1": 109.74,
          "yref": "y"
         },
         {
          "fillcolor": "rgba(255, 0, 0, 0.6)",
          "line": {
           "color": "rgb(55, 128, 191)",
           "width": 1
          },
          "type": "rect",
          "x0": 49.75,
          "x1": 50.25,
          "xref": "x",
          "y0": 106.75,
          "y1": 107.56,
          "yref": "y"
         },
         {
          "line": {
           "color": "rgb(55, 128, 191)",
           "width": 1.5
          },
          "type": "line",
          "x0": 1,
          "x1": 1,
          "y0": 110.46,
          "y1": 111.56
         },
         {
          "line": {
           "color": "rgb(55, 128, 191)",
           "width": 1.5
          },
          "type": "line",
          "x0": 2,
          "x1": 2,
          "y0": 111.3,
          "y1": 112.41
         },
         {
          "line": {
           "color": "rgb(55, 128, 191)",
           "width": 1.5
          },
          "type": "line",
          "x0": 3,
          "x1": 3,
          "y0": 112.54,
          "y1": 113.64
         },
         {
          "line": {
           "color": "rgb(55, 128, 191)",
           "width": 1.5
          },
          "type": "line",
          "x0": 4,
          "x1": 4,
          "y0": 113.54,
          "y1": 114.62
         },
         {
          "line": {
           "color": "rgb(55, 128, 191)",
           "width": 1.5
          },
          "type": "line",
          "x0": 5,
          "x1": 5,
          "y0": 112.83,
          "y1": 113.93
         },
         {
          "line": {
           "color": "rgb(55, 128, 191)",
           "width": 1.5
          },
          "type": "line",
          "x0": 6,
          "x1": 6,
          "y0": 111.9,
          "y1": 112.99
         },
         {
          "line": {
           "color": "rgb(55, 128, 191)",
           "width": 1.5
          },
          "type": "line",
          "x0": 7,
          "x1": 7,
          "y0": 113.56,
          "y1": 114.68
         },
         {
          "line": {
           "color": "rgb(55, 128, 191)",
           "width": 1.5
          },
          "type": "line",
          "x0": 8,
          "x1": 8,
          "y0": 111.79,
          "y1": 112.9
         },
         {
          "line": {
           "color": "rgb(55, 128, 191)",
           "width": 1.5
          },
          "type": "line",
          "x0": 9,
          "x1": 9,
          "y0": 112.46,
          "y1": 113.58
         },
         {
          "line": {
           "color": "rgb(55, 128, 191)",
           "width": 1.5
          },
          "type": "line",
          "x0": 10,
          "x1": 10,
          "y0": 113.75,
          "y1": 114.85
         },
         {
          "line": {
           "color": "rgb(55, 128, 191)",
           "width": 1.5
          },
          "type": "line",
          "x0": 11,
          "x1": 11,
          "y0": 111.45,
          "y1": 112.56
         },
         {
          "line": {
           "color": "rgb(55, 128, 191)",
           "width": 1.5
          },
          "type": "line",
          "x0": 12,
          "x1": 12,
          "y0": 112.5,
          "y1": 113.62
         },
         {
          "line": {
           "color": "rgb(55, 128, 191)",
           "width": 1.5
          },
          "type": "line",
          "x0": 13,
          "x1": 13,
          "y0": 111.47,
          "y1": 112.6
         },
         {
          "line": {
           "color": "rgb(55, 128, 191)",
           "width": 1.5
          },
          "type": "line",
          "x0": 14,
          "x1": 14,
          "y0": 109.47,
          "y1": 110.6
         },
         {
          "line": {
           "color": "rgb(55, 128, 191)",
           "width": 1.5
          },
          "type": "line",
          "x0": 15,
          "x1": 15,
          "y0": 108.95,
          "y1": 110.06
         },
         {
          "line": {
           "color": "rgb(55, 128, 191)",
           "width": 1.5
          },
          "type": "line",
          "x0": 16,
          "x1": 16,
          "y0": 110.24,
          "y1": 111.37
         },
         {
          "line": {
           "color": "rgb(55, 128, 191)",
           "width": 1.5
          },
          "type": "line",
          "x0": 17,
          "x1": 17,
          "y0": 111.48,
          "y1": 112.59
         },
         {
          "line": {
           "color": "rgb(55, 128, 191)",
           "width": 1.5
          },
          "type": "line",
          "x0": 18,
          "x1": 18,
          "y0": 113.29,
          "y1": 114.4
         },
         {
          "line": {
           "color": "rgb(55, 128, 191)",
           "width": 1.5
          },
          "type": "line",
          "x0": 19,
          "x1": 19,
          "y0": 114.84,
          "y1": 115.93
         },
         {
          "line": {
           "color": "rgb(55, 128, 191)",
           "width": 1.5
          },
          "type": "line",
          "x0": 20,
          "x1": 20,
          "y0": 113.28,
          "y1": 114.39
         },
         {
          "line": {
           "color": "rgb(55, 128, 191)",
           "width": 1.5
          },
          "type": "line",
          "x0": 21,
          "x1": 21,
          "y0": 112.7,
          "y1": 113.8
         },
         {
          "line": {
           "color": "rgb(55, 128, 191)",
           "width": 1.5
          },
          "type": "line",
          "x0": 22,
          "x1": 22,
          "y0": 112.14,
          "y1": 113.24
         },
         {
          "line": {
           "color": "rgb(55, 128, 191)",
           "width": 1.5
          },
          "type": "line",
          "x0": 23,
          "x1": 23,
          "y0": 116.76,
          "y1": 117.87
         },
         {
          "line": {
           "color": "rgb(55, 128, 191)",
           "width": 1.5
          },
          "type": "line",
          "x0": 24,
          "x1": 24,
          "y0": 109.23,
          "y1": 110.3
         },
         {
          "line": {
           "color": "rgb(55, 128, 191)",
           "width": 1.5
          },
          "type": "line",
          "x0": 25,
          "x1": 25,
          "y0": 109.45,
          "y1": 110.56
         },
         {
          "line": {
           "color": "rgb(55, 128, 191)",
           "width": 1.5
          },
          "type": "line",
          "x0": 26,
          "x1": 26,
          "y0": 111.78,
          "y1": 112.89
         },
         {
          "line": {
           "color": "rgb(55, 128, 191)",
           "width": 1.5
          },
          "type": "line",
          "x0": 27,
          "x1": 27,
          "y0": 111.59,
          "y1": 112.7
         },
         {
          "line": {
           "color": "rgb(55, 128, 191)",
           "width": 1.5
          },
          "type": "line",
          "x0": 28,
          "x1": 28,
          "y0": 112.42,
          "y1": 113.54
         },
         {
          "line": {
           "color": "rgb(55, 128, 191)",
           "width": 1.5
          },
          "type": "line",
          "x0": 29,
          "x1": 29,
          "y0": 109.63,
          "y1": 110.74
         },
         {
          "line": {
           "color": "rgb(55, 128, 191)",
           "width": 1.5
          },
          "type": "line",
          "x0": 30,
          "x1": 30,
          "y0": 109.1,
          "y1": 110.2
         },
         {
          "line": {
           "color": "rgb(55, 128, 191)",
           "width": 1.5
          },
          "type": "line",
          "x0": 31,
          "x1": 31,
          "y0": 111,
          "y1": 112.1
         },
         {
          "line": {
           "color": "rgb(55, 128, 191)",
           "width": 1.5
          },
          "type": "line",
          "x0": 32,
          "x1": 32,
          "y0": 111.31,
          "y1": 112.41
         },
         {
          "line": {
           "color": "rgb(55, 128, 191)",
           "width": 1.5
          },
          "type": "line",
          "x0": 33,
          "x1": 33,
          "y0": 113.88,
          "y1": 114.98
         },
         {
          "line": {
           "color": "rgb(55, 128, 191)",
           "width": 1.5
          },
          "type": "line",
          "x0": 34,
          "x1": 34,
          "y0": 112.7,
          "y1": 113.82
         },
         {
          "line": {
           "color": "rgb(55, 128, 191)",
           "width": 1.5
          },
          "type": "line",
          "x0": 35,
          "x1": 35,
          "y0": 110.87,
          "y1": 111.96
         },
         {
          "line": {
           "color": "rgb(55, 128, 191)",
           "width": 1.5
          },
          "type": "line",
          "x0": 36,
          "x1": 36,
          "y0": 107.88,
          "y1": 108.97
         },
         {
          "line": {
           "color": "rgb(55, 128, 191)",
           "width": 1.5
          },
          "type": "line",
          "x0": 37,
          "x1": 37,
          "y0": 106.27,
          "y1": 107.36
         },
         {
          "line": {
           "color": "rgb(55, 128, 191)",
           "width": 1.5
          },
          "type": "line",
          "x0": 38,
          "x1": 38,
          "y0": 106.3,
          "y1": 107.4
         },
         {
          "line": {
           "color": "rgb(55, 128, 191)",
           "width": 1.5
          },
          "type": "line",
          "x0": 39,
          "x1": 39,
          "y0": 107.54,
          "y1": 108.67
         },
         {
          "line": {
           "color": "rgb(55, 128, 191)",
           "width": 1.5
          },
          "type": "line",
          "x0": 40,
          "x1": 40,
          "y0": 106.51,
          "y1": 107.6
         },
         {
          "line": {
           "color": "rgb(55, 128, 191)",
           "width": 1.5
          },
          "type": "line",
          "x0": 41,
          "x1": 41,
          "y0": 108.19,
          "y1": 109.28
         },
         {
          "line": {
           "color": "rgb(55, 128, 191)",
           "width": 1.5
          },
          "type": "line",
          "x0": 42,
          "x1": 42,
          "y0": 109.4,
          "y1": 110.5
         },
         {
          "line": {
           "color": "rgb(55, 128, 191)",
           "width": 1.5
          },
          "type": "line",
          "x0": 43,
          "x1": 43,
          "y0": 109.01,
          "y1": 110.11
         },
         {
          "line": {
           "color": "rgb(55, 128, 191)",
           "width": 1.5
          },
          "type": "line",
          "x0": 44,
          "x1": 44,
          "y0": 108.94,
          "y1": 110.05
         },
         {
          "line": {
           "color": "rgb(55, 128, 191)",
           "width": 1.5
          },
          "type": "line",
          "x0": 45,
          "x1": 45,
          "y0": 111.58,
          "y1": 112.68
         },
         {
          "line": {
           "color": "rgb(55, 128, 191)",
           "width": 1.5
          },
          "type": "line",
          "x0": 46,
          "x1": 46,
          "y0": 106.61,
          "y1": 107.7
         },
         {
          "line": {
           "color": "rgb(55, 128, 191)",
           "width": 1.5
          },
          "type": "line",
          "x0": 47,
          "x1": 47,
          "y0": 109.14,
          "y1": 110.24
         },
         {
          "line": {
           "color": "rgb(55, 128, 191)",
           "width": 1.5
          },
          "type": "line",
          "x0": 48,
          "x1": 48,
          "y0": 107.92,
          "y1": 109.05
         },
         {
          "line": {
           "color": "rgb(55, 128, 191)",
           "width": 1.5
          },
          "type": "line",
          "x0": 49,
          "x1": 49,
          "y0": 109.74,
          "y1": 110.84
         },
         {
          "line": {
           "color": "rgb(55, 128, 191)",
           "width": 1.5
          },
          "type": "line",
          "x0": 50,
          "x1": 50,
          "y0": 107.56,
          "y1": 108.69
         }
        ],
        "showlegend": false,
        "title": "Random Walk",
        "xaxis": {
         "anchor": "y2",
         "showgrid": true,
         "showticklabels": true,
         "tickangle": 90,
         "tickmode": "array",
         "ticktext": [
          20190514,
          20190516,
          20190520,
          20190522,
          20190524,
          20190528,
          20190530,
          20190603,
          20190605,
          20190607,
          20190611,
          20190613,
          20190617,
          20190619,
          20190621,
          20190625,
          20190627,
          20190701,
          20190703,
          20190705,
          20190709,
          20190711,
          20190715,
          20190717,
          20190719,
          20190722
         ],
         "tickvals": [
          1,
          3,
          5,
          7,
          9,
          11,
          13,
          15,
          17,
          19,
          21,
          23,
          25,
          27,
          29,
          31,
          33,
          35,
          37,
          39,
          41,
          43,
          45,
          47,
          49,
          50
         ]
        },
        "yaxis": {
         "domain": [
          0.22,
          1
         ],
         "range": [
          103.87,
          117.87
         ]
        },
        "yaxis2": {
         "domain": [
          0,
          0.2
         ],
         "range": [
          0,
          1412272
         ]
        }
       }
      },
      "text/html": [
       "<div id=\"e804fc16-d46f-4f6f-acac-f419f60122ee\" style=\"height: 525px; width: 100%;\" class=\"plotly-graph-div\"></div><script type=\"text/javascript\">require([\"plotly\"], function(Plotly) { window.PLOTLYENV=window.PLOTLYENV || {};window.PLOTLYENV.BASE_URL=\"https://plot.ly\";Plotly.newPlot(\"e804fc16-d46f-4f6f-acac-f419f60122ee\", [{\"hoverinfo\": \"text\", \"mode\": \"markers\", \"text\": [\"date: 20190514.0<br>open: 109.21<br>high: 111.56<br>low: 108.09<br>close: 110.46<br>volume: 1412272.0\", \"date: 20190515.0<br>open: 109.09<br>high: 112.41<br>low: 107.98<br>close: 111.3<br>volume: 1396075.0\", \"date: 20190516.0<br>open: 110.51<br>high: 113.64<br>low: 109.4<br>close: 112.54<br>volume: 1386180.0\", \"date: 20190517.0<br>open: 113.54<br>high: 114.62<br>low: 111.22<br>close: 112.33<br>volume: 1369202.0\", \"date: 20190520.0<br>open: 112.83<br>high: 113.93<br>low: 110.73<br>close: 111.83<br>volume: 1327937.0\", \"date: 20190521.0<br>open: 108.08<br>high: 112.99<br>low: 106.95<br>close: 111.9<br>volume: 1307760.0\", \"date: 20190522.0<br>open: 112.37<br>high: 114.68<br>low: 111.28<br>close: 113.56<br>volume: 1260429.0\", \"date: 20190523.0<br>open: 111.79<br>high: 112.9<br>low: 110.47<br>close: 111.58<br>volume: 1295276.0\", \"date: 20190524.0<br>open: 112.46<br>high: 113.58<br>low: 110.35<br>close: 111.47<br>volume: 1291582.0\", \"date: 20190527.0<br>open: 113.75<br>high: 114.85<br>low: 109.3<br>close: 110.42<br>volume: 1267547.0\", \"date: 20190528.0<br>open: 109.08<br>high: 112.56<br>low: 107.99<br>close: 111.45<br>volume: 1238594.0\", \"date: 20190529.0<br>open: 108.94<br>high: 113.62<br>low: 107.82<br>close: 112.5<br>volume: 1195036.0\", \"date: 20190530.0<br>open: 110.6<br>high: 112.6<br>low: 109.5<br>close: 111.47<br>volume: 1200445.0\", \"date: 20190531.0<br>open: 107.79<br>high: 110.6<br>low: 106.68<br>close: 109.47<br>volume: 1203099.0\", \"date: 20190603.0<br>open: 108.95<br>high: 110.06<br>low: 107.7<br>close: 108.83<br>volume: 1204910.0\", \"date: 20190604.0<br>open: 110.24<br>high: 111.37<br>low: 108.15<br>close: 109.26<br>volume: 1173806.0\", \"date: 20190605.0<br>open: 111.48<br>high: 112.59<br>low: 109.49<br>close: 110.62<br>volume: 1140345.0\", \"date: 20190606.0<br>open: 113.29<br>high: 114.4<br>low: 109.67<br>close: 110.76<br>volume: 1167744.0\", \"date: 20190607.0<br>open: 114.84<br>high: 115.93<br>low: 111.16<br>close: 112.25<br>volume: 1150781.0\", \"date: 20190610.0<br>open: 113.28<br>high: 114.39<br>low: 110.63<br>close: 111.76<br>volume: 1195662.0\", \"date: 20190611.0<br>open: 112.7<br>high: 113.8<br>low: 110.15<br>close: 111.26<br>volume: 1220819.0\", \"date: 20190612.0<br>open: 112.14<br>high: 113.24<br>low: 109.27<br>close: 110.37<br>volume: 1239004.0\", \"date: 20190613.0<br>open: 116.76<br>high: 117.87<br>low: 109.63<br>close: 110.72<br>volume: 1211392.0\", \"date: 20190614.0<br>open: 109.23<br>high: 110.3<br>low: 108.1<br>close: 109.23<br>volume: 1172675.0\", \"date: 20190617.0<br>open: 109.09<br>high: 110.56<br>low: 107.97<br>close: 109.45<br>volume: 1206630.0\", \"date: 20190618.0<br>open: 111.78<br>high: 112.89<br>low: 110.42<br>close: 111.51<br>volume: 1222724.0\", \"date: 20190619.0<br>open: 111.59<br>high: 112.7<br>low: 108.82<br>close: 109.92<br>volume: 1212840.0\", \"date: 20190620.0<br>open: 112.42<br>high: 113.54<br>low: 108.87<br>close: 110.0<br>volume: 1261872.0\", \"date: 20190621.0<br>open: 109.63<br>high: 110.74<br>low: 107.5<br>close: 108.61<br>volume: 1228190.0\", \"date: 20190624.0<br>open: 108.0<br>high: 110.2<br>low: 106.89<br>close: 109.1<br>volume: 1200058.0\", \"date: 20190625.0<br>open: 109.26<br>high: 112.1<br>low: 108.16<br>close: 111.0<br>volume: 1143059.0\", \"date: 20190626.0<br>open: 111.31<br>high: 112.41<br>low: 109.64<br>close: 110.74<br>volume: 1194944.0\", \"date: 20190627.0<br>open: 113.88<br>high: 114.98<br>low: 110.78<br>close: 111.88<br>volume: 1220863.0\", \"date: 20190628.0<br>open: 112.7<br>high: 113.82<br>low: 109.49<br>close: 110.6<br>volume: 1285284.0\", \"date: 20190701.0<br>open: 110.87<br>high: 111.96<br>low: 108.36<br>close: 109.5<br>volume: 1193349.0\", \"date: 20190702.0<br>open: 106.64<br>high: 108.97<br>low: 105.55<br>close: 107.88<br>volume: 1229046.0\", \"date: 20190703.0<br>open: 105.57<br>high: 107.36<br>low: 104.48<br>close: 106.27<br>volume: 1266775.0\", \"date: 20190704.0<br>open: 106.2<br>high: 107.4<br>low: 105.1<br>close: 106.3<br>volume: 1281493.0\", \"date: 20190705.0<br>open: 107.54<br>high: 108.67<br>low: 106.09<br>close: 107.23<br>volume: 1287722.0\", \"date: 20190708.0<br>open: 104.98<br>high: 107.6<br>low: 103.87<br>close: 106.51<br>volume: 1292652.0\", \"date: 20190709.0<br>open: 106.7<br>high: 109.28<br>low: 105.59<br>close: 108.19<br>volume: 1320691.0\", \"date: 20190710.0<br>open: 107.57<br>high: 110.5<br>low: 106.45<br>close: 109.4<br>volume: 1316110.0\", \"date: 20190711.0<br>open: 106.96<br>high: 110.11<br>low: 105.86<br>close: 109.01<br>volume: 1286632.0\", \"date: 20190712.0<br>open: 108.94<br>high: 110.05<br>low: 107.32<br>close: 108.42<br>volume: 1251882.0\", \"date: 20190715.0<br>open: 111.58<br>high: 112.68<br>low: 107.3<br>close: 108.41<br>volume: 1296167.0\", \"date: 20190716.0<br>open: 105.78<br>high: 107.7<br>low: 104.69<br>close: 106.61<br>volume: 1306426.0\", \"date: 20190717.0<br>open: 109.14<br>high: 110.24<br>low: 106.16<br>close: 107.26<br>volume: 1308012.0\", \"date: 20190718.0<br>open: 107.49<br>high: 109.05<br>low: 106.37<br>close: 107.92<br>volume: 1300657.0\", \"date: 20190719.0<br>open: 109.74<br>high: 110.84<br>low: 106.53<br>close: 107.63<br>volume: 1263383.0\", \"date: 20190722.0<br>open: 107.56<br>high: 108.69<br>low: 105.63<br>close: 106.75<br>volume: 1233222.0\"], \"x\": [1, 2, 3, 4, 5, 6, 7, 8, 9, 10, 11, 12, 13, 14, 15, 16, 17, 18, 19, 20, 21, 22, 23, 24, 25, 26, 27, 28, 29, 30, 31, 32, 33, 34, 35, 36, 37, 38, 39, 40, 41, 42, 43, 44, 45, 46, 47, 48, 49, 50], \"xaxis\": \"x\", \"y\": [110.46, 111.3, 112.54, 112.33, 111.83, 111.9, 113.56, 111.58, 111.47, 110.42, 111.45, 112.5, 111.47, 109.47, 108.83, 109.26, 110.62, 110.76, 112.25, 111.76, 111.26, 110.37, 110.72, 109.23, 109.45, 111.51, 109.92, 110.0, 108.61, 109.1, 111.0, 110.74, 111.88, 110.6, 109.5, 107.88, 106.27, 106.3, 107.23, 106.51, 108.19, 109.4, 109.01, 108.42, 108.41, 106.61, 107.26, 107.92, 107.63, 106.75], \"yaxis\": \"y\", \"type\": \"scatter\", \"uid\": \"2a6b647a-acf3-11e9-b4f8-8c859025e7f9\"}, {\"width\": 0.5, \"x\": [1, 2, 3, 4, 5, 6, 7, 8, 9, 10, 11, 12, 13, 14, 15, 16, 17, 18, 19, 20, 21, 22, 23, 24, 25, 26, 27, 28, 29, 30, 31, 32, 33, 34, 35, 36, 37, 38, 39, 40, 41, 42, 43, 44, 45, 46, 47, 48, 49, 50], \"xaxis\": \"x\", \"y\": [1412272.0, 1396075.0, 1386180.0, 1369202.0, 1327937.0, 1307760.0, 1260429.0, 1295276.0, 1291582.0, 1267547.0, 1238594.0, 1195036.0, 1200445.0, 1203099.0, 1204910.0, 1173806.0, 1140345.0, 1167744.0, 1150781.0, 1195662.0, 1220819.0, 1239004.0, 1211392.0, 1172675.0, 1206630.0, 1222724.0, 1212840.0, 1261872.0, 1228190.0, 1200058.0, 1143059.0, 1194944.0, 1220863.0, 1285284.0, 1193349.0, 1229046.0, 1266775.0, 1281493.0, 1287722.0, 1292652.0, 1320691.0, 1316110.0, 1286632.0, 1251882.0, 1296167.0, 1306426.0, 1308012.0, 1300657.0, 1263383.0, 1233222.0], \"yaxis\": \"y2\", \"type\": \"bar\", \"uid\": \"2a6b65ec-acf3-11e9-ae04-8c859025e7f9\"}], {\"margin\": {\"t\": 100}, \"shapes\": [{\"line\": {\"color\": \"rgb(55, 128, 191)\", \"width\": 1.5}, \"type\": \"line\", \"x0\": 1, \"x1\": 1, \"y0\": 108.09, \"y1\": 109.21}, {\"line\": {\"color\": \"rgb(55, 128, 191)\", \"width\": 1.5}, \"type\": \"line\", \"x0\": 2, \"x1\": 2, \"y0\": 107.98, \"y1\": 109.09}, {\"line\": {\"color\": \"rgb(55, 128, 191)\", \"width\": 1.5}, \"type\": \"line\", \"x0\": 3, \"x1\": 3, \"y0\": 109.4, \"y1\": 110.51}, {\"line\": {\"color\": \"rgb(55, 128, 191)\", \"width\": 1.5}, \"type\": \"line\", \"x0\": 4, \"x1\": 4, \"y0\": 111.22, \"y1\": 112.33}, {\"line\": {\"color\": \"rgb(55, 128, 191)\", \"width\": 1.5}, \"type\": \"line\", \"x0\": 5, \"x1\": 5, \"y0\": 110.73, \"y1\": 111.83}, {\"line\": {\"color\": \"rgb(55, 128, 191)\", \"width\": 1.5}, \"type\": \"line\", \"x0\": 6, \"x1\": 6, \"y0\": 106.95, \"y1\": 108.08}, {\"line\": {\"color\": \"rgb(55, 128, 191)\", \"width\": 1.5}, \"type\": \"line\", \"x0\": 7, \"x1\": 7, \"y0\": 111.28, \"y1\": 112.37}, {\"line\": {\"color\": \"rgb(55, 128, 191)\", \"width\": 1.5}, \"type\": \"line\", \"x0\": 8, \"x1\": 8, \"y0\": 110.47, \"y1\": 111.58}, {\"line\": {\"color\": \"rgb(55, 128, 191)\", \"width\": 1.5}, \"type\": \"line\", \"x0\": 9, \"x1\": 9, \"y0\": 110.35, \"y1\": 111.47}, {\"line\": {\"color\": \"rgb(55, 128, 191)\", \"width\": 1.5}, \"type\": \"line\", \"x0\": 10, \"x1\": 10, \"y0\": 109.3, \"y1\": 110.42}, {\"line\": {\"color\": \"rgb(55, 128, 191)\", \"width\": 1.5}, \"type\": \"line\", \"x0\": 11, \"x1\": 11, \"y0\": 107.99, \"y1\": 109.08}, {\"line\": {\"color\": \"rgb(55, 128, 191)\", \"width\": 1.5}, \"type\": \"line\", \"x0\": 12, \"x1\": 12, \"y0\": 107.82, \"y1\": 108.94}, {\"line\": {\"color\": \"rgb(55, 128, 191)\", \"width\": 1.5}, \"type\": \"line\", \"x0\": 13, \"x1\": 13, \"y0\": 109.5, \"y1\": 110.6}, {\"line\": {\"color\": \"rgb(55, 128, 191)\", \"width\": 1.5}, \"type\": \"line\", \"x0\": 14, \"x1\": 14, \"y0\": 106.68, \"y1\": 107.79}, {\"line\": {\"color\": \"rgb(55, 128, 191)\", \"width\": 1.5}, \"type\": \"line\", \"x0\": 15, \"x1\": 15, \"y0\": 107.7, \"y1\": 108.83}, {\"line\": {\"color\": \"rgb(55, 128, 191)\", \"width\": 1.5}, \"type\": \"line\", \"x0\": 16, \"x1\": 16, \"y0\": 108.15, \"y1\": 109.26}, {\"line\": {\"color\": \"rgb(55, 128, 191)\", \"width\": 1.5}, \"type\": \"line\", \"x0\": 17, \"x1\": 17, \"y0\": 109.49, \"y1\": 110.62}, {\"line\": {\"color\": \"rgb(55, 128, 191)\", \"width\": 1.5}, \"type\": \"line\", \"x0\": 18, \"x1\": 18, \"y0\": 109.67, \"y1\": 110.76}, {\"line\": {\"color\": \"rgb(55, 128, 191)\", \"width\": 1.5}, \"type\": \"line\", \"x0\": 19, \"x1\": 19, \"y0\": 111.16, \"y1\": 112.25}, {\"line\": {\"color\": \"rgb(55, 128, 191)\", \"width\": 1.5}, \"type\": \"line\", \"x0\": 20, \"x1\": 20, \"y0\": 110.63, \"y1\": 111.76}, {\"line\": {\"color\": \"rgb(55, 128, 191)\", \"width\": 1.5}, \"type\": \"line\", \"x0\": 21, \"x1\": 21, \"y0\": 110.15, \"y1\": 111.26}, {\"line\": {\"color\": \"rgb(55, 128, 191)\", \"width\": 1.5}, \"type\": \"line\", \"x0\": 22, \"x1\": 22, \"y0\": 109.27, \"y1\": 110.37}, {\"line\": {\"color\": \"rgb(55, 128, 191)\", \"width\": 1.5}, \"type\": \"line\", \"x0\": 23, \"x1\": 23, \"y0\": 109.63, \"y1\": 110.72}, {\"line\": {\"color\": \"rgb(55, 128, 191)\", \"width\": 1.5}, \"type\": \"line\", \"x0\": 24, \"x1\": 24, \"y0\": 108.1, \"y1\": 109.23}, {\"line\": {\"color\": \"rgb(55, 128, 191)\", \"width\": 1.5}, \"type\": \"line\", \"x0\": 25, \"x1\": 25, \"y0\": 107.97, \"y1\": 109.09}, {\"line\": {\"color\": \"rgb(55, 128, 191)\", \"width\": 1.5}, \"type\": \"line\", \"x0\": 26, \"x1\": 26, \"y0\": 110.42, \"y1\": 111.51}, {\"line\": {\"color\": \"rgb(55, 128, 191)\", \"width\": 1.5}, \"type\": \"line\", \"x0\": 27, \"x1\": 27, \"y0\": 108.82, \"y1\": 109.92}, {\"line\": {\"color\": \"rgb(55, 128, 191)\", \"width\": 1.5}, \"type\": \"line\", \"x0\": 28, \"x1\": 28, \"y0\": 108.87, \"y1\": 110.0}, {\"line\": {\"color\": \"rgb(55, 128, 191)\", \"width\": 1.5}, \"type\": \"line\", \"x0\": 29, \"x1\": 29, \"y0\": 107.5, \"y1\": 108.61}, {\"line\": {\"color\": \"rgb(55, 128, 191)\", \"width\": 1.5}, \"type\": \"line\", \"x0\": 30, \"x1\": 30, \"y0\": 106.89, \"y1\": 108.0}, {\"line\": {\"color\": \"rgb(55, 128, 191)\", \"width\": 1.5}, \"type\": \"line\", \"x0\": 31, \"x1\": 31, \"y0\": 108.16, \"y1\": 109.26}, {\"line\": {\"color\": \"rgb(55, 128, 191)\", \"width\": 1.5}, \"type\": \"line\", \"x0\": 32, \"x1\": 32, \"y0\": 109.64, \"y1\": 110.74}, {\"line\": {\"color\": \"rgb(55, 128, 191)\", \"width\": 1.5}, \"type\": \"line\", \"x0\": 33, \"x1\": 33, \"y0\": 110.78, \"y1\": 111.88}, {\"line\": {\"color\": \"rgb(55, 128, 191)\", \"width\": 1.5}, \"type\": \"line\", \"x0\": 34, \"x1\": 34, \"y0\": 109.49, \"y1\": 110.6}, {\"line\": {\"color\": \"rgb(55, 128, 191)\", \"width\": 1.5}, \"type\": \"line\", \"x0\": 35, \"x1\": 35, \"y0\": 108.36, \"y1\": 109.5}, {\"line\": {\"color\": \"rgb(55, 128, 191)\", \"width\": 1.5}, \"type\": \"line\", \"x0\": 36, \"x1\": 36, \"y0\": 105.55, \"y1\": 106.64}, {\"line\": {\"color\": \"rgb(55, 128, 191)\", \"width\": 1.5}, \"type\": \"line\", \"x0\": 37, \"x1\": 37, \"y0\": 104.48, \"y1\": 105.57}, {\"line\": {\"color\": \"rgb(55, 128, 191)\", \"width\": 1.5}, \"type\": \"line\", \"x0\": 38, \"x1\": 38, \"y0\": 105.1, \"y1\": 106.2}, {\"line\": {\"color\": \"rgb(55, 128, 191)\", \"width\": 1.5}, \"type\": \"line\", \"x0\": 39, \"x1\": 39, \"y0\": 106.09, \"y1\": 107.23}, {\"line\": {\"color\": \"rgb(55, 128, 191)\", \"width\": 1.5}, \"type\": \"line\", \"x0\": 40, \"x1\": 40, \"y0\": 103.87, \"y1\": 104.98}, {\"line\": {\"color\": \"rgb(55, 128, 191)\", \"width\": 1.5}, \"type\": \"line\", \"x0\": 41, \"x1\": 41, \"y0\": 105.59, \"y1\": 106.7}, {\"line\": {\"color\": \"rgb(55, 128, 191)\", \"width\": 1.5}, \"type\": \"line\", \"x0\": 42, \"x1\": 42, \"y0\": 106.45, \"y1\": 107.57}, {\"line\": {\"color\": \"rgb(55, 128, 191)\", \"width\": 1.5}, \"type\": \"line\", \"x0\": 43, \"x1\": 43, \"y0\": 105.86, \"y1\": 106.96}, {\"line\": {\"color\": \"rgb(55, 128, 191)\", \"width\": 1.5}, \"type\": \"line\", \"x0\": 44, \"x1\": 44, \"y0\": 107.32, \"y1\": 108.42}, {\"line\": {\"color\": \"rgb(55, 128, 191)\", \"width\": 1.5}, \"type\": \"line\", \"x0\": 45, \"x1\": 45, \"y0\": 107.3, \"y1\": 108.41}, {\"line\": {\"color\": \"rgb(55, 128, 191)\", \"width\": 1.5}, \"type\": \"line\", \"x0\": 46, \"x1\": 46, \"y0\": 104.69, \"y1\": 105.78}, {\"line\": {\"color\": \"rgb(55, 128, 191)\", \"width\": 1.5}, \"type\": \"line\", \"x0\": 47, \"x1\": 47, \"y0\": 106.16, \"y1\": 107.26}, {\"line\": {\"color\": \"rgb(55, 128, 191)\", \"width\": 1.5}, \"type\": \"line\", \"x0\": 48, \"x1\": 48, \"y0\": 106.37, \"y1\": 107.49}, {\"line\": {\"color\": \"rgb(55, 128, 191)\", \"width\": 1.5}, \"type\": \"line\", \"x0\": 49, \"x1\": 49, \"y0\": 106.53, \"y1\": 107.63}, {\"line\": {\"color\": \"rgb(55, 128, 191)\", \"width\": 1.5}, \"type\": \"line\", \"x0\": 50, \"x1\": 50, \"y0\": 105.63, \"y1\": 106.75}, {\"fillcolor\": \"rgba(0, 204, 0, 0.6)\", \"line\": {\"color\": \"rgb(55, 128, 191)\", \"width\": 1}, \"type\": \"rect\", \"x0\": 0.75, \"x1\": 1.25, \"xref\": \"x\", \"y0\": 109.21, \"y1\": 110.46, \"yref\": \"y\"}, {\"fillcolor\": \"rgba(0, 204, 0, 0.6)\", \"line\": {\"color\": \"rgb(55, 128, 191)\", \"width\": 1}, \"type\": \"rect\", \"x0\": 1.75, \"x1\": 2.25, \"xref\": \"x\", \"y0\": 109.09, \"y1\": 111.3, \"yref\": \"y\"}, {\"fillcolor\": \"rgba(0, 204, 0, 0.6)\", \"line\": {\"color\": \"rgb(55, 128, 191)\", \"width\": 1}, \"type\": \"rect\", \"x0\": 2.75, \"x1\": 3.25, \"xref\": \"x\", \"y0\": 110.51, \"y1\": 112.54, \"yref\": \"y\"}, {\"fillcolor\": \"rgba(255, 0, 0, 0.6)\", \"line\": {\"color\": \"rgb(55, 128, 191)\", \"width\": 1}, \"type\": \"rect\", \"x0\": 3.75, \"x1\": 4.25, \"xref\": \"x\", \"y0\": 112.33, \"y1\": 113.54, \"yref\": \"y\"}, {\"fillcolor\": \"rgba(255, 0, 0, 0.6)\", \"line\": {\"color\": \"rgb(55, 128, 191)\", \"width\": 1}, \"type\": \"rect\", \"x0\": 4.75, \"x1\": 5.25, \"xref\": \"x\", \"y0\": 111.83, \"y1\": 112.83, \"yref\": \"y\"}, {\"fillcolor\": \"rgba(0, 204, 0, 0.6)\", \"line\": {\"color\": \"rgb(55, 128, 191)\", \"width\": 1}, \"type\": \"rect\", \"x0\": 5.75, \"x1\": 6.25, \"xref\": \"x\", \"y0\": 108.08, \"y1\": 111.9, \"yref\": \"y\"}, {\"fillcolor\": \"rgba(0, 204, 0, 0.6)\", \"line\": {\"color\": \"rgb(55, 128, 191)\", \"width\": 1}, \"type\": \"rect\", \"x0\": 6.75, \"x1\": 7.25, \"xref\": \"x\", \"y0\": 112.37, \"y1\": 113.56, \"yref\": \"y\"}, {\"fillcolor\": \"rgba(255, 0, 0, 0.6)\", \"line\": {\"color\": \"rgb(55, 128, 191)\", \"width\": 1}, \"type\": \"rect\", \"x0\": 7.75, \"x1\": 8.25, \"xref\": \"x\", \"y0\": 111.58, \"y1\": 111.79, \"yref\": \"y\"}, {\"fillcolor\": \"rgba(255, 0, 0, 0.6)\", \"line\": {\"color\": \"rgb(55, 128, 191)\", \"width\": 1}, \"type\": \"rect\", \"x0\": 8.75, \"x1\": 9.25, \"xref\": \"x\", \"y0\": 111.47, \"y1\": 112.46, \"yref\": \"y\"}, {\"fillcolor\": \"rgba(255, 0, 0, 0.6)\", \"line\": {\"color\": \"rgb(55, 128, 191)\", \"width\": 1}, \"type\": \"rect\", \"x0\": 9.75, \"x1\": 10.25, \"xref\": \"x\", \"y0\": 110.42, \"y1\": 113.75, \"yref\": \"y\"}, {\"fillcolor\": \"rgba(0, 204, 0, 0.6)\", \"line\": {\"color\": \"rgb(55, 128, 191)\", \"width\": 1}, \"type\": \"rect\", \"x0\": 10.75, \"x1\": 11.25, \"xref\": \"x\", \"y0\": 109.08, \"y1\": 111.45, \"yref\": \"y\"}, {\"fillcolor\": \"rgba(0, 204, 0, 0.6)\", \"line\": {\"color\": \"rgb(55, 128, 191)\", \"width\": 1}, \"type\": \"rect\", \"x0\": 11.75, \"x1\": 12.25, \"xref\": \"x\", \"y0\": 108.94, \"y1\": 112.5, \"yref\": \"y\"}, {\"fillcolor\": \"rgba(0, 204, 0, 0.6)\", \"line\": {\"color\": \"rgb(55, 128, 191)\", \"width\": 1}, \"type\": \"rect\", \"x0\": 12.75, \"x1\": 13.25, \"xref\": \"x\", \"y0\": 110.6, \"y1\": 111.47, \"yref\": \"y\"}, {\"fillcolor\": \"rgba(0, 204, 0, 0.6)\", \"line\": {\"color\": \"rgb(55, 128, 191)\", \"width\": 1}, \"type\": \"rect\", \"x0\": 13.75, \"x1\": 14.25, \"xref\": \"x\", \"y0\": 107.79, \"y1\": 109.47, \"yref\": \"y\"}, {\"fillcolor\": \"rgba(255, 0, 0, 0.6)\", \"line\": {\"color\": \"rgb(55, 128, 191)\", \"width\": 1}, \"type\": \"rect\", \"x0\": 14.75, \"x1\": 15.25, \"xref\": \"x\", \"y0\": 108.83, \"y1\": 108.95, \"yref\": \"y\"}, {\"fillcolor\": \"rgba(255, 0, 0, 0.6)\", \"line\": {\"color\": \"rgb(55, 128, 191)\", \"width\": 1}, \"type\": \"rect\", \"x0\": 15.75, \"x1\": 16.25, \"xref\": \"x\", \"y0\": 109.26, \"y1\": 110.24, \"yref\": \"y\"}, {\"fillcolor\": \"rgba(255, 0, 0, 0.6)\", \"line\": {\"color\": \"rgb(55, 128, 191)\", \"width\": 1}, \"type\": \"rect\", \"x0\": 16.75, \"x1\": 17.25, \"xref\": \"x\", \"y0\": 110.62, \"y1\": 111.48, \"yref\": \"y\"}, {\"fillcolor\": \"rgba(255, 0, 0, 0.6)\", \"line\": {\"color\": \"rgb(55, 128, 191)\", \"width\": 1}, \"type\": \"rect\", \"x0\": 17.75, \"x1\": 18.25, \"xref\": \"x\", \"y0\": 110.76, \"y1\": 113.29, \"yref\": \"y\"}, {\"fillcolor\": \"rgba(255, 0, 0, 0.6)\", \"line\": {\"color\": \"rgb(55, 128, 191)\", \"width\": 1}, \"type\": \"rect\", \"x0\": 18.75, \"x1\": 19.25, \"xref\": \"x\", \"y0\": 112.25, \"y1\": 114.84, \"yref\": \"y\"}, {\"fillcolor\": \"rgba(255, 0, 0, 0.6)\", \"line\": {\"color\": \"rgb(55, 128, 191)\", \"width\": 1}, \"type\": \"rect\", \"x0\": 19.75, \"x1\": 20.25, \"xref\": \"x\", \"y0\": 111.76, \"y1\": 113.28, \"yref\": \"y\"}, {\"fillcolor\": \"rgba(255, 0, 0, 0.6)\", \"line\": {\"color\": \"rgb(55, 128, 191)\", \"width\": 1}, \"type\": \"rect\", \"x0\": 20.75, \"x1\": 21.25, \"xref\": \"x\", \"y0\": 111.26, \"y1\": 112.7, \"yref\": \"y\"}, {\"fillcolor\": \"rgba(255, 0, 0, 0.6)\", \"line\": {\"color\": \"rgb(55, 128, 191)\", \"width\": 1}, \"type\": \"rect\", \"x0\": 21.75, \"x1\": 22.25, \"xref\": \"x\", \"y0\": 110.37, \"y1\": 112.14, \"yref\": \"y\"}, {\"fillcolor\": \"rgba(255, 0, 0, 0.6)\", \"line\": {\"color\": \"rgb(55, 128, 191)\", \"width\": 1}, \"type\": \"rect\", \"x0\": 22.75, \"x1\": 23.25, \"xref\": \"x\", \"y0\": 110.72, \"y1\": 116.76, \"yref\": \"y\"}, {\"fillcolor\": \"rgba(255, 0, 0, 0.6)\", \"line\": {\"color\": \"rgb(55, 128, 191)\", \"width\": 1}, \"type\": \"rect\", \"x0\": 23.75, \"x1\": 24.25, \"xref\": \"x\", \"y0\": 109.23, \"y1\": 109.23, \"yref\": \"y\"}, {\"fillcolor\": \"rgba(0, 204, 0, 0.6)\", \"line\": {\"color\": \"rgb(55, 128, 191)\", \"width\": 1}, \"type\": \"rect\", \"x0\": 24.75, \"x1\": 25.25, \"xref\": \"x\", \"y0\": 109.09, \"y1\": 109.45, \"yref\": \"y\"}, {\"fillcolor\": \"rgba(255, 0, 0, 0.6)\", \"line\": {\"color\": \"rgb(55, 128, 191)\", \"width\": 1}, \"type\": \"rect\", \"x0\": 25.75, \"x1\": 26.25, \"xref\": \"x\", \"y0\": 111.51, \"y1\": 111.78, \"yref\": \"y\"}, {\"fillcolor\": \"rgba(255, 0, 0, 0.6)\", \"line\": {\"color\": \"rgb(55, 128, 191)\", \"width\": 1}, \"type\": \"rect\", \"x0\": 26.75, \"x1\": 27.25, \"xref\": \"x\", \"y0\": 109.92, \"y1\": 111.59, \"yref\": \"y\"}, {\"fillcolor\": \"rgba(255, 0, 0, 0.6)\", \"line\": {\"color\": \"rgb(55, 128, 191)\", \"width\": 1}, \"type\": \"rect\", \"x0\": 27.75, \"x1\": 28.25, \"xref\": \"x\", \"y0\": 110.0, \"y1\": 112.42, \"yref\": \"y\"}, {\"fillcolor\": \"rgba(255, 0, 0, 0.6)\", \"line\": {\"color\": \"rgb(55, 128, 191)\", \"width\": 1}, \"type\": \"rect\", \"x0\": 28.75, \"x1\": 29.25, \"xref\": \"x\", \"y0\": 108.61, \"y1\": 109.63, \"yref\": \"y\"}, {\"fillcolor\": \"rgba(0, 204, 0, 0.6)\", \"line\": {\"color\": \"rgb(55, 128, 191)\", \"width\": 1}, \"type\": \"rect\", \"x0\": 29.75, \"x1\": 30.25, \"xref\": \"x\", \"y0\": 108.0, \"y1\": 109.1, \"yref\": \"y\"}, {\"fillcolor\": \"rgba(0, 204, 0, 0.6)\", \"line\": {\"color\": \"rgb(55, 128, 191)\", \"width\": 1}, \"type\": \"rect\", \"x0\": 30.75, \"x1\": 31.25, \"xref\": \"x\", \"y0\": 109.26, \"y1\": 111.0, \"yref\": \"y\"}, {\"fillcolor\": \"rgba(255, 0, 0, 0.6)\", \"line\": {\"color\": \"rgb(55, 128, 191)\", \"width\": 1}, \"type\": \"rect\", \"x0\": 31.75, \"x1\": 32.25, \"xref\": \"x\", \"y0\": 110.74, \"y1\": 111.31, \"yref\": \"y\"}, {\"fillcolor\": \"rgba(255, 0, 0, 0.6)\", \"line\": {\"color\": \"rgb(55, 128, 191)\", \"width\": 1}, \"type\": \"rect\", \"x0\": 32.75, \"x1\": 33.25, \"xref\": \"x\", \"y0\": 111.88, \"y1\": 113.88, \"yref\": \"y\"}, {\"fillcolor\": \"rgba(255, 0, 0, 0.6)\", \"line\": {\"color\": \"rgb(55, 128, 191)\", \"width\": 1}, \"type\": \"rect\", \"x0\": 33.75, \"x1\": 34.25, \"xref\": \"x\", \"y0\": 110.6, \"y1\": 112.7, \"yref\": \"y\"}, {\"fillcolor\": \"rgba(255, 0, 0, 0.6)\", \"line\": {\"color\": \"rgb(55, 128, 191)\", \"width\": 1}, \"type\": \"rect\", \"x0\": 34.75, \"x1\": 35.25, \"xref\": \"x\", \"y0\": 109.5, \"y1\": 110.87, \"yref\": \"y\"}, {\"fillcolor\": \"rgba(0, 204, 0, 0.6)\", \"line\": {\"color\": \"rgb(55, 128, 191)\", \"width\": 1}, \"type\": \"rect\", \"x0\": 35.75, \"x1\": 36.25, \"xref\": \"x\", \"y0\": 106.64, \"y1\": 107.88, \"yref\": \"y\"}, {\"fillcolor\": \"rgba(0, 204, 0, 0.6)\", \"line\": {\"color\": \"rgb(55, 128, 191)\", \"width\": 1}, \"type\": \"rect\", \"x0\": 36.75, \"x1\": 37.25, \"xref\": \"x\", \"y0\": 105.57, \"y1\": 106.27, \"yref\": \"y\"}, {\"fillcolor\": \"rgba(0, 204, 0, 0.6)\", \"line\": {\"color\": \"rgb(55, 128, 191)\", \"width\": 1}, \"type\": \"rect\", \"x0\": 37.75, \"x1\": 38.25, \"xref\": \"x\", \"y0\": 106.2, \"y1\": 106.3, \"yref\": \"y\"}, {\"fillcolor\": \"rgba(255, 0, 0, 0.6)\", \"line\": {\"color\": \"rgb(55, 128, 191)\", \"width\": 1}, \"type\": \"rect\", \"x0\": 38.75, \"x1\": 39.25, \"xref\": \"x\", \"y0\": 107.23, \"y1\": 107.54, \"yref\": \"y\"}, {\"fillcolor\": \"rgba(0, 204, 0, 0.6)\", \"line\": {\"color\": \"rgb(55, 128, 191)\", \"width\": 1}, \"type\": \"rect\", \"x0\": 39.75, \"x1\": 40.25, \"xref\": \"x\", \"y0\": 104.98, \"y1\": 106.51, \"yref\": \"y\"}, {\"fillcolor\": \"rgba(0, 204, 0, 0.6)\", \"line\": {\"color\": \"rgb(55, 128, 191)\", \"width\": 1}, \"type\": \"rect\", \"x0\": 40.75, \"x1\": 41.25, \"xref\": \"x\", \"y0\": 106.7, \"y1\": 108.19, \"yref\": \"y\"}, {\"fillcolor\": \"rgba(0, 204, 0, 0.6)\", \"line\": {\"color\": \"rgb(55, 128, 191)\", \"width\": 1}, \"type\": \"rect\", \"x0\": 41.75, \"x1\": 42.25, \"xref\": \"x\", \"y0\": 107.57, \"y1\": 109.4, \"yref\": \"y\"}, {\"fillcolor\": \"rgba(0, 204, 0, 0.6)\", \"line\": {\"color\": \"rgb(55, 128, 191)\", \"width\": 1}, \"type\": \"rect\", \"x0\": 42.75, \"x1\": 43.25, \"xref\": \"x\", \"y0\": 106.96, \"y1\": 109.01, \"yref\": \"y\"}, {\"fillcolor\": \"rgba(255, 0, 0, 0.6)\", \"line\": {\"color\": \"rgb(55, 128, 191)\", \"width\": 1}, \"type\": \"rect\", \"x0\": 43.75, \"x1\": 44.25, \"xref\": \"x\", \"y0\": 108.42, \"y1\": 108.94, \"yref\": \"y\"}, {\"fillcolor\": \"rgba(255, 0, 0, 0.6)\", \"line\": {\"color\": \"rgb(55, 128, 191)\", \"width\": 1}, \"type\": \"rect\", \"x0\": 44.75, \"x1\": 45.25, \"xref\": \"x\", \"y0\": 108.41, \"y1\": 111.58, \"yref\": \"y\"}, {\"fillcolor\": \"rgba(0, 204, 0, 0.6)\", \"line\": {\"color\": \"rgb(55, 128, 191)\", \"width\": 1}, \"type\": \"rect\", \"x0\": 45.75, \"x1\": 46.25, \"xref\": \"x\", \"y0\": 105.78, \"y1\": 106.61, \"yref\": \"y\"}, {\"fillcolor\": \"rgba(255, 0, 0, 0.6)\", \"line\": {\"color\": \"rgb(55, 128, 191)\", \"width\": 1}, \"type\": \"rect\", \"x0\": 46.75, \"x1\": 47.25, \"xref\": \"x\", \"y0\": 107.26, \"y1\": 109.14, \"yref\": \"y\"}, {\"fillcolor\": \"rgba(0, 204, 0, 0.6)\", \"line\": {\"color\": \"rgb(55, 128, 191)\", \"width\": 1}, \"type\": \"rect\", \"x0\": 47.75, \"x1\": 48.25, \"xref\": \"x\", \"y0\": 107.49, \"y1\": 107.92, \"yref\": \"y\"}, {\"fillcolor\": \"rgba(255, 0, 0, 0.6)\", \"line\": {\"color\": \"rgb(55, 128, 191)\", \"width\": 1}, \"type\": \"rect\", \"x0\": 48.75, \"x1\": 49.25, \"xref\": \"x\", \"y0\": 107.63, \"y1\": 109.74, \"yref\": \"y\"}, {\"fillcolor\": \"rgba(255, 0, 0, 0.6)\", \"line\": {\"color\": \"rgb(55, 128, 191)\", \"width\": 1}, \"type\": \"rect\", \"x0\": 49.75, \"x1\": 50.25, \"xref\": \"x\", \"y0\": 106.75, \"y1\": 107.56, \"yref\": \"y\"}, {\"line\": {\"color\": \"rgb(55, 128, 191)\", \"width\": 1.5}, \"type\": \"line\", \"x0\": 1, \"x1\": 1, \"y0\": 110.46, \"y1\": 111.56}, {\"line\": {\"color\": \"rgb(55, 128, 191)\", \"width\": 1.5}, \"type\": \"line\", \"x0\": 2, \"x1\": 2, \"y0\": 111.3, \"y1\": 112.41}, {\"line\": {\"color\": \"rgb(55, 128, 191)\", \"width\": 1.5}, \"type\": \"line\", \"x0\": 3, \"x1\": 3, \"y0\": 112.54, \"y1\": 113.64}, {\"line\": {\"color\": \"rgb(55, 128, 191)\", \"width\": 1.5}, \"type\": \"line\", \"x0\": 4, \"x1\": 4, \"y0\": 113.54, \"y1\": 114.62}, {\"line\": {\"color\": \"rgb(55, 128, 191)\", \"width\": 1.5}, \"type\": \"line\", \"x0\": 5, \"x1\": 5, \"y0\": 112.83, \"y1\": 113.93}, {\"line\": {\"color\": \"rgb(55, 128, 191)\", \"width\": 1.5}, \"type\": \"line\", \"x0\": 6, \"x1\": 6, \"y0\": 111.9, \"y1\": 112.99}, {\"line\": {\"color\": \"rgb(55, 128, 191)\", \"width\": 1.5}, \"type\": \"line\", \"x0\": 7, \"x1\": 7, \"y0\": 113.56, \"y1\": 114.68}, {\"line\": {\"color\": \"rgb(55, 128, 191)\", \"width\": 1.5}, \"type\": \"line\", \"x0\": 8, \"x1\": 8, \"y0\": 111.79, \"y1\": 112.9}, {\"line\": {\"color\": \"rgb(55, 128, 191)\", \"width\": 1.5}, \"type\": \"line\", \"x0\": 9, \"x1\": 9, \"y0\": 112.46, \"y1\": 113.58}, {\"line\": {\"color\": \"rgb(55, 128, 191)\", \"width\": 1.5}, \"type\": \"line\", \"x0\": 10, \"x1\": 10, \"y0\": 113.75, \"y1\": 114.85}, {\"line\": {\"color\": \"rgb(55, 128, 191)\", \"width\": 1.5}, \"type\": \"line\", \"x0\": 11, \"x1\": 11, \"y0\": 111.45, \"y1\": 112.56}, {\"line\": {\"color\": \"rgb(55, 128, 191)\", \"width\": 1.5}, \"type\": \"line\", \"x0\": 12, \"x1\": 12, \"y0\": 112.5, \"y1\": 113.62}, {\"line\": {\"color\": \"rgb(55, 128, 191)\", \"width\": 1.5}, \"type\": \"line\", \"x0\": 13, \"x1\": 13, \"y0\": 111.47, \"y1\": 112.6}, {\"line\": {\"color\": \"rgb(55, 128, 191)\", \"width\": 1.5}, \"type\": \"line\", \"x0\": 14, \"x1\": 14, \"y0\": 109.47, \"y1\": 110.6}, {\"line\": {\"color\": \"rgb(55, 128, 191)\", \"width\": 1.5}, \"type\": \"line\", \"x0\": 15, \"x1\": 15, \"y0\": 108.95, \"y1\": 110.06}, {\"line\": {\"color\": \"rgb(55, 128, 191)\", \"width\": 1.5}, \"type\": \"line\", \"x0\": 16, \"x1\": 16, \"y0\": 110.24, \"y1\": 111.37}, {\"line\": {\"color\": \"rgb(55, 128, 191)\", \"width\": 1.5}, \"type\": \"line\", \"x0\": 17, \"x1\": 17, \"y0\": 111.48, \"y1\": 112.59}, {\"line\": {\"color\": \"rgb(55, 128, 191)\", \"width\": 1.5}, \"type\": \"line\", \"x0\": 18, \"x1\": 18, \"y0\": 113.29, \"y1\": 114.4}, {\"line\": {\"color\": \"rgb(55, 128, 191)\", \"width\": 1.5}, \"type\": \"line\", \"x0\": 19, \"x1\": 19, \"y0\": 114.84, \"y1\": 115.93}, {\"line\": {\"color\": \"rgb(55, 128, 191)\", \"width\": 1.5}, \"type\": \"line\", \"x0\": 20, \"x1\": 20, \"y0\": 113.28, \"y1\": 114.39}, {\"line\": {\"color\": \"rgb(55, 128, 191)\", \"width\": 1.5}, \"type\": \"line\", \"x0\": 21, \"x1\": 21, \"y0\": 112.7, \"y1\": 113.8}, {\"line\": {\"color\": \"rgb(55, 128, 191)\", \"width\": 1.5}, \"type\": \"line\", \"x0\": 22, \"x1\": 22, \"y0\": 112.14, \"y1\": 113.24}, {\"line\": {\"color\": \"rgb(55, 128, 191)\", \"width\": 1.5}, \"type\": \"line\", \"x0\": 23, \"x1\": 23, \"y0\": 116.76, \"y1\": 117.87}, {\"line\": {\"color\": \"rgb(55, 128, 191)\", \"width\": 1.5}, \"type\": \"line\", \"x0\": 24, \"x1\": 24, \"y0\": 109.23, \"y1\": 110.3}, {\"line\": {\"color\": \"rgb(55, 128, 191)\", \"width\": 1.5}, \"type\": \"line\", \"x0\": 25, \"x1\": 25, \"y0\": 109.45, \"y1\": 110.56}, {\"line\": {\"color\": \"rgb(55, 128, 191)\", \"width\": 1.5}, \"type\": \"line\", \"x0\": 26, \"x1\": 26, \"y0\": 111.78, \"y1\": 112.89}, {\"line\": {\"color\": \"rgb(55, 128, 191)\", \"width\": 1.5}, \"type\": \"line\", \"x0\": 27, \"x1\": 27, \"y0\": 111.59, \"y1\": 112.7}, {\"line\": {\"color\": \"rgb(55, 128, 191)\", \"width\": 1.5}, \"type\": \"line\", \"x0\": 28, \"x1\": 28, \"y0\": 112.42, \"y1\": 113.54}, {\"line\": {\"color\": \"rgb(55, 128, 191)\", \"width\": 1.5}, \"type\": \"line\", \"x0\": 29, \"x1\": 29, \"y0\": 109.63, \"y1\": 110.74}, {\"line\": {\"color\": \"rgb(55, 128, 191)\", \"width\": 1.5}, \"type\": \"line\", \"x0\": 30, \"x1\": 30, \"y0\": 109.1, \"y1\": 110.2}, {\"line\": {\"color\": \"rgb(55, 128, 191)\", \"width\": 1.5}, \"type\": \"line\", \"x0\": 31, \"x1\": 31, \"y0\": 111.0, \"y1\": 112.1}, {\"line\": {\"color\": \"rgb(55, 128, 191)\", \"width\": 1.5}, \"type\": \"line\", \"x0\": 32, \"x1\": 32, \"y0\": 111.31, \"y1\": 112.41}, {\"line\": {\"color\": \"rgb(55, 128, 191)\", \"width\": 1.5}, \"type\": \"line\", \"x0\": 33, \"x1\": 33, \"y0\": 113.88, \"y1\": 114.98}, {\"line\": {\"color\": \"rgb(55, 128, 191)\", \"width\": 1.5}, \"type\": \"line\", \"x0\": 34, \"x1\": 34, \"y0\": 112.7, \"y1\": 113.82}, {\"line\": {\"color\": \"rgb(55, 128, 191)\", \"width\": 1.5}, \"type\": \"line\", \"x0\": 35, \"x1\": 35, \"y0\": 110.87, \"y1\": 111.96}, {\"line\": {\"color\": \"rgb(55, 128, 191)\", \"width\": 1.5}, \"type\": \"line\", \"x0\": 36, \"x1\": 36, \"y0\": 107.88, \"y1\": 108.97}, {\"line\": {\"color\": \"rgb(55, 128, 191)\", \"width\": 1.5}, \"type\": \"line\", \"x0\": 37, \"x1\": 37, \"y0\": 106.27, \"y1\": 107.36}, {\"line\": {\"color\": \"rgb(55, 128, 191)\", \"width\": 1.5}, \"type\": \"line\", \"x0\": 38, \"x1\": 38, \"y0\": 106.3, \"y1\": 107.4}, {\"line\": {\"color\": \"rgb(55, 128, 191)\", \"width\": 1.5}, \"type\": \"line\", \"x0\": 39, \"x1\": 39, \"y0\": 107.54, \"y1\": 108.67}, {\"line\": {\"color\": \"rgb(55, 128, 191)\", \"width\": 1.5}, \"type\": \"line\", \"x0\": 40, \"x1\": 40, \"y0\": 106.51, \"y1\": 107.6}, {\"line\": {\"color\": \"rgb(55, 128, 191)\", \"width\": 1.5}, \"type\": \"line\", \"x0\": 41, \"x1\": 41, \"y0\": 108.19, \"y1\": 109.28}, {\"line\": {\"color\": \"rgb(55, 128, 191)\", \"width\": 1.5}, \"type\": \"line\", \"x0\": 42, \"x1\": 42, \"y0\": 109.4, \"y1\": 110.5}, {\"line\": {\"color\": \"rgb(55, 128, 191)\", \"width\": 1.5}, \"type\": \"line\", \"x0\": 43, \"x1\": 43, \"y0\": 109.01, \"y1\": 110.11}, {\"line\": {\"color\": \"rgb(55, 128, 191)\", \"width\": 1.5}, \"type\": \"line\", \"x0\": 44, \"x1\": 44, \"y0\": 108.94, \"y1\": 110.05}, {\"line\": {\"color\": \"rgb(55, 128, 191)\", \"width\": 1.5}, \"type\": \"line\", \"x0\": 45, \"x1\": 45, \"y0\": 111.58, \"y1\": 112.68}, {\"line\": {\"color\": \"rgb(55, 128, 191)\", \"width\": 1.5}, \"type\": \"line\", \"x0\": 46, \"x1\": 46, \"y0\": 106.61, \"y1\": 107.7}, {\"line\": {\"color\": \"rgb(55, 128, 191)\", \"width\": 1.5}, \"type\": \"line\", \"x0\": 47, \"x1\": 47, \"y0\": 109.14, \"y1\": 110.24}, {\"line\": {\"color\": \"rgb(55, 128, 191)\", \"width\": 1.5}, \"type\": \"line\", \"x0\": 48, \"x1\": 48, \"y0\": 107.92, \"y1\": 109.05}, {\"line\": {\"color\": \"rgb(55, 128, 191)\", \"width\": 1.5}, \"type\": \"line\", \"x0\": 49, \"x1\": 49, \"y0\": 109.74, \"y1\": 110.84}, {\"line\": {\"color\": \"rgb(55, 128, 191)\", \"width\": 1.5}, \"type\": \"line\", \"x0\": 50, \"x1\": 50, \"y0\": 107.56, \"y1\": 108.69}], \"showlegend\": false, \"title\": \"Random Walk\", \"xaxis\": {\"anchor\": \"y2\", \"showgrid\": true, \"showticklabels\": true, \"tickangle\": 90, \"tickmode\": \"array\", \"ticktext\": [20190514, 20190516, 20190520, 20190522, 20190524, 20190528, 20190530, 20190603, 20190605, 20190607, 20190611, 20190613, 20190617, 20190619, 20190621, 20190625, 20190627, 20190701, 20190703, 20190705, 20190709, 20190711, 20190715, 20190717, 20190719, 20190722], \"tickvals\": [1, 3, 5, 7, 9, 11, 13, 15, 17, 19, 21, 23, 25, 27, 29, 31, 33, 35, 37, 39, 41, 43, 45, 47, 49, 50]}, \"yaxis\": {\"domain\": [0.22, 1], \"range\": [103.87, 117.87]}, \"yaxis2\": {\"domain\": [0, 0.2], \"range\": [0, 1412272.0]}}, {\"showLink\": true, \"linkText\": \"Export to plot.ly\"})});</script>"
      ],
      "text/vnd.plotly.v1+html": [
       "<div id=\"e804fc16-d46f-4f6f-acac-f419f60122ee\" style=\"height: 525px; width: 100%;\" class=\"plotly-graph-div\"></div><script type=\"text/javascript\">require([\"plotly\"], function(Plotly) { window.PLOTLYENV=window.PLOTLYENV || {};window.PLOTLYENV.BASE_URL=\"https://plot.ly\";Plotly.newPlot(\"e804fc16-d46f-4f6f-acac-f419f60122ee\", [{\"hoverinfo\": \"text\", \"mode\": \"markers\", \"text\": [\"date: 20190514.0<br>open: 109.21<br>high: 111.56<br>low: 108.09<br>close: 110.46<br>volume: 1412272.0\", \"date: 20190515.0<br>open: 109.09<br>high: 112.41<br>low: 107.98<br>close: 111.3<br>volume: 1396075.0\", \"date: 20190516.0<br>open: 110.51<br>high: 113.64<br>low: 109.4<br>close: 112.54<br>volume: 1386180.0\", \"date: 20190517.0<br>open: 113.54<br>high: 114.62<br>low: 111.22<br>close: 112.33<br>volume: 1369202.0\", \"date: 20190520.0<br>open: 112.83<br>high: 113.93<br>low: 110.73<br>close: 111.83<br>volume: 1327937.0\", \"date: 20190521.0<br>open: 108.08<br>high: 112.99<br>low: 106.95<br>close: 111.9<br>volume: 1307760.0\", \"date: 20190522.0<br>open: 112.37<br>high: 114.68<br>low: 111.28<br>close: 113.56<br>volume: 1260429.0\", \"date: 20190523.0<br>open: 111.79<br>high: 112.9<br>low: 110.47<br>close: 111.58<br>volume: 1295276.0\", \"date: 20190524.0<br>open: 112.46<br>high: 113.58<br>low: 110.35<br>close: 111.47<br>volume: 1291582.0\", \"date: 20190527.0<br>open: 113.75<br>high: 114.85<br>low: 109.3<br>close: 110.42<br>volume: 1267547.0\", \"date: 20190528.0<br>open: 109.08<br>high: 112.56<br>low: 107.99<br>close: 111.45<br>volume: 1238594.0\", \"date: 20190529.0<br>open: 108.94<br>high: 113.62<br>low: 107.82<br>close: 112.5<br>volume: 1195036.0\", \"date: 20190530.0<br>open: 110.6<br>high: 112.6<br>low: 109.5<br>close: 111.47<br>volume: 1200445.0\", \"date: 20190531.0<br>open: 107.79<br>high: 110.6<br>low: 106.68<br>close: 109.47<br>volume: 1203099.0\", \"date: 20190603.0<br>open: 108.95<br>high: 110.06<br>low: 107.7<br>close: 108.83<br>volume: 1204910.0\", \"date: 20190604.0<br>open: 110.24<br>high: 111.37<br>low: 108.15<br>close: 109.26<br>volume: 1173806.0\", \"date: 20190605.0<br>open: 111.48<br>high: 112.59<br>low: 109.49<br>close: 110.62<br>volume: 1140345.0\", \"date: 20190606.0<br>open: 113.29<br>high: 114.4<br>low: 109.67<br>close: 110.76<br>volume: 1167744.0\", \"date: 20190607.0<br>open: 114.84<br>high: 115.93<br>low: 111.16<br>close: 112.25<br>volume: 1150781.0\", \"date: 20190610.0<br>open: 113.28<br>high: 114.39<br>low: 110.63<br>close: 111.76<br>volume: 1195662.0\", \"date: 20190611.0<br>open: 112.7<br>high: 113.8<br>low: 110.15<br>close: 111.26<br>volume: 1220819.0\", \"date: 20190612.0<br>open: 112.14<br>high: 113.24<br>low: 109.27<br>close: 110.37<br>volume: 1239004.0\", \"date: 20190613.0<br>open: 116.76<br>high: 117.87<br>low: 109.63<br>close: 110.72<br>volume: 1211392.0\", \"date: 20190614.0<br>open: 109.23<br>high: 110.3<br>low: 108.1<br>close: 109.23<br>volume: 1172675.0\", \"date: 20190617.0<br>open: 109.09<br>high: 110.56<br>low: 107.97<br>close: 109.45<br>volume: 1206630.0\", \"date: 20190618.0<br>open: 111.78<br>high: 112.89<br>low: 110.42<br>close: 111.51<br>volume: 1222724.0\", \"date: 20190619.0<br>open: 111.59<br>high: 112.7<br>low: 108.82<br>close: 109.92<br>volume: 1212840.0\", \"date: 20190620.0<br>open: 112.42<br>high: 113.54<br>low: 108.87<br>close: 110.0<br>volume: 1261872.0\", \"date: 20190621.0<br>open: 109.63<br>high: 110.74<br>low: 107.5<br>close: 108.61<br>volume: 1228190.0\", \"date: 20190624.0<br>open: 108.0<br>high: 110.2<br>low: 106.89<br>close: 109.1<br>volume: 1200058.0\", \"date: 20190625.0<br>open: 109.26<br>high: 112.1<br>low: 108.16<br>close: 111.0<br>volume: 1143059.0\", \"date: 20190626.0<br>open: 111.31<br>high: 112.41<br>low: 109.64<br>close: 110.74<br>volume: 1194944.0\", \"date: 20190627.0<br>open: 113.88<br>high: 114.98<br>low: 110.78<br>close: 111.88<br>volume: 1220863.0\", \"date: 20190628.0<br>open: 112.7<br>high: 113.82<br>low: 109.49<br>close: 110.6<br>volume: 1285284.0\", \"date: 20190701.0<br>open: 110.87<br>high: 111.96<br>low: 108.36<br>close: 109.5<br>volume: 1193349.0\", \"date: 20190702.0<br>open: 106.64<br>high: 108.97<br>low: 105.55<br>close: 107.88<br>volume: 1229046.0\", \"date: 20190703.0<br>open: 105.57<br>high: 107.36<br>low: 104.48<br>close: 106.27<br>volume: 1266775.0\", \"date: 20190704.0<br>open: 106.2<br>high: 107.4<br>low: 105.1<br>close: 106.3<br>volume: 1281493.0\", \"date: 20190705.0<br>open: 107.54<br>high: 108.67<br>low: 106.09<br>close: 107.23<br>volume: 1287722.0\", \"date: 20190708.0<br>open: 104.98<br>high: 107.6<br>low: 103.87<br>close: 106.51<br>volume: 1292652.0\", \"date: 20190709.0<br>open: 106.7<br>high: 109.28<br>low: 105.59<br>close: 108.19<br>volume: 1320691.0\", \"date: 20190710.0<br>open: 107.57<br>high: 110.5<br>low: 106.45<br>close: 109.4<br>volume: 1316110.0\", \"date: 20190711.0<br>open: 106.96<br>high: 110.11<br>low: 105.86<br>close: 109.01<br>volume: 1286632.0\", \"date: 20190712.0<br>open: 108.94<br>high: 110.05<br>low: 107.32<br>close: 108.42<br>volume: 1251882.0\", \"date: 20190715.0<br>open: 111.58<br>high: 112.68<br>low: 107.3<br>close: 108.41<br>volume: 1296167.0\", \"date: 20190716.0<br>open: 105.78<br>high: 107.7<br>low: 104.69<br>close: 106.61<br>volume: 1306426.0\", \"date: 20190717.0<br>open: 109.14<br>high: 110.24<br>low: 106.16<br>close: 107.26<br>volume: 1308012.0\", \"date: 20190718.0<br>open: 107.49<br>high: 109.05<br>low: 106.37<br>close: 107.92<br>volume: 1300657.0\", \"date: 20190719.0<br>open: 109.74<br>high: 110.84<br>low: 106.53<br>close: 107.63<br>volume: 1263383.0\", \"date: 20190722.0<br>open: 107.56<br>high: 108.69<br>low: 105.63<br>close: 106.75<br>volume: 1233222.0\"], \"x\": [1, 2, 3, 4, 5, 6, 7, 8, 9, 10, 11, 12, 13, 14, 15, 16, 17, 18, 19, 20, 21, 22, 23, 24, 25, 26, 27, 28, 29, 30, 31, 32, 33, 34, 35, 36, 37, 38, 39, 40, 41, 42, 43, 44, 45, 46, 47, 48, 49, 50], \"xaxis\": \"x\", \"y\": [110.46, 111.3, 112.54, 112.33, 111.83, 111.9, 113.56, 111.58, 111.47, 110.42, 111.45, 112.5, 111.47, 109.47, 108.83, 109.26, 110.62, 110.76, 112.25, 111.76, 111.26, 110.37, 110.72, 109.23, 109.45, 111.51, 109.92, 110.0, 108.61, 109.1, 111.0, 110.74, 111.88, 110.6, 109.5, 107.88, 106.27, 106.3, 107.23, 106.51, 108.19, 109.4, 109.01, 108.42, 108.41, 106.61, 107.26, 107.92, 107.63, 106.75], \"yaxis\": \"y\", \"type\": \"scatter\", \"uid\": \"2a6b647a-acf3-11e9-b4f8-8c859025e7f9\"}, {\"width\": 0.5, \"x\": [1, 2, 3, 4, 5, 6, 7, 8, 9, 10, 11, 12, 13, 14, 15, 16, 17, 18, 19, 20, 21, 22, 23, 24, 25, 26, 27, 28, 29, 30, 31, 32, 33, 34, 35, 36, 37, 38, 39, 40, 41, 42, 43, 44, 45, 46, 47, 48, 49, 50], \"xaxis\": \"x\", \"y\": [1412272.0, 1396075.0, 1386180.0, 1369202.0, 1327937.0, 1307760.0, 1260429.0, 1295276.0, 1291582.0, 1267547.0, 1238594.0, 1195036.0, 1200445.0, 1203099.0, 1204910.0, 1173806.0, 1140345.0, 1167744.0, 1150781.0, 1195662.0, 1220819.0, 1239004.0, 1211392.0, 1172675.0, 1206630.0, 1222724.0, 1212840.0, 1261872.0, 1228190.0, 1200058.0, 1143059.0, 1194944.0, 1220863.0, 1285284.0, 1193349.0, 1229046.0, 1266775.0, 1281493.0, 1287722.0, 1292652.0, 1320691.0, 1316110.0, 1286632.0, 1251882.0, 1296167.0, 1306426.0, 1308012.0, 1300657.0, 1263383.0, 1233222.0], \"yaxis\": \"y2\", \"type\": \"bar\", \"uid\": \"2a6b65ec-acf3-11e9-ae04-8c859025e7f9\"}], {\"margin\": {\"t\": 100}, \"shapes\": [{\"line\": {\"color\": \"rgb(55, 128, 191)\", \"width\": 1.5}, \"type\": \"line\", \"x0\": 1, \"x1\": 1, \"y0\": 108.09, \"y1\": 109.21}, {\"line\": {\"color\": \"rgb(55, 128, 191)\", \"width\": 1.5}, \"type\": \"line\", \"x0\": 2, \"x1\": 2, \"y0\": 107.98, \"y1\": 109.09}, {\"line\": {\"color\": \"rgb(55, 128, 191)\", \"width\": 1.5}, \"type\": \"line\", \"x0\": 3, \"x1\": 3, \"y0\": 109.4, \"y1\": 110.51}, {\"line\": {\"color\": \"rgb(55, 128, 191)\", \"width\": 1.5}, \"type\": \"line\", \"x0\": 4, \"x1\": 4, \"y0\": 111.22, \"y1\": 112.33}, {\"line\": {\"color\": \"rgb(55, 128, 191)\", \"width\": 1.5}, \"type\": \"line\", \"x0\": 5, \"x1\": 5, \"y0\": 110.73, \"y1\": 111.83}, {\"line\": {\"color\": \"rgb(55, 128, 191)\", \"width\": 1.5}, \"type\": \"line\", \"x0\": 6, \"x1\": 6, \"y0\": 106.95, \"y1\": 108.08}, {\"line\": {\"color\": \"rgb(55, 128, 191)\", \"width\": 1.5}, \"type\": \"line\", \"x0\": 7, \"x1\": 7, \"y0\": 111.28, \"y1\": 112.37}, {\"line\": {\"color\": \"rgb(55, 128, 191)\", \"width\": 1.5}, \"type\": \"line\", \"x0\": 8, \"x1\": 8, \"y0\": 110.47, \"y1\": 111.58}, {\"line\": {\"color\": \"rgb(55, 128, 191)\", \"width\": 1.5}, \"type\": \"line\", \"x0\": 9, \"x1\": 9, \"y0\": 110.35, \"y1\": 111.47}, {\"line\": {\"color\": \"rgb(55, 128, 191)\", \"width\": 1.5}, \"type\": \"line\", \"x0\": 10, \"x1\": 10, \"y0\": 109.3, \"y1\": 110.42}, {\"line\": {\"color\": \"rgb(55, 128, 191)\", \"width\": 1.5}, \"type\": \"line\", \"x0\": 11, \"x1\": 11, \"y0\": 107.99, \"y1\": 109.08}, {\"line\": {\"color\": \"rgb(55, 128, 191)\", \"width\": 1.5}, \"type\": \"line\", \"x0\": 12, \"x1\": 12, \"y0\": 107.82, \"y1\": 108.94}, {\"line\": {\"color\": \"rgb(55, 128, 191)\", \"width\": 1.5}, \"type\": \"line\", \"x0\": 13, \"x1\": 13, \"y0\": 109.5, \"y1\": 110.6}, {\"line\": {\"color\": \"rgb(55, 128, 191)\", \"width\": 1.5}, \"type\": \"line\", \"x0\": 14, \"x1\": 14, \"y0\": 106.68, \"y1\": 107.79}, {\"line\": {\"color\": \"rgb(55, 128, 191)\", \"width\": 1.5}, \"type\": \"line\", \"x0\": 15, \"x1\": 15, \"y0\": 107.7, \"y1\": 108.83}, {\"line\": {\"color\": \"rgb(55, 128, 191)\", \"width\": 1.5}, \"type\": \"line\", \"x0\": 16, \"x1\": 16, \"y0\": 108.15, \"y1\": 109.26}, {\"line\": {\"color\": \"rgb(55, 128, 191)\", \"width\": 1.5}, \"type\": \"line\", \"x0\": 17, \"x1\": 17, \"y0\": 109.49, \"y1\": 110.62}, {\"line\": {\"color\": \"rgb(55, 128, 191)\", \"width\": 1.5}, \"type\": \"line\", \"x0\": 18, \"x1\": 18, \"y0\": 109.67, \"y1\": 110.76}, {\"line\": {\"color\": \"rgb(55, 128, 191)\", \"width\": 1.5}, \"type\": \"line\", \"x0\": 19, \"x1\": 19, \"y0\": 111.16, \"y1\": 112.25}, {\"line\": {\"color\": \"rgb(55, 128, 191)\", \"width\": 1.5}, \"type\": \"line\", \"x0\": 20, \"x1\": 20, \"y0\": 110.63, \"y1\": 111.76}, {\"line\": {\"color\": \"rgb(55, 128, 191)\", \"width\": 1.5}, \"type\": \"line\", \"x0\": 21, \"x1\": 21, \"y0\": 110.15, \"y1\": 111.26}, {\"line\": {\"color\": \"rgb(55, 128, 191)\", \"width\": 1.5}, \"type\": \"line\", \"x0\": 22, \"x1\": 22, \"y0\": 109.27, \"y1\": 110.37}, {\"line\": {\"color\": \"rgb(55, 128, 191)\", \"width\": 1.5}, \"type\": \"line\", \"x0\": 23, \"x1\": 23, \"y0\": 109.63, \"y1\": 110.72}, {\"line\": {\"color\": \"rgb(55, 128, 191)\", \"width\": 1.5}, \"type\": \"line\", \"x0\": 24, \"x1\": 24, \"y0\": 108.1, \"y1\": 109.23}, {\"line\": {\"color\": \"rgb(55, 128, 191)\", \"width\": 1.5}, \"type\": \"line\", \"x0\": 25, \"x1\": 25, \"y0\": 107.97, \"y1\": 109.09}, {\"line\": {\"color\": \"rgb(55, 128, 191)\", \"width\": 1.5}, \"type\": \"line\", \"x0\": 26, \"x1\": 26, \"y0\": 110.42, \"y1\": 111.51}, {\"line\": {\"color\": \"rgb(55, 128, 191)\", \"width\": 1.5}, \"type\": \"line\", \"x0\": 27, \"x1\": 27, \"y0\": 108.82, \"y1\": 109.92}, {\"line\": {\"color\": \"rgb(55, 128, 191)\", \"width\": 1.5}, \"type\": \"line\", \"x0\": 28, \"x1\": 28, \"y0\": 108.87, \"y1\": 110.0}, {\"line\": {\"color\": \"rgb(55, 128, 191)\", \"width\": 1.5}, \"type\": \"line\", \"x0\": 29, \"x1\": 29, \"y0\": 107.5, \"y1\": 108.61}, {\"line\": {\"color\": \"rgb(55, 128, 191)\", \"width\": 1.5}, \"type\": \"line\", \"x0\": 30, \"x1\": 30, \"y0\": 106.89, \"y1\": 108.0}, {\"line\": {\"color\": \"rgb(55, 128, 191)\", \"width\": 1.5}, \"type\": \"line\", \"x0\": 31, \"x1\": 31, \"y0\": 108.16, \"y1\": 109.26}, {\"line\": {\"color\": \"rgb(55, 128, 191)\", \"width\": 1.5}, \"type\": \"line\", \"x0\": 32, \"x1\": 32, \"y0\": 109.64, \"y1\": 110.74}, {\"line\": {\"color\": \"rgb(55, 128, 191)\", \"width\": 1.5}, \"type\": \"line\", \"x0\": 33, \"x1\": 33, \"y0\": 110.78, \"y1\": 111.88}, {\"line\": {\"color\": \"rgb(55, 128, 191)\", \"width\": 1.5}, \"type\": \"line\", \"x0\": 34, \"x1\": 34, \"y0\": 109.49, \"y1\": 110.6}, {\"line\": {\"color\": \"rgb(55, 128, 191)\", \"width\": 1.5}, \"type\": \"line\", \"x0\": 35, \"x1\": 35, \"y0\": 108.36, \"y1\": 109.5}, {\"line\": {\"color\": \"rgb(55, 128, 191)\", \"width\": 1.5}, \"type\": \"line\", \"x0\": 36, \"x1\": 36, \"y0\": 105.55, \"y1\": 106.64}, {\"line\": {\"color\": \"rgb(55, 128, 191)\", \"width\": 1.5}, \"type\": \"line\", \"x0\": 37, \"x1\": 37, \"y0\": 104.48, \"y1\": 105.57}, {\"line\": {\"color\": \"rgb(55, 128, 191)\", \"width\": 1.5}, \"type\": \"line\", \"x0\": 38, \"x1\": 38, \"y0\": 105.1, \"y1\": 106.2}, {\"line\": {\"color\": \"rgb(55, 128, 191)\", \"width\": 1.5}, \"type\": \"line\", \"x0\": 39, \"x1\": 39, \"y0\": 106.09, \"y1\": 107.23}, {\"line\": {\"color\": \"rgb(55, 128, 191)\", \"width\": 1.5}, \"type\": \"line\", \"x0\": 40, \"x1\": 40, \"y0\": 103.87, \"y1\": 104.98}, {\"line\": {\"color\": \"rgb(55, 128, 191)\", \"width\": 1.5}, \"type\": \"line\", \"x0\": 41, \"x1\": 41, \"y0\": 105.59, \"y1\": 106.7}, {\"line\": {\"color\": \"rgb(55, 128, 191)\", \"width\": 1.5}, \"type\": \"line\", \"x0\": 42, \"x1\": 42, \"y0\": 106.45, \"y1\": 107.57}, {\"line\": {\"color\": \"rgb(55, 128, 191)\", \"width\": 1.5}, \"type\": \"line\", \"x0\": 43, \"x1\": 43, \"y0\": 105.86, \"y1\": 106.96}, {\"line\": {\"color\": \"rgb(55, 128, 191)\", \"width\": 1.5}, \"type\": \"line\", \"x0\": 44, \"x1\": 44, \"y0\": 107.32, \"y1\": 108.42}, {\"line\": {\"color\": \"rgb(55, 128, 191)\", \"width\": 1.5}, \"type\": \"line\", \"x0\": 45, \"x1\": 45, \"y0\": 107.3, \"y1\": 108.41}, {\"line\": {\"color\": \"rgb(55, 128, 191)\", \"width\": 1.5}, \"type\": \"line\", \"x0\": 46, \"x1\": 46, \"y0\": 104.69, \"y1\": 105.78}, {\"line\": {\"color\": \"rgb(55, 128, 191)\", \"width\": 1.5}, \"type\": \"line\", \"x0\": 47, \"x1\": 47, \"y0\": 106.16, \"y1\": 107.26}, {\"line\": {\"color\": \"rgb(55, 128, 191)\", \"width\": 1.5}, \"type\": \"line\", \"x0\": 48, \"x1\": 48, \"y0\": 106.37, \"y1\": 107.49}, {\"line\": {\"color\": \"rgb(55, 128, 191)\", \"width\": 1.5}, \"type\": \"line\", \"x0\": 49, \"x1\": 49, \"y0\": 106.53, \"y1\": 107.63}, {\"line\": {\"color\": \"rgb(55, 128, 191)\", \"width\": 1.5}, \"type\": \"line\", \"x0\": 50, \"x1\": 50, \"y0\": 105.63, \"y1\": 106.75}, {\"fillcolor\": \"rgba(0, 204, 0, 0.6)\", \"line\": {\"color\": \"rgb(55, 128, 191)\", \"width\": 1}, \"type\": \"rect\", \"x0\": 0.75, \"x1\": 1.25, \"xref\": \"x\", \"y0\": 109.21, \"y1\": 110.46, \"yref\": \"y\"}, {\"fillcolor\": \"rgba(0, 204, 0, 0.6)\", \"line\": {\"color\": \"rgb(55, 128, 191)\", \"width\": 1}, \"type\": \"rect\", \"x0\": 1.75, \"x1\": 2.25, \"xref\": \"x\", \"y0\": 109.09, \"y1\": 111.3, \"yref\": \"y\"}, {\"fillcolor\": \"rgba(0, 204, 0, 0.6)\", \"line\": {\"color\": \"rgb(55, 128, 191)\", \"width\": 1}, \"type\": \"rect\", \"x0\": 2.75, \"x1\": 3.25, \"xref\": \"x\", \"y0\": 110.51, \"y1\": 112.54, \"yref\": \"y\"}, {\"fillcolor\": \"rgba(255, 0, 0, 0.6)\", \"line\": {\"color\": \"rgb(55, 128, 191)\", \"width\": 1}, \"type\": \"rect\", \"x0\": 3.75, \"x1\": 4.25, \"xref\": \"x\", \"y0\": 112.33, \"y1\": 113.54, \"yref\": \"y\"}, {\"fillcolor\": \"rgba(255, 0, 0, 0.6)\", \"line\": {\"color\": \"rgb(55, 128, 191)\", \"width\": 1}, \"type\": \"rect\", \"x0\": 4.75, \"x1\": 5.25, \"xref\": \"x\", \"y0\": 111.83, \"y1\": 112.83, \"yref\": \"y\"}, {\"fillcolor\": \"rgba(0, 204, 0, 0.6)\", \"line\": {\"color\": \"rgb(55, 128, 191)\", \"width\": 1}, \"type\": \"rect\", \"x0\": 5.75, \"x1\": 6.25, \"xref\": \"x\", \"y0\": 108.08, \"y1\": 111.9, \"yref\": \"y\"}, {\"fillcolor\": \"rgba(0, 204, 0, 0.6)\", \"line\": {\"color\": \"rgb(55, 128, 191)\", \"width\": 1}, \"type\": \"rect\", \"x0\": 6.75, \"x1\": 7.25, \"xref\": \"x\", \"y0\": 112.37, \"y1\": 113.56, \"yref\": \"y\"}, {\"fillcolor\": \"rgba(255, 0, 0, 0.6)\", \"line\": {\"color\": \"rgb(55, 128, 191)\", \"width\": 1}, \"type\": \"rect\", \"x0\": 7.75, \"x1\": 8.25, \"xref\": \"x\", \"y0\": 111.58, \"y1\": 111.79, \"yref\": \"y\"}, {\"fillcolor\": \"rgba(255, 0, 0, 0.6)\", \"line\": {\"color\": \"rgb(55, 128, 191)\", \"width\": 1}, \"type\": \"rect\", \"x0\": 8.75, \"x1\": 9.25, \"xref\": \"x\", \"y0\": 111.47, \"y1\": 112.46, \"yref\": \"y\"}, {\"fillcolor\": \"rgba(255, 0, 0, 0.6)\", \"line\": {\"color\": \"rgb(55, 128, 191)\", \"width\": 1}, \"type\": \"rect\", \"x0\": 9.75, \"x1\": 10.25, \"xref\": \"x\", \"y0\": 110.42, \"y1\": 113.75, \"yref\": \"y\"}, {\"fillcolor\": \"rgba(0, 204, 0, 0.6)\", \"line\": {\"color\": \"rgb(55, 128, 191)\", \"width\": 1}, \"type\": \"rect\", \"x0\": 10.75, \"x1\": 11.25, \"xref\": \"x\", \"y0\": 109.08, \"y1\": 111.45, \"yref\": \"y\"}, {\"fillcolor\": \"rgba(0, 204, 0, 0.6)\", \"line\": {\"color\": \"rgb(55, 128, 191)\", \"width\": 1}, \"type\": \"rect\", \"x0\": 11.75, \"x1\": 12.25, \"xref\": \"x\", \"y0\": 108.94, \"y1\": 112.5, \"yref\": \"y\"}, {\"fillcolor\": \"rgba(0, 204, 0, 0.6)\", \"line\": {\"color\": \"rgb(55, 128, 191)\", \"width\": 1}, \"type\": \"rect\", \"x0\": 12.75, \"x1\": 13.25, \"xref\": \"x\", \"y0\": 110.6, \"y1\": 111.47, \"yref\": \"y\"}, {\"fillcolor\": \"rgba(0, 204, 0, 0.6)\", \"line\": {\"color\": \"rgb(55, 128, 191)\", \"width\": 1}, \"type\": \"rect\", \"x0\": 13.75, \"x1\": 14.25, \"xref\": \"x\", \"y0\": 107.79, \"y1\": 109.47, \"yref\": \"y\"}, {\"fillcolor\": \"rgba(255, 0, 0, 0.6)\", \"line\": {\"color\": \"rgb(55, 128, 191)\", \"width\": 1}, \"type\": \"rect\", \"x0\": 14.75, \"x1\": 15.25, \"xref\": \"x\", \"y0\": 108.83, \"y1\": 108.95, \"yref\": \"y\"}, {\"fillcolor\": \"rgba(255, 0, 0, 0.6)\", \"line\": {\"color\": \"rgb(55, 128, 191)\", \"width\": 1}, \"type\": \"rect\", \"x0\": 15.75, \"x1\": 16.25, \"xref\": \"x\", \"y0\": 109.26, \"y1\": 110.24, \"yref\": \"y\"}, {\"fillcolor\": \"rgba(255, 0, 0, 0.6)\", \"line\": {\"color\": \"rgb(55, 128, 191)\", \"width\": 1}, \"type\": \"rect\", \"x0\": 16.75, \"x1\": 17.25, \"xref\": \"x\", \"y0\": 110.62, \"y1\": 111.48, \"yref\": \"y\"}, {\"fillcolor\": \"rgba(255, 0, 0, 0.6)\", \"line\": {\"color\": \"rgb(55, 128, 191)\", \"width\": 1}, \"type\": \"rect\", \"x0\": 17.75, \"x1\": 18.25, \"xref\": \"x\", \"y0\": 110.76, \"y1\": 113.29, \"yref\": \"y\"}, {\"fillcolor\": \"rgba(255, 0, 0, 0.6)\", \"line\": {\"color\": \"rgb(55, 128, 191)\", \"width\": 1}, \"type\": \"rect\", \"x0\": 18.75, \"x1\": 19.25, \"xref\": \"x\", \"y0\": 112.25, \"y1\": 114.84, \"yref\": \"y\"}, {\"fillcolor\": \"rgba(255, 0, 0, 0.6)\", \"line\": {\"color\": \"rgb(55, 128, 191)\", \"width\": 1}, \"type\": \"rect\", \"x0\": 19.75, \"x1\": 20.25, \"xref\": \"x\", \"y0\": 111.76, \"y1\": 113.28, \"yref\": \"y\"}, {\"fillcolor\": \"rgba(255, 0, 0, 0.6)\", \"line\": {\"color\": \"rgb(55, 128, 191)\", \"width\": 1}, \"type\": \"rect\", \"x0\": 20.75, \"x1\": 21.25, \"xref\": \"x\", \"y0\": 111.26, \"y1\": 112.7, \"yref\": \"y\"}, {\"fillcolor\": \"rgba(255, 0, 0, 0.6)\", \"line\": {\"color\": \"rgb(55, 128, 191)\", \"width\": 1}, \"type\": \"rect\", \"x0\": 21.75, \"x1\": 22.25, \"xref\": \"x\", \"y0\": 110.37, \"y1\": 112.14, \"yref\": \"y\"}, {\"fillcolor\": \"rgba(255, 0, 0, 0.6)\", \"line\": {\"color\": \"rgb(55, 128, 191)\", \"width\": 1}, \"type\": \"rect\", \"x0\": 22.75, \"x1\": 23.25, \"xref\": \"x\", \"y0\": 110.72, \"y1\": 116.76, \"yref\": \"y\"}, {\"fillcolor\": \"rgba(255, 0, 0, 0.6)\", \"line\": {\"color\": \"rgb(55, 128, 191)\", \"width\": 1}, \"type\": \"rect\", \"x0\": 23.75, \"x1\": 24.25, \"xref\": \"x\", \"y0\": 109.23, \"y1\": 109.23, \"yref\": \"y\"}, {\"fillcolor\": \"rgba(0, 204, 0, 0.6)\", \"line\": {\"color\": \"rgb(55, 128, 191)\", \"width\": 1}, \"type\": \"rect\", \"x0\": 24.75, \"x1\": 25.25, \"xref\": \"x\", \"y0\": 109.09, \"y1\": 109.45, \"yref\": \"y\"}, {\"fillcolor\": \"rgba(255, 0, 0, 0.6)\", \"line\": {\"color\": \"rgb(55, 128, 191)\", \"width\": 1}, \"type\": \"rect\", \"x0\": 25.75, \"x1\": 26.25, \"xref\": \"x\", \"y0\": 111.51, \"y1\": 111.78, \"yref\": \"y\"}, {\"fillcolor\": \"rgba(255, 0, 0, 0.6)\", \"line\": {\"color\": \"rgb(55, 128, 191)\", \"width\": 1}, \"type\": \"rect\", \"x0\": 26.75, \"x1\": 27.25, \"xref\": \"x\", \"y0\": 109.92, \"y1\": 111.59, \"yref\": \"y\"}, {\"fillcolor\": \"rgba(255, 0, 0, 0.6)\", \"line\": {\"color\": \"rgb(55, 128, 191)\", \"width\": 1}, \"type\": \"rect\", \"x0\": 27.75, \"x1\": 28.25, \"xref\": \"x\", \"y0\": 110.0, \"y1\": 112.42, \"yref\": \"y\"}, {\"fillcolor\": \"rgba(255, 0, 0, 0.6)\", \"line\": {\"color\": \"rgb(55, 128, 191)\", \"width\": 1}, \"type\": \"rect\", \"x0\": 28.75, \"x1\": 29.25, \"xref\": \"x\", \"y0\": 108.61, \"y1\": 109.63, \"yref\": \"y\"}, {\"fillcolor\": \"rgba(0, 204, 0, 0.6)\", \"line\": {\"color\": \"rgb(55, 128, 191)\", \"width\": 1}, \"type\": \"rect\", \"x0\": 29.75, \"x1\": 30.25, \"xref\": \"x\", \"y0\": 108.0, \"y1\": 109.1, \"yref\": \"y\"}, {\"fillcolor\": \"rgba(0, 204, 0, 0.6)\", \"line\": {\"color\": \"rgb(55, 128, 191)\", \"width\": 1}, \"type\": \"rect\", \"x0\": 30.75, \"x1\": 31.25, \"xref\": \"x\", \"y0\": 109.26, \"y1\": 111.0, \"yref\": \"y\"}, {\"fillcolor\": \"rgba(255, 0, 0, 0.6)\", \"line\": {\"color\": \"rgb(55, 128, 191)\", \"width\": 1}, \"type\": \"rect\", \"x0\": 31.75, \"x1\": 32.25, \"xref\": \"x\", \"y0\": 110.74, \"y1\": 111.31, \"yref\": \"y\"}, {\"fillcolor\": \"rgba(255, 0, 0, 0.6)\", \"line\": {\"color\": \"rgb(55, 128, 191)\", \"width\": 1}, \"type\": \"rect\", \"x0\": 32.75, \"x1\": 33.25, \"xref\": \"x\", \"y0\": 111.88, \"y1\": 113.88, \"yref\": \"y\"}, {\"fillcolor\": \"rgba(255, 0, 0, 0.6)\", \"line\": {\"color\": \"rgb(55, 128, 191)\", \"width\": 1}, \"type\": \"rect\", \"x0\": 33.75, \"x1\": 34.25, \"xref\": \"x\", \"y0\": 110.6, \"y1\": 112.7, \"yref\": \"y\"}, {\"fillcolor\": \"rgba(255, 0, 0, 0.6)\", \"line\": {\"color\": \"rgb(55, 128, 191)\", \"width\": 1}, \"type\": \"rect\", \"x0\": 34.75, \"x1\": 35.25, \"xref\": \"x\", \"y0\": 109.5, \"y1\": 110.87, \"yref\": \"y\"}, {\"fillcolor\": \"rgba(0, 204, 0, 0.6)\", \"line\": {\"color\": \"rgb(55, 128, 191)\", \"width\": 1}, \"type\": \"rect\", \"x0\": 35.75, \"x1\": 36.25, \"xref\": \"x\", \"y0\": 106.64, \"y1\": 107.88, \"yref\": \"y\"}, {\"fillcolor\": \"rgba(0, 204, 0, 0.6)\", \"line\": {\"color\": \"rgb(55, 128, 191)\", \"width\": 1}, \"type\": \"rect\", \"x0\": 36.75, \"x1\": 37.25, \"xref\": \"x\", \"y0\": 105.57, \"y1\": 106.27, \"yref\": \"y\"}, {\"fillcolor\": \"rgba(0, 204, 0, 0.6)\", \"line\": {\"color\": \"rgb(55, 128, 191)\", \"width\": 1}, \"type\": \"rect\", \"x0\": 37.75, \"x1\": 38.25, \"xref\": \"x\", \"y0\": 106.2, \"y1\": 106.3, \"yref\": \"y\"}, {\"fillcolor\": \"rgba(255, 0, 0, 0.6)\", \"line\": {\"color\": \"rgb(55, 128, 191)\", \"width\": 1}, \"type\": \"rect\", \"x0\": 38.75, \"x1\": 39.25, \"xref\": \"x\", \"y0\": 107.23, \"y1\": 107.54, \"yref\": \"y\"}, {\"fillcolor\": \"rgba(0, 204, 0, 0.6)\", \"line\": {\"color\": \"rgb(55, 128, 191)\", \"width\": 1}, \"type\": \"rect\", \"x0\": 39.75, \"x1\": 40.25, \"xref\": \"x\", \"y0\": 104.98, \"y1\": 106.51, \"yref\": \"y\"}, {\"fillcolor\": \"rgba(0, 204, 0, 0.6)\", \"line\": {\"color\": \"rgb(55, 128, 191)\", \"width\": 1}, \"type\": \"rect\", \"x0\": 40.75, \"x1\": 41.25, \"xref\": \"x\", \"y0\": 106.7, \"y1\": 108.19, \"yref\": \"y\"}, {\"fillcolor\": \"rgba(0, 204, 0, 0.6)\", \"line\": {\"color\": \"rgb(55, 128, 191)\", \"width\": 1}, \"type\": \"rect\", \"x0\": 41.75, \"x1\": 42.25, \"xref\": \"x\", \"y0\": 107.57, \"y1\": 109.4, \"yref\": \"y\"}, {\"fillcolor\": \"rgba(0, 204, 0, 0.6)\", \"line\": {\"color\": \"rgb(55, 128, 191)\", \"width\": 1}, \"type\": \"rect\", \"x0\": 42.75, \"x1\": 43.25, \"xref\": \"x\", \"y0\": 106.96, \"y1\": 109.01, \"yref\": \"y\"}, {\"fillcolor\": \"rgba(255, 0, 0, 0.6)\", \"line\": {\"color\": \"rgb(55, 128, 191)\", \"width\": 1}, \"type\": \"rect\", \"x0\": 43.75, \"x1\": 44.25, \"xref\": \"x\", \"y0\": 108.42, \"y1\": 108.94, \"yref\": \"y\"}, {\"fillcolor\": \"rgba(255, 0, 0, 0.6)\", \"line\": {\"color\": \"rgb(55, 128, 191)\", \"width\": 1}, \"type\": \"rect\", \"x0\": 44.75, \"x1\": 45.25, \"xref\": \"x\", \"y0\": 108.41, \"y1\": 111.58, \"yref\": \"y\"}, {\"fillcolor\": \"rgba(0, 204, 0, 0.6)\", \"line\": {\"color\": \"rgb(55, 128, 191)\", \"width\": 1}, \"type\": \"rect\", \"x0\": 45.75, \"x1\": 46.25, \"xref\": \"x\", \"y0\": 105.78, \"y1\": 106.61, \"yref\": \"y\"}, {\"fillcolor\": \"rgba(255, 0, 0, 0.6)\", \"line\": {\"color\": \"rgb(55, 128, 191)\", \"width\": 1}, \"type\": \"rect\", \"x0\": 46.75, \"x1\": 47.25, \"xref\": \"x\", \"y0\": 107.26, \"y1\": 109.14, \"yref\": \"y\"}, {\"fillcolor\": \"rgba(0, 204, 0, 0.6)\", \"line\": {\"color\": \"rgb(55, 128, 191)\", \"width\": 1}, \"type\": \"rect\", \"x0\": 47.75, \"x1\": 48.25, \"xref\": \"x\", \"y0\": 107.49, \"y1\": 107.92, \"yref\": \"y\"}, {\"fillcolor\": \"rgba(255, 0, 0, 0.6)\", \"line\": {\"color\": \"rgb(55, 128, 191)\", \"width\": 1}, \"type\": \"rect\", \"x0\": 48.75, \"x1\": 49.25, \"xref\": \"x\", \"y0\": 107.63, \"y1\": 109.74, \"yref\": \"y\"}, {\"fillcolor\": \"rgba(255, 0, 0, 0.6)\", \"line\": {\"color\": \"rgb(55, 128, 191)\", \"width\": 1}, \"type\": \"rect\", \"x0\": 49.75, \"x1\": 50.25, \"xref\": \"x\", \"y0\": 106.75, \"y1\": 107.56, \"yref\": \"y\"}, {\"line\": {\"color\": \"rgb(55, 128, 191)\", \"width\": 1.5}, \"type\": \"line\", \"x0\": 1, \"x1\": 1, \"y0\": 110.46, \"y1\": 111.56}, {\"line\": {\"color\": \"rgb(55, 128, 191)\", \"width\": 1.5}, \"type\": \"line\", \"x0\": 2, \"x1\": 2, \"y0\": 111.3, \"y1\": 112.41}, {\"line\": {\"color\": \"rgb(55, 128, 191)\", \"width\": 1.5}, \"type\": \"line\", \"x0\": 3, \"x1\": 3, \"y0\": 112.54, \"y1\": 113.64}, {\"line\": {\"color\": \"rgb(55, 128, 191)\", \"width\": 1.5}, \"type\": \"line\", \"x0\": 4, \"x1\": 4, \"y0\": 113.54, \"y1\": 114.62}, {\"line\": {\"color\": \"rgb(55, 128, 191)\", \"width\": 1.5}, \"type\": \"line\", \"x0\": 5, \"x1\": 5, \"y0\": 112.83, \"y1\": 113.93}, {\"line\": {\"color\": \"rgb(55, 128, 191)\", \"width\": 1.5}, \"type\": \"line\", \"x0\": 6, \"x1\": 6, \"y0\": 111.9, \"y1\": 112.99}, {\"line\": {\"color\": \"rgb(55, 128, 191)\", \"width\": 1.5}, \"type\": \"line\", \"x0\": 7, \"x1\": 7, \"y0\": 113.56, \"y1\": 114.68}, {\"line\": {\"color\": \"rgb(55, 128, 191)\", \"width\": 1.5}, \"type\": \"line\", \"x0\": 8, \"x1\": 8, \"y0\": 111.79, \"y1\": 112.9}, {\"line\": {\"color\": \"rgb(55, 128, 191)\", \"width\": 1.5}, \"type\": \"line\", \"x0\": 9, \"x1\": 9, \"y0\": 112.46, \"y1\": 113.58}, {\"line\": {\"color\": \"rgb(55, 128, 191)\", \"width\": 1.5}, \"type\": \"line\", \"x0\": 10, \"x1\": 10, \"y0\": 113.75, \"y1\": 114.85}, {\"line\": {\"color\": \"rgb(55, 128, 191)\", \"width\": 1.5}, \"type\": \"line\", \"x0\": 11, \"x1\": 11, \"y0\": 111.45, \"y1\": 112.56}, {\"line\": {\"color\": \"rgb(55, 128, 191)\", \"width\": 1.5}, \"type\": \"line\", \"x0\": 12, \"x1\": 12, \"y0\": 112.5, \"y1\": 113.62}, {\"line\": {\"color\": \"rgb(55, 128, 191)\", \"width\": 1.5}, \"type\": \"line\", \"x0\": 13, \"x1\": 13, \"y0\": 111.47, \"y1\": 112.6}, {\"line\": {\"color\": \"rgb(55, 128, 191)\", \"width\": 1.5}, \"type\": \"line\", \"x0\": 14, \"x1\": 14, \"y0\": 109.47, \"y1\": 110.6}, {\"line\": {\"color\": \"rgb(55, 128, 191)\", \"width\": 1.5}, \"type\": \"line\", \"x0\": 15, \"x1\": 15, \"y0\": 108.95, \"y1\": 110.06}, {\"line\": {\"color\": \"rgb(55, 128, 191)\", \"width\": 1.5}, \"type\": \"line\", \"x0\": 16, \"x1\": 16, \"y0\": 110.24, \"y1\": 111.37}, {\"line\": {\"color\": \"rgb(55, 128, 191)\", \"width\": 1.5}, \"type\": \"line\", \"x0\": 17, \"x1\": 17, \"y0\": 111.48, \"y1\": 112.59}, {\"line\": {\"color\": \"rgb(55, 128, 191)\", \"width\": 1.5}, \"type\": \"line\", \"x0\": 18, \"x1\": 18, \"y0\": 113.29, \"y1\": 114.4}, {\"line\": {\"color\": \"rgb(55, 128, 191)\", \"width\": 1.5}, \"type\": \"line\", \"x0\": 19, \"x1\": 19, \"y0\": 114.84, \"y1\": 115.93}, {\"line\": {\"color\": \"rgb(55, 128, 191)\", \"width\": 1.5}, \"type\": \"line\", \"x0\": 20, \"x1\": 20, \"y0\": 113.28, \"y1\": 114.39}, {\"line\": {\"color\": \"rgb(55, 128, 191)\", \"width\": 1.5}, \"type\": \"line\", \"x0\": 21, \"x1\": 21, \"y0\": 112.7, \"y1\": 113.8}, {\"line\": {\"color\": \"rgb(55, 128, 191)\", \"width\": 1.5}, \"type\": \"line\", \"x0\": 22, \"x1\": 22, \"y0\": 112.14, \"y1\": 113.24}, {\"line\": {\"color\": \"rgb(55, 128, 191)\", \"width\": 1.5}, \"type\": \"line\", \"x0\": 23, \"x1\": 23, \"y0\": 116.76, \"y1\": 117.87}, {\"line\": {\"color\": \"rgb(55, 128, 191)\", \"width\": 1.5}, \"type\": \"line\", \"x0\": 24, \"x1\": 24, \"y0\": 109.23, \"y1\": 110.3}, {\"line\": {\"color\": \"rgb(55, 128, 191)\", \"width\": 1.5}, \"type\": \"line\", \"x0\": 25, \"x1\": 25, \"y0\": 109.45, \"y1\": 110.56}, {\"line\": {\"color\": \"rgb(55, 128, 191)\", \"width\": 1.5}, \"type\": \"line\", \"x0\": 26, \"x1\": 26, \"y0\": 111.78, \"y1\": 112.89}, {\"line\": {\"color\": \"rgb(55, 128, 191)\", \"width\": 1.5}, \"type\": \"line\", \"x0\": 27, \"x1\": 27, \"y0\": 111.59, \"y1\": 112.7}, {\"line\": {\"color\": \"rgb(55, 128, 191)\", \"width\": 1.5}, \"type\": \"line\", \"x0\": 28, \"x1\": 28, \"y0\": 112.42, \"y1\": 113.54}, {\"line\": {\"color\": \"rgb(55, 128, 191)\", \"width\": 1.5}, \"type\": \"line\", \"x0\": 29, \"x1\": 29, \"y0\": 109.63, \"y1\": 110.74}, {\"line\": {\"color\": \"rgb(55, 128, 191)\", \"width\": 1.5}, \"type\": \"line\", \"x0\": 30, \"x1\": 30, \"y0\": 109.1, \"y1\": 110.2}, {\"line\": {\"color\": \"rgb(55, 128, 191)\", \"width\": 1.5}, \"type\": \"line\", \"x0\": 31, \"x1\": 31, \"y0\": 111.0, \"y1\": 112.1}, {\"line\": {\"color\": \"rgb(55, 128, 191)\", \"width\": 1.5}, \"type\": \"line\", \"x0\": 32, \"x1\": 32, \"y0\": 111.31, \"y1\": 112.41}, {\"line\": {\"color\": \"rgb(55, 128, 191)\", \"width\": 1.5}, \"type\": \"line\", \"x0\": 33, \"x1\": 33, \"y0\": 113.88, \"y1\": 114.98}, {\"line\": {\"color\": \"rgb(55, 128, 191)\", \"width\": 1.5}, \"type\": \"line\", \"x0\": 34, \"x1\": 34, \"y0\": 112.7, \"y1\": 113.82}, {\"line\": {\"color\": \"rgb(55, 128, 191)\", \"width\": 1.5}, \"type\": \"line\", \"x0\": 35, \"x1\": 35, \"y0\": 110.87, \"y1\": 111.96}, {\"line\": {\"color\": \"rgb(55, 128, 191)\", \"width\": 1.5}, \"type\": \"line\", \"x0\": 36, \"x1\": 36, \"y0\": 107.88, \"y1\": 108.97}, {\"line\": {\"color\": \"rgb(55, 128, 191)\", \"width\": 1.5}, \"type\": \"line\", \"x0\": 37, \"x1\": 37, \"y0\": 106.27, \"y1\": 107.36}, {\"line\": {\"color\": \"rgb(55, 128, 191)\", \"width\": 1.5}, \"type\": \"line\", \"x0\": 38, \"x1\": 38, \"y0\": 106.3, \"y1\": 107.4}, {\"line\": {\"color\": \"rgb(55, 128, 191)\", \"width\": 1.5}, \"type\": \"line\", \"x0\": 39, \"x1\": 39, \"y0\": 107.54, \"y1\": 108.67}, {\"line\": {\"color\": \"rgb(55, 128, 191)\", \"width\": 1.5}, \"type\": \"line\", \"x0\": 40, \"x1\": 40, \"y0\": 106.51, \"y1\": 107.6}, {\"line\": {\"color\": \"rgb(55, 128, 191)\", \"width\": 1.5}, \"type\": \"line\", \"x0\": 41, \"x1\": 41, \"y0\": 108.19, \"y1\": 109.28}, {\"line\": {\"color\": \"rgb(55, 128, 191)\", \"width\": 1.5}, \"type\": \"line\", \"x0\": 42, \"x1\": 42, \"y0\": 109.4, \"y1\": 110.5}, {\"line\": {\"color\": \"rgb(55, 128, 191)\", \"width\": 1.5}, \"type\": \"line\", \"x0\": 43, \"x1\": 43, \"y0\": 109.01, \"y1\": 110.11}, {\"line\": {\"color\": \"rgb(55, 128, 191)\", \"width\": 1.5}, \"type\": \"line\", \"x0\": 44, \"x1\": 44, \"y0\": 108.94, \"y1\": 110.05}, {\"line\": {\"color\": \"rgb(55, 128, 191)\", \"width\": 1.5}, \"type\": \"line\", \"x0\": 45, \"x1\": 45, \"y0\": 111.58, \"y1\": 112.68}, {\"line\": {\"color\": \"rgb(55, 128, 191)\", \"width\": 1.5}, \"type\": \"line\", \"x0\": 46, \"x1\": 46, \"y0\": 106.61, \"y1\": 107.7}, {\"line\": {\"color\": \"rgb(55, 128, 191)\", \"width\": 1.5}, \"type\": \"line\", \"x0\": 47, \"x1\": 47, \"y0\": 109.14, \"y1\": 110.24}, {\"line\": {\"color\": \"rgb(55, 128, 191)\", \"width\": 1.5}, \"type\": \"line\", \"x0\": 48, \"x1\": 48, \"y0\": 107.92, \"y1\": 109.05}, {\"line\": {\"color\": \"rgb(55, 128, 191)\", \"width\": 1.5}, \"type\": \"line\", \"x0\": 49, \"x1\": 49, \"y0\": 109.74, \"y1\": 110.84}, {\"line\": {\"color\": \"rgb(55, 128, 191)\", \"width\": 1.5}, \"type\": \"line\", \"x0\": 50, \"x1\": 50, \"y0\": 107.56, \"y1\": 108.69}], \"showlegend\": false, \"title\": \"Random Walk\", \"xaxis\": {\"anchor\": \"y2\", \"showgrid\": true, \"showticklabels\": true, \"tickangle\": 90, \"tickmode\": \"array\", \"ticktext\": [20190514, 20190516, 20190520, 20190522, 20190524, 20190528, 20190530, 20190603, 20190605, 20190607, 20190611, 20190613, 20190617, 20190619, 20190621, 20190625, 20190627, 20190701, 20190703, 20190705, 20190709, 20190711, 20190715, 20190717, 20190719, 20190722], \"tickvals\": [1, 3, 5, 7, 9, 11, 13, 15, 17, 19, 21, 23, 25, 27, 29, 31, 33, 35, 37, 39, 41, 43, 45, 47, 49, 50]}, \"yaxis\": {\"domain\": [0.22, 1], \"range\": [103.87, 117.87]}, \"yaxis2\": {\"domain\": [0, 0.2], \"range\": [0, 1412272.0]}}, {\"showLink\": true, \"linkText\": \"Export to plot.ly\"})});</script>"
      ]
     },
     "metadata": {},
     "output_type": "display_data"
    }
   ],
   "source": [
    "fig1 = dgc.PlotlyCandles(df_pseudo.iloc[-50:],number_of_ticks_display=20,title='Random Walk')\n",
    "iplot(fig1.get_figure())"
   ]
  },
  {
   "cell_type": "code",
   "execution_count": null,
   "metadata": {},
   "outputs": [],
   "source": []
  },
  {
   "cell_type": "code",
   "execution_count": 7,
   "metadata": {},
   "outputs": [],
   "source": [
    "no_border={\n",
    "    'border': '1px solid #000',\n",
    "    'grid-gap': '10px 10px',\n",
    "}\n",
    "df_save_list = []\n",
    "logger = dgc.li.init_root_logger('logfile.log','INFO')\n",
    "\n",
    "def dash_app_1():\n",
    "    days_to_show = 50\n",
    "    df_to_show = df_pseudo.iloc[-days_to_show:]\n",
    "    \n",
    "    dt1_comp = dgc.DashTableComponent(\n",
    "        'dt1',df_to_show,None,title='Random Walk',\n",
    "        editable_columns=['close'],logger = logger\n",
    "    )\n",
    "    def create_figure_from_df(input_list):\n",
    "        if input_list is None or len(input_list)<1 or input_list[0] is None:\n",
    "            return [None]\n",
    "        dict_df = input_list[0]\n",
    "        df = dgc.make_df(dict_df)\n",
    "        df.close = df.close.astype(str).astype(float)\n",
    "        p = dgc.PlotlyCandles(df,number_of_ticks_display=20,title='Random Walk').get_figure()\n",
    "        return p\n",
    "    \n",
    "    gr1_comp = dgc.FigureComponent('f1',dt1_comp,create_figure_from_df,logger=logger)\n",
    "\n",
    "    app = dash.Dash()\n",
    "    comp_list = [dt1_comp,gr1_comp]\n",
    "    html_list = [dgc.create_grid([c],num_columns=1) for c in comp_list]\n",
    "    app.layout = dgc.html.Div(html_list)\n",
    "    [c.callback(app) for c in comp_list]\n",
    "    return app\n"
   ]
  },
  {
   "cell_type": "code",
   "execution_count": 8,
   "metadata": {
    "scrolled": true
   },
   "outputs": [
    {
     "name": "stdout",
     "output_type": "stream",
     "text": [
      "dt.columns [{'name': 'date', 'id': 'date', 'editable': False}, {'name': 'open', 'id': 'open', 'editable': False}, {'name': 'high', 'id': 'high', 'editable': False}, {'name': 'low', 'id': 'low', 'editable': False}, {'name': 'close', 'id': 'close', 'editable': True}, {'name': 'volume', 'id': 'volume', 'editable': False}]\n",
      " * Serving Flask app \"__main__\" (lazy loading)\n",
      " * Environment: production\n",
      "   WARNING: Do not use the development server in a production environment.\n",
      "   Use a production WSGI server instead.\n",
      " * Debug mode: off\n"
     ]
    },
    {
     "name": "stderr",
     "output_type": "stream",
     "text": [
      "2019-07-22 22:40:00,175 - werkzeug - INFO -  * Running on http://127.0.0.1:8500/ (Press CTRL+C to quit)\n",
      "2019-07-22 22:40:04,909 - werkzeug - INFO - 127.0.0.1 - - [22/Jul/2019 22:40:04] \"GET / HTTP/1.1\" 200 -\n",
      "2019-07-22 22:40:04,959 - werkzeug - INFO - 127.0.0.1 - - [22/Jul/2019 22:40:04] \"GET /_dash-component-suites/dash_renderer/react@16.8.6.min.js?v=1.0.0&m=1563025507 HTTP/1.1\" 200 -\n",
      "2019-07-22 22:40:04,967 - werkzeug - INFO - 127.0.0.1 - - [22/Jul/2019 22:40:04] \"GET /_dash-component-suites/dash_renderer/prop-types@15.7.2.min.js?v=1.0.0&m=1563025507 HTTP/1.1\" 200 -\n",
      "2019-07-22 22:40:04,980 - werkzeug - INFO - 127.0.0.1 - - [22/Jul/2019 22:40:04] \"GET /_dash-component-suites/dash_renderer/react-dom@16.8.6.min.js?v=1.0.0&m=1563025507 HTTP/1.1\" 200 -\n",
      "2019-07-22 22:40:05,006 - werkzeug - INFO - 127.0.0.1 - - [22/Jul/2019 22:40:05] \"GET /_dash-component-suites/dash_core_components/highlight.pack.js?v=1.0.0&m=1563025508 HTTP/1.1\" 200 -\n",
      "2019-07-22 22:40:05,026 - werkzeug - INFO - 127.0.0.1 - - [22/Jul/2019 22:40:05] \"GET /_dash-component-suites/dash_table/bundle.js?v=4.0.1&m=1563025509 HTTP/1.1\" 200 -\n",
      "2019-07-22 22:40:05,041 - werkzeug - INFO - 127.0.0.1 - - [22/Jul/2019 22:40:05] \"GET /_dash-component-suites/dash_html_components/dash_html_components.min.js?v=1.0.0&m=1563025508 HTTP/1.1\" 200 -\n",
      "2019-07-22 22:40:05,049 - werkzeug - INFO - 127.0.0.1 - - [22/Jul/2019 22:40:05] \"GET /_dash-component-suites/dash_renderer/dash_renderer.min.js?v=1.0.0&m=1563025507 HTTP/1.1\" 200 -\n",
      "2019-07-22 22:40:05,151 - werkzeug - INFO - 127.0.0.1 - - [22/Jul/2019 22:40:05] \"GET /_dash-component-suites/dash_core_components/dash_core_components.min.js?v=1.0.0&m=1563025508 HTTP/1.1\" 200 -\n",
      "2019-07-22 22:40:05,277 - werkzeug - INFO - 127.0.0.1 - - [22/Jul/2019 22:40:05] \"GET /_dash-component-suites/dash_core_components/plotly-1.48.3.min.js?v=1.0.0&m=1563025508 HTTP/1.1\" 200 -\n",
      "2019-07-22 22:40:05,778 - werkzeug - INFO - 127.0.0.1 - - [22/Jul/2019 22:40:05] \"GET /_dash-dependencies HTTP/1.1\" 200 -\n",
      "2019-07-22 22:40:05,779 - werkzeug - INFO - 127.0.0.1 - - [22/Jul/2019 22:40:05] \"GET /_dash-layout HTTP/1.1\" 200 -\n",
      "2019-07-22 22:40:05,848 - root - WARNING - 'list' object has no attribute 'keys'\n",
      "2019-07-22 22:40:05,861 - flask.app - ERROR - Exception on /_dash-update-component [POST]\n",
      "Traceback (most recent call last):\n",
      "  File \"/Users/bperlman1/Virtualenvs3/dashrisk2/lib/python3.6/site-packages/flask/app.py\", line 2292, in wsgi_app\n",
      "    response = self.full_dispatch_request()\n",
      "  File \"/Users/bperlman1/Virtualenvs3/dashrisk2/lib/python3.6/site-packages/flask/app.py\", line 1815, in full_dispatch_request\n",
      "    rv = self.handle_user_exception(e)\n",
      "  File \"/Users/bperlman1/Virtualenvs3/dashrisk2/lib/python3.6/site-packages/flask/app.py\", line 1718, in handle_user_exception\n",
      "    reraise(exc_type, exc_value, tb)\n",
      "  File \"/Users/bperlman1/Virtualenvs3/dashrisk2/lib/python3.6/site-packages/flask/_compat.py\", line 35, in reraise\n",
      "    raise value\n",
      "  File \"/Users/bperlman1/Virtualenvs3/dashrisk2/lib/python3.6/site-packages/flask/app.py\", line 1813, in full_dispatch_request\n",
      "    rv = self.dispatch_request()\n",
      "  File \"/Users/bperlman1/Virtualenvs3/dashrisk2/lib/python3.6/site-packages/flask/app.py\", line 1799, in dispatch_request\n",
      "    return self.view_functions[rule.endpoint](**req.view_args)\n",
      "  File \"/Users/bperlman1/Virtualenvs3/dashrisk2/lib/python3.6/site-packages/dash/dash.py\", line 1291, in dispatch\n",
      "    response.set_data(self.callback_map[output]['callback'](*args))\n",
      "  File \"/Users/bperlman1/Virtualenvs3/dashrisk2/lib/python3.6/site-packages/dash/dash.py\", line 1175, in add_context\n",
      "    output_value = func(*args, **kwargs)\n",
      "  File \"/Users/bperlman1/Documents/billybyte/pyliverisk/dashgrid/dashgrid/dgrid_components.py\", line 587, in execute_callback\n",
      "    ret = self.callback_input_transformer(l)\n",
      "  File \"/Users/bperlman1/Documents/billybyte/pyliverisk/dashgrid/dashgrid/dgrid_components.py\", line 696, in _dt_lambda\n",
      "    raise ValueError('dt1_lambda value_list has no data.  Callback return is ignored')\n",
      "ValueError: dt1_lambda value_list has no data.  Callback return is ignored\n",
      "2019-07-22 22:40:06,000 - werkzeug - INFO - 127.0.0.1 - - [22/Jul/2019 22:40:06] \"POST /_dash-update-component HTTP/1.1\" 500 -\n",
      "2019-07-22 22:40:06,038 - werkzeug - INFO - 127.0.0.1 - - [22/Jul/2019 22:40:06] \"POST /_dash-update-component HTTP/1.1\" 200 -\n",
      "2019-07-22 22:40:33,347 - werkzeug - INFO - 127.0.0.1 - - [22/Jul/2019 22:40:33] \"POST /_dash-update-component HTTP/1.1\" 200 -\n"
     ]
    }
   ],
   "source": [
    "DASH_APP_TO_RUN = dash_app_1\n",
    "app = DASH_APP_TO_RUN()\n",
    "app.run_server(host='127.0.0.1',port=8500)"
   ]
  },
  {
   "cell_type": "code",
   "execution_count": 9,
   "metadata": {
    "scrolled": true
   },
   "outputs": [
    {
     "name": "stdout",
     "output_type": "stream",
     "text": [
      "***********************************************\n",
      "DataTable(columns=[{'name': 'date', 'id': 'date', 'editable': False}, {'name': 'open', 'id': 'open', 'editable': False}, {'name': 'high', 'id': 'high', 'editable': False}, {'name': 'low', 'id': 'low', 'editable': False}, {'name': 'close', 'id': 'close', 'editable': True}, {'name': 'volume', 'id': 'volume', 'editable': False}], css=[{'selector': 'table', 'rule': 'width: 100%;'}], data=[{'date': 20190514.0, 'open': 109.21, 'high': 111.56, 'low': 108.09, 'close': 110.46, 'volume': 1412272.0}, {'date': 20190515.0, 'open': 109.09, 'high': 112.41, 'low': 107.98, 'close': 111.3, 'volume': 1396075.0}, {'date': 20190516.0, 'open': 110.51, 'high': 113.64, 'low': 109.4, 'close': 112.54, 'volume': 1386180.0}, {'date': 20190517.0, 'open': 113.54, 'high': 114.62, 'low': 111.22, 'close': 112.33, 'volume': 1369202.0}, {'date': 20190520.0, 'open': 112.83, 'high': 113.93, 'low': 110.73, 'close': 111.83, 'volume': 1327937.0}, {'date': 20190521.0, 'open': 108.08, 'high': 112.99, 'low': 106.95, 'close': 111.9, 'volume': 1307760.0}, {'date': 20190522.0, 'open': 112.37, 'high': 114.68, 'low': 111.28, 'close': 113.56, 'volume': 1260429.0}, {'date': 20190523.0, 'open': 111.79, 'high': 112.9, 'low': 110.47, 'close': 111.58, 'volume': 1295276.0}, {'date': 20190524.0, 'open': 112.46, 'high': 113.58, 'low': 110.35, 'close': 111.47, 'volume': 1291582.0}, {'date': 20190527.0, 'open': 113.75, 'high': 114.85, 'low': 109.3, 'close': 110.42, 'volume': 1267547.0}, {'date': 20190528.0, 'open': 109.08, 'high': 112.56, 'low': 107.99, 'close': 111.45, 'volume': 1238594.0}, {'date': 20190529.0, 'open': 108.94, 'high': 113.62, 'low': 107.82, 'close': 112.5, 'volume': 1195036.0}, {'date': 20190530.0, 'open': 110.6, 'high': 112.6, 'low': 109.5, 'close': 111.47, 'volume': 1200445.0}, {'date': 20190531.0, 'open': 107.79, 'high': 110.6, 'low': 106.68, 'close': 109.47, 'volume': 1203099.0}, {'date': 20190603.0, 'open': 108.95, 'high': 110.06, 'low': 107.7, 'close': 108.83, 'volume': 1204910.0}, {'date': 20190604.0, 'open': 110.24, 'high': 111.37, 'low': 108.15, 'close': 109.26, 'volume': 1173806.0}, {'date': 20190605.0, 'open': 111.48, 'high': 112.59, 'low': 109.49, 'close': 110.62, 'volume': 1140345.0}, {'date': 20190606.0, 'open': 113.29, 'high': 114.4, 'low': 109.67, 'close': 110.76, 'volume': 1167744.0}, {'date': 20190607.0, 'open': 114.84, 'high': 115.93, 'low': 111.16, 'close': 112.25, 'volume': 1150781.0}, {'date': 20190610.0, 'open': 113.28, 'high': 114.39, 'low': 110.63, 'close': 111.76, 'volume': 1195662.0}, {'date': 20190611.0, 'open': 112.7, 'high': 113.8, 'low': 110.15, 'close': 111.26, 'volume': 1220819.0}, {'date': 20190612.0, 'open': 112.14, 'high': 113.24, 'low': 109.27, 'close': 110.37, 'volume': 1239004.0}, {'date': 20190613.0, 'open': 116.76, 'high': 117.87, 'low': 109.63, 'close': 110.72, 'volume': 1211392.0}, {'date': 20190614.0, 'open': 109.23, 'high': 110.3, 'low': 108.1, 'close': 109.23, 'volume': 1172675.0}, {'date': 20190617.0, 'open': 109.09, 'high': 110.56, 'low': 107.97, 'close': 109.45, 'volume': 1206630.0}, {'date': 20190618.0, 'open': 111.78, 'high': 112.89, 'low': 110.42, 'close': 111.51, 'volume': 1222724.0}, {'date': 20190619.0, 'open': 111.59, 'high': 112.7, 'low': 108.82, 'close': 109.92, 'volume': 1212840.0}, {'date': 20190620.0, 'open': 112.42, 'high': 113.54, 'low': 108.87, 'close': 110.0, 'volume': 1261872.0}, {'date': 20190621.0, 'open': 109.63, 'high': 110.74, 'low': 107.5, 'close': 108.61, 'volume': 1228190.0}, {'date': 20190624.0, 'open': 108.0, 'high': 110.2, 'low': 106.89, 'close': 109.1, 'volume': 1200058.0}, {'date': 20190625.0, 'open': 109.26, 'high': 112.1, 'low': 108.16, 'close': 111.0, 'volume': 1143059.0}, {'date': 20190626.0, 'open': 111.31, 'high': 112.41, 'low': 109.64, 'close': 110.74, 'volume': 1194944.0}, {'date': 20190627.0, 'open': 113.88, 'high': 114.98, 'low': 110.78, 'close': 111.88, 'volume': 1220863.0}, {'date': 20190628.0, 'open': 112.7, 'high': 113.82, 'low': 109.49, 'close': 110.6, 'volume': 1285284.0}, {'date': 20190701.0, 'open': 110.87, 'high': 111.96, 'low': 108.36, 'close': 109.5, 'volume': 1193349.0}, {'date': 20190702.0, 'open': 106.64, 'high': 108.97, 'low': 105.55, 'close': 107.88, 'volume': 1229046.0}, {'date': 20190703.0, 'open': 105.57, 'high': 107.36, 'low': 104.48, 'close': 106.27, 'volume': 1266775.0}, {'date': 20190704.0, 'open': 106.2, 'high': 107.4, 'low': 105.1, 'close': 106.3, 'volume': 1281493.0}, {'date': 20190705.0, 'open': 107.54, 'high': 108.67, 'low': 106.09, 'close': 107.23, 'volume': 1287722.0}, {'date': 20190708.0, 'open': 104.98, 'high': 107.6, 'low': 103.87, 'close': 106.51, 'volume': 1292652.0}, {'date': 20190709.0, 'open': 106.7, 'high': 109.28, 'low': 105.59, 'close': 108.19, 'volume': 1320691.0}, {'date': 20190710.0, 'open': 107.57, 'high': 110.5, 'low': 106.45, 'close': 109.4, 'volume': 1316110.0}, {'date': 20190711.0, 'open': 106.96, 'high': 110.11, 'low': 105.86, 'close': 109.01, 'volume': 1286632.0}, {'date': 20190712.0, 'open': 108.94, 'high': 110.05, 'low': 107.32, 'close': 108.42, 'volume': 1251882.0}, {'date': 20190715.0, 'open': 111.58, 'high': 112.68, 'low': 107.3, 'close': 108.41, 'volume': 1296167.0}, {'date': 20190716.0, 'open': 105.78, 'high': 107.7, 'low': 104.69, 'close': 106.61, 'volume': 1306426.0}, {'date': 20190717.0, 'open': 109.14, 'high': 110.24, 'low': 106.16, 'close': 107.26, 'volume': 1308012.0}, {'date': 20190718.0, 'open': 107.49, 'high': 109.05, 'low': 106.37, 'close': 107.92, 'volume': 1300657.0}, {'date': 20190719.0, 'open': 109.74, 'high': 110.84, 'low': 106.53, 'close': 107.63, 'volume': 1263383.0}, {'date': 20190722.0, 'open': 107.56, 'high': 108.69, 'low': 105.63, 'close': 106.75, 'volume': 1233222.0}], editable=True, id='dt1', style_as_list_view=False, page_current=0, page_size=100, filter_action='none', style_table={'maxHeight': '450px', 'overflowX': 'scroll', 'overflowY': 'scroll'}, style_cell_conditional=[{'if': {'row_index': 'odd'}, 'backgroundColor': 'rgb(248, 248, 248)'}, {'if': {'column_id': 'symbol'}, 'textAlign': 'left'}, {'if': {'column_id': 'underlying'}, 'textAlign': 'left'}])\n",
      "***********************************************\n",
      "Store(id='dt1_default_store', data=[[{'date': 20190514.0, 'open': 109.21, 'high': 111.56, 'low': 108.09, 'close': 110.46, 'volume': 1412272.0}, {'date': 20190515.0, 'open': 109.09, 'high': 112.41, 'low': 107.98, 'close': 111.3, 'volume': 1396075.0}, {'date': 20190516.0, 'open': 110.51, 'high': 113.64, 'low': 109.4, 'close': 112.54, 'volume': 1386180.0}, {'date': 20190517.0, 'open': 113.54, 'high': 114.62, 'low': 111.22, 'close': 112.33, 'volume': 1369202.0}, {'date': 20190520.0, 'open': 112.83, 'high': 113.93, 'low': 110.73, 'close': 111.83, 'volume': 1327937.0}, {'date': 20190521.0, 'open': 108.08, 'high': 112.99, 'low': 106.95, 'close': 111.9, 'volume': 1307760.0}, {'date': 20190522.0, 'open': 112.37, 'high': 114.68, 'low': 111.28, 'close': 113.56, 'volume': 1260429.0}, {'date': 20190523.0, 'open': 111.79, 'high': 112.9, 'low': 110.47, 'close': 111.58, 'volume': 1295276.0}, {'date': 20190524.0, 'open': 112.46, 'high': 113.58, 'low': 110.35, 'close': 111.47, 'volume': 1291582.0}, {'date': 20190527.0, 'open': 113.75, 'high': 114.85, 'low': 109.3, 'close': 110.42, 'volume': 1267547.0}, {'date': 20190528.0, 'open': 109.08, 'high': 112.56, 'low': 107.99, 'close': 111.45, 'volume': 1238594.0}, {'date': 20190529.0, 'open': 108.94, 'high': 113.62, 'low': 107.82, 'close': 112.5, 'volume': 1195036.0}, {'date': 20190530.0, 'open': 110.6, 'high': 112.6, 'low': 109.5, 'close': 111.47, 'volume': 1200445.0}, {'date': 20190531.0, 'open': 107.79, 'high': 110.6, 'low': 106.68, 'close': 109.47, 'volume': 1203099.0}, {'date': 20190603.0, 'open': 108.95, 'high': 110.06, 'low': 107.7, 'close': 108.83, 'volume': 1204910.0}, {'date': 20190604.0, 'open': 110.24, 'high': 111.37, 'low': 108.15, 'close': 109.26, 'volume': 1173806.0}, {'date': 20190605.0, 'open': 111.48, 'high': 112.59, 'low': 109.49, 'close': 110.62, 'volume': 1140345.0}, {'date': 20190606.0, 'open': 113.29, 'high': 114.4, 'low': 109.67, 'close': 110.76, 'volume': 1167744.0}, {'date': 20190607.0, 'open': 114.84, 'high': 115.93, 'low': 111.16, 'close': 112.25, 'volume': 1150781.0}, {'date': 20190610.0, 'open': 113.28, 'high': 114.39, 'low': 110.63, 'close': 111.76, 'volume': 1195662.0}, {'date': 20190611.0, 'open': 112.7, 'high': 113.8, 'low': 110.15, 'close': 111.26, 'volume': 1220819.0}, {'date': 20190612.0, 'open': 112.14, 'high': 113.24, 'low': 109.27, 'close': 110.37, 'volume': 1239004.0}, {'date': 20190613.0, 'open': 116.76, 'high': 117.87, 'low': 109.63, 'close': 110.72, 'volume': 1211392.0}, {'date': 20190614.0, 'open': 109.23, 'high': 110.3, 'low': 108.1, 'close': 109.23, 'volume': 1172675.0}, {'date': 20190617.0, 'open': 109.09, 'high': 110.56, 'low': 107.97, 'close': 109.45, 'volume': 1206630.0}, {'date': 20190618.0, 'open': 111.78, 'high': 112.89, 'low': 110.42, 'close': 111.51, 'volume': 1222724.0}, {'date': 20190619.0, 'open': 111.59, 'high': 112.7, 'low': 108.82, 'close': 109.92, 'volume': 1212840.0}, {'date': 20190620.0, 'open': 112.42, 'high': 113.54, 'low': 108.87, 'close': 110.0, 'volume': 1261872.0}, {'date': 20190621.0, 'open': 109.63, 'high': 110.74, 'low': 107.5, 'close': 108.61, 'volume': 1228190.0}, {'date': 20190624.0, 'open': 108.0, 'high': 110.2, 'low': 106.89, 'close': 109.1, 'volume': 1200058.0}, {'date': 20190625.0, 'open': 109.26, 'high': 112.1, 'low': 108.16, 'close': 111.0, 'volume': 1143059.0}, {'date': 20190626.0, 'open': 111.31, 'high': 112.41, 'low': 109.64, 'close': 110.74, 'volume': 1194944.0}, {'date': 20190627.0, 'open': 113.88, 'high': 114.98, 'low': 110.78, 'close': 111.88, 'volume': 1220863.0}, {'date': 20190628.0, 'open': 112.7, 'high': 113.82, 'low': 109.49, 'close': 110.6, 'volume': 1285284.0}, {'date': 20190701.0, 'open': 110.87, 'high': 111.96, 'low': 108.36, 'close': 109.5, 'volume': 1193349.0}, {'date': 20190702.0, 'open': 106.64, 'high': 108.97, 'low': 105.55, 'close': 107.88, 'volume': 1229046.0}, {'date': 20190703.0, 'open': 105.57, 'high': 107.36, 'low': 104.48, 'close': 106.27, 'volume': 1266775.0}, {'date': 20190704.0, 'open': 106.2, 'high': 107.4, 'low': 105.1, 'close': 106.3, 'volume': 1281493.0}, {'date': 20190705.0, 'open': 107.54, 'high': 108.67, 'low': 106.09, 'close': 107.23, 'volume': 1287722.0}, {'date': 20190708.0, 'open': 104.98, 'high': 107.6, 'low': 103.87, 'close': 106.51, 'volume': 1292652.0}, {'date': 20190709.0, 'open': 106.7, 'high': 109.28, 'low': 105.59, 'close': 108.19, 'volume': 1320691.0}, {'date': 20190710.0, 'open': 107.57, 'high': 110.5, 'low': 106.45, 'close': 109.4, 'volume': 1316110.0}, {'date': 20190711.0, 'open': 106.96, 'high': 110.11, 'low': 105.86, 'close': 109.01, 'volume': 1286632.0}, {'date': 20190712.0, 'open': 108.94, 'high': 110.05, 'low': 107.32, 'close': 108.42, 'volume': 1251882.0}, {'date': 20190715.0, 'open': 111.58, 'high': 112.68, 'low': 107.3, 'close': 108.41, 'volume': 1296167.0}, {'date': 20190716.0, 'open': 105.78, 'high': 107.7, 'low': 104.69, 'close': 106.61, 'volume': 1306426.0}, {'date': 20190717.0, 'open': 109.14, 'high': 110.24, 'low': 106.16, 'close': 107.26, 'volume': 1308012.0}, {'date': 20190718.0, 'open': 107.49, 'high': 109.05, 'low': 106.37, 'close': 107.92, 'volume': 1300657.0}, {'date': 20190719.0, 'open': 109.74, 'high': 110.84, 'low': 106.53, 'close': 107.63, 'volume': 1263383.0}, {'date': 20190722.0, 'open': 107.56, 'high': 108.69, 'low': 105.63, 'close': 106.75, 'volume': 1233222.0}]])\n",
      "***********************************************\n",
      "Div(children=Graph(id='f1', figure=Figure({\n",
      "    'data': [], 'layout': {}\n",
      "})), id='f1_html', className='item1', style={'line-height': '40px', 'border': 'none #000', 'textAlign': 'center', 'vertical-align': 'middle'})\n"
     ]
    }
   ],
   "source": [
    "l = dgc.flatten_layout(app)\n",
    "for c in l:\n",
    "    print('***********************************************')\n",
    "    print(c)"
   ]
  },
  {
   "cell_type": "code",
   "execution_count": 10,
   "metadata": {},
   "outputs": [
    {
     "data": {
      "text/plain": [
       "<module 'dashgrid.dgrid_components' from '/Users/bperlman1/Documents/billybyte/pyliverisk/dashgrid/dashgrid/dgrid_components.py'>"
      ]
     },
     "execution_count": 10,
     "metadata": {},
     "output_type": "execute_result"
    }
   ],
   "source": [
    "import importlib\n",
    "importlib.reload(dgc)"
   ]
  },
  {
   "cell_type": "code",
   "execution_count": 11,
   "metadata": {},
   "outputs": [
    {
     "ename": "IndexError",
     "evalue": "list index out of range",
     "output_type": "error",
     "traceback": [
      "\u001b[0;31m---------------------------------------------------------------------------\u001b[0m",
      "\u001b[0;31mIndexError\u001b[0m                                Traceback (most recent call last)",
      "\u001b[0;32m<ipython-input-11-8435111f8406>\u001b[0m in \u001b[0;36m<module>\u001b[0;34m\u001b[0m\n\u001b[0;32m----> 1\u001b[0;31m \u001b[0mdf1\u001b[0m \u001b[0;34m=\u001b[0m \u001b[0mdf_save_list\u001b[0m\u001b[0;34m[\u001b[0m\u001b[0;36m0\u001b[0m\u001b[0;34m]\u001b[0m\u001b[0;34m\u001b[0m\u001b[0m\n\u001b[0m",
      "\u001b[0;31mIndexError\u001b[0m: list index out of range"
     ]
    }
   ],
   "source": [
    "df1 = df_save_list[0]"
   ]
  },
  {
   "cell_type": "code",
   "execution_count": null,
   "metadata": {},
   "outputs": [],
   "source": [
    "df1.to_dict('rows')"
   ]
  },
  {
   "cell_type": "code",
   "execution_count": null,
   "metadata": {},
   "outputs": [],
   "source": []
  }
 ],
 "metadata": {
  "kernelspec": {
   "display_name": "Python 3",
   "language": "python",
   "name": "python3"
  },
  "language_info": {
   "codemirror_mode": {
    "name": "ipython",
    "version": 3
   },
   "file_extension": ".py",
   "mimetype": "text/x-python",
   "name": "python",
   "nbconvert_exporter": "python",
   "pygments_lexer": "ipython3",
   "version": "3.6.5"
  }
 },
 "nbformat": 4,
 "nbformat_minor": 2
}
